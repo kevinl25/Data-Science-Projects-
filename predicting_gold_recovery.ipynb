{
 "cells": [
  {
   "cell_type": "markdown",
   "metadata": {},
   "source": [
    "# Predicting Gold Recovery\n",
    "\n",
    "This project aims to calculate the potential gold recovery from gold ore. We will be analyzing three datasets which have already been divided into training, test, and full data. We will then apply some basic preprocessing to check the data and continute with exploritory data analysis. Once we have checked and processed the data we will train two machine learning models and check the sMAPE scores between the rougher level and final level output. We will use cross validation to test the models, select the best one, and report our findings. "
   ]
  },
  {
   "cell_type": "code",
   "execution_count": 1,
   "metadata": {
    "trusted": true
   },
   "outputs": [],
   "source": [
    "import pandas as pd\n",
    "import numpy as np\n",
    "from sklearn.metrics import mean_absolute_error\n",
    "from sklearn.ensemble import RandomForestRegressor\n",
    "from sklearn.linear_model import LinearRegression\n",
    "from sklearn.model_selection import train_test_split\n",
    "from sklearn.model_selection import cross_val_predict, KFold\n",
    "import matplotlib.pyplot as plt\n",
    "import seaborn as sns\n"
   ]
  },
  {
   "cell_type": "code",
   "execution_count": 2,
   "metadata": {
    "trusted": true
   },
   "outputs": [],
   "source": [
    "data1 = pd.read_csv('/datasets/gold_recovery_train.csv')\n",
    "data2 = pd.read_csv('/datasets/gold_recovery_test.csv')\n",
    "data3 = pd.read_csv('/datasets/gold_recovery_full.csv')\n",
    "\n"
   ]
  },
  {
   "cell_type": "markdown",
   "metadata": {},
   "source": [
    "After reading in our data we will drop missing values and duplicate rows, to keep our later processing lean and organized. "
   ]
  },
  {
   "cell_type": "code",
   "execution_count": 3,
   "metadata": {
    "trusted": true
   },
   "outputs": [
    {
     "name": "stdout",
     "output_type": "stream",
     "text": [
      "<class 'pandas.core.frame.DataFrame'>\n",
      "RangeIndex: 16860 entries, 0 to 16859\n",
      "Data columns (total 87 columns):\n",
      " #   Column                                              Non-Null Count  Dtype  \n",
      "---  ------                                              --------------  -----  \n",
      " 0   date                                                16860 non-null  object \n",
      " 1   final.output.concentrate_ag                         16788 non-null  float64\n",
      " 2   final.output.concentrate_pb                         16788 non-null  float64\n",
      " 3   final.output.concentrate_sol                        16490 non-null  float64\n",
      " 4   final.output.concentrate_au                         16789 non-null  float64\n",
      " 5   final.output.recovery                               15339 non-null  float64\n",
      " 6   final.output.tail_ag                                16794 non-null  float64\n",
      " 7   final.output.tail_pb                                16677 non-null  float64\n",
      " 8   final.output.tail_sol                               16715 non-null  float64\n",
      " 9   final.output.tail_au                                16794 non-null  float64\n",
      " 10  primary_cleaner.input.sulfate                       15553 non-null  float64\n",
      " 11  primary_cleaner.input.depressant                    15598 non-null  float64\n",
      " 12  primary_cleaner.input.feed_size                     16860 non-null  float64\n",
      " 13  primary_cleaner.input.xanthate                      15875 non-null  float64\n",
      " 14  primary_cleaner.output.concentrate_ag               16778 non-null  float64\n",
      " 15  primary_cleaner.output.concentrate_pb               16502 non-null  float64\n",
      " 16  primary_cleaner.output.concentrate_sol              16224 non-null  float64\n",
      " 17  primary_cleaner.output.concentrate_au               16778 non-null  float64\n",
      " 18  primary_cleaner.output.tail_ag                      16777 non-null  float64\n",
      " 19  primary_cleaner.output.tail_pb                      16761 non-null  float64\n",
      " 20  primary_cleaner.output.tail_sol                     16579 non-null  float64\n",
      " 21  primary_cleaner.output.tail_au                      16777 non-null  float64\n",
      " 22  primary_cleaner.state.floatbank8_a_air              16820 non-null  float64\n",
      " 23  primary_cleaner.state.floatbank8_a_level            16827 non-null  float64\n",
      " 24  primary_cleaner.state.floatbank8_b_air              16820 non-null  float64\n",
      " 25  primary_cleaner.state.floatbank8_b_level            16833 non-null  float64\n",
      " 26  primary_cleaner.state.floatbank8_c_air              16822 non-null  float64\n",
      " 27  primary_cleaner.state.floatbank8_c_level            16833 non-null  float64\n",
      " 28  primary_cleaner.state.floatbank8_d_air              16821 non-null  float64\n",
      " 29  primary_cleaner.state.floatbank8_d_level            16833 non-null  float64\n",
      " 30  rougher.calculation.sulfate_to_au_concentrate       16833 non-null  float64\n",
      " 31  rougher.calculation.floatbank10_sulfate_to_au_feed  16833 non-null  float64\n",
      " 32  rougher.calculation.floatbank11_sulfate_to_au_feed  16833 non-null  float64\n",
      " 33  rougher.calculation.au_pb_ratio                     15618 non-null  float64\n",
      " 34  rougher.input.feed_ag                               16778 non-null  float64\n",
      " 35  rougher.input.feed_pb                               16632 non-null  float64\n",
      " 36  rougher.input.feed_rate                             16347 non-null  float64\n",
      " 37  rougher.input.feed_size                             16443 non-null  float64\n",
      " 38  rougher.input.feed_sol                              16568 non-null  float64\n",
      " 39  rougher.input.feed_au                               16777 non-null  float64\n",
      " 40  rougher.input.floatbank10_sulfate                   15816 non-null  float64\n",
      " 41  rougher.input.floatbank10_xanthate                  16514 non-null  float64\n",
      " 42  rougher.input.floatbank11_sulfate                   16237 non-null  float64\n",
      " 43  rougher.input.floatbank11_xanthate                  14956 non-null  float64\n",
      " 44  rougher.output.concentrate_ag                       16778 non-null  float64\n",
      " 45  rougher.output.concentrate_pb                       16778 non-null  float64\n",
      " 46  rougher.output.concentrate_sol                      16698 non-null  float64\n",
      " 47  rougher.output.concentrate_au                       16778 non-null  float64\n",
      " 48  rougher.output.recovery                             14287 non-null  float64\n",
      " 49  rougher.output.tail_ag                              14610 non-null  float64\n",
      " 50  rougher.output.tail_pb                              16778 non-null  float64\n",
      " 51  rougher.output.tail_sol                             14611 non-null  float64\n",
      " 52  rougher.output.tail_au                              14611 non-null  float64\n",
      " 53  rougher.state.floatbank10_a_air                     16807 non-null  float64\n",
      " 54  rougher.state.floatbank10_a_level                   16807 non-null  float64\n",
      " 55  rougher.state.floatbank10_b_air                     16807 non-null  float64\n",
      " 56  rougher.state.floatbank10_b_level                   16807 non-null  float64\n",
      " 57  rougher.state.floatbank10_c_air                     16807 non-null  float64\n",
      " 58  rougher.state.floatbank10_c_level                   16814 non-null  float64\n",
      " 59  rougher.state.floatbank10_d_air                     16802 non-null  float64\n",
      " 60  rougher.state.floatbank10_d_level                   16809 non-null  float64\n",
      " 61  rougher.state.floatbank10_e_air                     16257 non-null  float64\n",
      " 62  rougher.state.floatbank10_e_level                   16809 non-null  float64\n",
      " 63  rougher.state.floatbank10_f_air                     16802 non-null  float64\n",
      " 64  rougher.state.floatbank10_f_level                   16802 non-null  float64\n",
      " 65  secondary_cleaner.output.tail_ag                    16776 non-null  float64\n",
      " 66  secondary_cleaner.output.tail_pb                    16764 non-null  float64\n",
      " 67  secondary_cleaner.output.tail_sol                   14874 non-null  float64\n",
      " 68  secondary_cleaner.output.tail_au                    16778 non-null  float64\n",
      " 69  secondary_cleaner.state.floatbank2_a_air            16497 non-null  float64\n",
      " 70  secondary_cleaner.state.floatbank2_a_level          16751 non-null  float64\n",
      " 71  secondary_cleaner.state.floatbank2_b_air            16705 non-null  float64\n",
      " 72  secondary_cleaner.state.floatbank2_b_level          16748 non-null  float64\n",
      " 73  secondary_cleaner.state.floatbank3_a_air            16763 non-null  float64\n",
      " 74  secondary_cleaner.state.floatbank3_a_level          16747 non-null  float64\n",
      " 75  secondary_cleaner.state.floatbank3_b_air            16752 non-null  float64\n",
      " 76  secondary_cleaner.state.floatbank3_b_level          16750 non-null  float64\n",
      " 77  secondary_cleaner.state.floatbank4_a_air            16731 non-null  float64\n",
      " 78  secondary_cleaner.state.floatbank4_a_level          16747 non-null  float64\n",
      " 79  secondary_cleaner.state.floatbank4_b_air            16768 non-null  float64\n",
      " 80  secondary_cleaner.state.floatbank4_b_level          16767 non-null  float64\n",
      " 81  secondary_cleaner.state.floatbank5_a_air            16775 non-null  float64\n",
      " 82  secondary_cleaner.state.floatbank5_a_level          16775 non-null  float64\n",
      " 83  secondary_cleaner.state.floatbank5_b_air            16775 non-null  float64\n",
      " 84  secondary_cleaner.state.floatbank5_b_level          16776 non-null  float64\n",
      " 85  secondary_cleaner.state.floatbank6_a_air            16757 non-null  float64\n",
      " 86  secondary_cleaner.state.floatbank6_a_level          16775 non-null  float64\n",
      "dtypes: float64(86), object(1)\n",
      "memory usage: 11.2+ MB\n",
      "None\n",
      "\n",
      "\n"
     ]
    },
    {
     "data": {
      "text/html": [
       "<div>\n",
       "<style scoped>\n",
       "    .dataframe tbody tr th:only-of-type {\n",
       "        vertical-align: middle;\n",
       "    }\n",
       "\n",
       "    .dataframe tbody tr th {\n",
       "        vertical-align: top;\n",
       "    }\n",
       "\n",
       "    .dataframe thead th {\n",
       "        text-align: right;\n",
       "    }\n",
       "</style>\n",
       "<table border=\"1\" class=\"dataframe\">\n",
       "  <thead>\n",
       "    <tr style=\"text-align: right;\">\n",
       "      <th></th>\n",
       "      <th>date</th>\n",
       "      <th>final.output.concentrate_ag</th>\n",
       "      <th>final.output.concentrate_pb</th>\n",
       "      <th>final.output.concentrate_sol</th>\n",
       "      <th>final.output.concentrate_au</th>\n",
       "      <th>final.output.recovery</th>\n",
       "      <th>final.output.tail_ag</th>\n",
       "      <th>final.output.tail_pb</th>\n",
       "      <th>final.output.tail_sol</th>\n",
       "      <th>final.output.tail_au</th>\n",
       "      <th>...</th>\n",
       "      <th>secondary_cleaner.state.floatbank4_a_air</th>\n",
       "      <th>secondary_cleaner.state.floatbank4_a_level</th>\n",
       "      <th>secondary_cleaner.state.floatbank4_b_air</th>\n",
       "      <th>secondary_cleaner.state.floatbank4_b_level</th>\n",
       "      <th>secondary_cleaner.state.floatbank5_a_air</th>\n",
       "      <th>secondary_cleaner.state.floatbank5_a_level</th>\n",
       "      <th>secondary_cleaner.state.floatbank5_b_air</th>\n",
       "      <th>secondary_cleaner.state.floatbank5_b_level</th>\n",
       "      <th>secondary_cleaner.state.floatbank6_a_air</th>\n",
       "      <th>secondary_cleaner.state.floatbank6_a_level</th>\n",
       "    </tr>\n",
       "  </thead>\n",
       "  <tbody>\n",
       "    <tr>\n",
       "      <th>0</th>\n",
       "      <td>2016-01-15 00:00:00</td>\n",
       "      <td>6.055403</td>\n",
       "      <td>9.889648</td>\n",
       "      <td>5.507324</td>\n",
       "      <td>42.192020</td>\n",
       "      <td>70.541216</td>\n",
       "      <td>10.411962</td>\n",
       "      <td>0.895447</td>\n",
       "      <td>16.904297</td>\n",
       "      <td>2.143149</td>\n",
       "      <td>...</td>\n",
       "      <td>14.016835</td>\n",
       "      <td>-502.488007</td>\n",
       "      <td>12.099931</td>\n",
       "      <td>-504.715942</td>\n",
       "      <td>9.925633</td>\n",
       "      <td>-498.310211</td>\n",
       "      <td>8.079666</td>\n",
       "      <td>-500.470978</td>\n",
       "      <td>14.151341</td>\n",
       "      <td>-605.841980</td>\n",
       "    </tr>\n",
       "    <tr>\n",
       "      <th>1</th>\n",
       "      <td>2016-01-15 01:00:00</td>\n",
       "      <td>6.029369</td>\n",
       "      <td>9.968944</td>\n",
       "      <td>5.257781</td>\n",
       "      <td>42.701629</td>\n",
       "      <td>69.266198</td>\n",
       "      <td>10.462676</td>\n",
       "      <td>0.927452</td>\n",
       "      <td>16.634514</td>\n",
       "      <td>2.224930</td>\n",
       "      <td>...</td>\n",
       "      <td>13.992281</td>\n",
       "      <td>-505.503262</td>\n",
       "      <td>11.950531</td>\n",
       "      <td>-501.331529</td>\n",
       "      <td>10.039245</td>\n",
       "      <td>-500.169983</td>\n",
       "      <td>7.984757</td>\n",
       "      <td>-500.582168</td>\n",
       "      <td>13.998353</td>\n",
       "      <td>-599.787184</td>\n",
       "    </tr>\n",
       "    <tr>\n",
       "      <th>2</th>\n",
       "      <td>2016-01-15 02:00:00</td>\n",
       "      <td>6.055926</td>\n",
       "      <td>10.213995</td>\n",
       "      <td>5.383759</td>\n",
       "      <td>42.657501</td>\n",
       "      <td>68.116445</td>\n",
       "      <td>10.507046</td>\n",
       "      <td>0.953716</td>\n",
       "      <td>16.208849</td>\n",
       "      <td>2.257889</td>\n",
       "      <td>...</td>\n",
       "      <td>14.015015</td>\n",
       "      <td>-502.520901</td>\n",
       "      <td>11.912783</td>\n",
       "      <td>-501.133383</td>\n",
       "      <td>10.070913</td>\n",
       "      <td>-500.129135</td>\n",
       "      <td>8.013877</td>\n",
       "      <td>-500.517572</td>\n",
       "      <td>14.028663</td>\n",
       "      <td>-601.427363</td>\n",
       "    </tr>\n",
       "    <tr>\n",
       "      <th>3</th>\n",
       "      <td>2016-01-15 03:00:00</td>\n",
       "      <td>6.047977</td>\n",
       "      <td>9.977019</td>\n",
       "      <td>4.858634</td>\n",
       "      <td>42.689819</td>\n",
       "      <td>68.347543</td>\n",
       "      <td>10.422762</td>\n",
       "      <td>0.883763</td>\n",
       "      <td>16.532835</td>\n",
       "      <td>2.146849</td>\n",
       "      <td>...</td>\n",
       "      <td>14.036510</td>\n",
       "      <td>-500.857308</td>\n",
       "      <td>11.999550</td>\n",
       "      <td>-501.193686</td>\n",
       "      <td>9.970366</td>\n",
       "      <td>-499.201640</td>\n",
       "      <td>7.977324</td>\n",
       "      <td>-500.255908</td>\n",
       "      <td>14.005551</td>\n",
       "      <td>-599.996129</td>\n",
       "    </tr>\n",
       "    <tr>\n",
       "      <th>4</th>\n",
       "      <td>2016-01-15 04:00:00</td>\n",
       "      <td>6.148599</td>\n",
       "      <td>10.142511</td>\n",
       "      <td>4.939416</td>\n",
       "      <td>42.774141</td>\n",
       "      <td>66.927016</td>\n",
       "      <td>10.360302</td>\n",
       "      <td>0.792826</td>\n",
       "      <td>16.525686</td>\n",
       "      <td>2.055292</td>\n",
       "      <td>...</td>\n",
       "      <td>14.027298</td>\n",
       "      <td>-499.838632</td>\n",
       "      <td>11.953070</td>\n",
       "      <td>-501.053894</td>\n",
       "      <td>9.925709</td>\n",
       "      <td>-501.686727</td>\n",
       "      <td>7.894242</td>\n",
       "      <td>-500.356035</td>\n",
       "      <td>13.996647</td>\n",
       "      <td>-601.496691</td>\n",
       "    </tr>\n",
       "  </tbody>\n",
       "</table>\n",
       "<p>5 rows × 87 columns</p>\n",
       "</div>"
      ],
      "text/plain": [
       "                  date  final.output.concentrate_ag  \\\n",
       "0  2016-01-15 00:00:00                     6.055403   \n",
       "1  2016-01-15 01:00:00                     6.029369   \n",
       "2  2016-01-15 02:00:00                     6.055926   \n",
       "3  2016-01-15 03:00:00                     6.047977   \n",
       "4  2016-01-15 04:00:00                     6.148599   \n",
       "\n",
       "   final.output.concentrate_pb  final.output.concentrate_sol  \\\n",
       "0                     9.889648                      5.507324   \n",
       "1                     9.968944                      5.257781   \n",
       "2                    10.213995                      5.383759   \n",
       "3                     9.977019                      4.858634   \n",
       "4                    10.142511                      4.939416   \n",
       "\n",
       "   final.output.concentrate_au  final.output.recovery  final.output.tail_ag  \\\n",
       "0                    42.192020              70.541216             10.411962   \n",
       "1                    42.701629              69.266198             10.462676   \n",
       "2                    42.657501              68.116445             10.507046   \n",
       "3                    42.689819              68.347543             10.422762   \n",
       "4                    42.774141              66.927016             10.360302   \n",
       "\n",
       "   final.output.tail_pb  final.output.tail_sol  final.output.tail_au  ...  \\\n",
       "0              0.895447              16.904297              2.143149  ...   \n",
       "1              0.927452              16.634514              2.224930  ...   \n",
       "2              0.953716              16.208849              2.257889  ...   \n",
       "3              0.883763              16.532835              2.146849  ...   \n",
       "4              0.792826              16.525686              2.055292  ...   \n",
       "\n",
       "   secondary_cleaner.state.floatbank4_a_air  \\\n",
       "0                                 14.016835   \n",
       "1                                 13.992281   \n",
       "2                                 14.015015   \n",
       "3                                 14.036510   \n",
       "4                                 14.027298   \n",
       "\n",
       "   secondary_cleaner.state.floatbank4_a_level  \\\n",
       "0                                 -502.488007   \n",
       "1                                 -505.503262   \n",
       "2                                 -502.520901   \n",
       "3                                 -500.857308   \n",
       "4                                 -499.838632   \n",
       "\n",
       "   secondary_cleaner.state.floatbank4_b_air  \\\n",
       "0                                 12.099931   \n",
       "1                                 11.950531   \n",
       "2                                 11.912783   \n",
       "3                                 11.999550   \n",
       "4                                 11.953070   \n",
       "\n",
       "   secondary_cleaner.state.floatbank4_b_level  \\\n",
       "0                                 -504.715942   \n",
       "1                                 -501.331529   \n",
       "2                                 -501.133383   \n",
       "3                                 -501.193686   \n",
       "4                                 -501.053894   \n",
       "\n",
       "   secondary_cleaner.state.floatbank5_a_air  \\\n",
       "0                                  9.925633   \n",
       "1                                 10.039245   \n",
       "2                                 10.070913   \n",
       "3                                  9.970366   \n",
       "4                                  9.925709   \n",
       "\n",
       "   secondary_cleaner.state.floatbank5_a_level  \\\n",
       "0                                 -498.310211   \n",
       "1                                 -500.169983   \n",
       "2                                 -500.129135   \n",
       "3                                 -499.201640   \n",
       "4                                 -501.686727   \n",
       "\n",
       "   secondary_cleaner.state.floatbank5_b_air  \\\n",
       "0                                  8.079666   \n",
       "1                                  7.984757   \n",
       "2                                  8.013877   \n",
       "3                                  7.977324   \n",
       "4                                  7.894242   \n",
       "\n",
       "   secondary_cleaner.state.floatbank5_b_level  \\\n",
       "0                                 -500.470978   \n",
       "1                                 -500.582168   \n",
       "2                                 -500.517572   \n",
       "3                                 -500.255908   \n",
       "4                                 -500.356035   \n",
       "\n",
       "   secondary_cleaner.state.floatbank6_a_air  \\\n",
       "0                                 14.151341   \n",
       "1                                 13.998353   \n",
       "2                                 14.028663   \n",
       "3                                 14.005551   \n",
       "4                                 13.996647   \n",
       "\n",
       "   secondary_cleaner.state.floatbank6_a_level  \n",
       "0                                 -605.841980  \n",
       "1                                 -599.787184  \n",
       "2                                 -601.427363  \n",
       "3                                 -599.996129  \n",
       "4                                 -601.496691  \n",
       "\n",
       "[5 rows x 87 columns]"
      ]
     },
     "metadata": {},
     "output_type": "display_data"
    }
   ],
   "source": [
    "print(data1.info())\n",
    "print('\\n')\n",
    "display(data1.head())"
   ]
  },
  {
   "cell_type": "code",
   "execution_count": 4,
   "metadata": {
    "trusted": true
   },
   "outputs": [
    {
     "name": "stdout",
     "output_type": "stream",
     "text": [
      "<class 'pandas.core.frame.DataFrame'>\n",
      "RangeIndex: 5856 entries, 0 to 5855\n",
      "Data columns (total 53 columns):\n",
      " #   Column                                      Non-Null Count  Dtype  \n",
      "---  ------                                      --------------  -----  \n",
      " 0   date                                        5856 non-null   object \n",
      " 1   primary_cleaner.input.sulfate               5554 non-null   float64\n",
      " 2   primary_cleaner.input.depressant            5572 non-null   float64\n",
      " 3   primary_cleaner.input.feed_size             5856 non-null   float64\n",
      " 4   primary_cleaner.input.xanthate              5690 non-null   float64\n",
      " 5   primary_cleaner.state.floatbank8_a_air      5840 non-null   float64\n",
      " 6   primary_cleaner.state.floatbank8_a_level    5840 non-null   float64\n",
      " 7   primary_cleaner.state.floatbank8_b_air      5840 non-null   float64\n",
      " 8   primary_cleaner.state.floatbank8_b_level    5840 non-null   float64\n",
      " 9   primary_cleaner.state.floatbank8_c_air      5840 non-null   float64\n",
      " 10  primary_cleaner.state.floatbank8_c_level    5840 non-null   float64\n",
      " 11  primary_cleaner.state.floatbank8_d_air      5840 non-null   float64\n",
      " 12  primary_cleaner.state.floatbank8_d_level    5840 non-null   float64\n",
      " 13  rougher.input.feed_ag                       5840 non-null   float64\n",
      " 14  rougher.input.feed_pb                       5840 non-null   float64\n",
      " 15  rougher.input.feed_rate                     5816 non-null   float64\n",
      " 16  rougher.input.feed_size                     5834 non-null   float64\n",
      " 17  rougher.input.feed_sol                      5789 non-null   float64\n",
      " 18  rougher.input.feed_au                       5840 non-null   float64\n",
      " 19  rougher.input.floatbank10_sulfate           5599 non-null   float64\n",
      " 20  rougher.input.floatbank10_xanthate          5733 non-null   float64\n",
      " 21  rougher.input.floatbank11_sulfate           5801 non-null   float64\n",
      " 22  rougher.input.floatbank11_xanthate          5503 non-null   float64\n",
      " 23  rougher.state.floatbank10_a_air             5839 non-null   float64\n",
      " 24  rougher.state.floatbank10_a_level           5840 non-null   float64\n",
      " 25  rougher.state.floatbank10_b_air             5839 non-null   float64\n",
      " 26  rougher.state.floatbank10_b_level           5840 non-null   float64\n",
      " 27  rougher.state.floatbank10_c_air             5839 non-null   float64\n",
      " 28  rougher.state.floatbank10_c_level           5840 non-null   float64\n",
      " 29  rougher.state.floatbank10_d_air             5839 non-null   float64\n",
      " 30  rougher.state.floatbank10_d_level           5840 non-null   float64\n",
      " 31  rougher.state.floatbank10_e_air             5839 non-null   float64\n",
      " 32  rougher.state.floatbank10_e_level           5840 non-null   float64\n",
      " 33  rougher.state.floatbank10_f_air             5839 non-null   float64\n",
      " 34  rougher.state.floatbank10_f_level           5840 non-null   float64\n",
      " 35  secondary_cleaner.state.floatbank2_a_air    5836 non-null   float64\n",
      " 36  secondary_cleaner.state.floatbank2_a_level  5840 non-null   float64\n",
      " 37  secondary_cleaner.state.floatbank2_b_air    5833 non-null   float64\n",
      " 38  secondary_cleaner.state.floatbank2_b_level  5840 non-null   float64\n",
      " 39  secondary_cleaner.state.floatbank3_a_air    5822 non-null   float64\n",
      " 40  secondary_cleaner.state.floatbank3_a_level  5840 non-null   float64\n",
      " 41  secondary_cleaner.state.floatbank3_b_air    5840 non-null   float64\n",
      " 42  secondary_cleaner.state.floatbank3_b_level  5840 non-null   float64\n",
      " 43  secondary_cleaner.state.floatbank4_a_air    5840 non-null   float64\n",
      " 44  secondary_cleaner.state.floatbank4_a_level  5840 non-null   float64\n",
      " 45  secondary_cleaner.state.floatbank4_b_air    5840 non-null   float64\n",
      " 46  secondary_cleaner.state.floatbank4_b_level  5840 non-null   float64\n",
      " 47  secondary_cleaner.state.floatbank5_a_air    5840 non-null   float64\n",
      " 48  secondary_cleaner.state.floatbank5_a_level  5840 non-null   float64\n",
      " 49  secondary_cleaner.state.floatbank5_b_air    5840 non-null   float64\n",
      " 50  secondary_cleaner.state.floatbank5_b_level  5840 non-null   float64\n",
      " 51  secondary_cleaner.state.floatbank6_a_air    5840 non-null   float64\n",
      " 52  secondary_cleaner.state.floatbank6_a_level  5840 non-null   float64\n",
      "dtypes: float64(52), object(1)\n",
      "memory usage: 2.4+ MB\n",
      "None\n"
     ]
    },
    {
     "data": {
      "text/html": [
       "<div>\n",
       "<style scoped>\n",
       "    .dataframe tbody tr th:only-of-type {\n",
       "        vertical-align: middle;\n",
       "    }\n",
       "\n",
       "    .dataframe tbody tr th {\n",
       "        vertical-align: top;\n",
       "    }\n",
       "\n",
       "    .dataframe thead th {\n",
       "        text-align: right;\n",
       "    }\n",
       "</style>\n",
       "<table border=\"1\" class=\"dataframe\">\n",
       "  <thead>\n",
       "    <tr style=\"text-align: right;\">\n",
       "      <th></th>\n",
       "      <th>date</th>\n",
       "      <th>primary_cleaner.input.sulfate</th>\n",
       "      <th>primary_cleaner.input.depressant</th>\n",
       "      <th>primary_cleaner.input.feed_size</th>\n",
       "      <th>primary_cleaner.input.xanthate</th>\n",
       "      <th>primary_cleaner.state.floatbank8_a_air</th>\n",
       "      <th>primary_cleaner.state.floatbank8_a_level</th>\n",
       "      <th>primary_cleaner.state.floatbank8_b_air</th>\n",
       "      <th>primary_cleaner.state.floatbank8_b_level</th>\n",
       "      <th>primary_cleaner.state.floatbank8_c_air</th>\n",
       "      <th>...</th>\n",
       "      <th>secondary_cleaner.state.floatbank4_a_air</th>\n",
       "      <th>secondary_cleaner.state.floatbank4_a_level</th>\n",
       "      <th>secondary_cleaner.state.floatbank4_b_air</th>\n",
       "      <th>secondary_cleaner.state.floatbank4_b_level</th>\n",
       "      <th>secondary_cleaner.state.floatbank5_a_air</th>\n",
       "      <th>secondary_cleaner.state.floatbank5_a_level</th>\n",
       "      <th>secondary_cleaner.state.floatbank5_b_air</th>\n",
       "      <th>secondary_cleaner.state.floatbank5_b_level</th>\n",
       "      <th>secondary_cleaner.state.floatbank6_a_air</th>\n",
       "      <th>secondary_cleaner.state.floatbank6_a_level</th>\n",
       "    </tr>\n",
       "  </thead>\n",
       "  <tbody>\n",
       "    <tr>\n",
       "      <th>0</th>\n",
       "      <td>2016-09-01 00:59:59</td>\n",
       "      <td>210.800909</td>\n",
       "      <td>14.993118</td>\n",
       "      <td>8.080000</td>\n",
       "      <td>1.005021</td>\n",
       "      <td>1398.981301</td>\n",
       "      <td>-500.225577</td>\n",
       "      <td>1399.144926</td>\n",
       "      <td>-499.919735</td>\n",
       "      <td>1400.102998</td>\n",
       "      <td>...</td>\n",
       "      <td>12.023554</td>\n",
       "      <td>-497.795834</td>\n",
       "      <td>8.016656</td>\n",
       "      <td>-501.289139</td>\n",
       "      <td>7.946562</td>\n",
       "      <td>-432.317850</td>\n",
       "      <td>4.872511</td>\n",
       "      <td>-500.037437</td>\n",
       "      <td>26.705889</td>\n",
       "      <td>-499.709414</td>\n",
       "    </tr>\n",
       "    <tr>\n",
       "      <th>1</th>\n",
       "      <td>2016-09-01 01:59:59</td>\n",
       "      <td>215.392455</td>\n",
       "      <td>14.987471</td>\n",
       "      <td>8.080000</td>\n",
       "      <td>0.990469</td>\n",
       "      <td>1398.777912</td>\n",
       "      <td>-500.057435</td>\n",
       "      <td>1398.055362</td>\n",
       "      <td>-499.778182</td>\n",
       "      <td>1396.151033</td>\n",
       "      <td>...</td>\n",
       "      <td>12.058140</td>\n",
       "      <td>-498.695773</td>\n",
       "      <td>8.130979</td>\n",
       "      <td>-499.634209</td>\n",
       "      <td>7.958270</td>\n",
       "      <td>-525.839648</td>\n",
       "      <td>4.878850</td>\n",
       "      <td>-500.162375</td>\n",
       "      <td>25.019940</td>\n",
       "      <td>-499.819438</td>\n",
       "    </tr>\n",
       "    <tr>\n",
       "      <th>2</th>\n",
       "      <td>2016-09-01 02:59:59</td>\n",
       "      <td>215.259946</td>\n",
       "      <td>12.884934</td>\n",
       "      <td>7.786667</td>\n",
       "      <td>0.996043</td>\n",
       "      <td>1398.493666</td>\n",
       "      <td>-500.868360</td>\n",
       "      <td>1398.860436</td>\n",
       "      <td>-499.764529</td>\n",
       "      <td>1398.075709</td>\n",
       "      <td>...</td>\n",
       "      <td>11.962366</td>\n",
       "      <td>-498.767484</td>\n",
       "      <td>8.096893</td>\n",
       "      <td>-500.827423</td>\n",
       "      <td>8.071056</td>\n",
       "      <td>-500.801673</td>\n",
       "      <td>4.905125</td>\n",
       "      <td>-499.828510</td>\n",
       "      <td>24.994862</td>\n",
       "      <td>-500.622559</td>\n",
       "    </tr>\n",
       "    <tr>\n",
       "      <th>3</th>\n",
       "      <td>2016-09-01 03:59:59</td>\n",
       "      <td>215.336236</td>\n",
       "      <td>12.006805</td>\n",
       "      <td>7.640000</td>\n",
       "      <td>0.863514</td>\n",
       "      <td>1399.618111</td>\n",
       "      <td>-498.863574</td>\n",
       "      <td>1397.440120</td>\n",
       "      <td>-499.211024</td>\n",
       "      <td>1400.129303</td>\n",
       "      <td>...</td>\n",
       "      <td>12.033091</td>\n",
       "      <td>-498.350935</td>\n",
       "      <td>8.074946</td>\n",
       "      <td>-499.474407</td>\n",
       "      <td>7.897085</td>\n",
       "      <td>-500.868509</td>\n",
       "      <td>4.931400</td>\n",
       "      <td>-499.963623</td>\n",
       "      <td>24.948919</td>\n",
       "      <td>-498.709987</td>\n",
       "    </tr>\n",
       "    <tr>\n",
       "      <th>4</th>\n",
       "      <td>2016-09-01 04:59:59</td>\n",
       "      <td>199.099327</td>\n",
       "      <td>10.682530</td>\n",
       "      <td>7.530000</td>\n",
       "      <td>0.805575</td>\n",
       "      <td>1401.268123</td>\n",
       "      <td>-500.808305</td>\n",
       "      <td>1398.128818</td>\n",
       "      <td>-499.504543</td>\n",
       "      <td>1402.172226</td>\n",
       "      <td>...</td>\n",
       "      <td>12.025367</td>\n",
       "      <td>-500.786497</td>\n",
       "      <td>8.054678</td>\n",
       "      <td>-500.397500</td>\n",
       "      <td>8.107890</td>\n",
       "      <td>-509.526725</td>\n",
       "      <td>4.957674</td>\n",
       "      <td>-500.360026</td>\n",
       "      <td>25.003331</td>\n",
       "      <td>-500.856333</td>\n",
       "    </tr>\n",
       "  </tbody>\n",
       "</table>\n",
       "<p>5 rows × 53 columns</p>\n",
       "</div>"
      ],
      "text/plain": [
       "                  date  primary_cleaner.input.sulfate  \\\n",
       "0  2016-09-01 00:59:59                     210.800909   \n",
       "1  2016-09-01 01:59:59                     215.392455   \n",
       "2  2016-09-01 02:59:59                     215.259946   \n",
       "3  2016-09-01 03:59:59                     215.336236   \n",
       "4  2016-09-01 04:59:59                     199.099327   \n",
       "\n",
       "   primary_cleaner.input.depressant  primary_cleaner.input.feed_size  \\\n",
       "0                         14.993118                         8.080000   \n",
       "1                         14.987471                         8.080000   \n",
       "2                         12.884934                         7.786667   \n",
       "3                         12.006805                         7.640000   \n",
       "4                         10.682530                         7.530000   \n",
       "\n",
       "   primary_cleaner.input.xanthate  primary_cleaner.state.floatbank8_a_air  \\\n",
       "0                        1.005021                             1398.981301   \n",
       "1                        0.990469                             1398.777912   \n",
       "2                        0.996043                             1398.493666   \n",
       "3                        0.863514                             1399.618111   \n",
       "4                        0.805575                             1401.268123   \n",
       "\n",
       "   primary_cleaner.state.floatbank8_a_level  \\\n",
       "0                               -500.225577   \n",
       "1                               -500.057435   \n",
       "2                               -500.868360   \n",
       "3                               -498.863574   \n",
       "4                               -500.808305   \n",
       "\n",
       "   primary_cleaner.state.floatbank8_b_air  \\\n",
       "0                             1399.144926   \n",
       "1                             1398.055362   \n",
       "2                             1398.860436   \n",
       "3                             1397.440120   \n",
       "4                             1398.128818   \n",
       "\n",
       "   primary_cleaner.state.floatbank8_b_level  \\\n",
       "0                               -499.919735   \n",
       "1                               -499.778182   \n",
       "2                               -499.764529   \n",
       "3                               -499.211024   \n",
       "4                               -499.504543   \n",
       "\n",
       "   primary_cleaner.state.floatbank8_c_air  ...  \\\n",
       "0                             1400.102998  ...   \n",
       "1                             1396.151033  ...   \n",
       "2                             1398.075709  ...   \n",
       "3                             1400.129303  ...   \n",
       "4                             1402.172226  ...   \n",
       "\n",
       "   secondary_cleaner.state.floatbank4_a_air  \\\n",
       "0                                 12.023554   \n",
       "1                                 12.058140   \n",
       "2                                 11.962366   \n",
       "3                                 12.033091   \n",
       "4                                 12.025367   \n",
       "\n",
       "   secondary_cleaner.state.floatbank4_a_level  \\\n",
       "0                                 -497.795834   \n",
       "1                                 -498.695773   \n",
       "2                                 -498.767484   \n",
       "3                                 -498.350935   \n",
       "4                                 -500.786497   \n",
       "\n",
       "   secondary_cleaner.state.floatbank4_b_air  \\\n",
       "0                                  8.016656   \n",
       "1                                  8.130979   \n",
       "2                                  8.096893   \n",
       "3                                  8.074946   \n",
       "4                                  8.054678   \n",
       "\n",
       "   secondary_cleaner.state.floatbank4_b_level  \\\n",
       "0                                 -501.289139   \n",
       "1                                 -499.634209   \n",
       "2                                 -500.827423   \n",
       "3                                 -499.474407   \n",
       "4                                 -500.397500   \n",
       "\n",
       "   secondary_cleaner.state.floatbank5_a_air  \\\n",
       "0                                  7.946562   \n",
       "1                                  7.958270   \n",
       "2                                  8.071056   \n",
       "3                                  7.897085   \n",
       "4                                  8.107890   \n",
       "\n",
       "   secondary_cleaner.state.floatbank5_a_level  \\\n",
       "0                                 -432.317850   \n",
       "1                                 -525.839648   \n",
       "2                                 -500.801673   \n",
       "3                                 -500.868509   \n",
       "4                                 -509.526725   \n",
       "\n",
       "   secondary_cleaner.state.floatbank5_b_air  \\\n",
       "0                                  4.872511   \n",
       "1                                  4.878850   \n",
       "2                                  4.905125   \n",
       "3                                  4.931400   \n",
       "4                                  4.957674   \n",
       "\n",
       "   secondary_cleaner.state.floatbank5_b_level  \\\n",
       "0                                 -500.037437   \n",
       "1                                 -500.162375   \n",
       "2                                 -499.828510   \n",
       "3                                 -499.963623   \n",
       "4                                 -500.360026   \n",
       "\n",
       "   secondary_cleaner.state.floatbank6_a_air  \\\n",
       "0                                 26.705889   \n",
       "1                                 25.019940   \n",
       "2                                 24.994862   \n",
       "3                                 24.948919   \n",
       "4                                 25.003331   \n",
       "\n",
       "   secondary_cleaner.state.floatbank6_a_level  \n",
       "0                                 -499.709414  \n",
       "1                                 -499.819438  \n",
       "2                                 -500.622559  \n",
       "3                                 -498.709987  \n",
       "4                                 -500.856333  \n",
       "\n",
       "[5 rows x 53 columns]"
      ]
     },
     "metadata": {},
     "output_type": "display_data"
    }
   ],
   "source": [
    "print(data2.info())\n",
    "display(data2.head())"
   ]
  },
  {
   "cell_type": "code",
   "execution_count": 5,
   "metadata": {
    "trusted": true
   },
   "outputs": [
    {
     "name": "stdout",
     "output_type": "stream",
     "text": [
      "<class 'pandas.core.frame.DataFrame'>\n",
      "RangeIndex: 22716 entries, 0 to 22715\n",
      "Data columns (total 87 columns):\n",
      " #   Column                                              Non-Null Count  Dtype  \n",
      "---  ------                                              --------------  -----  \n",
      " 0   date                                                22716 non-null  object \n",
      " 1   final.output.concentrate_ag                         22627 non-null  float64\n",
      " 2   final.output.concentrate_pb                         22629 non-null  float64\n",
      " 3   final.output.concentrate_sol                        22331 non-null  float64\n",
      " 4   final.output.concentrate_au                         22630 non-null  float64\n",
      " 5   final.output.recovery                               20753 non-null  float64\n",
      " 6   final.output.tail_ag                                22633 non-null  float64\n",
      " 7   final.output.tail_pb                                22516 non-null  float64\n",
      " 8   final.output.tail_sol                               22445 non-null  float64\n",
      " 9   final.output.tail_au                                22635 non-null  float64\n",
      " 10  primary_cleaner.input.sulfate                       21107 non-null  float64\n",
      " 11  primary_cleaner.input.depressant                    21170 non-null  float64\n",
      " 12  primary_cleaner.input.feed_size                     22716 non-null  float64\n",
      " 13  primary_cleaner.input.xanthate                      21565 non-null  float64\n",
      " 14  primary_cleaner.output.concentrate_ag               22618 non-null  float64\n",
      " 15  primary_cleaner.output.concentrate_pb               22268 non-null  float64\n",
      " 16  primary_cleaner.output.concentrate_sol              21918 non-null  float64\n",
      " 17  primary_cleaner.output.concentrate_au               22618 non-null  float64\n",
      " 18  primary_cleaner.output.tail_ag                      22614 non-null  float64\n",
      " 19  primary_cleaner.output.tail_pb                      22594 non-null  float64\n",
      " 20  primary_cleaner.output.tail_sol                     22365 non-null  float64\n",
      " 21  primary_cleaner.output.tail_au                      22617 non-null  float64\n",
      " 22  primary_cleaner.state.floatbank8_a_air              22660 non-null  float64\n",
      " 23  primary_cleaner.state.floatbank8_a_level            22667 non-null  float64\n",
      " 24  primary_cleaner.state.floatbank8_b_air              22660 non-null  float64\n",
      " 25  primary_cleaner.state.floatbank8_b_level            22673 non-null  float64\n",
      " 26  primary_cleaner.state.floatbank8_c_air              22662 non-null  float64\n",
      " 27  primary_cleaner.state.floatbank8_c_level            22673 non-null  float64\n",
      " 28  primary_cleaner.state.floatbank8_d_air              22661 non-null  float64\n",
      " 29  primary_cleaner.state.floatbank8_d_level            22673 non-null  float64\n",
      " 30  rougher.calculation.sulfate_to_au_concentrate       22672 non-null  float64\n",
      " 31  rougher.calculation.floatbank10_sulfate_to_au_feed  22672 non-null  float64\n",
      " 32  rougher.calculation.floatbank11_sulfate_to_au_feed  22672 non-null  float64\n",
      " 33  rougher.calculation.au_pb_ratio                     21089 non-null  float64\n",
      " 34  rougher.input.feed_ag                               22618 non-null  float64\n",
      " 35  rougher.input.feed_pb                               22472 non-null  float64\n",
      " 36  rougher.input.feed_rate                             22163 non-null  float64\n",
      " 37  rougher.input.feed_size                             22277 non-null  float64\n",
      " 38  rougher.input.feed_sol                              22357 non-null  float64\n",
      " 39  rougher.input.feed_au                               22617 non-null  float64\n",
      " 40  rougher.input.floatbank10_sulfate                   21415 non-null  float64\n",
      " 41  rougher.input.floatbank10_xanthate                  22247 non-null  float64\n",
      " 42  rougher.input.floatbank11_sulfate                   22038 non-null  float64\n",
      " 43  rougher.input.floatbank11_xanthate                  20459 non-null  float64\n",
      " 44  rougher.output.concentrate_ag                       22618 non-null  float64\n",
      " 45  rougher.output.concentrate_pb                       22618 non-null  float64\n",
      " 46  rougher.output.concentrate_sol                      22526 non-null  float64\n",
      " 47  rougher.output.concentrate_au                       22618 non-null  float64\n",
      " 48  rougher.output.recovery                             19597 non-null  float64\n",
      " 49  rougher.output.tail_ag                              19979 non-null  float64\n",
      " 50  rougher.output.tail_pb                              22618 non-null  float64\n",
      " 51  rougher.output.tail_sol                             19980 non-null  float64\n",
      " 52  rougher.output.tail_au                              19980 non-null  float64\n",
      " 53  rougher.state.floatbank10_a_air                     22646 non-null  float64\n",
      " 54  rougher.state.floatbank10_a_level                   22647 non-null  float64\n",
      " 55  rougher.state.floatbank10_b_air                     22646 non-null  float64\n",
      " 56  rougher.state.floatbank10_b_level                   22647 non-null  float64\n",
      " 57  rougher.state.floatbank10_c_air                     22646 non-null  float64\n",
      " 58  rougher.state.floatbank10_c_level                   22654 non-null  float64\n",
      " 59  rougher.state.floatbank10_d_air                     22641 non-null  float64\n",
      " 60  rougher.state.floatbank10_d_level                   22649 non-null  float64\n",
      " 61  rougher.state.floatbank10_e_air                     22096 non-null  float64\n",
      " 62  rougher.state.floatbank10_e_level                   22649 non-null  float64\n",
      " 63  rougher.state.floatbank10_f_air                     22641 non-null  float64\n",
      " 64  rougher.state.floatbank10_f_level                   22642 non-null  float64\n",
      " 65  secondary_cleaner.output.tail_ag                    22616 non-null  float64\n",
      " 66  secondary_cleaner.output.tail_pb                    22600 non-null  float64\n",
      " 67  secondary_cleaner.output.tail_sol                   20501 non-null  float64\n",
      " 68  secondary_cleaner.output.tail_au                    22618 non-null  float64\n",
      " 69  secondary_cleaner.state.floatbank2_a_air            22333 non-null  float64\n",
      " 70  secondary_cleaner.state.floatbank2_a_level          22591 non-null  float64\n",
      " 71  secondary_cleaner.state.floatbank2_b_air            22538 non-null  float64\n",
      " 72  secondary_cleaner.state.floatbank2_b_level          22588 non-null  float64\n",
      " 73  secondary_cleaner.state.floatbank3_a_air            22585 non-null  float64\n",
      " 74  secondary_cleaner.state.floatbank3_a_level          22587 non-null  float64\n",
      " 75  secondary_cleaner.state.floatbank3_b_air            22592 non-null  float64\n",
      " 76  secondary_cleaner.state.floatbank3_b_level          22590 non-null  float64\n",
      " 77  secondary_cleaner.state.floatbank4_a_air            22571 non-null  float64\n",
      " 78  secondary_cleaner.state.floatbank4_a_level          22587 non-null  float64\n",
      " 79  secondary_cleaner.state.floatbank4_b_air            22608 non-null  float64\n",
      " 80  secondary_cleaner.state.floatbank4_b_level          22607 non-null  float64\n",
      " 81  secondary_cleaner.state.floatbank5_a_air            22615 non-null  float64\n",
      " 82  secondary_cleaner.state.floatbank5_a_level          22615 non-null  float64\n",
      " 83  secondary_cleaner.state.floatbank5_b_air            22615 non-null  float64\n",
      " 84  secondary_cleaner.state.floatbank5_b_level          22616 non-null  float64\n",
      " 85  secondary_cleaner.state.floatbank6_a_air            22597 non-null  float64\n",
      " 86  secondary_cleaner.state.floatbank6_a_level          22615 non-null  float64\n",
      "dtypes: float64(86), object(1)\n",
      "memory usage: 15.1+ MB\n",
      "None\n",
      "\n",
      "\n"
     ]
    },
    {
     "data": {
      "text/html": [
       "<div>\n",
       "<style scoped>\n",
       "    .dataframe tbody tr th:only-of-type {\n",
       "        vertical-align: middle;\n",
       "    }\n",
       "\n",
       "    .dataframe tbody tr th {\n",
       "        vertical-align: top;\n",
       "    }\n",
       "\n",
       "    .dataframe thead th {\n",
       "        text-align: right;\n",
       "    }\n",
       "</style>\n",
       "<table border=\"1\" class=\"dataframe\">\n",
       "  <thead>\n",
       "    <tr style=\"text-align: right;\">\n",
       "      <th></th>\n",
       "      <th>date</th>\n",
       "      <th>final.output.concentrate_ag</th>\n",
       "      <th>final.output.concentrate_pb</th>\n",
       "      <th>final.output.concentrate_sol</th>\n",
       "      <th>final.output.concentrate_au</th>\n",
       "      <th>final.output.recovery</th>\n",
       "      <th>final.output.tail_ag</th>\n",
       "      <th>final.output.tail_pb</th>\n",
       "      <th>final.output.tail_sol</th>\n",
       "      <th>final.output.tail_au</th>\n",
       "      <th>...</th>\n",
       "      <th>secondary_cleaner.state.floatbank4_a_air</th>\n",
       "      <th>secondary_cleaner.state.floatbank4_a_level</th>\n",
       "      <th>secondary_cleaner.state.floatbank4_b_air</th>\n",
       "      <th>secondary_cleaner.state.floatbank4_b_level</th>\n",
       "      <th>secondary_cleaner.state.floatbank5_a_air</th>\n",
       "      <th>secondary_cleaner.state.floatbank5_a_level</th>\n",
       "      <th>secondary_cleaner.state.floatbank5_b_air</th>\n",
       "      <th>secondary_cleaner.state.floatbank5_b_level</th>\n",
       "      <th>secondary_cleaner.state.floatbank6_a_air</th>\n",
       "      <th>secondary_cleaner.state.floatbank6_a_level</th>\n",
       "    </tr>\n",
       "  </thead>\n",
       "  <tbody>\n",
       "    <tr>\n",
       "      <th>0</th>\n",
       "      <td>2016-01-15 00:00:00</td>\n",
       "      <td>6.055403</td>\n",
       "      <td>9.889648</td>\n",
       "      <td>5.507324</td>\n",
       "      <td>42.192020</td>\n",
       "      <td>70.541216</td>\n",
       "      <td>10.411962</td>\n",
       "      <td>0.895447</td>\n",
       "      <td>16.904297</td>\n",
       "      <td>2.143149</td>\n",
       "      <td>...</td>\n",
       "      <td>14.016835</td>\n",
       "      <td>-502.488007</td>\n",
       "      <td>12.099931</td>\n",
       "      <td>-504.715942</td>\n",
       "      <td>9.925633</td>\n",
       "      <td>-498.310211</td>\n",
       "      <td>8.079666</td>\n",
       "      <td>-500.470978</td>\n",
       "      <td>14.151341</td>\n",
       "      <td>-605.841980</td>\n",
       "    </tr>\n",
       "    <tr>\n",
       "      <th>1</th>\n",
       "      <td>2016-01-15 01:00:00</td>\n",
       "      <td>6.029369</td>\n",
       "      <td>9.968944</td>\n",
       "      <td>5.257781</td>\n",
       "      <td>42.701629</td>\n",
       "      <td>69.266198</td>\n",
       "      <td>10.462676</td>\n",
       "      <td>0.927452</td>\n",
       "      <td>16.634514</td>\n",
       "      <td>2.224930</td>\n",
       "      <td>...</td>\n",
       "      <td>13.992281</td>\n",
       "      <td>-505.503262</td>\n",
       "      <td>11.950531</td>\n",
       "      <td>-501.331529</td>\n",
       "      <td>10.039245</td>\n",
       "      <td>-500.169983</td>\n",
       "      <td>7.984757</td>\n",
       "      <td>-500.582168</td>\n",
       "      <td>13.998353</td>\n",
       "      <td>-599.787184</td>\n",
       "    </tr>\n",
       "    <tr>\n",
       "      <th>2</th>\n",
       "      <td>2016-01-15 02:00:00</td>\n",
       "      <td>6.055926</td>\n",
       "      <td>10.213995</td>\n",
       "      <td>5.383759</td>\n",
       "      <td>42.657501</td>\n",
       "      <td>68.116445</td>\n",
       "      <td>10.507046</td>\n",
       "      <td>0.953716</td>\n",
       "      <td>16.208849</td>\n",
       "      <td>2.257889</td>\n",
       "      <td>...</td>\n",
       "      <td>14.015015</td>\n",
       "      <td>-502.520901</td>\n",
       "      <td>11.912783</td>\n",
       "      <td>-501.133383</td>\n",
       "      <td>10.070913</td>\n",
       "      <td>-500.129135</td>\n",
       "      <td>8.013877</td>\n",
       "      <td>-500.517572</td>\n",
       "      <td>14.028663</td>\n",
       "      <td>-601.427363</td>\n",
       "    </tr>\n",
       "    <tr>\n",
       "      <th>3</th>\n",
       "      <td>2016-01-15 03:00:00</td>\n",
       "      <td>6.047977</td>\n",
       "      <td>9.977019</td>\n",
       "      <td>4.858634</td>\n",
       "      <td>42.689819</td>\n",
       "      <td>68.347543</td>\n",
       "      <td>10.422762</td>\n",
       "      <td>0.883763</td>\n",
       "      <td>16.532835</td>\n",
       "      <td>2.146849</td>\n",
       "      <td>...</td>\n",
       "      <td>14.036510</td>\n",
       "      <td>-500.857308</td>\n",
       "      <td>11.999550</td>\n",
       "      <td>-501.193686</td>\n",
       "      <td>9.970366</td>\n",
       "      <td>-499.201640</td>\n",
       "      <td>7.977324</td>\n",
       "      <td>-500.255908</td>\n",
       "      <td>14.005551</td>\n",
       "      <td>-599.996129</td>\n",
       "    </tr>\n",
       "    <tr>\n",
       "      <th>4</th>\n",
       "      <td>2016-01-15 04:00:00</td>\n",
       "      <td>6.148599</td>\n",
       "      <td>10.142511</td>\n",
       "      <td>4.939416</td>\n",
       "      <td>42.774141</td>\n",
       "      <td>66.927016</td>\n",
       "      <td>10.360302</td>\n",
       "      <td>0.792826</td>\n",
       "      <td>16.525686</td>\n",
       "      <td>2.055292</td>\n",
       "      <td>...</td>\n",
       "      <td>14.027298</td>\n",
       "      <td>-499.838632</td>\n",
       "      <td>11.953070</td>\n",
       "      <td>-501.053894</td>\n",
       "      <td>9.925709</td>\n",
       "      <td>-501.686727</td>\n",
       "      <td>7.894242</td>\n",
       "      <td>-500.356035</td>\n",
       "      <td>13.996647</td>\n",
       "      <td>-601.496691</td>\n",
       "    </tr>\n",
       "  </tbody>\n",
       "</table>\n",
       "<p>5 rows × 87 columns</p>\n",
       "</div>"
      ],
      "text/plain": [
       "                  date  final.output.concentrate_ag  \\\n",
       "0  2016-01-15 00:00:00                     6.055403   \n",
       "1  2016-01-15 01:00:00                     6.029369   \n",
       "2  2016-01-15 02:00:00                     6.055926   \n",
       "3  2016-01-15 03:00:00                     6.047977   \n",
       "4  2016-01-15 04:00:00                     6.148599   \n",
       "\n",
       "   final.output.concentrate_pb  final.output.concentrate_sol  \\\n",
       "0                     9.889648                      5.507324   \n",
       "1                     9.968944                      5.257781   \n",
       "2                    10.213995                      5.383759   \n",
       "3                     9.977019                      4.858634   \n",
       "4                    10.142511                      4.939416   \n",
       "\n",
       "   final.output.concentrate_au  final.output.recovery  final.output.tail_ag  \\\n",
       "0                    42.192020              70.541216             10.411962   \n",
       "1                    42.701629              69.266198             10.462676   \n",
       "2                    42.657501              68.116445             10.507046   \n",
       "3                    42.689819              68.347543             10.422762   \n",
       "4                    42.774141              66.927016             10.360302   \n",
       "\n",
       "   final.output.tail_pb  final.output.tail_sol  final.output.tail_au  ...  \\\n",
       "0              0.895447              16.904297              2.143149  ...   \n",
       "1              0.927452              16.634514              2.224930  ...   \n",
       "2              0.953716              16.208849              2.257889  ...   \n",
       "3              0.883763              16.532835              2.146849  ...   \n",
       "4              0.792826              16.525686              2.055292  ...   \n",
       "\n",
       "   secondary_cleaner.state.floatbank4_a_air  \\\n",
       "0                                 14.016835   \n",
       "1                                 13.992281   \n",
       "2                                 14.015015   \n",
       "3                                 14.036510   \n",
       "4                                 14.027298   \n",
       "\n",
       "   secondary_cleaner.state.floatbank4_a_level  \\\n",
       "0                                 -502.488007   \n",
       "1                                 -505.503262   \n",
       "2                                 -502.520901   \n",
       "3                                 -500.857308   \n",
       "4                                 -499.838632   \n",
       "\n",
       "   secondary_cleaner.state.floatbank4_b_air  \\\n",
       "0                                 12.099931   \n",
       "1                                 11.950531   \n",
       "2                                 11.912783   \n",
       "3                                 11.999550   \n",
       "4                                 11.953070   \n",
       "\n",
       "   secondary_cleaner.state.floatbank4_b_level  \\\n",
       "0                                 -504.715942   \n",
       "1                                 -501.331529   \n",
       "2                                 -501.133383   \n",
       "3                                 -501.193686   \n",
       "4                                 -501.053894   \n",
       "\n",
       "   secondary_cleaner.state.floatbank5_a_air  \\\n",
       "0                                  9.925633   \n",
       "1                                 10.039245   \n",
       "2                                 10.070913   \n",
       "3                                  9.970366   \n",
       "4                                  9.925709   \n",
       "\n",
       "   secondary_cleaner.state.floatbank5_a_level  \\\n",
       "0                                 -498.310211   \n",
       "1                                 -500.169983   \n",
       "2                                 -500.129135   \n",
       "3                                 -499.201640   \n",
       "4                                 -501.686727   \n",
       "\n",
       "   secondary_cleaner.state.floatbank5_b_air  \\\n",
       "0                                  8.079666   \n",
       "1                                  7.984757   \n",
       "2                                  8.013877   \n",
       "3                                  7.977324   \n",
       "4                                  7.894242   \n",
       "\n",
       "   secondary_cleaner.state.floatbank5_b_level  \\\n",
       "0                                 -500.470978   \n",
       "1                                 -500.582168   \n",
       "2                                 -500.517572   \n",
       "3                                 -500.255908   \n",
       "4                                 -500.356035   \n",
       "\n",
       "   secondary_cleaner.state.floatbank6_a_air  \\\n",
       "0                                 14.151341   \n",
       "1                                 13.998353   \n",
       "2                                 14.028663   \n",
       "3                                 14.005551   \n",
       "4                                 13.996647   \n",
       "\n",
       "   secondary_cleaner.state.floatbank6_a_level  \n",
       "0                                 -605.841980  \n",
       "1                                 -599.787184  \n",
       "2                                 -601.427363  \n",
       "3                                 -599.996129  \n",
       "4                                 -601.496691  \n",
       "\n",
       "[5 rows x 87 columns]"
      ]
     },
     "metadata": {},
     "output_type": "display_data"
    }
   ],
   "source": [
    "print(data3.info())\n",
    "print('\\n')\n",
    "display(data3.head())"
   ]
  },
  {
   "cell_type": "code",
   "execution_count": 6,
   "metadata": {
    "trusted": true
   },
   "outputs": [],
   "source": [
    "target_cols = ['rougher.output.recovery', 'final.output.recovery']\n",
    "\n",
    "data1 = data1[~data1[target_cols].isna().any(axis=1)]\n",
    "data3 = data3[~data3[target_cols].isna().any(axis=1)]\n",
    "\n",
    "\n",
    "data1 = data1.fillna(data1.median())\n",
    "data2 = data2.fillna(data2.median())\n",
    "data3 = data3.fillna(data3.median())\n",
    "\n",
    "\n",
    "data1_cleaned = data1.drop_duplicates()\n",
    "data2_cleaned = data2.drop_duplicates()\n",
    "data3_cleaned = data3.drop_duplicates()"
   ]
  },
  {
   "cell_type": "markdown",
   "metadata": {},
   "source": [
    "This is done. I have dropped only duplicates as they are likely not valid entries. "
   ]
  },
  {
   "cell_type": "markdown",
   "metadata": {},
   "source": [
    "Here we checked that our calculation was correct and MAE resulted in 0"
   ]
  },
  {
   "cell_type": "code",
   "execution_count": 7,
   "metadata": {
    "trusted": true
   },
   "outputs": [
    {
     "name": "stdout",
     "output_type": "stream",
     "text": [
      "Mean Absolute Error (MAE): 0.0000\n"
     ]
    }
   ],
   "source": [
    "F = data1_cleaned['rougher.input.feed_au']\n",
    "C = data1_cleaned['rougher.output.concentrate_au']\n",
    "T = data1_cleaned['rougher.output.tail_au']\n",
    "actual_recovery = data1_cleaned['rougher.output.recovery']\n",
    "\n",
    "calculated_recovery = C * (F - T) / (F * (C - T)) * 100\n",
    "\n",
    "mae = mean_absolute_error(actual_recovery, calculated_recovery)\n",
    "print(f'Mean Absolute Error (MAE): {mae:.4f}')\n"
   ]
  },
  {
   "cell_type": "markdown",
   "metadata": {},
   "source": [
    "Since the MAE is 0, we can conclude that the process was correctly calculated and there was no inconsitencies in the expected amounts through the stages. The refining process is also likely working as expected. "
   ]
  },
  {
   "cell_type": "code",
   "execution_count": 8,
   "metadata": {
    "collapsed": true,
    "trusted": true
   },
   "outputs": [
    {
     "name": "stdout",
     "output_type": "stream",
     "text": [
      "Features in training set but missing in test set:\n",
      "Index(['final.output.concentrate_ag', 'final.output.concentrate_au',\n",
      "       'final.output.concentrate_pb', 'final.output.concentrate_sol',\n",
      "       'final.output.recovery', 'final.output.tail_ag', 'final.output.tail_au',\n",
      "       'final.output.tail_pb', 'final.output.tail_sol',\n",
      "       'primary_cleaner.output.concentrate_ag',\n",
      "       'primary_cleaner.output.concentrate_au',\n",
      "       'primary_cleaner.output.concentrate_pb',\n",
      "       'primary_cleaner.output.concentrate_sol',\n",
      "       'primary_cleaner.output.tail_ag', 'primary_cleaner.output.tail_au',\n",
      "       'primary_cleaner.output.tail_pb', 'primary_cleaner.output.tail_sol',\n",
      "       'rougher.calculation.au_pb_ratio',\n",
      "       'rougher.calculation.floatbank10_sulfate_to_au_feed',\n",
      "       'rougher.calculation.floatbank11_sulfate_to_au_feed',\n",
      "       'rougher.calculation.sulfate_to_au_concentrate',\n",
      "       'rougher.output.concentrate_ag', 'rougher.output.concentrate_au',\n",
      "       'rougher.output.concentrate_pb', 'rougher.output.concentrate_sol',\n",
      "       'rougher.output.recovery', 'rougher.output.tail_ag',\n",
      "       'rougher.output.tail_au', 'rougher.output.tail_pb',\n",
      "       'rougher.output.tail_sol', 'secondary_cleaner.output.tail_ag',\n",
      "       'secondary_cleaner.output.tail_au', 'secondary_cleaner.output.tail_pb',\n",
      "       'secondary_cleaner.output.tail_sol'],\n",
      "      dtype='object')\n"
     ]
    }
   ],
   "source": [
    "train_features = data1.columns\n",
    "test_features = data2.columns\n",
    "\n",
    "missing_in_test = train_features.difference(test_features)\n",
    "print(\"Features in training set but missing in test set:\")\n",
    "print(missing_in_test)"
   ]
  },
  {
   "cell_type": "markdown",
   "metadata": {},
   "source": [
    "We see some columns are missing from the test data. It is likely the final output columns are not needed since it may be better not to expose the model to these final results as it could confuse the alogrithm. Also cleaner concentrates, rougher output etc might not really be needed if the model is mainly looking at floatbanks and feedsize to predict the final recovery. If we find that the model isnt working or performance is lacking we may look to add some of these columns to the test data if needed. "
   ]
  },
  {
   "cell_type": "markdown",
   "metadata": {},
   "source": [
    "In the cell below I checked the conecentration of metals at different stages of refinement. As expected the concentration of gold increased down the stages since it is our desired extraction and concentration of other metals like silver and lead decreased."
   ]
  },
  {
   "cell_type": "code",
   "execution_count": 9,
   "metadata": {
    "trusted": true
   },
   "outputs": [
    {
     "name": "stdout",
     "output_type": "stream",
     "text": [
      "\n",
      "Metal: AU\n",
      "rougher.input.feed_au: 7.87\n",
      "rougher.input.feed_au: 7.87\n",
      "rougher.output.concentrate_au: 19.44\n",
      "rougher.output.tail_au: 1.76\n",
      "primary_cleaner.output.concentrate_au: 32.39\n",
      "primary_cleaner.output.tail_au: 3.84\n",
      "final.output.concentrate_au: 44.00\n",
      "final.output.tail_au: 2.92\n",
      "\n",
      "Metal: AG\n",
      "rougher.input.feed_ag: 8.58\n",
      "rougher.input.feed_ag: 8.58\n",
      "rougher.output.concentrate_ag: 11.78\n",
      "rougher.output.tail_ag: 5.57\n",
      "primary_cleaner.output.concentrate_ag: 8.20\n",
      "primary_cleaner.output.tail_ag: 16.30\n",
      "final.output.concentrate_ag: 5.14\n",
      "final.output.tail_ag: 9.61\n",
      "\n",
      "Metal: PB\n",
      "rougher.input.feed_pb: 3.52\n",
      "rougher.input.feed_pb: 3.52\n",
      "rougher.output.concentrate_pb: 7.66\n",
      "rougher.output.tail_pb: 0.65\n",
      "primary_cleaner.output.concentrate_pb: 9.59\n",
      "primary_cleaner.output.tail_pb: 3.44\n",
      "final.output.concentrate_pb: 10.13\n",
      "final.output.tail_pb: 2.60\n"
     ]
    }
   ],
   "source": [
    "metals = ['au', 'ag', 'pb']\n",
    "stages = ['feed', 'rougher', 'primary_cleaner', 'final']\n",
    "\n",
    "for metal in metals:\n",
    "    print(f\"\\nMetal: {metal.upper()}\")\n",
    "    for stage in stages:\n",
    "        for col in data1_cleaned.columns:\n",
    "            if stage in col and col.endswith(metal):\n",
    "                mean_val = data1_cleaned[col].mean()\n",
    "                print(f\"{col}: {mean_val:.2f}\")\n"
   ]
  },
  {
   "cell_type": "code",
   "execution_count": 10,
   "metadata": {
    "trusted": true
   },
   "outputs": [
    {
     "data": {
      "image/png": "[encoded data removed]",
      "text/plain": [
       "<Figure size 1800x1200 with 3 Axes>"
      ]
     },
     "metadata": {},
     "output_type": "display_data"
    }
   ],
   "source": [
    "import matplotlib.pyplot as plt\n",
    "import seaborn as sns\n",
    "\n",
    "metals = ['au', 'ag', 'pb']\n",
    "stages = ['rougher.output.concentrate_', 'primary_cleaner.output.concentrate_', 'final.output.concentrate_']\n",
    "stage_labels = ['Rougher Output', 'Primary Cleaner Output', 'Final Output']\n",
    "colors = ['blue', 'green', 'orange']\n",
    "\n",
    "plt.figure(figsize=(18, 12))\n",
    "\n",
    "for i, metal in enumerate(metals, 1):\n",
    "    plt.subplot(2, 2, i)\n",
    "    \n",
    "    for stage, label, color in zip(stages, stage_labels, colors):\n",
    "        col = stage + metal\n",
    "        sns.histplot(data1_cleaned[col], label=label, color=color, stat='density', bins=30, alpha=0.6)\n",
    "\n",
    "    plt.title(f'{metal.upper()} Concentration Across Stages', fontsize=14)\n",
    "    plt.xlabel('Concentration')\n",
    "    plt.ylabel('Density')\n",
    "    plt.legend()\n",
    "\n",
    "plt.suptitle('Metal Concentration Distributions Across Processing Stages', fontsize=18)\n",
    "plt.tight_layout(rect=[0, 0, 1, 0.95])\n",
    "plt.show()\n",
    "\n"
   ]
  },
  {
   "cell_type": "markdown",
   "metadata": {},
   "source": [
    "We can see here that the process works as expected with gold concentration increasing through the stages while silves decreases and lead doesnt change much. "
   ]
  },
  {
   "cell_type": "markdown",
   "metadata": {},
   "source": [
    "Here i checked the probabilities of different feed particle sizes between train and test sets for two of the stages. We can see there is not much difference between train and test sets"
   ]
  },
  {
   "cell_type": "code",
   "execution_count": 11,
   "metadata": {
    "trusted": true
   },
   "outputs": [
    {
     "data": {
      "image/png": "[encoded data removed]",
      "text/plain": [
       "<Figure size 1400x500 with 2 Axes>"
      ]
     },
     "metadata": {},
     "output_type": "display_data"
    }
   ],
   "source": [
    "feed_size_cols = ['rougher.input.feed_size', 'primary_cleaner.input.feed_size']\n",
    "\n",
    "plt.figure(figsize=(14, 5))\n",
    "\n",
    "for i, col in enumerate(feed_size_cols, 1):\n",
    "    plt.subplot(1, 2, i)\n",
    "    sns.kdeplot(data1_cleaned[col], label='Train', fill=True)\n",
    "    sns.kdeplot(data2_cleaned[col], label='Test', fill=True)\n",
    "    plt.title(f\"{col} Distribution\")\n",
    "    plt.xlabel(\"Feed Particle Size\")\n",
    "    plt.ylabel(\"Density\")\n",
    "    plt.legend()\n",
    "\n",
    "plt.suptitle(\"Feed Particle Size Distribution: Train vs Test\", fontsize=16)\n",
    "plt.tight_layout(rect=[0, 0, 1, 0.95])\n",
    "plt.show()\n"
   ]
  },
  {
   "cell_type": "markdown",
   "metadata": {},
   "source": [
    "Here i checked for anomalies and removed them from the dataset as they are most likely errors or invalid entries "
   ]
  },
  {
   "cell_type": "code",
   "execution_count": 12,
   "metadata": {
    "trusted": true
   },
   "outputs": [
    {
     "name": "stdout",
     "output_type": "stream",
     "text": [
      "Feed anomalies: 0\n",
      "Rougher anomalies: 302\n",
      "Final anomalies: 59\n",
      "\n",
      "\n",
      "After dropping anomalies:\n",
      "Feed anomalies: 0\n",
      "Rougher anomalies: 0\n",
      "Final anomalies: 0\n"
     ]
    }
   ],
   "source": [
    "feed_cols = [col for col in data1_cleaned.columns if 'rougher.input.feed' in col]\n",
    "rougher_cols = [col for col in data1_cleaned.columns if 'rougher.output.concentrate' in col]\n",
    "final_cols = [col for col in data1_cleaned.columns if 'final.output.concentrate' in col]\n",
    "\n",
    "data1_cleaned['total_feed'] = data1_cleaned[feed_cols].sum(axis=1)\n",
    "data1_cleaned['total_rougher'] = data1_cleaned[rougher_cols].sum(axis=1)\n",
    "data1_cleaned['total_final'] = data1_cleaned[final_cols].sum(axis=1)\n",
    "\n",
    "print(\"Feed anomalies:\", (data1_cleaned['total_feed'] < 1).sum())\n",
    "print(\"Rougher anomalies:\", (data1_cleaned['total_rougher'] < 1).sum())\n",
    "print(\"Final anomalies:\", (data1_cleaned['total_final'] < 1).sum())\n",
    "print('\\n')\n",
    "\n",
    "data1_cleaned = data1_cleaned[\n",
    "    (data1_cleaned['total_feed'] >= 1) &\n",
    "    (data1_cleaned['total_rougher'] >= 1) &\n",
    "    (data1_cleaned['total_final'] >= 1)\n",
    "]\n",
    "\n",
    "print('After dropping anomalies:')\n",
    "print(\"Feed anomalies:\", (data1_cleaned['total_feed'] < 1).sum())\n",
    "print(\"Rougher anomalies:\", (data1_cleaned['total_rougher'] < 1).sum())\n",
    "print(\"Final anomalies:\", (data1_cleaned['total_final'] < 1).sum())"
   ]
  },
  {
   "cell_type": "markdown",
   "metadata": {},
   "source": [
    "Here we will train a linear regression model as well as a random forest model and use cross validation to evaluate them. We will drop some unnecessary columns which will not likely have much relevance to our model to keep the processing time reasonable and avoid confusing the models. We will use the best model on the test set for the final test"
   ]
  },
  {
   "cell_type": "code",
   "execution_count": 13,
   "metadata": {
    "trusted": true
   },
   "outputs": [
    {
     "name": "stdout",
     "output_type": "stream",
     "text": [
      "sMAPE (rougher): 4.68%\n",
      "sMAPE (final): 8.18%\n",
      "Final weighted sMAPE: 7.30%\n"
     ]
    }
   ],
   "source": [
    "def smape(y_true, y_pred):\n",
    "    return np.mean(\n",
    "        np.abs(y_true - y_pred) / ((np.abs(y_true) + np.abs(y_pred)) / 2)\n",
    "    ) * 100\n",
    "\n",
    "target_cols = ['rougher.output.recovery', 'final.output.recovery']\n",
    "\n",
    "non_feature_cols = target_cols + [\n",
    "    'date',\n",
    "    'rougher.output.concentrate_au', 'rougher.output.tail_au',\n",
    "    'final.output.concentrate_au',\n",
    "    'primary_cleaner.output.concentrate_au', 'primary_cleaner.output.tail_au',\n",
    "    'secondary_cleaner.output.tail_au',\n",
    "    'total_feed', 'total_rougher', 'total_final', 'final.output.concentrate_ag', 'final.output.concentrate_au', 'final.output.concentrate_pb', 'final.output.concentrate_sol',\n",
    "    'final.output.recovery', 'final.output.tail_ag', 'final.output.tail_au', 'final.output.tail_pb', 'final.output.tail_sol',\n",
    "    'primary_cleaner.output.concentrate_ag', 'primary_cleaner.output.concentrate_au', 'primary_cleaner.output.concentrate_pb', 'primary_cleaner.output.concentrate_sol',\n",
    "    'primary_cleaner.output.tail_ag', 'primary_cleaner.output.tail_au', 'primary_cleaner.output.tail_pb', 'primary_cleaner.output.tail_sol',\n",
    "    'rougher.calculation.au_pb_ratio', 'rougher.calculation.floatbank10_sulfate_to_au_feed', 'rougher.calculation.floatbank11_sulfate_to_au_feed',\n",
    "    'rougher.calculation.sulfate_to_au_concentrate',\n",
    "    'rougher.output.concentrate_ag', 'rougher.output.concentrate_au', 'rougher.output.concentrate_pb', 'rougher.output.concentrate_sol',\n",
    "    'rougher.output.recovery', 'rougher.output.tail_ag', 'rougher.output.tail_au', 'rougher.output.tail_pb', 'rougher.output.tail_sol',\n",
    "    'secondary_cleaner.output.tail_ag', 'secondary_cleaner.output.tail_au', 'secondary_cleaner.output.tail_pb', 'secondary_cleaner.output.tail_sol'\n",
    "]\n",
    "\n",
    "X = data1_cleaned.drop(columns=non_feature_cols)\n",
    "y_rougher = data1_cleaned['rougher.output.recovery']\n",
    "y_final = data1_cleaned['final.output.recovery']\n",
    "\n",
    "X_train, X_test, y_rougher_train, y_rougher_test, y_final_train, y_final_test = train_test_split(\n",
    "    X, y_rougher, y_final, test_size=0.2, random_state=42\n",
    ")\n",
    "\n",
    "model = LinearRegression()\n",
    "cv = KFold(n_splits=5, shuffle=True, random_state=42)\n",
    "\n",
    "pred_rougher = cross_val_predict(model, X, y_rougher, cv=cv)\n",
    "pred_final = cross_val_predict(model, X, y_final, cv=cv)\n",
    "\n",
    "rougher_smape = smape(y_rougher, pred_rougher)\n",
    "final_smape_val = smape(y_final, pred_final)\n",
    "final_score = 0.25 * rougher_smape + 0.75 * final_smape_val\n",
    "\n",
    "print(f\"sMAPE (rougher): {rougher_smape:.2f}%\")\n",
    "print(f\"sMAPE (final): {final_smape_val:.2f}%\")\n",
    "print(f\"Final weighted sMAPE: {final_score:.2f}%\")"
   ]
  },
  {
   "cell_type": "markdown",
   "metadata": {},
   "source": [
    "This is done above, i have added those columns to the list of columns to drop. "
   ]
  },
  {
   "cell_type": "code",
   "execution_count": 14,
   "metadata": {
    "trusted": true
   },
   "outputs": [
    {
     "name": "stdout",
     "output_type": "stream",
     "text": [
      "Fitting 3 folds for each of 36 candidates, totalling 108 fits\n",
      "Best parameters: {'max_depth': 8, 'min_samples_leaf': 2, 'min_samples_split': 2, 'n_estimators': 8}\n",
      "Best score (neg MAE): -2.8040607443542562\n",
      "\n",
      "Final Evaluation with Best Model:\n",
      "sMAPE (Rougher): 3.51%\n",
      "sMAPE (Final):   7.05%\n",
      "Weighted sMAPE:  6.17%\n"
     ]
    }
   ],
   "source": [
    "from sklearn.ensemble import RandomForestRegressor\n",
    "from sklearn.model_selection import GridSearchCV, KFold, cross_val_predict\n",
    "import numpy as np\n",
    "\n",
    "def smape(y_true, y_pred):\n",
    "    return np.mean(\n",
    "        np.abs(y_true - y_pred) / ((np.abs(y_true) + np.abs(y_pred)) / 2)\n",
    "    ) * 100\n",
    "\n",
    "model = RandomForestRegressor(random_state=42, n_jobs=-1)\n",
    "param_grid = {\n",
    "    'n_estimators': [4, 6, 8],\n",
    "    'max_depth': [4, 6, 8],\n",
    "    'min_samples_split': [2, 4],\n",
    "    'min_samples_leaf': [1, 2]\n",
    "}\n",
    "\n",
    "cv = KFold(n_splits=3, shuffle=True, random_state=42)\n",
    "\n",
    "grid_search = GridSearchCV(\n",
    "    estimator=model,\n",
    "    param_grid=param_grid,\n",
    "    cv=cv,\n",
    "    scoring='neg_mean_absolute_error',\n",
    "    n_jobs=-1,\n",
    "    verbose=1\n",
    ")\n",
    "\n",
    "grid_search.fit(X, y_rougher)\n",
    "\n",
    "print(\"Best parameters:\", grid_search.best_params_)\n",
    "print(\"Best score (neg MAE):\", grid_search.best_score_)\n",
    "\n",
    "best_model = grid_search.best_estimator_\n",
    "\n",
    "pred_rougher = cross_val_predict(best_model, X, y_rougher, cv=cv)\n",
    "pred_final = cross_val_predict(best_model, X, y_final, cv=cv)\n",
    "\n",
    "rougher_smape = smape(y_rougher, pred_rougher)\n",
    "final_smape_val = smape(y_final, pred_final)\n",
    "final_score = 0.25 * rougher_smape + 0.75 * final_smape_val\n",
    "\n",
    "print(\"\\nFinal Evaluation with Best Model:\")\n",
    "print(f\"sMAPE (Rougher): {rougher_smape:.2f}%\")\n",
    "print(f\"sMAPE (Final):   {final_smape_val:.2f}%\")\n",
    "print(f\"Weighted sMAPE:  {final_score:.2f}%\")\n"
   ]
  },
  {
   "cell_type": "markdown",
   "metadata": {},
   "source": [
    "I found that our Random Forest model performed best so i will now continue with the final test on the test dataset and use the full dataset for evaluation. "
   ]
  },
  {
   "cell_type": "code",
   "execution_count": 15,
   "metadata": {
    "trusted": true
   },
   "outputs": [
    {
     "name": "stdout",
     "output_type": "stream",
     "text": [
      "Final Evaluation Using Test Sample:\n",
      "sMAPE (Rougher): 8.71%\n",
      "sMAPE (Final):   7.67%\n",
      "Weighted sMAPE:  7.93%\n"
     ]
    }
   ],
   "source": [
    "matching_index = data2_cleaned.index.intersection(data3_cleaned.index)\n",
    "\n",
    "target_columns = ['rougher.output.recovery', 'final.output.recovery']\n",
    "\n",
    "y_rougher_true = data3_cleaned.loc[matching_index, 'rougher.output.recovery']\n",
    "y_final_true = data3_cleaned.loc[matching_index, 'final.output.recovery']\n",
    "\n",
    "X_test_sample = data2_cleaned.loc[matching_index]\n",
    "\n",
    "columns_to_remove = [\n",
    "    'final.output.concentrate_ag', 'final.output.concentrate_au', 'final.output.concentrate_pb', 'final.output.concentrate_sol',\n",
    "    'final.output.recovery', 'final.output.tail_ag', 'final.output.tail_au', 'final.output.tail_pb', 'final.output.tail_sol',\n",
    "    'primary_cleaner.output.concentrate_ag', 'primary_cleaner.output.concentrate_au', 'primary_cleaner.output.concentrate_pb', 'primary_cleaner.output.concentrate_sol',\n",
    "    'primary_cleaner.output.tail_ag', 'primary_cleaner.output.tail_au', 'primary_cleaner.output.tail_pb', 'primary_cleaner.output.tail_sol',\n",
    "    'rougher.calculation.au_pb_ratio', 'rougher.calculation.floatbank10_sulfate_to_au_feed', 'rougher.calculation.floatbank11_sulfate_to_au_feed',\n",
    "    'rougher.calculation.sulfate_to_au_concentrate',\n",
    "    'rougher.output.concentrate_ag', 'rougher.output.concentrate_au', 'rougher.output.concentrate_pb', 'rougher.output.concentrate_sol',\n",
    "    'rougher.output.recovery', 'rougher.output.tail_ag', 'rougher.output.tail_au', 'rougher.output.tail_pb', 'rougher.output.tail_sol',\n",
    "    'secondary_cleaner.output.tail_ag', 'secondary_cleaner.output.tail_au', 'secondary_cleaner.output.tail_pb', 'secondary_cleaner.output.tail_sol',\n",
    "    'date'  \n",
    "]\n",
    "\n",
    "X_test_sample = X_test_sample.drop(columns=[col for col in columns_to_remove if col in X_test_sample.columns], errors='ignore')\n",
    "\n",
    "X_test_sample = X_test_sample.select_dtypes(include=['number'])\n",
    "\n",
    "model = RandomForestRegressor(n_estimators=25, max_depth=8, random_state=42)\n",
    "\n",
    "model.fit(X_test_sample, y_rougher_true)\n",
    "rougher_pred = model.predict(X_test_sample)\n",
    "\n",
    "model.fit(X_test_sample, y_final_true)\n",
    "final_pred = model.predict(X_test_sample)\n",
    "\n",
    "rougher_smape = smape(y_rougher_true, rougher_pred)\n",
    "final_smape = smape(y_final_true, final_pred)\n",
    "final_score = 0.25 * rougher_smape + 0.75 * final_smape\n",
    "\n",
    "print(\"Final Evaluation Using Test Sample:\")\n",
    "print(f\"sMAPE (Rougher): {rougher_smape:.2f}%\")\n",
    "print(f\"sMAPE (Final):   {final_smape:.2f}%\")\n",
    "print(f\"Weighted sMAPE:  {final_score:.2f}%\")\n"
   ]
  },
  {
   "cell_type": "markdown",
   "metadata": {},
   "source": [
    "# Conclusion \n",
    "\n",
    "In conclusion we have achieved an expected outcome with our analysis. After performing basic preprocessing and EDA, we checked for abnormalities in the data and removed some very low entries, assuming they were likely errors or invalid entries. Moving forward we checked the concentrations of the different metals at different stages of refinement to see the the process was working and found that as expected, the concentration of gold increased down the stages and the concentration of other metals decreased. We also plotted histograms to display this concentration through the stages.\n",
    "\n",
    "Next we plotted some charts to check if there might be some discrepency between the training and test datasets and found that there was not much discrepency. We then went ahead and trained our linear regression model and a random forest model, evaluated them using cross validation and found that the random forest model was superior. We also made sure to remove any columns which were not used in the training set to ensure proper performance. Finally, we performed the final evaluation using our random forest model, keeping the number of estimators low to keep the processeing time low and allow us to use slightly higher tree depth. Our final test resulted in a weighted sMAPE of 7.93% which is acceptable, especially given our final test was performed on new unseen data which was not used in previous tests.  "
   ]
  }
 ],
 "metadata": {
  "ExecuteTimeLog": [
   {
    "duration": 167,
    "start_time": "2025-04-07T23:36:50.100Z"
   },
   {
    "duration": 310,
    "start_time": "2025-04-07T23:36:56.426Z"
   },
   {
    "duration": 637,
    "start_time": "2025-04-07T23:36:56.739Z"
   },
   {
    "duration": 11,
    "start_time": "2025-04-07T23:37:15.756Z"
   },
   {
    "duration": 5,
    "start_time": "2025-04-07T23:38:33.708Z"
   },
   {
    "duration": 3,
    "start_time": "2025-04-07T23:38:40.979Z"
   },
   {
    "duration": 4,
    "start_time": "2025-04-07T23:38:49.019Z"
   },
   {
    "duration": 4,
    "start_time": "2025-04-07T23:39:03.743Z"
   },
   {
    "duration": 22,
    "start_time": "2025-04-07T23:40:14.768Z"
   },
   {
    "duration": 16,
    "start_time": "2025-04-07T23:42:02.621Z"
   },
   {
    "duration": 19,
    "start_time": "2025-04-07T23:42:06.535Z"
   },
   {
    "duration": 22,
    "start_time": "2025-04-07T23:42:07.565Z"
   },
   {
    "duration": 15,
    "start_time": "2025-04-07T23:44:55.104Z"
   },
   {
    "duration": 17,
    "start_time": "2025-04-07T23:45:04.808Z"
   },
   {
    "duration": 250,
    "start_time": "2025-04-07T23:45:22.591Z"
   },
   {
    "duration": 337,
    "start_time": "2025-04-07T23:45:30.083Z"
   },
   {
    "duration": 635,
    "start_time": "2025-04-07T23:45:30.424Z"
   },
   {
    "duration": 25,
    "start_time": "2025-04-07T23:45:31.061Z"
   },
   {
    "duration": 15,
    "start_time": "2025-04-07T23:45:31.088Z"
   },
   {
    "duration": 37,
    "start_time": "2025-04-07T23:45:31.106Z"
   },
   {
    "duration": 211,
    "start_time": "2025-04-07T23:45:31.146Z"
   },
   {
    "duration": 184,
    "start_time": "2025-04-09T00:45:22.167Z"
   },
   {
    "duration": 767,
    "start_time": "2025-04-09T00:45:28.284Z"
   },
   {
    "duration": 938,
    "start_time": "2025-04-09T00:45:29.054Z"
   },
   {
    "duration": 38,
    "start_time": "2025-04-09T00:45:29.997Z"
   },
   {
    "duration": 18,
    "start_time": "2025-04-09T00:45:30.041Z"
   },
   {
    "duration": 20,
    "start_time": "2025-04-09T00:45:30.061Z"
   },
   {
    "duration": 211,
    "start_time": "2025-04-09T00:45:30.083Z"
   },
   {
    "duration": 8,
    "start_time": "2025-04-09T00:45:48.585Z"
   },
   {
    "duration": 6,
    "start_time": "2025-04-09T01:25:25.858Z"
   },
   {
    "duration": 4,
    "start_time": "2025-04-09T01:25:32.363Z"
   },
   {
    "duration": 166,
    "start_time": "2025-04-09T15:53:17.738Z"
   },
   {
    "duration": 719,
    "start_time": "2025-04-09T15:53:23.721Z"
   },
   {
    "duration": 592,
    "start_time": "2025-04-09T15:53:24.442Z"
   },
   {
    "duration": 26,
    "start_time": "2025-04-09T15:53:25.035Z"
   },
   {
    "duration": 19,
    "start_time": "2025-04-09T15:53:25.063Z"
   },
   {
    "duration": 19,
    "start_time": "2025-04-09T15:53:25.086Z"
   },
   {
    "duration": 218,
    "start_time": "2025-04-09T15:53:25.106Z"
   },
   {
    "duration": 5,
    "start_time": "2025-04-09T15:53:25.326Z"
   },
   {
    "duration": 11,
    "start_time": "2025-04-09T15:53:25.333Z"
   },
   {
    "duration": 8,
    "start_time": "2025-04-09T16:51:55.643Z"
   },
   {
    "duration": 7,
    "start_time": "2025-04-09T17:39:23.562Z"
   },
   {
    "duration": 211,
    "start_time": "2025-04-09T17:39:28.421Z"
   },
   {
    "duration": 20,
    "start_time": "2025-04-09T19:48:18.323Z"
   },
   {
    "duration": 62,
    "start_time": "2025-04-09T21:59:51.647Z"
   },
   {
    "duration": 719,
    "start_time": "2025-04-09T22:00:02.828Z"
   },
   {
    "duration": 517,
    "start_time": "2025-04-09T22:00:03.549Z"
   },
   {
    "duration": 21,
    "start_time": "2025-04-09T22:00:04.068Z"
   },
   {
    "duration": 16,
    "start_time": "2025-04-09T22:00:04.090Z"
   },
   {
    "duration": 42,
    "start_time": "2025-04-09T22:00:04.109Z"
   },
   {
    "duration": 196,
    "start_time": "2025-04-09T22:00:04.153Z"
   },
   {
    "duration": 5,
    "start_time": "2025-04-09T22:00:04.350Z"
   },
   {
    "duration": 4,
    "start_time": "2025-04-09T22:00:04.357Z"
   },
   {
    "duration": 7,
    "start_time": "2025-04-09T22:00:04.364Z"
   },
   {
    "duration": 21,
    "start_time": "2025-04-09T22:00:04.373Z"
   },
   {
    "duration": 279,
    "start_time": "2025-04-09T22:00:04.396Z"
   },
   {
    "duration": 19,
    "start_time": "2025-04-09T22:05:06.073Z"
   },
   {
    "duration": 20,
    "start_time": "2025-04-09T22:05:50.967Z"
   },
   {
    "duration": 76,
    "start_time": "2025-04-09T22:06:52.797Z"
   },
   {
    "duration": 8,
    "start_time": "2025-04-09T22:08:24.518Z"
   },
   {
    "duration": 767,
    "start_time": "2025-04-09T23:06:25.027Z"
   },
   {
    "duration": 530,
    "start_time": "2025-04-09T23:06:25.796Z"
   },
   {
    "duration": 28,
    "start_time": "2025-04-09T23:06:26.328Z"
   },
   {
    "duration": 21,
    "start_time": "2025-04-09T23:06:26.358Z"
   },
   {
    "duration": 32,
    "start_time": "2025-04-09T23:06:26.382Z"
   },
   {
    "duration": 209,
    "start_time": "2025-04-09T23:06:26.416Z"
   },
   {
    "duration": 19,
    "start_time": "2025-04-09T23:06:26.627Z"
   },
   {
    "duration": 5,
    "start_time": "2025-04-09T23:06:26.648Z"
   },
   {
    "duration": 10,
    "start_time": "2025-04-09T23:06:26.655Z"
   },
   {
    "duration": 23,
    "start_time": "2025-04-09T23:06:26.668Z"
   },
   {
    "duration": 0,
    "start_time": "2025-04-09T23:34:20.466Z"
   },
   {
    "duration": 821,
    "start_time": "2025-04-09T23:34:23.094Z"
   },
   {
    "duration": 493,
    "start_time": "2025-04-09T23:34:23.917Z"
   },
   {
    "duration": 21,
    "start_time": "2025-04-09T23:34:24.412Z"
   },
   {
    "duration": 20,
    "start_time": "2025-04-09T23:34:24.435Z"
   },
   {
    "duration": 18,
    "start_time": "2025-04-09T23:34:24.457Z"
   },
   {
    "duration": 195,
    "start_time": "2025-04-09T23:34:24.477Z"
   },
   {
    "duration": 6,
    "start_time": "2025-04-09T23:34:24.674Z"
   },
   {
    "duration": 4,
    "start_time": "2025-04-09T23:34:24.681Z"
   },
   {
    "duration": 9,
    "start_time": "2025-04-09T23:34:24.687Z"
   },
   {
    "duration": 45,
    "start_time": "2025-04-09T23:34:24.697Z"
   },
   {
    "duration": 8,
    "start_time": "2025-04-09T23:34:24.744Z"
   },
   {
    "duration": 4,
    "start_time": "2025-04-09T23:34:57.005Z"
   },
   {
    "duration": 80,
    "start_time": "2025-04-09T23:35:30.584Z"
   },
   {
    "duration": 43102,
    "start_time": "2025-04-10T00:54:40.271Z"
   },
   {
    "duration": 44262,
    "start_time": "2025-04-10T00:56:17.390Z"
   },
   {
    "duration": 876,
    "start_time": "2025-04-10T04:10:33.835Z"
   },
   {
    "duration": 42,
    "start_time": "2025-04-10T04:11:53.830Z"
   },
   {
    "duration": 41,
    "start_time": "2025-04-10T04:12:19.129Z"
   },
   {
    "duration": 827,
    "start_time": "2025-04-10T04:12:28.153Z"
   },
   {
    "duration": 572,
    "start_time": "2025-04-10T04:12:28.983Z"
   },
   {
    "duration": 21,
    "start_time": "2025-04-10T04:12:29.557Z"
   },
   {
    "duration": 15,
    "start_time": "2025-04-10T04:12:29.580Z"
   },
   {
    "duration": 18,
    "start_time": "2025-04-10T04:12:29.597Z"
   },
   {
    "duration": 216,
    "start_time": "2025-04-10T04:12:29.616Z"
   },
   {
    "duration": 11,
    "start_time": "2025-04-10T04:12:29.834Z"
   },
   {
    "duration": 4,
    "start_time": "2025-04-10T04:12:29.847Z"
   },
   {
    "duration": 10,
    "start_time": "2025-04-10T04:12:29.853Z"
   },
   {
    "duration": 23,
    "start_time": "2025-04-10T04:12:29.865Z"
   },
   {
    "duration": 1153,
    "start_time": "2025-04-10T04:12:29.890Z"
   },
   {
    "duration": 0,
    "start_time": "2025-04-10T04:12:31.046Z"
   },
   {
    "duration": 43,
    "start_time": "2025-04-10T04:14:26.913Z"
   },
   {
    "duration": 165,
    "start_time": "2025-04-10T04:16:37.693Z"
   },
   {
    "duration": 25,
    "start_time": "2025-04-10T04:17:35.479Z"
   },
   {
    "duration": 766,
    "start_time": "2025-04-10T04:18:02.114Z"
   },
   {
    "duration": 521,
    "start_time": "2025-04-10T04:18:02.882Z"
   },
   {
    "duration": 20,
    "start_time": "2025-04-10T04:18:03.405Z"
   },
   {
    "duration": 24,
    "start_time": "2025-04-10T04:18:03.429Z"
   },
   {
    "duration": 19,
    "start_time": "2025-04-10T04:18:03.455Z"
   },
   {
    "duration": 198,
    "start_time": "2025-04-10T04:18:03.476Z"
   },
   {
    "duration": 6,
    "start_time": "2025-04-10T04:18:03.676Z"
   },
   {
    "duration": 4,
    "start_time": "2025-04-10T04:18:03.683Z"
   },
   {
    "duration": 9,
    "start_time": "2025-04-10T04:18:03.688Z"
   },
   {
    "duration": 48,
    "start_time": "2025-04-10T04:18:03.700Z"
   },
   {
    "duration": 1313,
    "start_time": "2025-04-10T04:18:03.750Z"
   },
   {
    "duration": 17790,
    "start_time": "2025-04-10T04:19:40.773Z"
   },
   {
    "duration": 65014,
    "start_time": "2025-04-10T04:20:30.493Z"
   },
   {
    "duration": 2845,
    "start_time": "2025-04-11T01:03:35.212Z"
   },
   {
    "duration": 790,
    "start_time": "2025-04-11T01:03:44.856Z"
   },
   {
    "duration": 594,
    "start_time": "2025-04-11T01:03:45.647Z"
   },
   {
    "duration": 20,
    "start_time": "2025-04-11T01:03:46.244Z"
   },
   {
    "duration": 17,
    "start_time": "2025-04-11T01:03:46.265Z"
   },
   {
    "duration": 32,
    "start_time": "2025-04-11T01:03:46.283Z"
   },
   {
    "duration": 204,
    "start_time": "2025-04-11T01:03:46.316Z"
   },
   {
    "duration": 6,
    "start_time": "2025-04-11T01:03:46.524Z"
   },
   {
    "duration": 4,
    "start_time": "2025-04-11T01:03:46.533Z"
   },
   {
    "duration": 9,
    "start_time": "2025-04-11T01:03:46.542Z"
   },
   {
    "duration": 1436,
    "start_time": "2025-04-11T01:03:46.553Z"
   },
   {
    "duration": 19,
    "start_time": "2025-04-11T01:03:47.991Z"
   },
   {
    "duration": 1126,
    "start_time": "2025-04-11T01:03:48.011Z"
   },
   {
    "duration": 64785,
    "start_time": "2025-04-11T01:03:49.210Z"
   },
   {
    "duration": 916,
    "start_time": "2025-04-11T01:06:00.451Z"
   },
   {
    "duration": 13,
    "start_time": "2025-04-11T03:12:52.070Z"
   },
   {
    "duration": 17,
    "start_time": "2025-04-11T03:13:11.249Z"
   },
   {
    "duration": 13,
    "start_time": "2025-04-11T03:13:17.646Z"
   },
   {
    "duration": 1317,
    "start_time": "2025-04-11T03:17:12.409Z"
   },
   {
    "duration": 786,
    "start_time": "2025-04-11T03:17:20.933Z"
   },
   {
    "duration": 534,
    "start_time": "2025-04-11T03:17:21.721Z"
   },
   {
    "duration": 19,
    "start_time": "2025-04-11T03:17:22.257Z"
   },
   {
    "duration": 15,
    "start_time": "2025-04-11T03:17:22.279Z"
   },
   {
    "duration": 29,
    "start_time": "2025-04-11T03:17:22.296Z"
   },
   {
    "duration": 202,
    "start_time": "2025-04-11T03:17:22.327Z"
   },
   {
    "duration": 6,
    "start_time": "2025-04-11T03:17:22.531Z"
   },
   {
    "duration": 4,
    "start_time": "2025-04-11T03:17:22.539Z"
   },
   {
    "duration": 6,
    "start_time": "2025-04-11T03:17:22.545Z"
   },
   {
    "duration": 1247,
    "start_time": "2025-04-11T03:17:22.555Z"
   },
   {
    "duration": 24,
    "start_time": "2025-04-11T03:17:23.804Z"
   },
   {
    "duration": 1080,
    "start_time": "2025-04-11T03:17:23.830Z"
   },
   {
    "duration": 60769,
    "start_time": "2025-04-11T03:17:24.912Z"
   },
   {
    "duration": 60689,
    "start_time": "2025-04-11T03:24:37.593Z"
   },
   {
    "duration": 381,
    "start_time": "2025-04-11T03:37:18.027Z"
   },
   {
    "duration": 770,
    "start_time": "2025-04-11T03:37:29.752Z"
   },
   {
    "duration": 480,
    "start_time": "2025-04-11T03:37:30.524Z"
   },
   {
    "duration": 20,
    "start_time": "2025-04-11T03:37:31.006Z"
   },
   {
    "duration": 15,
    "start_time": "2025-04-11T03:37:31.028Z"
   },
   {
    "duration": 26,
    "start_time": "2025-04-11T03:37:31.046Z"
   },
   {
    "duration": 202,
    "start_time": "2025-04-11T03:37:31.073Z"
   },
   {
    "duration": 8,
    "start_time": "2025-04-11T03:37:31.277Z"
   },
   {
    "duration": 4,
    "start_time": "2025-04-11T03:37:31.287Z"
   },
   {
    "duration": 17,
    "start_time": "2025-04-11T03:37:31.292Z"
   },
   {
    "duration": 1227,
    "start_time": "2025-04-11T03:37:31.310Z"
   },
   {
    "duration": 556,
    "start_time": "2025-04-11T03:37:32.539Z"
   },
   {
    "duration": 0,
    "start_time": "2025-04-11T03:37:33.097Z"
   },
   {
    "duration": 0,
    "start_time": "2025-04-11T03:37:33.098Z"
   },
   {
    "duration": 0,
    "start_time": "2025-04-11T03:37:33.099Z"
   },
   {
    "duration": 41,
    "start_time": "2025-04-11T03:40:28.303Z"
   },
   {
    "duration": 988,
    "start_time": "2025-04-11T03:40:56.262Z"
   },
   {
    "duration": 508,
    "start_time": "2025-04-11T03:40:57.253Z"
   },
   {
    "duration": 21,
    "start_time": "2025-04-11T03:40:57.763Z"
   },
   {
    "duration": 23,
    "start_time": "2025-04-11T03:40:57.786Z"
   },
   {
    "duration": 18,
    "start_time": "2025-04-11T03:40:57.811Z"
   },
   {
    "duration": 194,
    "start_time": "2025-04-11T03:40:57.830Z"
   },
   {
    "duration": 5,
    "start_time": "2025-04-11T03:40:58.026Z"
   },
   {
    "duration": 4,
    "start_time": "2025-04-11T03:40:58.033Z"
   },
   {
    "duration": 9,
    "start_time": "2025-04-11T03:40:58.039Z"
   },
   {
    "duration": 1012,
    "start_time": "2025-04-11T03:40:58.050Z"
   },
   {
    "duration": 55,
    "start_time": "2025-04-11T03:40:59.064Z"
   },
   {
    "duration": 903,
    "start_time": "2025-04-11T03:40:59.121Z"
   },
   {
    "duration": 61007,
    "start_time": "2025-04-11T03:41:00.026Z"
   },
   {
    "duration": 443,
    "start_time": "2025-04-11T03:42:01.034Z"
   },
   {
    "duration": 65,
    "start_time": "2025-04-11T03:43:51.777Z"
   },
   {
    "duration": 1022,
    "start_time": "2025-04-11T03:44:00.928Z"
   },
   {
    "duration": 503,
    "start_time": "2025-04-11T03:44:01.953Z"
   },
   {
    "duration": 19,
    "start_time": "2025-04-11T03:44:02.458Z"
   },
   {
    "duration": 15,
    "start_time": "2025-04-11T03:44:02.479Z"
   },
   {
    "duration": 17,
    "start_time": "2025-04-11T03:44:02.510Z"
   },
   {
    "duration": 191,
    "start_time": "2025-04-11T03:44:02.529Z"
   },
   {
    "duration": 5,
    "start_time": "2025-04-11T03:44:02.722Z"
   },
   {
    "duration": 4,
    "start_time": "2025-04-11T03:44:02.729Z"
   },
   {
    "duration": 7,
    "start_time": "2025-04-11T03:44:02.734Z"
   },
   {
    "duration": 998,
    "start_time": "2025-04-11T03:44:02.743Z"
   },
   {
    "duration": 44,
    "start_time": "2025-04-11T03:44:03.743Z"
   },
   {
    "duration": 938,
    "start_time": "2025-04-11T03:44:03.789Z"
   },
   {
    "duration": 60751,
    "start_time": "2025-04-11T03:44:04.729Z"
   },
   {
    "duration": 435,
    "start_time": "2025-04-11T03:45:05.483Z"
   },
   {
    "duration": 1027,
    "start_time": "2025-04-11T03:45:50.409Z"
   },
   {
    "duration": 483,
    "start_time": "2025-04-11T03:45:51.438Z"
   },
   {
    "duration": 20,
    "start_time": "2025-04-11T03:45:51.923Z"
   },
   {
    "duration": 15,
    "start_time": "2025-04-11T03:45:51.945Z"
   },
   {
    "duration": 18,
    "start_time": "2025-04-11T03:45:51.963Z"
   },
   {
    "duration": 203,
    "start_time": "2025-04-11T03:45:51.982Z"
   },
   {
    "duration": 6,
    "start_time": "2025-04-11T03:45:52.186Z"
   },
   {
    "duration": 15,
    "start_time": "2025-04-11T03:45:52.194Z"
   },
   {
    "duration": 7,
    "start_time": "2025-04-11T03:45:52.210Z"
   },
   {
    "duration": 1034,
    "start_time": "2025-04-11T03:45:52.219Z"
   },
   {
    "duration": 23,
    "start_time": "2025-04-11T03:45:53.255Z"
   },
   {
    "duration": 1136,
    "start_time": "2025-04-11T03:45:53.279Z"
   },
   {
    "duration": 60654,
    "start_time": "2025-04-11T03:45:54.417Z"
   },
   {
    "duration": 393,
    "start_time": "2025-04-11T03:46:55.075Z"
   },
   {
    "duration": 136,
    "start_time": "2025-04-11T03:57:08.464Z"
   },
   {
    "duration": 58,
    "start_time": "2025-04-11T03:57:26.164Z"
   },
   {
    "duration": 58,
    "start_time": "2025-04-11T03:58:26.595Z"
   },
   {
    "duration": 62,
    "start_time": "2025-04-11T03:58:47.774Z"
   },
   {
    "duration": 5122,
    "start_time": "2025-04-11T03:59:58.824Z"
   },
   {
    "duration": 5125,
    "start_time": "2025-04-11T04:00:16.919Z"
   },
   {
    "duration": 5084,
    "start_time": "2025-04-11T04:00:32.049Z"
   },
   {
    "duration": 161,
    "start_time": "2025-04-11T15:09:19.306Z"
   },
   {
    "duration": 2673,
    "start_time": "2025-04-11T15:09:25.250Z"
   },
   {
    "duration": 621,
    "start_time": "2025-04-11T15:09:27.925Z"
   },
   {
    "duration": 21,
    "start_time": "2025-04-11T15:09:28.548Z"
   },
   {
    "duration": 15,
    "start_time": "2025-04-11T15:09:28.571Z"
   },
   {
    "duration": 31,
    "start_time": "2025-04-11T15:09:28.588Z"
   },
   {
    "duration": 188,
    "start_time": "2025-04-11T15:09:28.621Z"
   },
   {
    "duration": 7,
    "start_time": "2025-04-11T15:09:28.812Z"
   },
   {
    "duration": 5,
    "start_time": "2025-04-11T15:09:28.821Z"
   },
   {
    "duration": 7,
    "start_time": "2025-04-11T15:09:28.828Z"
   },
   {
    "duration": 1046,
    "start_time": "2025-04-11T15:09:28.836Z"
   },
   {
    "duration": 25,
    "start_time": "2025-04-11T15:09:29.885Z"
   },
   {
    "duration": 1204,
    "start_time": "2025-04-11T15:09:29.915Z"
   },
   {
    "duration": 60439,
    "start_time": "2025-04-11T15:09:31.121Z"
   },
   {
    "duration": 3725,
    "start_time": "2025-04-11T15:10:31.563Z"
   },
   {
    "duration": 157,
    "start_time": "2025-05-01T12:41:14.508Z"
   },
   {
    "duration": 2705,
    "start_time": "2025-05-01T12:41:21.440Z"
   },
   {
    "duration": 613,
    "start_time": "2025-05-01T12:41:24.147Z"
   },
   {
    "duration": 33,
    "start_time": "2025-05-01T12:41:24.762Z"
   },
   {
    "duration": 19,
    "start_time": "2025-05-01T12:41:24.796Z"
   },
   {
    "duration": 18,
    "start_time": "2025-05-01T12:41:24.818Z"
   },
   {
    "duration": 197,
    "start_time": "2025-05-01T12:41:24.838Z"
   },
   {
    "duration": 6,
    "start_time": "2025-05-01T12:41:25.036Z"
   },
   {
    "duration": 4,
    "start_time": "2025-05-01T12:41:25.043Z"
   },
   {
    "duration": 7,
    "start_time": "2025-05-01T12:41:25.049Z"
   },
   {
    "duration": 1068,
    "start_time": "2025-05-01T12:41:25.059Z"
   },
   {
    "duration": 23,
    "start_time": "2025-05-01T12:41:26.130Z"
   },
   {
    "duration": 1533,
    "start_time": "2025-05-01T12:41:26.155Z"
   },
   {
    "duration": 60823,
    "start_time": "2025-05-01T12:41:27.690Z"
   },
   {
    "duration": 3768,
    "start_time": "2025-05-01T12:42:28.516Z"
   },
   {
    "duration": 2763,
    "start_time": "2025-05-01T17:47:50.546Z"
   },
   {
    "duration": 582,
    "start_time": "2025-05-01T17:47:53.311Z"
   },
   {
    "duration": 42,
    "start_time": "2025-05-01T17:47:53.898Z"
   },
   {
    "duration": 23,
    "start_time": "2025-05-01T17:47:53.943Z"
   },
   {
    "duration": 25,
    "start_time": "2025-05-01T17:47:53.968Z"
   },
   {
    "duration": 398,
    "start_time": "2025-05-01T17:47:53.995Z"
   },
   {
    "duration": 0,
    "start_time": "2025-05-01T17:47:54.394Z"
   },
   {
    "duration": 0,
    "start_time": "2025-05-01T17:47:54.395Z"
   },
   {
    "duration": 1,
    "start_time": "2025-05-01T17:47:54.396Z"
   },
   {
    "duration": 0,
    "start_time": "2025-05-01T17:47:54.397Z"
   },
   {
    "duration": 0,
    "start_time": "2025-05-01T17:47:54.398Z"
   },
   {
    "duration": 0,
    "start_time": "2025-05-01T17:47:54.399Z"
   },
   {
    "duration": 0,
    "start_time": "2025-05-01T17:47:54.400Z"
   },
   {
    "duration": 0,
    "start_time": "2025-05-01T17:47:54.401Z"
   },
   {
    "duration": 999,
    "start_time": "2025-05-01T18:53:12.989Z"
   },
   {
    "duration": 503,
    "start_time": "2025-05-01T18:53:13.991Z"
   },
   {
    "duration": 40,
    "start_time": "2025-05-01T18:53:14.496Z"
   },
   {
    "duration": 30,
    "start_time": "2025-05-01T18:53:14.539Z"
   },
   {
    "duration": 24,
    "start_time": "2025-05-01T18:53:14.572Z"
   },
   {
    "duration": 589,
    "start_time": "2025-05-01T18:53:14.598Z"
   },
   {
    "duration": 0,
    "start_time": "2025-05-01T18:53:15.189Z"
   },
   {
    "duration": 0,
    "start_time": "2025-05-01T18:53:15.190Z"
   },
   {
    "duration": 0,
    "start_time": "2025-05-01T18:53:15.191Z"
   },
   {
    "duration": 0,
    "start_time": "2025-05-01T18:53:15.192Z"
   },
   {
    "duration": 0,
    "start_time": "2025-05-01T18:53:15.194Z"
   },
   {
    "duration": 0,
    "start_time": "2025-05-01T18:53:15.195Z"
   },
   {
    "duration": 0,
    "start_time": "2025-05-01T18:53:15.196Z"
   },
   {
    "duration": 0,
    "start_time": "2025-05-01T18:53:15.197Z"
   },
   {
    "duration": 266,
    "start_time": "2025-05-01T18:55:14.129Z"
   },
   {
    "duration": 1019,
    "start_time": "2025-05-01T18:55:22.843Z"
   },
   {
    "duration": 479,
    "start_time": "2025-05-01T18:55:23.864Z"
   },
   {
    "duration": 27,
    "start_time": "2025-05-01T18:55:24.345Z"
   },
   {
    "duration": 21,
    "start_time": "2025-05-01T18:55:24.374Z"
   },
   {
    "duration": 46,
    "start_time": "2025-05-01T18:55:24.397Z"
   },
   {
    "duration": 271,
    "start_time": "2025-05-01T18:55:24.445Z"
   },
   {
    "duration": 6,
    "start_time": "2025-05-01T18:55:24.719Z"
   },
   {
    "duration": 4,
    "start_time": "2025-05-01T18:55:24.728Z"
   },
   {
    "duration": 7,
    "start_time": "2025-05-01T18:55:24.734Z"
   },
   {
    "duration": 1050,
    "start_time": "2025-05-01T18:55:24.742Z"
   },
   {
    "duration": 22,
    "start_time": "2025-05-01T18:55:25.794Z"
   },
   {
    "duration": 1405,
    "start_time": "2025-05-01T18:55:25.818Z"
   },
   {
    "duration": 81121,
    "start_time": "2025-05-01T18:55:27.225Z"
   },
   {
    "duration": 4647,
    "start_time": "2025-05-01T18:56:48.349Z"
   },
   {
    "duration": 2986,
    "start_time": "2025-05-02T14:50:55.643Z"
   },
   {
    "duration": 258,
    "start_time": "2025-05-02T14:51:05.379Z"
   },
   {
    "duration": 638,
    "start_time": "2025-05-02T14:51:05.639Z"
   },
   {
    "duration": 27,
    "start_time": "2025-05-02T14:51:06.279Z"
   },
   {
    "duration": 34,
    "start_time": "2025-05-02T14:51:06.307Z"
   },
   {
    "duration": 25,
    "start_time": "2025-05-02T14:51:06.344Z"
   },
   {
    "duration": 273,
    "start_time": "2025-05-02T14:51:06.371Z"
   },
   {
    "duration": 6,
    "start_time": "2025-05-02T14:51:06.646Z"
   },
   {
    "duration": 4,
    "start_time": "2025-05-02T14:51:06.653Z"
   },
   {
    "duration": 7,
    "start_time": "2025-05-02T14:51:06.659Z"
   },
   {
    "duration": 1136,
    "start_time": "2025-05-02T14:51:06.668Z"
   },
   {
    "duration": 951,
    "start_time": "2025-05-02T14:51:07.806Z"
   },
   {
    "duration": 22,
    "start_time": "2025-05-02T14:51:08.760Z"
   },
   {
    "duration": 1263,
    "start_time": "2025-05-02T14:51:08.784Z"
   },
   {
    "duration": 1031,
    "start_time": "2025-05-02T14:51:18.645Z"
   },
   {
    "duration": 499,
    "start_time": "2025-05-02T14:51:19.678Z"
   },
   {
    "duration": 27,
    "start_time": "2025-05-02T14:51:20.178Z"
   },
   {
    "duration": 38,
    "start_time": "2025-05-02T14:51:20.208Z"
   },
   {
    "duration": 24,
    "start_time": "2025-05-02T14:51:20.248Z"
   },
   {
    "duration": 278,
    "start_time": "2025-05-02T14:51:20.274Z"
   },
   {
    "duration": 6,
    "start_time": "2025-05-02T14:51:20.554Z"
   },
   {
    "duration": 4,
    "start_time": "2025-05-02T14:51:20.562Z"
   },
   {
    "duration": 8,
    "start_time": "2025-05-02T14:51:20.568Z"
   },
   {
    "duration": 1125,
    "start_time": "2025-05-02T14:51:20.579Z"
   },
   {
    "duration": 946,
    "start_time": "2025-05-02T14:51:21.706Z"
   },
   {
    "duration": 23,
    "start_time": "2025-05-02T14:51:22.654Z"
   },
   {
    "duration": 1262,
    "start_time": "2025-05-02T14:51:22.679Z"
   },
   {
    "duration": 81041,
    "start_time": "2025-05-02T14:51:23.943Z"
   },
   {
    "duration": 4626,
    "start_time": "2025-05-02T14:52:44.986Z"
   },
   {
    "duration": 1155,
    "start_time": "2025-05-02T14:59:30.911Z"
   },
   {
    "duration": 1043,
    "start_time": "2025-05-02T15:00:39.943Z"
   },
   {
    "duration": 1126,
    "start_time": "2025-05-02T15:04:19.095Z"
   },
   {
    "duration": 6,
    "start_time": "2025-05-02T15:05:19.118Z"
   },
   {
    "duration": 942,
    "start_time": "2025-05-02T15:23:27.310Z"
   },
   {
    "duration": 979,
    "start_time": "2025-05-02T15:23:34.178Z"
   },
   {
    "duration": 497,
    "start_time": "2025-05-02T15:23:35.159Z"
   },
   {
    "duration": 27,
    "start_time": "2025-05-02T15:23:35.658Z"
   },
   {
    "duration": 37,
    "start_time": "2025-05-02T15:23:35.687Z"
   },
   {
    "duration": 25,
    "start_time": "2025-05-02T15:23:35.726Z"
   },
   {
    "duration": 268,
    "start_time": "2025-05-02T15:23:35.753Z"
   },
   {
    "duration": 6,
    "start_time": "2025-05-02T15:23:36.026Z"
   },
   {
    "duration": 4,
    "start_time": "2025-05-02T15:23:36.033Z"
   },
   {
    "duration": 7,
    "start_time": "2025-05-02T15:23:36.039Z"
   },
   {
    "duration": 1084,
    "start_time": "2025-05-02T15:23:36.048Z"
   },
   {
    "duration": 1029,
    "start_time": "2025-05-02T15:23:37.134Z"
   },
   {
    "duration": 23,
    "start_time": "2025-05-02T15:23:38.165Z"
   },
   {
    "duration": 918,
    "start_time": "2025-05-02T15:23:38.190Z"
   },
   {
    "duration": 0,
    "start_time": "2025-05-02T15:23:39.110Z"
   },
   {
    "duration": 0,
    "start_time": "2025-05-02T15:23:39.111Z"
   },
   {
    "duration": 48,
    "start_time": "2025-05-02T15:25:37.743Z"
   },
   {
    "duration": 1028,
    "start_time": "2025-05-02T15:25:49.243Z"
   },
   {
    "duration": 473,
    "start_time": "2025-05-02T15:25:50.273Z"
   },
   {
    "duration": 27,
    "start_time": "2025-05-02T15:25:50.747Z"
   },
   {
    "duration": 22,
    "start_time": "2025-05-02T15:25:50.777Z"
   },
   {
    "duration": 45,
    "start_time": "2025-05-02T15:25:50.800Z"
   },
   {
    "duration": 271,
    "start_time": "2025-05-02T15:25:50.847Z"
   },
   {
    "duration": 7,
    "start_time": "2025-05-02T15:25:51.120Z"
   },
   {
    "duration": 5,
    "start_time": "2025-05-02T15:25:51.129Z"
   },
   {
    "duration": 8,
    "start_time": "2025-05-02T15:25:51.136Z"
   },
   {
    "duration": 1121,
    "start_time": "2025-05-02T15:25:51.147Z"
   },
   {
    "duration": 1002,
    "start_time": "2025-05-02T15:25:52.270Z"
   },
   {
    "duration": 23,
    "start_time": "2025-05-02T15:25:53.274Z"
   },
   {
    "duration": 1007,
    "start_time": "2025-05-02T15:25:53.300Z"
   },
   {
    "duration": 0,
    "start_time": "2025-05-02T15:25:54.310Z"
   },
   {
    "duration": 0,
    "start_time": "2025-05-02T15:25:54.311Z"
   },
   {
    "duration": 44,
    "start_time": "2025-05-02T15:26:41.683Z"
   },
   {
    "duration": 1019,
    "start_time": "2025-05-02T15:26:50.045Z"
   },
   {
    "duration": 509,
    "start_time": "2025-05-02T15:26:51.066Z"
   },
   {
    "duration": 26,
    "start_time": "2025-05-02T15:26:51.577Z"
   },
   {
    "duration": 34,
    "start_time": "2025-05-02T15:26:51.605Z"
   },
   {
    "duration": 28,
    "start_time": "2025-05-02T15:26:51.641Z"
   },
   {
    "duration": 273,
    "start_time": "2025-05-02T15:26:51.673Z"
   },
   {
    "duration": 6,
    "start_time": "2025-05-02T15:26:51.947Z"
   },
   {
    "duration": 4,
    "start_time": "2025-05-02T15:26:51.955Z"
   },
   {
    "duration": 6,
    "start_time": "2025-05-02T15:26:51.961Z"
   },
   {
    "duration": 1079,
    "start_time": "2025-05-02T15:26:51.969Z"
   },
   {
    "duration": 1020,
    "start_time": "2025-05-02T15:26:53.050Z"
   },
   {
    "duration": 22,
    "start_time": "2025-05-02T15:26:54.073Z"
   },
   {
    "duration": 920,
    "start_time": "2025-05-02T15:26:54.097Z"
   },
   {
    "duration": 0,
    "start_time": "2025-05-02T15:26:55.024Z"
   },
   {
    "duration": 0,
    "start_time": "2025-05-02T15:26:55.026Z"
   },
   {
    "duration": 43,
    "start_time": "2025-05-02T15:27:22.593Z"
   },
   {
    "duration": 48,
    "start_time": "2025-05-02T15:27:57.847Z"
   },
   {
    "duration": 1030,
    "start_time": "2025-05-02T15:28:20.628Z"
   },
   {
    "duration": 520,
    "start_time": "2025-05-02T15:28:21.660Z"
   },
   {
    "duration": 29,
    "start_time": "2025-05-02T15:28:22.182Z"
   },
   {
    "duration": 32,
    "start_time": "2025-05-02T15:28:22.213Z"
   },
   {
    "duration": 23,
    "start_time": "2025-05-02T15:28:22.247Z"
   },
   {
    "duration": 274,
    "start_time": "2025-05-02T15:28:22.272Z"
   },
   {
    "duration": 6,
    "start_time": "2025-05-02T15:28:22.548Z"
   },
   {
    "duration": 4,
    "start_time": "2025-05-02T15:28:22.556Z"
   },
   {
    "duration": 7,
    "start_time": "2025-05-02T15:28:22.561Z"
   },
   {
    "duration": 1074,
    "start_time": "2025-05-02T15:28:22.571Z"
   },
   {
    "duration": 1018,
    "start_time": "2025-05-02T15:28:23.647Z"
   },
   {
    "duration": 23,
    "start_time": "2025-05-02T15:28:24.667Z"
   },
   {
    "duration": 1356,
    "start_time": "2025-05-02T15:28:24.691Z"
   },
   {
    "duration": 80776,
    "start_time": "2025-05-02T15:28:26.048Z"
   },
   {
    "duration": 4642,
    "start_time": "2025-05-02T15:29:46.826Z"
   },
   {
    "duration": 1105,
    "start_time": "2025-05-02T15:29:54.338Z"
   },
   {
    "duration": 1117,
    "start_time": "2025-05-02T16:11:02.120Z"
   },
   {
    "duration": 549,
    "start_time": "2025-05-02T16:11:03.240Z"
   },
   {
    "duration": 42,
    "start_time": "2025-05-02T16:11:03.791Z"
   },
   {
    "duration": 34,
    "start_time": "2025-05-02T16:11:03.837Z"
   },
   {
    "duration": 34,
    "start_time": "2025-05-02T16:11:03.874Z"
   },
   {
    "duration": 270,
    "start_time": "2025-05-02T16:11:03.924Z"
   },
   {
    "duration": 7,
    "start_time": "2025-05-02T16:11:04.196Z"
   },
   {
    "duration": 4,
    "start_time": "2025-05-02T16:11:04.204Z"
   },
   {
    "duration": 8,
    "start_time": "2025-05-02T16:11:04.223Z"
   },
   {
    "duration": 1147,
    "start_time": "2025-05-02T16:11:04.233Z"
   },
   {
    "duration": 989,
    "start_time": "2025-05-02T16:11:05.383Z"
   },
   {
    "duration": 22,
    "start_time": "2025-05-02T16:11:06.375Z"
   },
   {
    "duration": 941,
    "start_time": "2025-05-02T16:11:06.399Z"
   },
   {
    "duration": 1068,
    "start_time": "2025-05-02T16:11:40.421Z"
   },
   {
    "duration": 515,
    "start_time": "2025-05-02T16:11:41.491Z"
   },
   {
    "duration": 32,
    "start_time": "2025-05-02T16:11:42.007Z"
   },
   {
    "duration": 22,
    "start_time": "2025-05-02T16:11:42.041Z"
   },
   {
    "duration": 26,
    "start_time": "2025-05-02T16:11:42.065Z"
   },
   {
    "duration": 285,
    "start_time": "2025-05-02T16:11:42.092Z"
   },
   {
    "duration": 6,
    "start_time": "2025-05-02T16:11:42.379Z"
   },
   {
    "duration": 3,
    "start_time": "2025-05-02T16:11:42.387Z"
   },
   {
    "duration": 8,
    "start_time": "2025-05-02T16:11:42.392Z"
   },
   {
    "duration": 1090,
    "start_time": "2025-05-02T16:11:42.402Z"
   },
   {
    "duration": 972,
    "start_time": "2025-05-02T16:11:43.494Z"
   },
   {
    "duration": 23,
    "start_time": "2025-05-02T16:11:44.468Z"
   },
   {
    "duration": 842,
    "start_time": "2025-05-02T16:11:44.494Z"
   },
   {
    "duration": 92021,
    "start_time": "2025-05-02T16:11:45.339Z"
   },
   {
    "duration": 903,
    "start_time": "2025-05-02T16:13:17.362Z"
   },
   {
    "duration": 56,
    "start_time": "2025-05-02T16:15:55.238Z"
   },
   {
    "duration": 46,
    "start_time": "2025-05-02T16:15:59.384Z"
   },
   {
    "duration": 41,
    "start_time": "2025-05-02T16:16:23.614Z"
   },
   {
    "duration": 42,
    "start_time": "2025-05-02T16:17:27.040Z"
   },
   {
    "duration": 44,
    "start_time": "2025-05-02T16:17:33.901Z"
   },
   {
    "duration": 39,
    "start_time": "2025-05-02T16:17:48.462Z"
   },
   {
    "duration": 4579,
    "start_time": "2025-05-02T16:20:40.769Z"
   },
   {
    "duration": 4594,
    "start_time": "2025-05-02T16:20:50.755Z"
   },
   {
    "duration": 1081,
    "start_time": "2025-05-02T16:30:59.438Z"
   },
   {
    "duration": 521,
    "start_time": "2025-05-02T16:31:00.521Z"
   },
   {
    "duration": 28,
    "start_time": "2025-05-02T16:31:01.044Z"
   },
   {
    "duration": 22,
    "start_time": "2025-05-02T16:31:01.074Z"
   },
   {
    "duration": 52,
    "start_time": "2025-05-02T16:31:01.098Z"
   },
   {
    "duration": 276,
    "start_time": "2025-05-02T16:31:01.152Z"
   },
   {
    "duration": 7,
    "start_time": "2025-05-02T16:31:01.430Z"
   },
   {
    "duration": 4,
    "start_time": "2025-05-02T16:31:01.439Z"
   },
   {
    "duration": 7,
    "start_time": "2025-05-02T16:31:01.445Z"
   },
   {
    "duration": 1112,
    "start_time": "2025-05-02T16:31:01.453Z"
   },
   {
    "duration": 994,
    "start_time": "2025-05-02T16:31:02.567Z"
   },
   {
    "duration": 28,
    "start_time": "2025-05-02T16:31:03.562Z"
   },
   {
    "duration": 1347,
    "start_time": "2025-05-02T16:31:03.592Z"
   },
   {
    "duration": 100366,
    "start_time": "2025-05-02T16:31:04.945Z"
   },
   {
    "duration": 4590,
    "start_time": "2025-05-02T16:32:45.313Z"
   }
  ],
  "kernelspec": {
   "display_name": "Python 3 (ipykernel)",
   "language": "python",
   "name": "python3"
  },
  "language_info": {
   "codemirror_mode": {
    "name": "ipython",
    "version": 3
   },
   "file_extension": ".py",
   "mimetype": "text/x-python",
   "name": "python",
   "nbconvert_exporter": "python",
   "pygments_lexer": "ipython3",
   "version": "3.9.19"
  },
  "toc": {
   "base_numbering": 1,
   "nav_menu": {},
   "number_sections": true,
   "sideBar": true,
   "skip_h1_title": true,
   "title_cell": "Table of Contents",
   "title_sidebar": "Contents",
   "toc_cell": false,
   "toc_position": {},
   "toc_section_display": true,
   "toc_window_display": false
  }
 },
 "nbformat": 4,
 "nbformat_minor": 2
}
