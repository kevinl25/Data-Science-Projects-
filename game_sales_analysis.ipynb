{
 "cells": [
  {
   "cell_type": "markdown",
   "metadata": {},
   "source": [
    "# Game Sales Project \n",
    "\n",
    "This project features sales data for video games from 1980 to 2016. We will analyze the data to uncover insights into the best selling video game products. We will compare the different platforms over the years to determine which platforms performed best and about how long a single platform stays relevent before being replaced. We will look at which genres of games are most succesful and whether or not critic or user scores have any correlation with the sales of a game. "
   ]
  },
  {
   "cell_type": "code",
   "execution_count": null,
   "metadata": {
    "trusted": true
   },
   "outputs": [],
   "source": [
    "import pandas as pd\n",
    "import numpy as np\n",
    "import matplotlib as plt \n",
    "import statistics as st \n",
    "import seaborn as sns\n",
    "from scipy import stats"
   ]
  },
  {
   "cell_type": "code",
   "execution_count": null,
   "metadata": {
    "scrolled": true,
    "trusted": true
   },
   "outputs": [
    {
     "name": "stdout",
     "output_type": "stream",
     "text": [
      "                        Name Platform  Year_of_Release         Genre  \\\n",
      "0                 Wii Sports      Wii           2006.0        Sports   \n",
      "1          Super Mario Bros.      NES           1985.0      Platform   \n",
      "2             Mario Kart Wii      Wii           2008.0        Racing   \n",
      "3          Wii Sports Resort      Wii           2009.0        Sports   \n",
      "4   Pokemon Red/Pokemon Blue       GB           1996.0  Role-Playing   \n",
      "5                     Tetris       GB           1989.0        Puzzle   \n",
      "6      New Super Mario Bros.       DS           2006.0      Platform   \n",
      "7                   Wii Play      Wii           2006.0          Misc   \n",
      "8  New Super Mario Bros. Wii      Wii           2009.0      Platform   \n",
      "9                  Duck Hunt      NES           1984.0       Shooter   \n",
      "\n",
      "   NA_sales  EU_sales  JP_sales  Other_sales  Critic_Score User_Score Rating  \n",
      "0     41.36     28.96      3.77         8.45          76.0          8      E  \n",
      "1     29.08      3.58      6.81         0.77           NaN        NaN    NaN  \n",
      "2     15.68     12.76      3.79         3.29          82.0        8.3      E  \n",
      "3     15.61     10.93      3.28         2.95          80.0          8      E  \n",
      "4     11.27      8.89     10.22         1.00           NaN        NaN    NaN  \n",
      "5     23.20      2.26      4.22         0.58           NaN        NaN    NaN  \n",
      "6     11.28      9.14      6.50         2.88          89.0        8.5      E  \n",
      "7     13.96      9.18      2.93         2.84          58.0        6.6      E  \n",
      "8     14.44      6.94      4.70         2.24          87.0        8.4      E  \n",
      "9     26.93      0.63      0.28         0.47           NaN        NaN    NaN  \n",
      "\n",
      "\n",
      "<class 'pandas.core.frame.DataFrame'>\n",
      "RangeIndex: 16715 entries, 0 to 16714\n",
      "Data columns (total 11 columns):\n",
      " #   Column           Non-Null Count  Dtype  \n",
      "---  ------           --------------  -----  \n",
      " 0   Name             16713 non-null  object \n",
      " 1   Platform         16715 non-null  object \n",
      " 2   Year_of_Release  16446 non-null  float64\n",
      " 3   Genre            16713 non-null  object \n",
      " 4   NA_sales         16715 non-null  float64\n",
      " 5   EU_sales         16715 non-null  float64\n",
      " 6   JP_sales         16715 non-null  float64\n",
      " 7   Other_sales      16715 non-null  float64\n",
      " 8   Critic_Score     8137 non-null   float64\n",
      " 9   User_Score       10014 non-null  object \n",
      " 10  Rating           9949 non-null   object \n",
      "dtypes: float64(6), object(5)\n",
      "memory usage: 1.4+ MB\n",
      "None\n",
      "\n",
      "\n",
      "Name                  2\n",
      "Platform              0\n",
      "Year_of_Release     269\n",
      "Genre                 2\n",
      "NA_sales              0\n",
      "EU_sales              0\n",
      "JP_sales              0\n",
      "Other_sales           0\n",
      "Critic_Score       8578\n",
      "User_Score         6701\n",
      "Rating             6766\n",
      "dtype: int64\n",
      "\n",
      "\n",
      "Name               0.000120\n",
      "Platform           0.000000\n",
      "Year_of_Release    0.016093\n",
      "Genre              0.000120\n",
      "NA_sales           0.000000\n",
      "EU_sales           0.000000\n",
      "JP_sales           0.000000\n",
      "Other_sales        0.000000\n",
      "Critic_Score       0.513192\n",
      "User_Score         0.400897\n",
      "Rating             0.404786\n",
      "dtype: float64\n"
     ]
    }
   ],
   "source": [
    "games=pd.read_csv('/datasets/games.csv')\n",
    "print (games.head(10))\n",
    "print('\\n')\n",
    "print(games.info())\n",
    "print('\\n')\n",
    "print(games.isnull().sum())\n",
    "print('\\n')\n",
    "print(games.isnull().sum()/len(games))"
   ]
  },
  {
   "cell_type": "markdown",
   "metadata": {},
   "source": [
    "There are some issues with the data. First i will convert all columns and values to lowercase to make it easier to process the data later. I will also fill nan values in the sales fields with 0 to make later calculations easier. Values in these fields may be missing because some games might not have sold in all regions. I will leave user and critic score nan values in place because these nan values could be because no data was available for those games, especially for older games. filling with 0 could skew the later calculations. "
   ]
  },
  {
   "cell_type": "code",
   "execution_count": null,
   "metadata": {
    "trusted": true
   },
   "outputs": [
    {
     "name": "stdout",
     "output_type": "stream",
     "text": [
      "                       name platform  year_of_release         genre  na_sales  \\\n",
      "0                wii sports      wii           2006.0        sports     41.36   \n",
      "1         super mario bros.      nes           1985.0      platform     29.08   \n",
      "2            mario kart wii      wii           2008.0        racing     15.68   \n",
      "3         wii sports resort      wii           2009.0        sports     15.61   \n",
      "4  pokemon red/pokemon blue       gb           1996.0  role-playing     11.27   \n",
      "\n",
      "   eu_sales  jp_sales  other_sales  critic_score user_score rating  \n",
      "0     28.96      3.77         8.45          76.0          8      e  \n",
      "1      3.58      6.81         0.77           NaN        NaN    NaN  \n",
      "2     12.76      3.79         3.29          82.0        8.3      e  \n",
      "3     10.93      3.28         2.95          80.0          8      e  \n",
      "4      8.89     10.22         1.00           NaN        NaN    NaN  \n"
     ]
    }
   ],
   "source": [
    "games.columns = games.columns.str.lower()\n",
    "games[['name', 'platform', 'genre', 'rating']] = games[['name', 'platform', 'genre', 'rating']].apply(lambda x: x.str.lower())\n",
    "games['year_of_release'] = games['year_of_release'].dropna().astype(int)\n",
    "games[['jp_sales', 'na_sales', 'eu_sales', 'other_sales']] = games[['jp_sales', 'na_sales', 'eu_sales', 'other_sales']].fillna(0)\n",
    "\n",
    "print(games.head())"
   ]
  },
  {
   "cell_type": "code",
   "execution_count": null,
   "metadata": {
    "trusted": true
   },
   "outputs": [],
   "source": [
    "games['total_sales'] = games['na_sales'] + games['eu_sales'] + games['jp_sales'] + games['other_sales']\n",
    "\n",
    "cols = list(games.columns)\n",
    "\n",
    "index = cols.index('other_sales') + 1\n",
    "cols.insert(index, cols.pop(cols.index('total_sales')))\n",
    "\n",
    "games = games[cols]\n"
   ]
  },
  {
   "cell_type": "code",
   "execution_count": null,
   "metadata": {
    "trusted": true
   },
   "outputs": [
    {
     "name": "stdout",
     "output_type": "stream",
     "text": [
      "                 na_sales  eu_sales  jp_sales  other_sales  total_sales  \\\n",
      "year_of_release                                                           \n",
      "1980.0              10.59      0.67      0.00         0.12        11.38   \n",
      "1981.0              33.40      1.96      0.00         0.32        35.68   \n",
      "1982.0              26.92      1.65      0.00         0.31        28.88   \n",
      "1983.0               7.76      0.80      8.10         0.14        16.80   \n",
      "1984.0              33.28      2.10     14.27         0.70        50.35   \n",
      "1985.0              33.73      4.74     14.56         0.92        53.95   \n",
      "1986.0              12.50      2.84     19.81         1.93        37.08   \n",
      "1987.0               8.46      1.41     11.63         0.20        21.70   \n",
      "1988.0              23.87      6.59     15.76         0.99        47.21   \n",
      "1989.0              45.15      8.44     18.36         1.50        73.45   \n",
      "1990.0              25.46      7.63     14.88         1.40        49.37   \n",
      "1991.0              12.76      3.95     14.78         0.74        32.23   \n",
      "1992.0              33.89     11.71     28.91         1.65        76.16   \n",
      "1993.0              16.90      5.18     25.36         0.97        48.41   \n",
      "1994.0              28.16     14.88     33.99         2.20        79.23   \n",
      "1995.0              24.83     14.90     45.75         2.64        88.12   \n",
      "1996.0              86.76     47.26     57.44         7.69       199.15   \n",
      "1997.0              94.75     48.32     48.87         9.13       201.07   \n",
      "1998.0             128.36     66.90     50.04        11.01       256.31   \n",
      "1999.0             126.06     62.67     52.34        10.04       251.11   \n",
      "2000.0              94.50     52.77     42.77        11.62       201.66   \n",
      "2001.0             173.98     94.89     39.86        22.73       331.46   \n",
      "2002.0             216.19    109.75     41.76        27.27       394.97   \n",
      "2003.0             193.61    103.81     34.20        25.92       357.54   \n",
      "2004.0             222.51    107.28     41.65        47.24       418.68   \n",
      "2005.0             242.15    121.11     54.27        40.29       457.82   \n",
      "2006.0             262.13    127.89     73.74        53.95       517.71   \n",
      "2007.0             309.89    157.82     60.29        76.75       604.75   \n",
      "2008.0             348.69    181.14     60.25        81.42       671.50   \n",
      "2009.0             335.55    187.94     61.89        73.44       658.82   \n",
      "2010.0             300.65    171.42     59.49        58.57       590.13   \n",
      "2011.0             238.79    162.97     53.07        52.75       507.58   \n",
      "2012.0             153.26    114.59     51.80        36.19       355.84   \n",
      "2013.0             153.65    121.55     47.69        38.35       361.24   \n",
      "2014.0             132.27    122.74     39.69        36.83       331.53   \n",
      "2015.0             106.86     96.72     34.09        30.31       267.98   \n",
      "2016.0              44.93     51.22     19.31        14.48       129.94   \n",
      "\n",
      "                 critic_score  \n",
      "year_of_release                \n",
      "1980.0                    0.0  \n",
      "1981.0                    0.0  \n",
      "1982.0                    0.0  \n",
      "1983.0                    0.0  \n",
      "1984.0                    0.0  \n",
      "1985.0                   59.0  \n",
      "1986.0                    0.0  \n",
      "1987.0                    0.0  \n",
      "1988.0                   64.0  \n",
      "1989.0                    0.0  \n",
      "1990.0                    0.0  \n",
      "1991.0                    0.0  \n",
      "1992.0                   85.0  \n",
      "1993.0                    0.0  \n",
      "1994.0                   69.0  \n",
      "1995.0                    0.0  \n",
      "1996.0                  719.0  \n",
      "1997.0                 1450.0  \n",
      "1998.0                 2291.0  \n",
      "1999.0                 2955.0  \n",
      "2000.0                 9917.0  \n",
      "2001.0                23281.0  \n",
      "2002.0                43292.0  \n",
      "2003.0                41056.0  \n",
      "2004.0                38930.0  \n",
      "2005.0                45077.0  \n",
      "2006.0                41750.0  \n",
      "2007.0                45797.0  \n",
      "2008.0                47122.0  \n",
      "2009.0                43978.0  \n",
      "2010.0                33741.0  \n",
      "2011.0                34346.0  \n",
      "2012.0                23428.0  \n",
      "2013.0                19459.0  \n",
      "2014.0                18548.0  \n",
      "2015.0                16396.0  \n",
      "2016.0                16972.0  \n"
     ]
    }
   ],
   "source": [
    "games_grouped = games.groupby('year_of_release').sum().sort_values(by='year_of_release', ascending=True)\n",
    "\n",
    "print(games_grouped)"
   ]
  },
  {
   "cell_type": "markdown",
   "metadata": {},
   "source": [
    "It seems the most amount of games were released in the years 2000-2010, with numbers peaking in 2010 and beginning to decline. For our next calculations we will islolate these years since they were the most productive years for the gaming industry. "
   ]
  },
  {
   "cell_type": "code",
   "execution_count": null,
   "metadata": {
    "trusted": true
   },
   "outputs": [
    {
     "name": "stdout",
     "output_type": "stream",
     "text": [
      "    year_of_release  game_count\n",
      "36           1980.0           9\n",
      "24           1981.0          46\n",
      "27           1982.0          36\n",
      "30           1983.0          17\n",
      "34           1984.0          14\n",
      "35           1985.0          14\n",
      "28           1986.0          21\n",
      "31           1987.0          16\n",
      "33           1988.0          15\n",
      "29           1989.0          17\n",
      "32           1990.0          16\n",
      "26           1991.0          41\n",
      "25           1992.0          43\n",
      "23           1993.0          62\n",
      "22           1994.0         121\n",
      "21           1995.0         219\n",
      "20           1996.0         263\n",
      "19           1997.0         289\n",
      "16           1998.0         379\n",
      "18           1999.0         338\n",
      "17           2000.0         350\n",
      "15           2001.0         482\n",
      "7            2002.0         829\n",
      "8            2003.0         775\n",
      "9            2004.0         762\n",
      "6            2005.0         939\n",
      "5            2006.0        1006\n",
      "3            2007.0        1197\n",
      "0            2008.0        1427\n",
      "1            2009.0        1426\n",
      "2            2010.0        1255\n",
      "4            2011.0        1136\n",
      "10           2012.0         653\n",
      "13           2013.0         544\n",
      "12           2014.0         581\n",
      "11           2015.0         606\n",
      "14           2016.0         502\n"
     ]
    },
    {
     "data": {
      "image/png": "[encoded data removed]",
      "text/plain": [
       "<Figure size 1200x600 with 1 Axes>"
      ]
     },
     "metadata": {},
     "output_type": "display_data"
    }
   ],
   "source": [
    "games_per_year = games['year_of_release'].value_counts().reset_index()\n",
    "games_per_year.columns = ['year_of_release', 'game_count']\n",
    "games_per_year = games_per_year.sort_values(by='year_of_release', ascending=True)\n",
    "\n",
    "print(games_per_year)\n",
    "\n",
    "import matplotlib.pyplot as plt\n",
    "\n",
    "import matplotlib.pyplot as plt\n",
    "\n",
    "plt.figure(figsize=(12,6))\n",
    "plt.bar(games_per_year[\"year_of_release\"], games_per_year[\"game_count\"], color=\"skyblue\")\n",
    "plt.xlabel(\"Year of Release\")\n",
    "plt.ylabel(\"Number of Games Released\")\n",
    "plt.title(\"Games Released per Year\")\n",
    "plt.xticks(rotation=45)\n",
    "plt.grid(axis=\"y\", linestyle=\"--\", alpha=0.7)\n",
    "\n",
    "plt.tight_layout()\n",
    "plt.show()\n"
   ]
  },
  {
   "cell_type": "markdown",
   "metadata": {},
   "source": [
    "ps2 was clearly the platform with the most overall game sales. "
   ]
  },
  {
   "cell_type": "code",
   "execution_count": null,
   "metadata": {
    "trusted": true
   },
   "outputs": [
    {
     "name": "stdout",
     "output_type": "stream",
     "text": [
      "   platform  total_sales\n",
      "16      ps2      1255.77\n",
      "28     x360       971.42\n",
      "17      ps3       939.65\n",
      "25      wii       907.51\n",
      "4        ds       806.12\n",
      "15       ps       730.86\n",
      "6       gba       317.85\n",
      "18      ps4       314.14\n",
      "19      psp       294.05\n",
      "13       pc       259.52\n",
      "2       3ds       259.00\n",
      "29       xb       257.74\n",
      "5        gb       255.46\n",
      "11      nes       251.05\n",
      "10      n64       218.68\n",
      "23     snes       200.04\n",
      "7        gc       198.93\n",
      "30     xone       159.32\n",
      "0      2600        96.98\n",
      "26     wiiu        82.19\n",
      "20      psv        54.07\n",
      "21      sat        33.59\n",
      "8       gen        30.77\n",
      "3        dc        15.95\n",
      "22      scd         1.86\n",
      "12       ng         1.44\n",
      "27       ws         1.42\n",
      "24     tg16         0.16\n",
      "1       3do         0.10\n",
      "9        gg         0.04\n",
      "14     pcfx         0.03\n"
     ]
    }
   ],
   "source": [
    "platform_sales = games.groupby('platform')['total_sales'].sum().reset_index()\n",
    "platform_sales = platform_sales.sort_values(by='total_sales', ascending=False)\n",
    "\n",
    "print(platform_sales)"
   ]
  },
  {
   "cell_type": "markdown",
   "metadata": {},
   "source": [
    "We can see from the chart below that 2004 was the most lucrative year for ps2 games. "
   ]
  },
  {
   "cell_type": "code",
   "execution_count": null,
   "metadata": {
    "trusted": true
   },
   "outputs": [
    {
     "data": {
      "image/png": "[encoded data removed]",
      "text/plain": [
       "<Figure size 1200x600 with 1 Axes>"
      ]
     },
     "metadata": {},
     "output_type": "display_data"
    }
   ],
   "source": [
    "import matplotlib.pyplot as plt\n",
    "\n",
    "ps2_games = games[games['platform'].str.lower() == 'ps2']\n",
    "\n",
    "ps2_sales_per_year = ps2_games.groupby('year_of_release')['total_sales'].sum().reset_index()\n",
    "\n",
    "plt.figure(figsize=(12, 6))\n",
    "plt.bar(ps2_sales_per_year['year_of_release'], ps2_sales_per_year['total_sales'], width=1.5, edgecolor='black', alpha=0.7)\n",
    "\n",
    "plt.xlabel('Year of Release')\n",
    "plt.ylabel('Total Sales (millions)')\n",
    "plt.title('Total Sales Distribution Per Year for PS2 Games')\n",
    "plt.xticks(rotation=45)\n",
    "plt.grid(axis='y', linestyle='--', alpha=0.7)\n",
    "\n",
    "plt.show()"
   ]
  },
  {
   "cell_type": "code",
   "execution_count": null,
   "metadata": {
    "trusted": true
   },
   "outputs": [
    {
     "name": "stdout",
     "output_type": "stream",
     "text": [
      "    platform  year_of_release  total_sales\n",
      "0       2600           1980.0        11.38\n",
      "1       2600           1981.0        35.68\n",
      "2       2600           1982.0        28.88\n",
      "3       2600           1983.0         5.84\n",
      "4       2600           1984.0         0.27\n",
      "..       ...              ...          ...\n",
      "233       xb           2008.0         0.18\n",
      "234     xone           2013.0        18.96\n",
      "235     xone           2014.0        54.07\n",
      "236     xone           2015.0        60.14\n",
      "237     xone           2016.0        26.15\n",
      "\n",
      "[238 rows x 3 columns]\n"
     ]
    }
   ],
   "source": [
    "grouped_sales = games.groupby(['platform', 'year_of_release'])['total_sales'].sum().reset_index()\n",
    "\n",
    "print(grouped_sales)"
   ]
  },
  {
   "cell_type": "code",
   "execution_count": null,
   "metadata": {
    "trusted": true
   },
   "outputs": [
    {
     "data": {
      "text/html": [
       "<div>\n",
       "<style scoped>\n",
       "    .dataframe tbody tr th:only-of-type {\n",
       "        vertical-align: middle;\n",
       "    }\n",
       "\n",
       "    .dataframe tbody tr th {\n",
       "        vertical-align: top;\n",
       "    }\n",
       "\n",
       "    .dataframe thead th {\n",
       "        text-align: right;\n",
       "    }\n",
       "</style>\n",
       "<table border=\"1\" class=\"dataframe\">\n",
       "  <thead>\n",
       "    <tr style=\"text-align: right;\">\n",
       "      <th>year_of_release</th>\n",
       "      <th>1980.0</th>\n",
       "      <th>1981.0</th>\n",
       "      <th>1982.0</th>\n",
       "      <th>1983.0</th>\n",
       "      <th>1984.0</th>\n",
       "      <th>1985.0</th>\n",
       "      <th>1986.0</th>\n",
       "      <th>1987.0</th>\n",
       "      <th>1988.0</th>\n",
       "      <th>1989.0</th>\n",
       "      <th>1990.0</th>\n",
       "      <th>1991.0</th>\n",
       "      <th>1992.0</th>\n",
       "      <th>1993.0</th>\n",
       "      <th>1994.0</th>\n",
       "      <th>1995.0</th>\n",
       "      <th>1996.0</th>\n",
       "      <th>1997.0</th>\n",
       "      <th>1998.0</th>\n",
       "      <th>1999.0</th>\n",
       "      <th>2000.0</th>\n",
       "      <th>2001.0</th>\n",
       "      <th>2002.0</th>\n",
       "      <th>2003.0</th>\n",
       "      <th>2004.0</th>\n",
       "      <th>2005.0</th>\n",
       "      <th>2006.0</th>\n",
       "      <th>2007.0</th>\n",
       "      <th>2008.0</th>\n",
       "      <th>2009.0</th>\n",
       "      <th>2010.0</th>\n",
       "      <th>2011.0</th>\n",
       "      <th>2012.0</th>\n",
       "      <th>2013.0</th>\n",
       "      <th>2014.0</th>\n",
       "      <th>2015.0</th>\n",
       "      <th>2016.0</th>\n",
       "    </tr>\n",
       "    <tr>\n",
       "      <th>platform</th>\n",
       "      <th></th>\n",
       "      <th></th>\n",
       "      <th></th>\n",
       "      <th></th>\n",
       "      <th></th>\n",
       "      <th></th>\n",
       "      <th></th>\n",
       "      <th></th>\n",
       "      <th></th>\n",
       "      <th></th>\n",
       "      <th></th>\n",
       "      <th></th>\n",
       "      <th></th>\n",
       "      <th></th>\n",
       "      <th></th>\n",
       "      <th></th>\n",
       "      <th></th>\n",
       "      <th></th>\n",
       "      <th></th>\n",
       "      <th></th>\n",
       "      <th></th>\n",
       "      <th></th>\n",
       "      <th></th>\n",
       "      <th></th>\n",
       "      <th></th>\n",
       "      <th></th>\n",
       "      <th></th>\n",
       "      <th></th>\n",
       "      <th></th>\n",
       "      <th></th>\n",
       "      <th></th>\n",
       "      <th></th>\n",
       "      <th></th>\n",
       "      <th></th>\n",
       "      <th></th>\n",
       "      <th></th>\n",
       "      <th></th>\n",
       "    </tr>\n",
       "  </thead>\n",
       "  <tbody>\n",
       "    <tr>\n",
       "      <th>2600</th>\n",
       "      <td>11.38</td>\n",
       "      <td>35.68</td>\n",
       "      <td>28.88</td>\n",
       "      <td>5.84</td>\n",
       "      <td>0.27</td>\n",
       "      <td>0.45</td>\n",
       "      <td>0.67</td>\n",
       "      <td>1.94</td>\n",
       "      <td>0.74</td>\n",
       "      <td>0.63</td>\n",
       "      <td>NaN</td>\n",
       "      <td>NaN</td>\n",
       "      <td>NaN</td>\n",
       "      <td>NaN</td>\n",
       "      <td>NaN</td>\n",
       "      <td>NaN</td>\n",
       "      <td>NaN</td>\n",
       "      <td>NaN</td>\n",
       "      <td>NaN</td>\n",
       "      <td>NaN</td>\n",
       "      <td>NaN</td>\n",
       "      <td>NaN</td>\n",
       "      <td>NaN</td>\n",
       "      <td>NaN</td>\n",
       "      <td>NaN</td>\n",
       "      <td>NaN</td>\n",
       "      <td>NaN</td>\n",
       "      <td>NaN</td>\n",
       "      <td>NaN</td>\n",
       "      <td>NaN</td>\n",
       "      <td>NaN</td>\n",
       "      <td>NaN</td>\n",
       "      <td>NaN</td>\n",
       "      <td>NaN</td>\n",
       "      <td>NaN</td>\n",
       "      <td>NaN</td>\n",
       "      <td>NaN</td>\n",
       "    </tr>\n",
       "    <tr>\n",
       "      <th>3do</th>\n",
       "      <td>NaN</td>\n",
       "      <td>NaN</td>\n",
       "      <td>NaN</td>\n",
       "      <td>NaN</td>\n",
       "      <td>NaN</td>\n",
       "      <td>NaN</td>\n",
       "      <td>NaN</td>\n",
       "      <td>NaN</td>\n",
       "      <td>NaN</td>\n",
       "      <td>NaN</td>\n",
       "      <td>NaN</td>\n",
       "      <td>NaN</td>\n",
       "      <td>NaN</td>\n",
       "      <td>NaN</td>\n",
       "      <td>0.02</td>\n",
       "      <td>0.08</td>\n",
       "      <td>NaN</td>\n",
       "      <td>NaN</td>\n",
       "      <td>NaN</td>\n",
       "      <td>NaN</td>\n",
       "      <td>NaN</td>\n",
       "      <td>NaN</td>\n",
       "      <td>NaN</td>\n",
       "      <td>NaN</td>\n",
       "      <td>NaN</td>\n",
       "      <td>NaN</td>\n",
       "      <td>NaN</td>\n",
       "      <td>NaN</td>\n",
       "      <td>NaN</td>\n",
       "      <td>NaN</td>\n",
       "      <td>NaN</td>\n",
       "      <td>NaN</td>\n",
       "      <td>NaN</td>\n",
       "      <td>NaN</td>\n",
       "      <td>NaN</td>\n",
       "      <td>NaN</td>\n",
       "      <td>NaN</td>\n",
       "    </tr>\n",
       "    <tr>\n",
       "      <th>3ds</th>\n",
       "      <td>NaN</td>\n",
       "      <td>NaN</td>\n",
       "      <td>NaN</td>\n",
       "      <td>NaN</td>\n",
       "      <td>NaN</td>\n",
       "      <td>NaN</td>\n",
       "      <td>NaN</td>\n",
       "      <td>NaN</td>\n",
       "      <td>NaN</td>\n",
       "      <td>NaN</td>\n",
       "      <td>NaN</td>\n",
       "      <td>NaN</td>\n",
       "      <td>NaN</td>\n",
       "      <td>NaN</td>\n",
       "      <td>NaN</td>\n",
       "      <td>NaN</td>\n",
       "      <td>NaN</td>\n",
       "      <td>NaN</td>\n",
       "      <td>NaN</td>\n",
       "      <td>NaN</td>\n",
       "      <td>NaN</td>\n",
       "      <td>NaN</td>\n",
       "      <td>NaN</td>\n",
       "      <td>NaN</td>\n",
       "      <td>NaN</td>\n",
       "      <td>NaN</td>\n",
       "      <td>NaN</td>\n",
       "      <td>NaN</td>\n",
       "      <td>NaN</td>\n",
       "      <td>NaN</td>\n",
       "      <td>NaN</td>\n",
       "      <td>63.20</td>\n",
       "      <td>51.36</td>\n",
       "      <td>56.57</td>\n",
       "      <td>43.76</td>\n",
       "      <td>27.78</td>\n",
       "      <td>15.14</td>\n",
       "    </tr>\n",
       "    <tr>\n",
       "      <th>dc</th>\n",
       "      <td>NaN</td>\n",
       "      <td>NaN</td>\n",
       "      <td>NaN</td>\n",
       "      <td>NaN</td>\n",
       "      <td>NaN</td>\n",
       "      <td>NaN</td>\n",
       "      <td>NaN</td>\n",
       "      <td>NaN</td>\n",
       "      <td>NaN</td>\n",
       "      <td>NaN</td>\n",
       "      <td>NaN</td>\n",
       "      <td>NaN</td>\n",
       "      <td>NaN</td>\n",
       "      <td>NaN</td>\n",
       "      <td>NaN</td>\n",
       "      <td>NaN</td>\n",
       "      <td>NaN</td>\n",
       "      <td>NaN</td>\n",
       "      <td>3.38</td>\n",
       "      <td>5.16</td>\n",
       "      <td>5.99</td>\n",
       "      <td>1.07</td>\n",
       "      <td>0.29</td>\n",
       "      <td>NaN</td>\n",
       "      <td>NaN</td>\n",
       "      <td>NaN</td>\n",
       "      <td>NaN</td>\n",
       "      <td>0.02</td>\n",
       "      <td>0.04</td>\n",
       "      <td>NaN</td>\n",
       "      <td>NaN</td>\n",
       "      <td>NaN</td>\n",
       "      <td>NaN</td>\n",
       "      <td>NaN</td>\n",
       "      <td>NaN</td>\n",
       "      <td>NaN</td>\n",
       "      <td>NaN</td>\n",
       "    </tr>\n",
       "    <tr>\n",
       "      <th>ds</th>\n",
       "      <td>NaN</td>\n",
       "      <td>NaN</td>\n",
       "      <td>NaN</td>\n",
       "      <td>NaN</td>\n",
       "      <td>NaN</td>\n",
       "      <td>0.02</td>\n",
       "      <td>NaN</td>\n",
       "      <td>NaN</td>\n",
       "      <td>NaN</td>\n",
       "      <td>NaN</td>\n",
       "      <td>NaN</td>\n",
       "      <td>NaN</td>\n",
       "      <td>NaN</td>\n",
       "      <td>NaN</td>\n",
       "      <td>NaN</td>\n",
       "      <td>NaN</td>\n",
       "      <td>NaN</td>\n",
       "      <td>NaN</td>\n",
       "      <td>NaN</td>\n",
       "      <td>NaN</td>\n",
       "      <td>NaN</td>\n",
       "      <td>NaN</td>\n",
       "      <td>NaN</td>\n",
       "      <td>NaN</td>\n",
       "      <td>17.27</td>\n",
       "      <td>130.14</td>\n",
       "      <td>119.81</td>\n",
       "      <td>146.94</td>\n",
       "      <td>145.31</td>\n",
       "      <td>119.54</td>\n",
       "      <td>85.02</td>\n",
       "      <td>26.18</td>\n",
       "      <td>11.01</td>\n",
       "      <td>1.54</td>\n",
       "      <td>NaN</td>\n",
       "      <td>NaN</td>\n",
       "      <td>NaN</td>\n",
       "    </tr>\n",
       "    <tr>\n",
       "      <th>gb</th>\n",
       "      <td>NaN</td>\n",
       "      <td>NaN</td>\n",
       "      <td>NaN</td>\n",
       "      <td>NaN</td>\n",
       "      <td>NaN</td>\n",
       "      <td>NaN</td>\n",
       "      <td>NaN</td>\n",
       "      <td>NaN</td>\n",
       "      <td>1.43</td>\n",
       "      <td>64.97</td>\n",
       "      <td>4.89</td>\n",
       "      <td>5.57</td>\n",
       "      <td>25.49</td>\n",
       "      <td>NaN</td>\n",
       "      <td>12.18</td>\n",
       "      <td>3.60</td>\n",
       "      <td>36.03</td>\n",
       "      <td>6.37</td>\n",
       "      <td>26.90</td>\n",
       "      <td>38.00</td>\n",
       "      <td>19.76</td>\n",
       "      <td>9.24</td>\n",
       "      <td>NaN</td>\n",
       "      <td>NaN</td>\n",
       "      <td>NaN</td>\n",
       "      <td>NaN</td>\n",
       "      <td>NaN</td>\n",
       "      <td>NaN</td>\n",
       "      <td>NaN</td>\n",
       "      <td>NaN</td>\n",
       "      <td>NaN</td>\n",
       "      <td>NaN</td>\n",
       "      <td>NaN</td>\n",
       "      <td>NaN</td>\n",
       "      <td>NaN</td>\n",
       "      <td>NaN</td>\n",
       "      <td>NaN</td>\n",
       "    </tr>\n",
       "    <tr>\n",
       "      <th>gba</th>\n",
       "      <td>NaN</td>\n",
       "      <td>NaN</td>\n",
       "      <td>NaN</td>\n",
       "      <td>NaN</td>\n",
       "      <td>NaN</td>\n",
       "      <td>NaN</td>\n",
       "      <td>NaN</td>\n",
       "      <td>NaN</td>\n",
       "      <td>NaN</td>\n",
       "      <td>NaN</td>\n",
       "      <td>NaN</td>\n",
       "      <td>NaN</td>\n",
       "      <td>NaN</td>\n",
       "      <td>NaN</td>\n",
       "      <td>NaN</td>\n",
       "      <td>NaN</td>\n",
       "      <td>NaN</td>\n",
       "      <td>NaN</td>\n",
       "      <td>NaN</td>\n",
       "      <td>NaN</td>\n",
       "      <td>0.07</td>\n",
       "      <td>61.53</td>\n",
       "      <td>74.16</td>\n",
       "      <td>56.67</td>\n",
       "      <td>77.91</td>\n",
       "      <td>33.86</td>\n",
       "      <td>5.28</td>\n",
       "      <td>3.40</td>\n",
       "      <td>NaN</td>\n",
       "      <td>NaN</td>\n",
       "      <td>NaN</td>\n",
       "      <td>NaN</td>\n",
       "      <td>NaN</td>\n",
       "      <td>NaN</td>\n",
       "      <td>NaN</td>\n",
       "      <td>NaN</td>\n",
       "      <td>NaN</td>\n",
       "    </tr>\n",
       "    <tr>\n",
       "      <th>gc</th>\n",
       "      <td>NaN</td>\n",
       "      <td>NaN</td>\n",
       "      <td>NaN</td>\n",
       "      <td>NaN</td>\n",
       "      <td>NaN</td>\n",
       "      <td>NaN</td>\n",
       "      <td>NaN</td>\n",
       "      <td>NaN</td>\n",
       "      <td>NaN</td>\n",
       "      <td>NaN</td>\n",
       "      <td>NaN</td>\n",
       "      <td>NaN</td>\n",
       "      <td>NaN</td>\n",
       "      <td>NaN</td>\n",
       "      <td>NaN</td>\n",
       "      <td>NaN</td>\n",
       "      <td>NaN</td>\n",
       "      <td>NaN</td>\n",
       "      <td>NaN</td>\n",
       "      <td>NaN</td>\n",
       "      <td>NaN</td>\n",
       "      <td>26.34</td>\n",
       "      <td>51.81</td>\n",
       "      <td>50.61</td>\n",
       "      <td>28.82</td>\n",
       "      <td>27.62</td>\n",
       "      <td>11.26</td>\n",
       "      <td>0.27</td>\n",
       "      <td>NaN</td>\n",
       "      <td>NaN</td>\n",
       "      <td>NaN</td>\n",
       "      <td>NaN</td>\n",
       "      <td>NaN</td>\n",
       "      <td>NaN</td>\n",
       "      <td>NaN</td>\n",
       "      <td>NaN</td>\n",
       "      <td>NaN</td>\n",
       "    </tr>\n",
       "    <tr>\n",
       "      <th>gen</th>\n",
       "      <td>NaN</td>\n",
       "      <td>NaN</td>\n",
       "      <td>NaN</td>\n",
       "      <td>NaN</td>\n",
       "      <td>NaN</td>\n",
       "      <td>NaN</td>\n",
       "      <td>NaN</td>\n",
       "      <td>NaN</td>\n",
       "      <td>NaN</td>\n",
       "      <td>NaN</td>\n",
       "      <td>2.60</td>\n",
       "      <td>4.33</td>\n",
       "      <td>12.64</td>\n",
       "      <td>3.07</td>\n",
       "      <td>8.13</td>\n",
       "      <td>NaN</td>\n",
       "      <td>NaN</td>\n",
       "      <td>NaN</td>\n",
       "      <td>NaN</td>\n",
       "      <td>NaN</td>\n",
       "      <td>NaN</td>\n",
       "      <td>NaN</td>\n",
       "      <td>NaN</td>\n",
       "      <td>NaN</td>\n",
       "      <td>NaN</td>\n",
       "      <td>NaN</td>\n",
       "      <td>NaN</td>\n",
       "      <td>NaN</td>\n",
       "      <td>NaN</td>\n",
       "      <td>NaN</td>\n",
       "      <td>NaN</td>\n",
       "      <td>NaN</td>\n",
       "      <td>NaN</td>\n",
       "      <td>NaN</td>\n",
       "      <td>NaN</td>\n",
       "      <td>NaN</td>\n",
       "      <td>NaN</td>\n",
       "    </tr>\n",
       "    <tr>\n",
       "      <th>gg</th>\n",
       "      <td>NaN</td>\n",
       "      <td>NaN</td>\n",
       "      <td>NaN</td>\n",
       "      <td>NaN</td>\n",
       "      <td>NaN</td>\n",
       "      <td>NaN</td>\n",
       "      <td>NaN</td>\n",
       "      <td>NaN</td>\n",
       "      <td>NaN</td>\n",
       "      <td>NaN</td>\n",
       "      <td>NaN</td>\n",
       "      <td>NaN</td>\n",
       "      <td>0.04</td>\n",
       "      <td>NaN</td>\n",
       "      <td>NaN</td>\n",
       "      <td>NaN</td>\n",
       "      <td>NaN</td>\n",
       "      <td>NaN</td>\n",
       "      <td>NaN</td>\n",
       "      <td>NaN</td>\n",
       "      <td>NaN</td>\n",
       "      <td>NaN</td>\n",
       "      <td>NaN</td>\n",
       "      <td>NaN</td>\n",
       "      <td>NaN</td>\n",
       "      <td>NaN</td>\n",
       "      <td>NaN</td>\n",
       "      <td>NaN</td>\n",
       "      <td>NaN</td>\n",
       "      <td>NaN</td>\n",
       "      <td>NaN</td>\n",
       "      <td>NaN</td>\n",
       "      <td>NaN</td>\n",
       "      <td>NaN</td>\n",
       "      <td>NaN</td>\n",
       "      <td>NaN</td>\n",
       "      <td>NaN</td>\n",
       "    </tr>\n",
       "    <tr>\n",
       "      <th>n64</th>\n",
       "      <td>NaN</td>\n",
       "      <td>NaN</td>\n",
       "      <td>NaN</td>\n",
       "      <td>NaN</td>\n",
       "      <td>NaN</td>\n",
       "      <td>NaN</td>\n",
       "      <td>NaN</td>\n",
       "      <td>NaN</td>\n",
       "      <td>NaN</td>\n",
       "      <td>NaN</td>\n",
       "      <td>NaN</td>\n",
       "      <td>NaN</td>\n",
       "      <td>NaN</td>\n",
       "      <td>NaN</td>\n",
       "      <td>NaN</td>\n",
       "      <td>NaN</td>\n",
       "      <td>34.10</td>\n",
       "      <td>39.50</td>\n",
       "      <td>49.24</td>\n",
       "      <td>57.87</td>\n",
       "      <td>33.97</td>\n",
       "      <td>3.25</td>\n",
       "      <td>0.08</td>\n",
       "      <td>NaN</td>\n",
       "      <td>NaN</td>\n",
       "      <td>NaN</td>\n",
       "      <td>NaN</td>\n",
       "      <td>NaN</td>\n",
       "      <td>NaN</td>\n",
       "      <td>NaN</td>\n",
       "      <td>NaN</td>\n",
       "      <td>NaN</td>\n",
       "      <td>NaN</td>\n",
       "      <td>NaN</td>\n",
       "      <td>NaN</td>\n",
       "      <td>NaN</td>\n",
       "      <td>NaN</td>\n",
       "    </tr>\n",
       "    <tr>\n",
       "      <th>nes</th>\n",
       "      <td>NaN</td>\n",
       "      <td>NaN</td>\n",
       "      <td>NaN</td>\n",
       "      <td>10.96</td>\n",
       "      <td>50.08</td>\n",
       "      <td>53.44</td>\n",
       "      <td>36.41</td>\n",
       "      <td>19.76</td>\n",
       "      <td>45.01</td>\n",
       "      <td>7.85</td>\n",
       "      <td>15.73</td>\n",
       "      <td>6.11</td>\n",
       "      <td>1.98</td>\n",
       "      <td>3.61</td>\n",
       "      <td>0.11</td>\n",
       "      <td>NaN</td>\n",
       "      <td>NaN</td>\n",
       "      <td>NaN</td>\n",
       "      <td>NaN</td>\n",
       "      <td>NaN</td>\n",
       "      <td>NaN</td>\n",
       "      <td>NaN</td>\n",
       "      <td>NaN</td>\n",
       "      <td>NaN</td>\n",
       "      <td>NaN</td>\n",
       "      <td>NaN</td>\n",
       "      <td>NaN</td>\n",
       "      <td>NaN</td>\n",
       "      <td>NaN</td>\n",
       "      <td>NaN</td>\n",
       "      <td>NaN</td>\n",
       "      <td>NaN</td>\n",
       "      <td>NaN</td>\n",
       "      <td>NaN</td>\n",
       "      <td>NaN</td>\n",
       "      <td>NaN</td>\n",
       "      <td>NaN</td>\n",
       "    </tr>\n",
       "    <tr>\n",
       "      <th>ng</th>\n",
       "      <td>NaN</td>\n",
       "      <td>NaN</td>\n",
       "      <td>NaN</td>\n",
       "      <td>NaN</td>\n",
       "      <td>NaN</td>\n",
       "      <td>NaN</td>\n",
       "      <td>NaN</td>\n",
       "      <td>NaN</td>\n",
       "      <td>NaN</td>\n",
       "      <td>NaN</td>\n",
       "      <td>NaN</td>\n",
       "      <td>NaN</td>\n",
       "      <td>NaN</td>\n",
       "      <td>0.21</td>\n",
       "      <td>0.80</td>\n",
       "      <td>0.33</td>\n",
       "      <td>0.10</td>\n",
       "      <td>NaN</td>\n",
       "      <td>NaN</td>\n",
       "      <td>NaN</td>\n",
       "      <td>NaN</td>\n",
       "      <td>NaN</td>\n",
       "      <td>NaN</td>\n",
       "      <td>NaN</td>\n",
       "      <td>NaN</td>\n",
       "      <td>NaN</td>\n",
       "      <td>NaN</td>\n",
       "      <td>NaN</td>\n",
       "      <td>NaN</td>\n",
       "      <td>NaN</td>\n",
       "      <td>NaN</td>\n",
       "      <td>NaN</td>\n",
       "      <td>NaN</td>\n",
       "      <td>NaN</td>\n",
       "      <td>NaN</td>\n",
       "      <td>NaN</td>\n",
       "      <td>NaN</td>\n",
       "    </tr>\n",
       "    <tr>\n",
       "      <th>pc</th>\n",
       "      <td>NaN</td>\n",
       "      <td>NaN</td>\n",
       "      <td>NaN</td>\n",
       "      <td>NaN</td>\n",
       "      <td>NaN</td>\n",
       "      <td>0.04</td>\n",
       "      <td>NaN</td>\n",
       "      <td>NaN</td>\n",
       "      <td>0.03</td>\n",
       "      <td>NaN</td>\n",
       "      <td>NaN</td>\n",
       "      <td>NaN</td>\n",
       "      <td>3.03</td>\n",
       "      <td>NaN</td>\n",
       "      <td>12.87</td>\n",
       "      <td>4.22</td>\n",
       "      <td>10.58</td>\n",
       "      <td>11.27</td>\n",
       "      <td>3.26</td>\n",
       "      <td>4.74</td>\n",
       "      <td>4.66</td>\n",
       "      <td>5.47</td>\n",
       "      <td>8.57</td>\n",
       "      <td>8.84</td>\n",
       "      <td>10.39</td>\n",
       "      <td>4.37</td>\n",
       "      <td>2.85</td>\n",
       "      <td>9.28</td>\n",
       "      <td>12.42</td>\n",
       "      <td>16.91</td>\n",
       "      <td>24.28</td>\n",
       "      <td>35.03</td>\n",
       "      <td>23.22</td>\n",
       "      <td>12.38</td>\n",
       "      <td>13.28</td>\n",
       "      <td>8.52</td>\n",
       "      <td>5.25</td>\n",
       "    </tr>\n",
       "    <tr>\n",
       "      <th>pcfx</th>\n",
       "      <td>NaN</td>\n",
       "      <td>NaN</td>\n",
       "      <td>NaN</td>\n",
       "      <td>NaN</td>\n",
       "      <td>NaN</td>\n",
       "      <td>NaN</td>\n",
       "      <td>NaN</td>\n",
       "      <td>NaN</td>\n",
       "      <td>NaN</td>\n",
       "      <td>NaN</td>\n",
       "      <td>NaN</td>\n",
       "      <td>NaN</td>\n",
       "      <td>NaN</td>\n",
       "      <td>NaN</td>\n",
       "      <td>NaN</td>\n",
       "      <td>NaN</td>\n",
       "      <td>0.03</td>\n",
       "      <td>NaN</td>\n",
       "      <td>NaN</td>\n",
       "      <td>NaN</td>\n",
       "      <td>NaN</td>\n",
       "      <td>NaN</td>\n",
       "      <td>NaN</td>\n",
       "      <td>NaN</td>\n",
       "      <td>NaN</td>\n",
       "      <td>NaN</td>\n",
       "      <td>NaN</td>\n",
       "      <td>NaN</td>\n",
       "      <td>NaN</td>\n",
       "      <td>NaN</td>\n",
       "      <td>NaN</td>\n",
       "      <td>NaN</td>\n",
       "      <td>NaN</td>\n",
       "      <td>NaN</td>\n",
       "      <td>NaN</td>\n",
       "      <td>NaN</td>\n",
       "      <td>NaN</td>\n",
       "    </tr>\n",
       "    <tr>\n",
       "      <th>ps</th>\n",
       "      <td>NaN</td>\n",
       "      <td>NaN</td>\n",
       "      <td>NaN</td>\n",
       "      <td>NaN</td>\n",
       "      <td>NaN</td>\n",
       "      <td>NaN</td>\n",
       "      <td>NaN</td>\n",
       "      <td>NaN</td>\n",
       "      <td>NaN</td>\n",
       "      <td>NaN</td>\n",
       "      <td>NaN</td>\n",
       "      <td>NaN</td>\n",
       "      <td>NaN</td>\n",
       "      <td>NaN</td>\n",
       "      <td>6.03</td>\n",
       "      <td>35.96</td>\n",
       "      <td>94.70</td>\n",
       "      <td>136.17</td>\n",
       "      <td>169.49</td>\n",
       "      <td>144.53</td>\n",
       "      <td>96.37</td>\n",
       "      <td>35.59</td>\n",
       "      <td>6.67</td>\n",
       "      <td>2.07</td>\n",
       "      <td>NaN</td>\n",
       "      <td>NaN</td>\n",
       "      <td>NaN</td>\n",
       "      <td>NaN</td>\n",
       "      <td>NaN</td>\n",
       "      <td>NaN</td>\n",
       "      <td>NaN</td>\n",
       "      <td>NaN</td>\n",
       "      <td>NaN</td>\n",
       "      <td>NaN</td>\n",
       "      <td>NaN</td>\n",
       "      <td>NaN</td>\n",
       "      <td>NaN</td>\n",
       "    </tr>\n",
       "    <tr>\n",
       "      <th>ps2</th>\n",
       "      <td>NaN</td>\n",
       "      <td>NaN</td>\n",
       "      <td>NaN</td>\n",
       "      <td>NaN</td>\n",
       "      <td>NaN</td>\n",
       "      <td>NaN</td>\n",
       "      <td>NaN</td>\n",
       "      <td>NaN</td>\n",
       "      <td>NaN</td>\n",
       "      <td>NaN</td>\n",
       "      <td>NaN</td>\n",
       "      <td>NaN</td>\n",
       "      <td>NaN</td>\n",
       "      <td>NaN</td>\n",
       "      <td>NaN</td>\n",
       "      <td>NaN</td>\n",
       "      <td>NaN</td>\n",
       "      <td>NaN</td>\n",
       "      <td>NaN</td>\n",
       "      <td>NaN</td>\n",
       "      <td>39.17</td>\n",
       "      <td>166.43</td>\n",
       "      <td>205.38</td>\n",
       "      <td>184.31</td>\n",
       "      <td>211.81</td>\n",
       "      <td>160.66</td>\n",
       "      <td>103.42</td>\n",
       "      <td>75.99</td>\n",
       "      <td>53.90</td>\n",
       "      <td>26.40</td>\n",
       "      <td>5.64</td>\n",
       "      <td>0.45</td>\n",
       "      <td>NaN</td>\n",
       "      <td>NaN</td>\n",
       "      <td>NaN</td>\n",
       "      <td>NaN</td>\n",
       "      <td>NaN</td>\n",
       "    </tr>\n",
       "    <tr>\n",
       "      <th>ps3</th>\n",
       "      <td>NaN</td>\n",
       "      <td>NaN</td>\n",
       "      <td>NaN</td>\n",
       "      <td>NaN</td>\n",
       "      <td>NaN</td>\n",
       "      <td>NaN</td>\n",
       "      <td>NaN</td>\n",
       "      <td>NaN</td>\n",
       "      <td>NaN</td>\n",
       "      <td>NaN</td>\n",
       "      <td>NaN</td>\n",
       "      <td>NaN</td>\n",
       "      <td>NaN</td>\n",
       "      <td>NaN</td>\n",
       "      <td>NaN</td>\n",
       "      <td>NaN</td>\n",
       "      <td>NaN</td>\n",
       "      <td>NaN</td>\n",
       "      <td>NaN</td>\n",
       "      <td>NaN</td>\n",
       "      <td>NaN</td>\n",
       "      <td>NaN</td>\n",
       "      <td>NaN</td>\n",
       "      <td>NaN</td>\n",
       "      <td>NaN</td>\n",
       "      <td>NaN</td>\n",
       "      <td>20.96</td>\n",
       "      <td>73.19</td>\n",
       "      <td>118.52</td>\n",
       "      <td>130.93</td>\n",
       "      <td>142.17</td>\n",
       "      <td>156.78</td>\n",
       "      <td>107.36</td>\n",
       "      <td>113.25</td>\n",
       "      <td>47.76</td>\n",
       "      <td>16.82</td>\n",
       "      <td>3.60</td>\n",
       "    </tr>\n",
       "    <tr>\n",
       "      <th>ps4</th>\n",
       "      <td>NaN</td>\n",
       "      <td>NaN</td>\n",
       "      <td>NaN</td>\n",
       "      <td>NaN</td>\n",
       "      <td>NaN</td>\n",
       "      <td>NaN</td>\n",
       "      <td>NaN</td>\n",
       "      <td>NaN</td>\n",
       "      <td>NaN</td>\n",
       "      <td>NaN</td>\n",
       "      <td>NaN</td>\n",
       "      <td>NaN</td>\n",
       "      <td>NaN</td>\n",
       "      <td>NaN</td>\n",
       "      <td>NaN</td>\n",
       "      <td>NaN</td>\n",
       "      <td>NaN</td>\n",
       "      <td>NaN</td>\n",
       "      <td>NaN</td>\n",
       "      <td>NaN</td>\n",
       "      <td>NaN</td>\n",
       "      <td>NaN</td>\n",
       "      <td>NaN</td>\n",
       "      <td>NaN</td>\n",
       "      <td>NaN</td>\n",
       "      <td>NaN</td>\n",
       "      <td>NaN</td>\n",
       "      <td>NaN</td>\n",
       "      <td>NaN</td>\n",
       "      <td>NaN</td>\n",
       "      <td>NaN</td>\n",
       "      <td>NaN</td>\n",
       "      <td>NaN</td>\n",
       "      <td>25.99</td>\n",
       "      <td>100.00</td>\n",
       "      <td>118.90</td>\n",
       "      <td>69.25</td>\n",
       "    </tr>\n",
       "    <tr>\n",
       "      <th>psp</th>\n",
       "      <td>NaN</td>\n",
       "      <td>NaN</td>\n",
       "      <td>NaN</td>\n",
       "      <td>NaN</td>\n",
       "      <td>NaN</td>\n",
       "      <td>NaN</td>\n",
       "      <td>NaN</td>\n",
       "      <td>NaN</td>\n",
       "      <td>NaN</td>\n",
       "      <td>NaN</td>\n",
       "      <td>NaN</td>\n",
       "      <td>NaN</td>\n",
       "      <td>NaN</td>\n",
       "      <td>NaN</td>\n",
       "      <td>NaN</td>\n",
       "      <td>NaN</td>\n",
       "      <td>NaN</td>\n",
       "      <td>NaN</td>\n",
       "      <td>NaN</td>\n",
       "      <td>NaN</td>\n",
       "      <td>NaN</td>\n",
       "      <td>NaN</td>\n",
       "      <td>NaN</td>\n",
       "      <td>NaN</td>\n",
       "      <td>7.06</td>\n",
       "      <td>43.84</td>\n",
       "      <td>55.32</td>\n",
       "      <td>46.93</td>\n",
       "      <td>34.55</td>\n",
       "      <td>37.78</td>\n",
       "      <td>35.04</td>\n",
       "      <td>17.82</td>\n",
       "      <td>7.69</td>\n",
       "      <td>3.14</td>\n",
       "      <td>0.24</td>\n",
       "      <td>0.12</td>\n",
       "      <td>NaN</td>\n",
       "    </tr>\n",
       "    <tr>\n",
       "      <th>psv</th>\n",
       "      <td>NaN</td>\n",
       "      <td>NaN</td>\n",
       "      <td>NaN</td>\n",
       "      <td>NaN</td>\n",
       "      <td>NaN</td>\n",
       "      <td>NaN</td>\n",
       "      <td>NaN</td>\n",
       "      <td>NaN</td>\n",
       "      <td>NaN</td>\n",
       "      <td>NaN</td>\n",
       "      <td>NaN</td>\n",
       "      <td>NaN</td>\n",
       "      <td>NaN</td>\n",
       "      <td>NaN</td>\n",
       "      <td>NaN</td>\n",
       "      <td>NaN</td>\n",
       "      <td>NaN</td>\n",
       "      <td>NaN</td>\n",
       "      <td>NaN</td>\n",
       "      <td>NaN</td>\n",
       "      <td>NaN</td>\n",
       "      <td>NaN</td>\n",
       "      <td>NaN</td>\n",
       "      <td>NaN</td>\n",
       "      <td>NaN</td>\n",
       "      <td>NaN</td>\n",
       "      <td>NaN</td>\n",
       "      <td>NaN</td>\n",
       "      <td>NaN</td>\n",
       "      <td>NaN</td>\n",
       "      <td>NaN</td>\n",
       "      <td>4.63</td>\n",
       "      <td>16.19</td>\n",
       "      <td>10.59</td>\n",
       "      <td>11.90</td>\n",
       "      <td>6.25</td>\n",
       "      <td>4.25</td>\n",
       "    </tr>\n",
       "    <tr>\n",
       "      <th>sat</th>\n",
       "      <td>NaN</td>\n",
       "      <td>NaN</td>\n",
       "      <td>NaN</td>\n",
       "      <td>NaN</td>\n",
       "      <td>NaN</td>\n",
       "      <td>NaN</td>\n",
       "      <td>NaN</td>\n",
       "      <td>NaN</td>\n",
       "      <td>NaN</td>\n",
       "      <td>NaN</td>\n",
       "      <td>NaN</td>\n",
       "      <td>NaN</td>\n",
       "      <td>NaN</td>\n",
       "      <td>NaN</td>\n",
       "      <td>3.65</td>\n",
       "      <td>11.57</td>\n",
       "      <td>7.69</td>\n",
       "      <td>6.77</td>\n",
       "      <td>3.82</td>\n",
       "      <td>0.09</td>\n",
       "      <td>NaN</td>\n",
       "      <td>NaN</td>\n",
       "      <td>NaN</td>\n",
       "      <td>NaN</td>\n",
       "      <td>NaN</td>\n",
       "      <td>NaN</td>\n",
       "      <td>NaN</td>\n",
       "      <td>NaN</td>\n",
       "      <td>NaN</td>\n",
       "      <td>NaN</td>\n",
       "      <td>NaN</td>\n",
       "      <td>NaN</td>\n",
       "      <td>NaN</td>\n",
       "      <td>NaN</td>\n",
       "      <td>NaN</td>\n",
       "      <td>NaN</td>\n",
       "      <td>NaN</td>\n",
       "    </tr>\n",
       "    <tr>\n",
       "      <th>scd</th>\n",
       "      <td>NaN</td>\n",
       "      <td>NaN</td>\n",
       "      <td>NaN</td>\n",
       "      <td>NaN</td>\n",
       "      <td>NaN</td>\n",
       "      <td>NaN</td>\n",
       "      <td>NaN</td>\n",
       "      <td>NaN</td>\n",
       "      <td>NaN</td>\n",
       "      <td>NaN</td>\n",
       "      <td>NaN</td>\n",
       "      <td>NaN</td>\n",
       "      <td>NaN</td>\n",
       "      <td>1.50</td>\n",
       "      <td>0.36</td>\n",
       "      <td>NaN</td>\n",
       "      <td>NaN</td>\n",
       "      <td>NaN</td>\n",
       "      <td>NaN</td>\n",
       "      <td>NaN</td>\n",
       "      <td>NaN</td>\n",
       "      <td>NaN</td>\n",
       "      <td>NaN</td>\n",
       "      <td>NaN</td>\n",
       "      <td>NaN</td>\n",
       "      <td>NaN</td>\n",
       "      <td>NaN</td>\n",
       "      <td>NaN</td>\n",
       "      <td>NaN</td>\n",
       "      <td>NaN</td>\n",
       "      <td>NaN</td>\n",
       "      <td>NaN</td>\n",
       "      <td>NaN</td>\n",
       "      <td>NaN</td>\n",
       "      <td>NaN</td>\n",
       "      <td>NaN</td>\n",
       "      <td>NaN</td>\n",
       "    </tr>\n",
       "    <tr>\n",
       "      <th>snes</th>\n",
       "      <td>NaN</td>\n",
       "      <td>NaN</td>\n",
       "      <td>NaN</td>\n",
       "      <td>NaN</td>\n",
       "      <td>NaN</td>\n",
       "      <td>NaN</td>\n",
       "      <td>NaN</td>\n",
       "      <td>NaN</td>\n",
       "      <td>NaN</td>\n",
       "      <td>NaN</td>\n",
       "      <td>26.15</td>\n",
       "      <td>16.22</td>\n",
       "      <td>32.98</td>\n",
       "      <td>40.02</td>\n",
       "      <td>35.08</td>\n",
       "      <td>32.20</td>\n",
       "      <td>15.92</td>\n",
       "      <td>0.99</td>\n",
       "      <td>0.22</td>\n",
       "      <td>0.26</td>\n",
       "      <td>NaN</td>\n",
       "      <td>NaN</td>\n",
       "      <td>NaN</td>\n",
       "      <td>NaN</td>\n",
       "      <td>NaN</td>\n",
       "      <td>NaN</td>\n",
       "      <td>NaN</td>\n",
       "      <td>NaN</td>\n",
       "      <td>NaN</td>\n",
       "      <td>NaN</td>\n",
       "      <td>NaN</td>\n",
       "      <td>NaN</td>\n",
       "      <td>NaN</td>\n",
       "      <td>NaN</td>\n",
       "      <td>NaN</td>\n",
       "      <td>NaN</td>\n",
       "      <td>NaN</td>\n",
       "    </tr>\n",
       "    <tr>\n",
       "      <th>tg16</th>\n",
       "      <td>NaN</td>\n",
       "      <td>NaN</td>\n",
       "      <td>NaN</td>\n",
       "      <td>NaN</td>\n",
       "      <td>NaN</td>\n",
       "      <td>NaN</td>\n",
       "      <td>NaN</td>\n",
       "      <td>NaN</td>\n",
       "      <td>NaN</td>\n",
       "      <td>NaN</td>\n",
       "      <td>NaN</td>\n",
       "      <td>NaN</td>\n",
       "      <td>NaN</td>\n",
       "      <td>NaN</td>\n",
       "      <td>NaN</td>\n",
       "      <td>0.16</td>\n",
       "      <td>NaN</td>\n",
       "      <td>NaN</td>\n",
       "      <td>NaN</td>\n",
       "      <td>NaN</td>\n",
       "      <td>NaN</td>\n",
       "      <td>NaN</td>\n",
       "      <td>NaN</td>\n",
       "      <td>NaN</td>\n",
       "      <td>NaN</td>\n",
       "      <td>NaN</td>\n",
       "      <td>NaN</td>\n",
       "      <td>NaN</td>\n",
       "      <td>NaN</td>\n",
       "      <td>NaN</td>\n",
       "      <td>NaN</td>\n",
       "      <td>NaN</td>\n",
       "      <td>NaN</td>\n",
       "      <td>NaN</td>\n",
       "      <td>NaN</td>\n",
       "      <td>NaN</td>\n",
       "      <td>NaN</td>\n",
       "    </tr>\n",
       "    <tr>\n",
       "      <th>wii</th>\n",
       "      <td>NaN</td>\n",
       "      <td>NaN</td>\n",
       "      <td>NaN</td>\n",
       "      <td>NaN</td>\n",
       "      <td>NaN</td>\n",
       "      <td>NaN</td>\n",
       "      <td>NaN</td>\n",
       "      <td>NaN</td>\n",
       "      <td>NaN</td>\n",
       "      <td>NaN</td>\n",
       "      <td>NaN</td>\n",
       "      <td>NaN</td>\n",
       "      <td>NaN</td>\n",
       "      <td>NaN</td>\n",
       "      <td>NaN</td>\n",
       "      <td>NaN</td>\n",
       "      <td>NaN</td>\n",
       "      <td>NaN</td>\n",
       "      <td>NaN</td>\n",
       "      <td>NaN</td>\n",
       "      <td>NaN</td>\n",
       "      <td>NaN</td>\n",
       "      <td>NaN</td>\n",
       "      <td>NaN</td>\n",
       "      <td>NaN</td>\n",
       "      <td>NaN</td>\n",
       "      <td>137.15</td>\n",
       "      <td>152.77</td>\n",
       "      <td>171.32</td>\n",
       "      <td>206.97</td>\n",
       "      <td>127.95</td>\n",
       "      <td>59.65</td>\n",
       "      <td>21.71</td>\n",
       "      <td>8.59</td>\n",
       "      <td>3.75</td>\n",
       "      <td>1.14</td>\n",
       "      <td>0.18</td>\n",
       "    </tr>\n",
       "    <tr>\n",
       "      <th>wiiu</th>\n",
       "      <td>NaN</td>\n",
       "      <td>NaN</td>\n",
       "      <td>NaN</td>\n",
       "      <td>NaN</td>\n",
       "      <td>NaN</td>\n",
       "      <td>NaN</td>\n",
       "      <td>NaN</td>\n",
       "      <td>NaN</td>\n",
       "      <td>NaN</td>\n",
       "      <td>NaN</td>\n",
       "      <td>NaN</td>\n",
       "      <td>NaN</td>\n",
       "      <td>NaN</td>\n",
       "      <td>NaN</td>\n",
       "      <td>NaN</td>\n",
       "      <td>NaN</td>\n",
       "      <td>NaN</td>\n",
       "      <td>NaN</td>\n",
       "      <td>NaN</td>\n",
       "      <td>NaN</td>\n",
       "      <td>NaN</td>\n",
       "      <td>NaN</td>\n",
       "      <td>NaN</td>\n",
       "      <td>NaN</td>\n",
       "      <td>NaN</td>\n",
       "      <td>NaN</td>\n",
       "      <td>NaN</td>\n",
       "      <td>NaN</td>\n",
       "      <td>NaN</td>\n",
       "      <td>NaN</td>\n",
       "      <td>NaN</td>\n",
       "      <td>NaN</td>\n",
       "      <td>17.56</td>\n",
       "      <td>21.65</td>\n",
       "      <td>22.03</td>\n",
       "      <td>16.35</td>\n",
       "      <td>4.60</td>\n",
       "    </tr>\n",
       "    <tr>\n",
       "      <th>ws</th>\n",
       "      <td>NaN</td>\n",
       "      <td>NaN</td>\n",
       "      <td>NaN</td>\n",
       "      <td>NaN</td>\n",
       "      <td>NaN</td>\n",
       "      <td>NaN</td>\n",
       "      <td>NaN</td>\n",
       "      <td>NaN</td>\n",
       "      <td>NaN</td>\n",
       "      <td>NaN</td>\n",
       "      <td>NaN</td>\n",
       "      <td>NaN</td>\n",
       "      <td>NaN</td>\n",
       "      <td>NaN</td>\n",
       "      <td>NaN</td>\n",
       "      <td>NaN</td>\n",
       "      <td>NaN</td>\n",
       "      <td>NaN</td>\n",
       "      <td>NaN</td>\n",
       "      <td>0.46</td>\n",
       "      <td>0.68</td>\n",
       "      <td>0.28</td>\n",
       "      <td>NaN</td>\n",
       "      <td>NaN</td>\n",
       "      <td>NaN</td>\n",
       "      <td>NaN</td>\n",
       "      <td>NaN</td>\n",
       "      <td>NaN</td>\n",
       "      <td>NaN</td>\n",
       "      <td>NaN</td>\n",
       "      <td>NaN</td>\n",
       "      <td>NaN</td>\n",
       "      <td>NaN</td>\n",
       "      <td>NaN</td>\n",
       "      <td>NaN</td>\n",
       "      <td>NaN</td>\n",
       "      <td>NaN</td>\n",
       "    </tr>\n",
       "    <tr>\n",
       "      <th>x360</th>\n",
       "      <td>NaN</td>\n",
       "      <td>NaN</td>\n",
       "      <td>NaN</td>\n",
       "      <td>NaN</td>\n",
       "      <td>NaN</td>\n",
       "      <td>NaN</td>\n",
       "      <td>NaN</td>\n",
       "      <td>NaN</td>\n",
       "      <td>NaN</td>\n",
       "      <td>NaN</td>\n",
       "      <td>NaN</td>\n",
       "      <td>NaN</td>\n",
       "      <td>NaN</td>\n",
       "      <td>NaN</td>\n",
       "      <td>NaN</td>\n",
       "      <td>NaN</td>\n",
       "      <td>NaN</td>\n",
       "      <td>NaN</td>\n",
       "      <td>NaN</td>\n",
       "      <td>NaN</td>\n",
       "      <td>NaN</td>\n",
       "      <td>NaN</td>\n",
       "      <td>NaN</td>\n",
       "      <td>NaN</td>\n",
       "      <td>NaN</td>\n",
       "      <td>8.25</td>\n",
       "      <td>51.62</td>\n",
       "      <td>95.41</td>\n",
       "      <td>135.26</td>\n",
       "      <td>120.29</td>\n",
       "      <td>170.03</td>\n",
       "      <td>143.84</td>\n",
       "      <td>99.74</td>\n",
       "      <td>88.58</td>\n",
       "      <td>34.74</td>\n",
       "      <td>11.96</td>\n",
       "      <td>1.52</td>\n",
       "    </tr>\n",
       "    <tr>\n",
       "      <th>xb</th>\n",
       "      <td>NaN</td>\n",
       "      <td>NaN</td>\n",
       "      <td>NaN</td>\n",
       "      <td>NaN</td>\n",
       "      <td>NaN</td>\n",
       "      <td>NaN</td>\n",
       "      <td>NaN</td>\n",
       "      <td>NaN</td>\n",
       "      <td>NaN</td>\n",
       "      <td>NaN</td>\n",
       "      <td>NaN</td>\n",
       "      <td>NaN</td>\n",
       "      <td>NaN</td>\n",
       "      <td>NaN</td>\n",
       "      <td>NaN</td>\n",
       "      <td>NaN</td>\n",
       "      <td>NaN</td>\n",
       "      <td>NaN</td>\n",
       "      <td>NaN</td>\n",
       "      <td>NaN</td>\n",
       "      <td>0.99</td>\n",
       "      <td>22.26</td>\n",
       "      <td>48.01</td>\n",
       "      <td>55.04</td>\n",
       "      <td>65.42</td>\n",
       "      <td>49.08</td>\n",
       "      <td>10.04</td>\n",
       "      <td>0.55</td>\n",
       "      <td>0.18</td>\n",
       "      <td>NaN</td>\n",
       "      <td>NaN</td>\n",
       "      <td>NaN</td>\n",
       "      <td>NaN</td>\n",
       "      <td>NaN</td>\n",
       "      <td>NaN</td>\n",
       "      <td>NaN</td>\n",
       "      <td>NaN</td>\n",
       "    </tr>\n",
       "    <tr>\n",
       "      <th>xone</th>\n",
       "      <td>NaN</td>\n",
       "      <td>NaN</td>\n",
       "      <td>NaN</td>\n",
       "      <td>NaN</td>\n",
       "      <td>NaN</td>\n",
       "      <td>NaN</td>\n",
       "      <td>NaN</td>\n",
       "      <td>NaN</td>\n",
       "      <td>NaN</td>\n",
       "      <td>NaN</td>\n",
       "      <td>NaN</td>\n",
       "      <td>NaN</td>\n",
       "      <td>NaN</td>\n",
       "      <td>NaN</td>\n",
       "      <td>NaN</td>\n",
       "      <td>NaN</td>\n",
       "      <td>NaN</td>\n",
       "      <td>NaN</td>\n",
       "      <td>NaN</td>\n",
       "      <td>NaN</td>\n",
       "      <td>NaN</td>\n",
       "      <td>NaN</td>\n",
       "      <td>NaN</td>\n",
       "      <td>NaN</td>\n",
       "      <td>NaN</td>\n",
       "      <td>NaN</td>\n",
       "      <td>NaN</td>\n",
       "      <td>NaN</td>\n",
       "      <td>NaN</td>\n",
       "      <td>NaN</td>\n",
       "      <td>NaN</td>\n",
       "      <td>NaN</td>\n",
       "      <td>NaN</td>\n",
       "      <td>18.96</td>\n",
       "      <td>54.07</td>\n",
       "      <td>60.14</td>\n",
       "      <td>26.15</td>\n",
       "    </tr>\n",
       "  </tbody>\n",
       "</table>\n",
       "</div>"
      ],
      "text/plain": [
       "year_of_release  1980.0  1981.0  1982.0  1983.0  1984.0  1985.0  1986.0  \\\n",
       "platform                                                                  \n",
       "2600              11.38   35.68   28.88    5.84    0.27    0.45    0.67   \n",
       "3do                 NaN     NaN     NaN     NaN     NaN     NaN     NaN   \n",
       "3ds                 NaN     NaN     NaN     NaN     NaN     NaN     NaN   \n",
       "dc                  NaN     NaN     NaN     NaN     NaN     NaN     NaN   \n",
       "ds                  NaN     NaN     NaN     NaN     NaN    0.02     NaN   \n",
       "gb                  NaN     NaN     NaN     NaN     NaN     NaN     NaN   \n",
       "gba                 NaN     NaN     NaN     NaN     NaN     NaN     NaN   \n",
       "gc                  NaN     NaN     NaN     NaN     NaN     NaN     NaN   \n",
       "gen                 NaN     NaN     NaN     NaN     NaN     NaN     NaN   \n",
       "gg                  NaN     NaN     NaN     NaN     NaN     NaN     NaN   \n",
       "n64                 NaN     NaN     NaN     NaN     NaN     NaN     NaN   \n",
       "nes                 NaN     NaN     NaN   10.96   50.08   53.44   36.41   \n",
       "ng                  NaN     NaN     NaN     NaN     NaN     NaN     NaN   \n",
       "pc                  NaN     NaN     NaN     NaN     NaN    0.04     NaN   \n",
       "pcfx                NaN     NaN     NaN     NaN     NaN     NaN     NaN   \n",
       "ps                  NaN     NaN     NaN     NaN     NaN     NaN     NaN   \n",
       "ps2                 NaN     NaN     NaN     NaN     NaN     NaN     NaN   \n",
       "ps3                 NaN     NaN     NaN     NaN     NaN     NaN     NaN   \n",
       "ps4                 NaN     NaN     NaN     NaN     NaN     NaN     NaN   \n",
       "psp                 NaN     NaN     NaN     NaN     NaN     NaN     NaN   \n",
       "psv                 NaN     NaN     NaN     NaN     NaN     NaN     NaN   \n",
       "sat                 NaN     NaN     NaN     NaN     NaN     NaN     NaN   \n",
       "scd                 NaN     NaN     NaN     NaN     NaN     NaN     NaN   \n",
       "snes                NaN     NaN     NaN     NaN     NaN     NaN     NaN   \n",
       "tg16                NaN     NaN     NaN     NaN     NaN     NaN     NaN   \n",
       "wii                 NaN     NaN     NaN     NaN     NaN     NaN     NaN   \n",
       "wiiu                NaN     NaN     NaN     NaN     NaN     NaN     NaN   \n",
       "ws                  NaN     NaN     NaN     NaN     NaN     NaN     NaN   \n",
       "x360                NaN     NaN     NaN     NaN     NaN     NaN     NaN   \n",
       "xb                  NaN     NaN     NaN     NaN     NaN     NaN     NaN   \n",
       "xone                NaN     NaN     NaN     NaN     NaN     NaN     NaN   \n",
       "\n",
       "year_of_release  1987.0  1988.0  1989.0  1990.0  1991.0  1992.0  1993.0  \\\n",
       "platform                                                                  \n",
       "2600               1.94    0.74    0.63     NaN     NaN     NaN     NaN   \n",
       "3do                 NaN     NaN     NaN     NaN     NaN     NaN     NaN   \n",
       "3ds                 NaN     NaN     NaN     NaN     NaN     NaN     NaN   \n",
       "dc                  NaN     NaN     NaN     NaN     NaN     NaN     NaN   \n",
       "ds                  NaN     NaN     NaN     NaN     NaN     NaN     NaN   \n",
       "gb                  NaN    1.43   64.97    4.89    5.57   25.49     NaN   \n",
       "gba                 NaN     NaN     NaN     NaN     NaN     NaN     NaN   \n",
       "gc                  NaN     NaN     NaN     NaN     NaN     NaN     NaN   \n",
       "gen                 NaN     NaN     NaN    2.60    4.33   12.64    3.07   \n",
       "gg                  NaN     NaN     NaN     NaN     NaN    0.04     NaN   \n",
       "n64                 NaN     NaN     NaN     NaN     NaN     NaN     NaN   \n",
       "nes               19.76   45.01    7.85   15.73    6.11    1.98    3.61   \n",
       "ng                  NaN     NaN     NaN     NaN     NaN     NaN    0.21   \n",
       "pc                  NaN    0.03     NaN     NaN     NaN    3.03     NaN   \n",
       "pcfx                NaN     NaN     NaN     NaN     NaN     NaN     NaN   \n",
       "ps                  NaN     NaN     NaN     NaN     NaN     NaN     NaN   \n",
       "ps2                 NaN     NaN     NaN     NaN     NaN     NaN     NaN   \n",
       "ps3                 NaN     NaN     NaN     NaN     NaN     NaN     NaN   \n",
       "ps4                 NaN     NaN     NaN     NaN     NaN     NaN     NaN   \n",
       "psp                 NaN     NaN     NaN     NaN     NaN     NaN     NaN   \n",
       "psv                 NaN     NaN     NaN     NaN     NaN     NaN     NaN   \n",
       "sat                 NaN     NaN     NaN     NaN     NaN     NaN     NaN   \n",
       "scd                 NaN     NaN     NaN     NaN     NaN     NaN    1.50   \n",
       "snes                NaN     NaN     NaN   26.15   16.22   32.98   40.02   \n",
       "tg16                NaN     NaN     NaN     NaN     NaN     NaN     NaN   \n",
       "wii                 NaN     NaN     NaN     NaN     NaN     NaN     NaN   \n",
       "wiiu                NaN     NaN     NaN     NaN     NaN     NaN     NaN   \n",
       "ws                  NaN     NaN     NaN     NaN     NaN     NaN     NaN   \n",
       "x360                NaN     NaN     NaN     NaN     NaN     NaN     NaN   \n",
       "xb                  NaN     NaN     NaN     NaN     NaN     NaN     NaN   \n",
       "xone                NaN     NaN     NaN     NaN     NaN     NaN     NaN   \n",
       "\n",
       "year_of_release  1994.0  1995.0  1996.0  1997.0  1998.0  1999.0  2000.0  \\\n",
       "platform                                                                  \n",
       "2600                NaN     NaN     NaN     NaN     NaN     NaN     NaN   \n",
       "3do                0.02    0.08     NaN     NaN     NaN     NaN     NaN   \n",
       "3ds                 NaN     NaN     NaN     NaN     NaN     NaN     NaN   \n",
       "dc                  NaN     NaN     NaN     NaN    3.38    5.16    5.99   \n",
       "ds                  NaN     NaN     NaN     NaN     NaN     NaN     NaN   \n",
       "gb                12.18    3.60   36.03    6.37   26.90   38.00   19.76   \n",
       "gba                 NaN     NaN     NaN     NaN     NaN     NaN    0.07   \n",
       "gc                  NaN     NaN     NaN     NaN     NaN     NaN     NaN   \n",
       "gen                8.13     NaN     NaN     NaN     NaN     NaN     NaN   \n",
       "gg                  NaN     NaN     NaN     NaN     NaN     NaN     NaN   \n",
       "n64                 NaN     NaN   34.10   39.50   49.24   57.87   33.97   \n",
       "nes                0.11     NaN     NaN     NaN     NaN     NaN     NaN   \n",
       "ng                 0.80    0.33    0.10     NaN     NaN     NaN     NaN   \n",
       "pc                12.87    4.22   10.58   11.27    3.26    4.74    4.66   \n",
       "pcfx                NaN     NaN    0.03     NaN     NaN     NaN     NaN   \n",
       "ps                 6.03   35.96   94.70  136.17  169.49  144.53   96.37   \n",
       "ps2                 NaN     NaN     NaN     NaN     NaN     NaN   39.17   \n",
       "ps3                 NaN     NaN     NaN     NaN     NaN     NaN     NaN   \n",
       "ps4                 NaN     NaN     NaN     NaN     NaN     NaN     NaN   \n",
       "psp                 NaN     NaN     NaN     NaN     NaN     NaN     NaN   \n",
       "psv                 NaN     NaN     NaN     NaN     NaN     NaN     NaN   \n",
       "sat                3.65   11.57    7.69    6.77    3.82    0.09     NaN   \n",
       "scd                0.36     NaN     NaN     NaN     NaN     NaN     NaN   \n",
       "snes              35.08   32.20   15.92    0.99    0.22    0.26     NaN   \n",
       "tg16                NaN    0.16     NaN     NaN     NaN     NaN     NaN   \n",
       "wii                 NaN     NaN     NaN     NaN     NaN     NaN     NaN   \n",
       "wiiu                NaN     NaN     NaN     NaN     NaN     NaN     NaN   \n",
       "ws                  NaN     NaN     NaN     NaN     NaN    0.46    0.68   \n",
       "x360                NaN     NaN     NaN     NaN     NaN     NaN     NaN   \n",
       "xb                  NaN     NaN     NaN     NaN     NaN     NaN    0.99   \n",
       "xone                NaN     NaN     NaN     NaN     NaN     NaN     NaN   \n",
       "\n",
       "year_of_release  2001.0  2002.0  2003.0  2004.0  2005.0  2006.0  2007.0  \\\n",
       "platform                                                                  \n",
       "2600                NaN     NaN     NaN     NaN     NaN     NaN     NaN   \n",
       "3do                 NaN     NaN     NaN     NaN     NaN     NaN     NaN   \n",
       "3ds                 NaN     NaN     NaN     NaN     NaN     NaN     NaN   \n",
       "dc                 1.07    0.29     NaN     NaN     NaN     NaN    0.02   \n",
       "ds                  NaN     NaN     NaN   17.27  130.14  119.81  146.94   \n",
       "gb                 9.24     NaN     NaN     NaN     NaN     NaN     NaN   \n",
       "gba               61.53   74.16   56.67   77.91   33.86    5.28    3.40   \n",
       "gc                26.34   51.81   50.61   28.82   27.62   11.26    0.27   \n",
       "gen                 NaN     NaN     NaN     NaN     NaN     NaN     NaN   \n",
       "gg                  NaN     NaN     NaN     NaN     NaN     NaN     NaN   \n",
       "n64                3.25    0.08     NaN     NaN     NaN     NaN     NaN   \n",
       "nes                 NaN     NaN     NaN     NaN     NaN     NaN     NaN   \n",
       "ng                  NaN     NaN     NaN     NaN     NaN     NaN     NaN   \n",
       "pc                 5.47    8.57    8.84   10.39    4.37    2.85    9.28   \n",
       "pcfx                NaN     NaN     NaN     NaN     NaN     NaN     NaN   \n",
       "ps                35.59    6.67    2.07     NaN     NaN     NaN     NaN   \n",
       "ps2              166.43  205.38  184.31  211.81  160.66  103.42   75.99   \n",
       "ps3                 NaN     NaN     NaN     NaN     NaN   20.96   73.19   \n",
       "ps4                 NaN     NaN     NaN     NaN     NaN     NaN     NaN   \n",
       "psp                 NaN     NaN     NaN    7.06   43.84   55.32   46.93   \n",
       "psv                 NaN     NaN     NaN     NaN     NaN     NaN     NaN   \n",
       "sat                 NaN     NaN     NaN     NaN     NaN     NaN     NaN   \n",
       "scd                 NaN     NaN     NaN     NaN     NaN     NaN     NaN   \n",
       "snes                NaN     NaN     NaN     NaN     NaN     NaN     NaN   \n",
       "tg16                NaN     NaN     NaN     NaN     NaN     NaN     NaN   \n",
       "wii                 NaN     NaN     NaN     NaN     NaN  137.15  152.77   \n",
       "wiiu                NaN     NaN     NaN     NaN     NaN     NaN     NaN   \n",
       "ws                 0.28     NaN     NaN     NaN     NaN     NaN     NaN   \n",
       "x360                NaN     NaN     NaN     NaN    8.25   51.62   95.41   \n",
       "xb                22.26   48.01   55.04   65.42   49.08   10.04    0.55   \n",
       "xone                NaN     NaN     NaN     NaN     NaN     NaN     NaN   \n",
       "\n",
       "year_of_release  2008.0  2009.0  2010.0  2011.0  2012.0  2013.0  2014.0  \\\n",
       "platform                                                                  \n",
       "2600                NaN     NaN     NaN     NaN     NaN     NaN     NaN   \n",
       "3do                 NaN     NaN     NaN     NaN     NaN     NaN     NaN   \n",
       "3ds                 NaN     NaN     NaN   63.20   51.36   56.57   43.76   \n",
       "dc                 0.04     NaN     NaN     NaN     NaN     NaN     NaN   \n",
       "ds               145.31  119.54   85.02   26.18   11.01    1.54     NaN   \n",
       "gb                  NaN     NaN     NaN     NaN     NaN     NaN     NaN   \n",
       "gba                 NaN     NaN     NaN     NaN     NaN     NaN     NaN   \n",
       "gc                  NaN     NaN     NaN     NaN     NaN     NaN     NaN   \n",
       "gen                 NaN     NaN     NaN     NaN     NaN     NaN     NaN   \n",
       "gg                  NaN     NaN     NaN     NaN     NaN     NaN     NaN   \n",
       "n64                 NaN     NaN     NaN     NaN     NaN     NaN     NaN   \n",
       "nes                 NaN     NaN     NaN     NaN     NaN     NaN     NaN   \n",
       "ng                  NaN     NaN     NaN     NaN     NaN     NaN     NaN   \n",
       "pc                12.42   16.91   24.28   35.03   23.22   12.38   13.28   \n",
       "pcfx                NaN     NaN     NaN     NaN     NaN     NaN     NaN   \n",
       "ps                  NaN     NaN     NaN     NaN     NaN     NaN     NaN   \n",
       "ps2               53.90   26.40    5.64    0.45     NaN     NaN     NaN   \n",
       "ps3              118.52  130.93  142.17  156.78  107.36  113.25   47.76   \n",
       "ps4                 NaN     NaN     NaN     NaN     NaN   25.99  100.00   \n",
       "psp               34.55   37.78   35.04   17.82    7.69    3.14    0.24   \n",
       "psv                 NaN     NaN     NaN    4.63   16.19   10.59   11.90   \n",
       "sat                 NaN     NaN     NaN     NaN     NaN     NaN     NaN   \n",
       "scd                 NaN     NaN     NaN     NaN     NaN     NaN     NaN   \n",
       "snes                NaN     NaN     NaN     NaN     NaN     NaN     NaN   \n",
       "tg16                NaN     NaN     NaN     NaN     NaN     NaN     NaN   \n",
       "wii              171.32  206.97  127.95   59.65   21.71    8.59    3.75   \n",
       "wiiu                NaN     NaN     NaN     NaN   17.56   21.65   22.03   \n",
       "ws                  NaN     NaN     NaN     NaN     NaN     NaN     NaN   \n",
       "x360             135.26  120.29  170.03  143.84   99.74   88.58   34.74   \n",
       "xb                 0.18     NaN     NaN     NaN     NaN     NaN     NaN   \n",
       "xone                NaN     NaN     NaN     NaN     NaN   18.96   54.07   \n",
       "\n",
       "year_of_release  2015.0  2016.0  \n",
       "platform                         \n",
       "2600                NaN     NaN  \n",
       "3do                 NaN     NaN  \n",
       "3ds               27.78   15.14  \n",
       "dc                  NaN     NaN  \n",
       "ds                  NaN     NaN  \n",
       "gb                  NaN     NaN  \n",
       "gba                 NaN     NaN  \n",
       "gc                  NaN     NaN  \n",
       "gen                 NaN     NaN  \n",
       "gg                  NaN     NaN  \n",
       "n64                 NaN     NaN  \n",
       "nes                 NaN     NaN  \n",
       "ng                  NaN     NaN  \n",
       "pc                 8.52    5.25  \n",
       "pcfx                NaN     NaN  \n",
       "ps                  NaN     NaN  \n",
       "ps2                 NaN     NaN  \n",
       "ps3               16.82    3.60  \n",
       "ps4              118.90   69.25  \n",
       "psp                0.12     NaN  \n",
       "psv                6.25    4.25  \n",
       "sat                 NaN     NaN  \n",
       "scd                 NaN     NaN  \n",
       "snes                NaN     NaN  \n",
       "tg16                NaN     NaN  \n",
       "wii                1.14    0.18  \n",
       "wiiu              16.35    4.60  \n",
       "ws                  NaN     NaN  \n",
       "x360              11.96    1.52  \n",
       "xb                  NaN     NaN  \n",
       "xone              60.14   26.15  "
      ]
     },
     "execution_count": 10,
     "metadata": {},
     "output_type": "execute_result"
    }
   ],
   "source": [
    "pd.set_option('display.max_rows', None)  \n",
    "pd.set_option('display.max_columns', None)\n",
    "\n",
    "\n",
    "pivoted_df = grouped_sales.pivot(\n",
    "    index='platform', \n",
    "    columns='year_of_release', \n",
    "    values='total_sales'\n",
    ")\n",
    "\n",
    "pivoted_df\n",
    "\n"
   ]
  },
  {
   "cell_type": "markdown",
   "metadata": {},
   "source": [
    "We can see the on average, the life cycle of a console is around 8 to 10 years, after which sales sharply decline as they are either phased out or replaced by newer updated models. "
   ]
  },
  {
   "cell_type": "code",
   "execution_count": null,
   "metadata": {
    "trusted": true
   },
   "outputs": [
    {
     "data": {
      "image/png": "[encoded data removed]",
      "text/plain": [
       "<Figure size 1000x600 with 1 Axes>"
      ]
     },
     "metadata": {},
     "output_type": "display_data"
    }
   ],
   "source": [
    "%matplotlib inline\n",
    "   \n",
    "from IPython.display import display, clear_output\n",
    "import matplotlib.pyplot as plt\n",
    "   \n",
    "platforms = grouped_sales['platform'].unique()\n",
    "    \n",
    "for platform in platforms: clear_output(wait=True)  # Clear the output to avoid stacking\n",
    "platform_data = grouped_sales[grouped_sales['platform'] == platform]\n",
    "\n",
    "plt.figure(figsize=(10, 6))\n",
    "plt.bar(platform_data['year_of_release'], platform_data['total_sales'], width=0.8)\n",
    "plt.title(f'Total Sales per Year for {platform}')\n",
    "plt.xlabel('Year of Release')\n",
    "plt.ylabel('Total Sales (in millions)')\n",
    "plt.xticks(rotation=45)\n",
    "plt.tight_layout()\n",
    "plt.show()\n",
    "\n",
    "   "
   ]
  },
  {
   "cell_type": "code",
   "execution_count": null,
   "metadata": {
    "trusted": true
   },
   "outputs": [
    {
     "name": "stdout",
     "output_type": "stream",
     "text": [
      "platform\n",
      "3ds     0.472772\n",
      "ds      0.192500\n",
      "pc      0.208624\n",
      "ps3     0.525884\n",
      "ps4     0.801378\n",
      "psp     0.052239\n",
      "psv     0.092151\n",
      "wii     0.593913\n",
      "wiiu    0.562000\n",
      "x360    0.735484\n",
      "xone    0.645020\n",
      "Name: total_sales, dtype: float64\n"
     ]
    },
    {
     "name": "stderr",
     "output_type": "stream",
     "text": [
      "/tmp/ipykernel_50/2239218840.py:3: SettingWithCopyWarning: \n",
      "A value is trying to be set on a copy of a slice from a DataFrame.\n",
      "Try using .loc[row_indexer,col_indexer] = value instead\n",
      "\n",
      "See the caveats in the documentation: https://pandas.pydata.org/pandas-docs/stable/user_guide/indexing.html#returning-a-view-versus-a-copy\n",
      "  filtered_games['total_sales'] = (\n"
     ]
    }
   ],
   "source": [
    "filtered_games = games[(games['year_of_release'] >= 2013) & (games['year_of_release'] <= 2016)]\n",
    "\n",
    "filtered_games['total_sales'] = (\n",
    "    filtered_games['na_sales'] + \n",
    "    filtered_games['eu_sales'] + \n",
    "    filtered_games['jp_sales'] + \n",
    "    filtered_games['other_sales']\n",
    ")\n",
    "\n",
    "avg_sales_per_platform = filtered_games.groupby('platform')['total_sales'].mean()\n",
    "\n",
    "print(avg_sales_per_platform)"
   ]
  },
  {
   "cell_type": "code",
   "execution_count": null,
   "metadata": {
    "trusted": true
   },
   "outputs": [
    {
     "data": {
      "image/png": "[encoded data removed]",
      "text/plain": [
       "<Figure size 1400x800 with 1 Axes>"
      ]
     },
     "metadata": {},
     "output_type": "display_data"
    }
   ],
   "source": [
    "sales_platform_year = filtered_games.groupby(['year_of_release', 'platform'], as_index=False)['total_sales'].sum()\n",
    "\n",
    "plt.figure(figsize=(14,8))\n",
    "\n",
    "sns.barplot(x='year_of_release', y='total_sales', hue='platform', data=sales_platform_year)\n",
    "\n",
    "plt.xlabel('Year of Release')\n",
    "plt.ylabel('Total Sales (millions)')\n",
    "plt.title('Total Sales by Platform Over the Years')\n",
    "plt.xticks(rotation=45)\n",
    "\n",
    "plt.legend(title='Platform', bbox_to_anchor=(1.05, 1), loc='upper left')\n",
    "\n",
    "plt.tight_layout()\n",
    "plt.show()\n"
   ]
  },
  {
   "cell_type": "markdown",
   "metadata": {},
   "source": [
    "We can see from the scatter plots below that there is a clear positive correlation between between critic and user scores and total sales of a game. "
   ]
  },
  {
   "cell_type": "code",
   "execution_count": null,
   "metadata": {
    "trusted": true
   },
   "outputs": [
    {
     "data": {
      "image/png": "[encoded data removed]",
      "text/plain": [
       "<Figure size 1000x600 with 1 Axes>"
      ]
     },
     "metadata": {},
     "output_type": "display_data"
    }
   ],
   "source": [
    "import matplotlib.pyplot as plt\n",
    "\n",
    "ps4_games = filtered_games[filtered_games['platform'] == 'ps4'].copy()\n",
    "\n",
    "ps4_games = ps4_games.dropna(subset=['critic_score'])\n",
    "\n",
    "plt.figure(figsize=(10, 6))\n",
    "plt.scatter(ps4_games['critic_score'], ps4_games['total_sales'], alpha=0.6)\n",
    "\n",
    "plt.xlabel(\"Critic Score\")\n",
    "plt.ylabel(\"Total Sales (in millions)\")\n",
    "plt.title(\"Critic Scores vs. Total Sales for PS4 Games (2013-2016)\")\n",
    "plt.grid(True)\n",
    "\n",
    "plt.show()\n"
   ]
  },
  {
   "cell_type": "code",
   "execution_count": null,
   "metadata": {
    "trusted": true
   },
   "outputs": [
    {
     "data": {
      "image/png": "[encoded data removed]",
      "text/plain": [
       "<Figure size 1000x600 with 1 Axes>"
      ]
     },
     "metadata": {},
     "output_type": "display_data"
    }
   ],
   "source": [
    "ps4_games = ps4_games.dropna(subset=['user_score'])\n",
    "ps4_games['user_score'] = pd.to_numeric(ps4_games['user_score'], errors='coerce')\n",
    "\n",
    "ps4_games = ps4_games[(ps4_games['user_score'] >= 0) & (ps4_games['user_score'] <= 10)]\n",
    "\n",
    "plt.figure(figsize=(10, 6))\n",
    "plt.scatter(ps4_games['user_score'], ps4_games['total_sales'], alpha=0.6, color='orange')\n",
    "\n",
    "plt.xlabel(\"User Score\")\n",
    "plt.ylabel(\"Total Sales (in millions)\")\n",
    "plt.title(\"User Scores vs. Total Sales for PS4 Games (2013-2016)\")\n",
    "plt.xticks(range(0, 11)) \n",
    "plt.grid(True)\n",
    "\n",
    "plt.show()"
   ]
  },
  {
   "cell_type": "markdown",
   "metadata": {},
   "source": [
    "Our analysis of the same games on different platforms reveals that when games are available on multiple platforms, ps2 is often the version of the game that sells the most. This fits into our previous insights that ps2 is the most popular platform. "
   ]
  },
  {
   "cell_type": "code",
   "execution_count": null,
   "metadata": {
    "trusted": true
   },
   "outputs": [
    {
     "name": "stdout",
     "output_type": "stream",
     "text": [
      "                                                   name platform  total_sales\n",
      "0                                  frozen: olaf's quest      3ds         0.59\n",
      "1                                  frozen: olaf's quest       ds         0.51\n",
      "2                            2014 fifa world cup brazil      ps3         0.61\n",
      "3                            2014 fifa world cup brazil     x360         0.43\n",
      "4                     3rd super robot wars z jigoku hen      ps3         0.23\n",
      "5                     3rd super robot wars z jigoku hen      psv         0.19\n",
      "6                   3rd super robot wars z: tengoku-hen      ps3         0.15\n",
      "7                   3rd super robot wars z: tengoku-hen      psv         0.19\n",
      "8                                         7 days to die      ps4         0.14\n",
      "9                                         7 days to die     xone         0.05\n",
      "10                       accel world: kasoku no chouten      ps3         0.02\n",
      "11                       accel world: kasoku no chouten      psp         0.01\n",
      "12    adventure time: explore the dungeon because i ...      3ds         0.14\n",
      "13    adventure time: explore the dungeon because i ...      ps3         0.04\n",
      "14    adventure time: explore the dungeon because i ...     wiiu         0.03\n",
      "15    adventure time: explore the dungeon because i ...     x360         0.08\n",
      "16           adventure time: finn & jake investigations      3ds         0.09\n",
      "17           adventure time: finn & jake investigations      ps3         0.08\n",
      "18           adventure time: finn & jake investigations      ps4         0.10\n",
      "19           adventure time: finn & jake investigations     wiiu         0.05\n",
      "20           adventure time: finn & jake investigations     x360         0.09\n",
      "21           adventure time: finn & jake investigations     xone         0.05\n",
      "22          adventure time: the secret of the nameless       3ds         0.01\n",
      "23          adventure time: the secret of the nameless      x360         0.01\n",
      "24    adventure time: the secret of the nameless kin...      3ds         0.07\n",
      "25    adventure time: the secret of the nameless kin...     x360         0.05\n",
      "26                   aegis of earth: protonovus assault      ps3         0.02\n",
      "27                   aegis of earth: protonovus assault      ps4         0.02\n",
      "28                   aegis of earth: protonovus assault      psv         0.03\n",
      "29                    agatha christie's the abc murders      ps4         0.02\n",
      "30                    agatha christie's the abc murders     xone         0.01\n",
      "31                     akiba's trip: undead & undressed      ps3         0.11\n",
      "32                     akiba's trip: undead & undressed      ps4         0.11\n",
      "33                     akiba's trip: undead & undressed      psv         0.15\n",
      "34                                     alien: isolation       pc         0.15\n",
      "35                                     alien: isolation      ps3         0.33\n",
      "36                                     alien: isolation      ps4         1.12\n",
      "37                                     alien: isolation     x360         0.27\n",
      "38                                     alien: isolation     xone         0.50\n",
      "39                             aliens: colonial marines       pc         0.18\n",
      "40                             aliens: colonial marines      ps3         0.60\n",
      "41                             aliens: colonial marines     x360         0.77\n",
      "42                                angry birds star wars      3ds         0.33\n",
      "43                                angry birds star wars      ps3         0.29\n",
      "44                                angry birds star wars      ps4         0.22\n",
      "45                                angry birds star wars      psv         0.08\n",
      "46                                angry birds star wars      wii         0.26\n",
      "47                                angry birds star wars     wiiu         0.10\n",
      "48                                angry birds star wars     x360         0.28\n",
      "49                                angry birds star wars     xone         0.17\n",
      "50                    ar nosurge: ode to an unborn star      ps3         0.16\n",
      "51                    ar nosurge: ode to an unborn star      psv         0.04\n",
      "52                      army of two: the devil's cartel      ps3         0.28\n",
      "53                      army of two: the devil's cartel     x360         0.25\n",
      "54                       arslan: the warriors of legend      ps3         0.05\n",
      "55                       arslan: the warriors of legend      ps4         0.09\n",
      "56                       arslan: the warriors of legend     xone         0.01\n",
      "57                          assassin's creed chronicles      ps4         0.08\n",
      "58                          assassin's creed chronicles      psv         0.07\n",
      "59                          assassin's creed chronicles     xone         0.01\n",
      "60                      assassin's creed iv: black flag       pc         0.65\n",
      "61                      assassin's creed iv: black flag      ps3         3.71\n",
      "62                      assassin's creed iv: black flag      ps4         2.86\n",
      "63                      assassin's creed iv: black flag     wiiu         0.29\n",
      "64                      assassin's creed iv: black flag     x360         3.31\n",
      "65                      assassin's creed iv: black flag     xone         2.24\n",
      "66                           assassin's creed syndicate       pc         0.22\n",
      "67                           assassin's creed syndicate      ps4         3.39\n",
      "68                           assassin's creed syndicate     xone         1.29\n",
      "69                 assassin's creed the ezio collection      ps4         0.20\n",
      "70                 assassin's creed the ezio collection     xone         0.08\n",
      "71                              assassin's creed: rogue       pc         0.08\n",
      "72                              assassin's creed: rogue      ps3         1.28\n",
      "73                              assassin's creed: rogue     x360         1.01\n",
      "74                              assassin's creed: unity       pc         0.55\n",
      "75                              assassin's creed: unity      ps4         3.96\n",
      "76                              assassin's creed: unity     xone         3.50\n",
      "77                                        assetto corsa      ps4         0.06\n",
      "78                                        assetto corsa     xone         0.01\n",
      "79                   atari flashback classics: volume 1      ps4         0.02\n",
      "80                   atari flashback classics: volume 1     xone         0.02\n",
      "81                   atari flashback classics: volume 2      ps4         0.02\n",
      "82                   atari flashback classics: volume 2     xone         0.02\n",
      "83     atelier escha & logy: alchemists of the dusk sky      ps3         0.21\n",
      "84     atelier escha & logy: alchemists of the dusk sky      psv         0.05\n",
      "85    atelier firis: the alchemist of the mysterious...      ps4         0.03\n",
      "86    atelier firis: the alchemist of the mysterious...      psv         0.02\n",
      "87    atelier sophie: the alchemist of the mysteriou...      ps3         0.03\n",
      "88    atelier sophie: the alchemist of the mysteriou...      ps4         0.12\n",
      "89    atelier sophie: the alchemist of the mysteriou...      psv         0.06\n",
      "90                               attack on titan (koei)      ps3         0.06\n",
      "91                               attack on titan (koei)      ps4         0.29\n",
      "92                               attack on titan (koei)      psv         0.13\n",
      "93                               attack on titan (koei)     xone         0.05\n",
      "94                         back to the future: the game      ps4         0.18\n",
      "95                         back to the future: the game     x360         0.02\n",
      "96                         back to the future: the game     xone         0.02\n",
      "97                           bakumatsu rock: ultra soul      psp         0.01\n",
      "98                           bakumatsu rock: ultra soul      psv         0.02\n",
      "99                  barbie and her sisters puppy rescue      3ds         0.03\n",
      "100                 barbie and her sisters puppy rescue      wii         0.03\n",
      "101                 barbie and her sisters puppy rescue     wiiu         0.01\n",
      "102                      batman: a telltale game series      ps3         0.06\n",
      "103                      batman: a telltale game series      ps4         0.09\n",
      "104                      batman: a telltale game series     x360         0.03\n",
      "105                      batman: a telltale game series     xone         0.03\n",
      "106                               batman: arkham knight       pc         0.13\n",
      "107                               batman: arkham knight      ps4         3.96\n",
      "108                               batman: arkham knight     xone         1.49\n",
      "109                              batman: arkham origins       pc         0.31\n",
      "110                              batman: arkham origins      ps3         2.29\n",
      "111                              batman: arkham origins     wiiu         0.31\n",
      "112                              batman: arkham origins     x360         1.88\n",
      "113                    batman: arkham origins blackgate      3ds         0.27\n",
      "114                    batman: arkham origins blackgate      psv         0.43\n",
      "115                            batman: return to arkham      ps4         0.27\n",
      "116                            batman: return to arkham     xone         0.11\n",
      "117                                          battleborn       pc         0.09\n",
      "118                                          battleborn      ps4         0.26\n",
      "119                                          battleborn     xone         0.15\n",
      "120                                       battlefield 1       pc         0.38\n",
      "121                                       battlefield 1      ps4         4.07\n",
      "122                                       battlefield 1     xone         2.25\n",
      "123                                       battlefield 4       pc         1.36\n",
      "124                                       battlefield 4      ps3         3.49\n",
      "125                                       battlefield 4      ps4         3.58\n",
      "126                                       battlefield 4     x360         3.49\n",
      "127                                       battlefield 4     xone         2.02\n",
      "128                               battlefield: hardline       pc         0.14\n",
      "129                               battlefield: hardline      ps3         0.41\n",
      "130                               battlefield: hardline      ps4         2.11\n",
      "131                               battlefield: hardline     x360         0.29\n",
      "132                               battlefield: hardline     xone         1.21\n",
      "133                                  ben 10 omniverse 2      3ds         0.02\n",
      "134                                  ben 10 omniverse 2     x360         0.01\n",
      "135                    berserk and the band of the hawk      ps4         0.04\n",
      "136                    berserk and the band of the hawk      psv         0.02\n",
      "137                                   bioshock infinite       pc         0.66\n",
      "138                                   bioshock infinite      ps3         1.69\n",
      "139                                   bioshock infinite     x360         1.94\n",
      "140                             bioshock the collection      ps4         0.37\n",
      "141                             bioshock the collection     xone         0.15\n",
      "142                         blade arcus from shining ex      ps3         0.02\n",
      "143                         blade arcus from shining ex      ps4         0.02\n",
      "144                               bladestorm: nightmare      ps3         0.03\n",
      "145                               bladestorm: nightmare      ps4         0.17\n",
      "146                               bladestorm: nightmare     xone         0.05\n",
      "147                            blazblue central fiction      ps3         0.07\n",
      "148                            blazblue central fiction      ps4         0.08\n",
      "149                          blazblue: chrono phantasma      ps3         0.31\n",
      "150                          blazblue: chrono phantasma      psv         0.07\n",
      "151                   blazblue: chrono phantasma extend      ps3         0.04\n",
      "152                   blazblue: chrono phantasma extend      ps4         0.14\n",
      "153                   blazblue: chrono phantasma extend      psv         0.03\n",
      "154                   blazblue: chrono phantasma extend     xone         0.07\n",
      "155                borderlands: the handsome collection      ps4         0.88\n",
      "156                borderlands: the handsome collection     xone         0.43\n",
      "157                         borderlands: the pre-sequel       pc         0.28\n",
      "158                         borderlands: the pre-sequel      ps3         0.62\n",
      "159                         borderlands: the pre-sequel     x360         0.73\n",
      "160                 broken sword 5: the serpent's curse      ps4         0.07\n",
      "161                 broken sword 5: the serpent's curse     xone         0.02\n",
      "162                        brothers: a tale of two sons      ps4         0.13\n",
      "163                        brothers: a tale of two sons     xone         0.04\n",
      "164                 cabela's big game hunter: pro hunts      ps3         0.04\n",
      "165                 cabela's big game hunter: pro hunts     wiiu         0.02\n",
      "166                 cabela's big game hunter: pro hunts     x360         0.02\n",
      "167                      call of duty: advanced warfare       pc         0.41\n",
      "168                      call of duty: advanced warfare      ps3         4.36\n",
      "169                      call of duty: advanced warfare      ps4         7.66\n",
      "170                      call of duty: advanced warfare     x360         4.28\n",
      "171                      call of duty: advanced warfare     xone         5.26\n",
      "172                           call of duty: black ops 3       pc         0.26\n",
      "173                           call of duty: black ops 3      ps3         1.69\n",
      "174                           call of duty: black ops 3      ps4        14.63\n",
      "175                           call of duty: black ops 3     x360         1.70\n",
      "176                           call of duty: black ops 3     xone         7.39\n",
      "177                                call of duty: ghosts       pc         0.69\n",
      "178                                call of duty: ghosts      ps3         9.36\n",
      "179                                call of duty: ghosts      ps4         3.83\n",
      "180                                call of duty: ghosts     wiiu         0.35\n",
      "181                                call of duty: ghosts     x360        10.24\n",
      "182                                call of duty: ghosts     xone         2.92\n",
      "183                      call of duty: infinite warfare       pc         0.13\n",
      "184                      call of duty: infinite warfare      ps4         4.47\n",
      "185                      call of duty: infinite warfare     xone         2.42\n",
      "186                call of duty: modern warfare trilogy      ps3         0.02\n",
      "187                call of duty: modern warfare trilogy     x360         0.04\n",
      "188                             carmageddon: max damage      ps4         0.01\n",
      "189                             carmageddon: max damage     xone         0.02\n",
      "190                      castlevania: lords of shadow 2       pc         0.04\n",
      "191                      castlevania: lords of shadow 2      ps3         0.20\n",
      "192                      castlevania: lords of shadow 2     x360         0.09\n",
      "193                                         chaos;child      ps3         0.01\n",
      "194                                         chaos;child      ps4         0.01\n",
      "195                                         chaos;child      psv         0.05\n",
      "196                                      child of light      ps4         0.05\n",
      "197                                      child of light      psv         0.07\n",
      "198          conception ii: children of the seven stars      3ds         0.13\n",
      "199          conception ii: children of the seven stars      psv         0.17\n",
      "200                                            crysis 3       pc         0.63\n",
      "201                                            crysis 3      ps3         0.87\n",
      "202                                            crysis 3     x360         0.91\n",
      "203                                       dark souls ii       pc         0.17\n",
      "204                                       dark souls ii      ps3         1.28\n",
      "205                                       dark souls ii      ps4         0.61\n",
      "206                                       dark souls ii     x360         0.74\n",
      "207                                       dark souls ii     xone         0.23\n",
      "208                                      dark souls iii       pc         0.07\n",
      "209                                      dark souls iii      ps4         1.66\n",
      "210                                      dark souls iii     xone         0.39\n",
      "211                                       darksiders ii      ps4         0.23\n",
      "212                                       darksiders ii     xone         0.07\n",
      "213                     darksiders: warmastered edition      ps4         0.02\n",
      "214                     darksiders: warmastered edition     xone         0.01\n",
      "215                   dead island definitive collection      ps4         0.13\n",
      "216                   dead island definitive collection     xone         0.05\n",
      "217                                dead island: riptide      ps3         0.61\n",
      "218                                dead island: riptide     x360         0.78\n",
      "219                                     dead or alive 5      ps4         0.34\n",
      "220                                     dead or alive 5      psv         0.09\n",
      "221                                     dead or alive 5     xone         0.10\n",
      "222                                         dead rising      ps4         0.04\n",
      "223                                         dead rising     xone         0.01\n",
      "224                                       dead rising 2      ps4         0.02\n",
      "225                                       dead rising 2     xone         0.01\n",
      "226                                        dead space 3      ps3         0.96\n",
      "227                                        dead space 3     x360         0.98\n",
      "228                                            deadpool      ps3         0.45\n",
      "229                                            deadpool      ps4         0.30\n",
      "230                                            deadpool     x360         0.43\n",
      "231                                            deadpool     xone         0.13\n",
      "232                            deception iv: blood ties      ps3         0.12\n",
      "233                            deception iv: blood ties      psv         0.12\n",
      "234                                            defiance       pc         0.20\n",
      "235                                            defiance      ps3         0.35\n",
      "236                                            defiance     x360         0.57\n",
      "237                       dengeki bunko fighting climax      ps3         0.15\n",
      "238                       dengeki bunko fighting climax      psv         0.13\n",
      "239                                             destiny      ps3         1.61\n",
      "240                                             destiny      ps4         5.64\n",
      "241                                             destiny     x360         1.92\n",
      "242                                             destiny     xone         3.37\n",
      "243                             destiny: the collection      ps4         0.24\n",
      "244                             destiny: the collection     xone         0.12\n",
      "245                             destiny: the taken king      ps3         0.36\n",
      "246                             destiny: the taken king      ps4         1.92\n",
      "247                             destiny: the taken king     x360         0.35\n",
      "248                             destiny: the taken king     xone         1.20\n",
      "249                            deus ex: mankind divided       pc         0.03\n",
      "250                            deus ex: mankind divided      ps4         0.38\n",
      "251                            deus ex: mankind divided     xone         0.16\n",
      "252                                          diablo iii      ps3         1.91\n",
      "253                                          diablo iii      ps4         1.83\n",
      "254                                          diablo iii     x360         1.41\n",
      "255                                          diablo iii     xone         0.66\n",
      "256                         diabolik lovers: more blood      psp         0.03\n",
      "257                         diabolik lovers: more blood      psv         0.02\n",
      "258                             digimon all-star rumble      ps3         0.10\n",
      "259                             digimon all-star rumble     x360         0.07\n",
      "260                         digimon story: cyber sleuth      ps4         0.12\n",
      "261                         digimon story: cyber sleuth      psv         0.17\n",
      "262                                          dirt rally       pc         0.03\n",
      "263                                          dirt rally      ps4         0.36\n",
      "264                                          dirt rally     xone         0.13\n",
      "265                                          dishonored      ps4         0.40\n",
      "266                                          dishonored     xone         0.15\n",
      "267                                        dishonored 2       pc         0.12\n",
      "268                                        dishonored 2      ps4         0.64\n",
      "269                                        dishonored 2     xone         0.22\n",
      "270                                     disney infinity      3ds         0.29\n",
      "271                                     disney infinity      ps3         0.97\n",
      "272                                     disney infinity      psv         0.01\n",
      "273                                     disney infinity      wii         1.60\n",
      "274                                     disney infinity     wiiu         0.60\n",
      "275                                     disney infinity     x360         1.44\n",
      "276            disney infinity 2.0: marvel super heroes      ps3         0.95\n",
      "277            disney infinity 2.0: marvel super heroes      ps4         0.62\n",
      "278            disney infinity 2.0: marvel super heroes      psv         0.06\n",
      "279            disney infinity 2.0: marvel super heroes     wiiu         0.65\n",
      "280            disney infinity 2.0: marvel super heroes     x360         1.08\n",
      "281            disney infinity 2.0: marvel super heroes     xone         0.44\n",
      "282                                 disney infinity 3.0      ps3         0.44\n",
      "283                                 disney infinity 3.0      ps4         0.73\n",
      "284                                 disney infinity 3.0     wiiu         0.46\n",
      "285                                 disney infinity 3.0     x360         0.39\n",
      "286                                 disney infinity 3.0     xone         0.34\n",
      "287                         disney planes fire & rescue      3ds         0.10\n",
      "288                         disney planes fire & rescue      wii         0.04\n",
      "289                         disney planes fire & rescue     wiiu         0.02\n",
      "290                                     disney's planes      3ds         0.08\n",
      "291                                     disney's planes       ds         0.21\n",
      "292                                     disney's planes      wii         0.14\n",
      "293                                     disney's planes     wiiu         0.20\n",
      "294                              divinity: original sin       pc         0.02\n",
      "295                              divinity: original sin      ps4         0.28\n",
      "296                              divinity: original sin     xone         0.08\n",
      "297                                  dmc: devil may cry      ps3         0.79\n",
      "298                                  dmc: devil may cry      ps4         0.30\n",
      "299                                  dmc: devil may cry     x360         0.43\n",
      "300                                  dmc: devil may cry     xone         0.13\n",
      "301                              don bradman cricket 14      ps3         0.01\n",
      "302                              don bradman cricket 14      ps4         0.12\n",
      "303                              don bradman cricket 14     xone         0.04\n",
      "304                                         doom (2016)       pc         0.22\n",
      "305                                         doom (2016)      ps4         1.49\n",
      "306                                         doom (2016)     xone         0.76\n",
      "307                             dragon age: inquisition       pc         0.73\n",
      "308                             dragon age: inquisition      ps3         0.59\n",
      "309                             dragon age: inquisition      ps4         2.01\n",
      "310                             dragon age: inquisition     x360         0.53\n",
      "311                             dragon age: inquisition     xone         0.93\n",
      "312                          dragon ball z: battle of z      ps3         0.30\n",
      "313                          dragon ball z: battle of z      psv         0.11\n",
      "314                          dragon ball z: battle of z     x360         0.06\n",
      "315                              dragon ball: xenoverse      ps3         0.49\n",
      "316                              dragon ball: xenoverse      ps4         1.10\n",
      "317                              dragon ball: xenoverse     x360         0.23\n",
      "318                              dragon ball: xenoverse     xone         0.32\n",
      "319                            dragon ball: xenoverse 2      ps4         0.70\n",
      "320                            dragon ball: xenoverse 2     xone         0.20\n",
      "321              dragon quest builders: revive alefgard      ps3         0.12\n",
      "322              dragon quest builders: revive alefgard      ps4         0.40\n",
      "323              dragon quest builders: revive alefgard      psv         0.30\n",
      "324   dragon quest heroes ii: twin kings and the pro...      ps3         0.13\n",
      "325   dragon quest heroes ii: twin kings and the pro...      ps4         0.28\n",
      "326   dragon quest heroes ii: twin kings and the pro...      psv         0.23\n",
      "327   dragon quest heroes: the world's tree woe and ...      ps3         0.49\n",
      "328   dragon quest heroes: the world's tree woe and ...      ps4         0.73\n",
      "329                                      dragon quest x      3ds         0.17\n",
      "330                                      dragon quest x     wiiu         0.41\n",
      "331                                      dragon's crown      ps3         0.54\n",
      "332                                      dragon's crown      psv         0.36\n",
      "333                               dragon's dogma online      ps3         0.03\n",
      "334                               dragon's dogma online      ps4         0.08\n",
      "335                               ducktales: remastered       pc         0.01\n",
      "336                               ducktales: remastered      ps3         0.05\n",
      "337                               ducktales: remastered     wiiu         0.07\n",
      "338                               ducktales: remastered     x360         0.03\n",
      "339          duke nukem 3d: 20th anniversary world tour      ps4         0.04\n",
      "340          duke nukem 3d: 20th anniversary world tour     xone         0.02\n",
      "341   dungeon travelers 2: the royal library & the m...      psp         0.08\n",
      "342   dungeon travelers 2: the royal library & the m...      psv         0.11\n",
      "343                                         dying light       pc         0.20\n",
      "344                                         dying light      ps4         2.09\n",
      "345                                         dying light     xone         1.29\n",
      "346                                  dynasty warriors 8      ps3         0.61\n",
      "347                                  dynasty warriors 8     x360         0.15\n",
      "348                         dynasty warriors 8: empires      ps3         0.09\n",
      "349                         dynasty warriors 8: empires      ps4         0.19\n",
      "350                         dynasty warriors 8: empires      psv         0.02\n",
      "351                         dynasty warriors 8: empires     xone         0.07\n",
      "352                  dynasty warriors 8: xtreme legends      ps3         0.16\n",
      "353                  dynasty warriors 8: xtreme legends      ps4         0.30\n",
      "354                  dynasty warriors 8: xtreme legends      psv         0.12\n",
      "355                        dynasty warriors: eiketsuden      ps3         0.01\n",
      "356                        dynasty warriors: eiketsuden      ps4         0.02\n",
      "357                        dynasty warriors: eiketsuden      psv         0.01\n",
      "358                     dynasty warriors: gundam reborn      ps3         0.23\n",
      "359                     dynasty warriors: gundam reborn      psv         0.13\n",
      "360                                       ea sports ufc      ps4         1.05\n",
      "361                                       ea sports ufc     xone         0.46\n",
      "362                                     ea sports ufc 2      ps4         0.93\n",
      "363                                     ea sports ufc 2     xone         0.42\n",
      "364                            earth defense force 2025      ps3         0.34\n",
      "365                            earth defense force 2025     x360         0.15\n",
      "366                                         enemy front      ps3         0.06\n",
      "367                                         enemy front     x360         0.04\n",
      "368                                  escape dead island      ps3         0.08\n",
      "369                                  escape dead island     x360         0.08\n",
      "370                                              evolve       pc         0.20\n",
      "371                                              evolve      ps4         0.97\n",
      "372                                              evolve     xone         0.63\n",
      "373            exist archive: the other side of the sky      ps4         0.04\n",
      "374            exist archive: the other side of the sky      psv         0.06\n",
      "375                                            exstetra      3ds         0.01\n",
      "376                                            exstetra      psv         0.03\n",
      "377                                             f1 2013      ps3         0.55\n",
      "378                                             f1 2013     x360         0.30\n",
      "379                                             f1 2014       pc         0.10\n",
      "380                                             f1 2014      ps3         0.41\n",
      "381                                             f1 2014     x360         0.23\n",
      "382                                             f1 2015       pc         0.05\n",
      "383                                             f1 2015      ps4         0.67\n",
      "384                                             f1 2015     xone         0.25\n",
      "385                               f1 2016 (codemasters)       pc         0.03\n",
      "386                               f1 2016 (codemasters)      ps4         0.38\n",
      "387                               f1 2016 (codemasters)     xone         0.12\n",
      "388                                           fallout 4       pc         1.28\n",
      "389                                           fallout 4      ps4         7.17\n",
      "390                                           fallout 4     xone         4.22\n",
      "391                             fantasia: music evolved     x360         0.08\n",
      "392                             fantasia: music evolved     xone         0.15\n",
      "393                                           far cry 4       pc         0.63\n",
      "394                                           far cry 4      ps3         1.29\n",
      "395                                           far cry 4      ps4         4.04\n",
      "396                                           far cry 4     x360         0.90\n",
      "397                                           far cry 4     xone         1.64\n",
      "398                                     far cry: primal       pc         0.16\n",
      "399                                     far cry: primal      ps4         2.26\n",
      "400                                     far cry: primal     xone         0.88\n",
      "401                                farming simulator 17       pc         0.65\n",
      "402                                farming simulator 17      ps4         0.42\n",
      "403                                farming simulator 17     xone         0.12\n",
      "404                              farming simulator 2013      ps3         0.13\n",
      "405                              farming simulator 2013     x360         0.39\n",
      "406                              farming simulator 2015       pc         1.19\n",
      "407                              farming simulator 2015      ps3         0.37\n",
      "408                              farming simulator 2015      ps4         0.36\n",
      "409                              farming simulator 2015     x360         0.36\n",
      "410                              farming simulator 2015     xone         0.20\n",
      "411                            fast & furious: showdown      ps3         0.02\n",
      "412                            fast & furious: showdown     x360         0.03\n",
      "413                       fate/extella: the umbral star      ps4         0.11\n",
      "414                       fate/extella: the umbral star      psv         0.09\n",
      "415                                             fifa 14      3ds         0.23\n",
      "416                                             fifa 14       pc         0.40\n",
      "417                                             fifa 14      ps3         6.46\n",
      "418                                             fifa 14      ps4         3.01\n",
      "419                                             fifa 14      psp         0.19\n",
      "420                                             fifa 14      psv         0.41\n",
      "421                                             fifa 14      wii         0.38\n",
      "422                                             fifa 14     x360         4.22\n",
      "423                                             fifa 14     xone         1.16\n",
      "424                                             fifa 15      3ds         0.46\n",
      "425                                             fifa 15       pc         0.29\n",
      "426                                             fifa 15      ps3         4.28\n",
      "427                                             fifa 15      ps4         6.08\n",
      "428                                             fifa 15      psv         0.60\n",
      "429                                             fifa 15      wii         0.56\n",
      "430                                             fifa 15     x360         2.92\n",
      "431                                             fifa 15     xone         2.18\n",
      "432                                             fifa 16       pc         0.20\n",
      "433                                             fifa 16      ps3         2.70\n",
      "434                                             fifa 16      ps4         8.58\n",
      "435                                             fifa 16     x360         1.57\n",
      "436                                             fifa 16     xone         3.25\n",
      "437                                             fifa 17       pc         0.12\n",
      "438                                             fifa 17      ps3         0.73\n",
      "439                                             fifa 17      ps4         7.60\n",
      "440                                             fifa 17     x360         0.38\n",
      "441                                             fifa 17     xone         2.65\n",
      "442                                final fantasy type-0      ps4         0.98\n",
      "443                                final fantasy type-0     xone         0.25\n",
      "444                   final fantasy x / x-2 hd remaster      ps3         1.27\n",
      "445                   final fantasy x / x-2 hd remaster      psv         0.80\n",
      "446                   final fantasy xiv: a realm reborn      ps3         1.08\n",
      "447                   final fantasy xiv: a realm reborn      ps4         0.75\n",
      "448                      final fantasy xiv: heavensward       pc         0.02\n",
      "449                      final fantasy xiv: heavensward      ps3         0.02\n",
      "450                      final fantasy xiv: heavensward      ps4         0.13\n",
      "451                               football manager 2014       pc         0.63\n",
      "452                               football manager 2014      psv         0.10\n",
      "453                                     forza horizon 2     x360         0.78\n",
      "454                                     forza horizon 2     xone         1.40\n",
      "455                                    fuse (insomniac)      ps3         0.12\n",
      "456                                    fuse (insomniac)     x360         0.13\n",
      "457                          game of thrones (telltale)      ps3         0.05\n",
      "458                          game of thrones (telltale)      ps4         0.05\n",
      "459                          game of thrones (telltale)     x360         0.02\n",
      "460                          game of thrones (telltale)     xone         0.03\n",
      "461                                 ghostbusters (2016)      ps4         0.05\n",
      "462                                 ghostbusters (2016)     xone         0.05\n",
      "463                                         god eater 2      psp         0.24\n",
      "464                                         god eater 2      psv         0.45\n",
      "465                             god eater 2: rage burst      ps4         0.10\n",
      "466                             god eater 2: rage burst      psv         0.41\n",
      "467                              god eater resurrection      ps4         0.08\n",
      "468                              god eater resurrection      psv         0.19\n",
      "469   gotouchi tetsudou: gotouchi chara to nihon zen...      3ds         0.12\n",
      "470   gotouchi tetsudou: gotouchi chara to nihon zen...     wiiu         0.03\n",
      "471                                grand ages: medieval       pc         0.05\n",
      "472                                grand ages: medieval      ps4         0.08\n",
      "473                                       grand kingdom      ps4         0.07\n",
      "474                                       grand kingdom      psv         0.07\n",
      "475                                  grand theft auto v       pc         1.17\n",
      "476                                  grand theft auto v      ps3        21.05\n",
      "477                                  grand theft auto v      ps4        12.62\n",
      "478                                  grand theft auto v     x360        16.27\n",
      "479                                  grand theft auto v     xone         5.47\n",
      "480                                              grid 2       pc         0.07\n",
      "481                                              grid 2      ps3         0.38\n",
      "482                                              grid 2     x360         0.27\n",
      "483                                      grid autosport       pc         0.02\n",
      "484                                      grid autosport      ps3         0.18\n",
      "485                                      grid autosport     x360         0.09\n",
      "486                         guilty gear xrd -revelator-      ps3         0.08\n",
      "487                         guilty gear xrd -revelator-      ps4         0.09\n",
      "488                               guilty gear xrd: sign      ps3         0.19\n",
      "489                               guilty gear xrd: sign      ps4         0.16\n",
      "490                                    guitar hero live      ps3         0.27\n",
      "491                                    guitar hero live      ps4         0.86\n",
      "492                                    guitar hero live     wiiu         0.19\n",
      "493                                    guitar hero live     x360         0.23\n",
      "494                                    guitar hero live     xone         0.55\n",
      "495                                      gundam breaker      ps3         0.26\n",
      "496                                      gundam breaker      psv         0.09\n",
      "497                                    gundam breaker 2      ps3         0.14\n",
      "498                                    gundam breaker 2      psv         0.15\n",
      "499                                    gundam breaker 3      ps4         0.10\n",
      "500                                    gundam breaker 3      psv         0.12\n",
      "501                                         handball 16      ps3         0.02\n",
      "502                                         handball 16      ps4         0.06\n",
      "503                        harukanaru toki no naka de 6      psp         0.02\n",
      "504                        harukanaru toki no naka de 6      psv         0.03\n",
      "505                    hatsune miku: project diva f 2nd      ps3         0.25\n",
      "506                    hatsune miku: project diva f 2nd      psv         0.33\n",
      "507                        hatsune miku: project diva x      ps4         0.04\n",
      "508                        hatsune miku: project diva x      psv         0.11\n",
      "509                       higurashi no naku koro ni iki      ps3         0.01\n",
      "510                       higurashi no naku koro ni iki      psv         0.03\n",
      "511                                       hitman (2016)      ps4         0.05\n",
      "512                                       hitman (2016)     xone         0.01\n",
      "513                                  hitman: hd trilogy      ps3         0.20\n",
      "514                                  hitman: hd trilogy     x360         0.17\n",
      "515                           homefront: the revolution       pc         0.03\n",
      "516                           homefront: the revolution      ps4         0.35\n",
      "517                           homefront: the revolution     xone         0.14\n",
      "518                          how to train your dragon 2      3ds         0.25\n",
      "519                          how to train your dragon 2      ps3         0.11\n",
      "520                          how to train your dragon 2      wii         0.18\n",
      "521                          how to train your dragon 2     wiiu         0.09\n",
      "522                          how to train your dragon 2     x360         0.16\n",
      "523                                     hyrule warriors      3ds         0.44\n",
      "524                                     hyrule warriors     wiiu         1.23\n",
      "525                 infinite stratos 2: ignition hearts      ps3         0.03\n",
      "526                 infinite stratos 2: ignition hearts      psv         0.03\n",
      "527                            injustice: gods among us      ps3         1.19\n",
      "528                            injustice: gods among us      ps4         0.92\n",
      "529                            injustice: gods among us      psv         0.12\n",
      "530                            injustice: gods among us     wiiu         0.19\n",
      "531                            injustice: gods among us     x360         1.38\n",
      "532                                 j stars victory vs.      ps3         0.32\n",
      "533                                 j stars victory vs.      ps4         0.26\n",
      "534                                 j stars victory vs.      psv         0.21\n",
      "535                  jikkyou powerful pro baseball 2016      ps3         0.12\n",
      "536                  jikkyou powerful pro baseball 2016      ps4         0.17\n",
      "537                  jikkyou powerful pro baseball 2016      psv         0.18\n",
      "538                    jikkyou powerful pro yakyuu 2013      ps3         0.26\n",
      "539                    jikkyou powerful pro yakyuu 2013      psp         0.17\n",
      "540                    jikkyou powerful pro yakyuu 2013      psv         0.10\n",
      "541                    jikkyou powerful pro yakyuu 2014      ps3         0.17\n",
      "542                    jikkyou powerful pro yakyuu 2014      psv         0.12\n",
      "543            jojo's bizarre adventure: eyes of heaven      ps3         0.03\n",
      "544            jojo's bizarre adventure: eyes of heaven      ps4         0.03\n",
      "545                                        just cause 3       pc         0.15\n",
      "546                                        just cause 3      ps4         1.85\n",
      "547                                        just cause 3     xone         0.91\n",
      "548                                     just dance 2014      ps3         0.37\n",
      "549                                     just dance 2014      ps4         0.42\n",
      "550                                     just dance 2014      wii         3.58\n",
      "551                                     just dance 2014     wiiu         0.59\n",
      "552                                     just dance 2014     x360         0.99\n",
      "553                                     just dance 2014     xone         0.45\n",
      "554                                     just dance 2015      ps3         0.25\n",
      "555                                     just dance 2015      ps4         0.39\n",
      "556                                     just dance 2015      wii         2.01\n",
      "557                                     just dance 2015     wiiu         0.73\n",
      "558                                     just dance 2015     x360         0.61\n",
      "559                                     just dance 2015     xone         0.53\n",
      "560                                     just dance 2016      ps3         0.19\n",
      "561                                     just dance 2016      ps4         0.36\n",
      "562                                     just dance 2016      wii         0.95\n",
      "563                                     just dance 2016     wiiu         0.57\n",
      "564                                     just dance 2016     x360         0.31\n",
      "565                                     just dance 2016     xone         0.32\n",
      "566                                     just dance 2017      ps3         0.05\n",
      "567                                     just dance 2017      ps4         0.03\n",
      "568                                     just dance 2017      wii         0.18\n",
      "569                                     just dance 2017     wiiu         0.10\n",
      "570                                     just dance 2017     x360         0.04\n",
      "571                                     just dance 2017     xone         0.03\n",
      "572                          just dance: disney party 2     wiiu         0.08\n",
      "573                          just dance: disney party 2     x360         0.07\n",
      "574                          just dance: disney party 2     xone         0.07\n",
      "575                   kamen rider: battride war genesis      ps3         0.04\n",
      "576                   kamen rider: battride war genesis      ps4         0.06\n",
      "577                   kamen rider: battride war genesis      psv         0.05\n",
      "578                        kamen rider: battride war ii      ps3         0.10\n",
      "579                        kamen rider: battride war ii     wiiu         0.02\n",
      "580                                      killer is dead      ps3         0.23\n",
      "581                                      killer is dead     x360         0.12\n",
      "582        kung fu panda: showdown of legendary legends      3ds         0.03\n",
      "583        kung fu panda: showdown of legendary legends      ps3         0.02\n",
      "584        kung fu panda: showdown of legendary legends     x360         0.02\n",
      "585                 lara croft and the temple of osiris       pc         0.02\n",
      "586                 lara croft and the temple of osiris      ps4         0.08\n",
      "587                                       legend of kay      ps4         0.06\n",
      "588                                       legend of kay     wiiu         0.05\n",
      "589                           legend of kay anniversary      ps4         0.02\n",
      "590                           legend of kay anniversary     wiiu         0.01\n",
      "591                        lego batman 3: beyond gotham      3ds         0.45\n",
      "592                        lego batman 3: beyond gotham       pc         0.06\n",
      "593                        lego batman 3: beyond gotham      ps3         0.73\n",
      "594                        lego batman 3: beyond gotham      ps4         0.92\n",
      "595                        lego batman 3: beyond gotham      psv         0.31\n",
      "596                        lego batman 3: beyond gotham     wiiu         0.46\n",
      "597                        lego batman 3: beyond gotham     x360         0.89\n",
      "598                        lego batman 3: beyond gotham     xone         0.44\n",
      "599                                lego city undercover      3ds         1.47\n",
      "600                                lego city undercover     wiiu         1.10\n",
      "601                                     lego dimensions      ps3         0.56\n",
      "602                                     lego dimensions      ps4         0.73\n",
      "603                                     lego dimensions     wiiu         0.53\n",
      "604                                     lego dimensions     x360         0.53\n",
      "605                                     lego dimensions     xone         0.41\n",
      "606                                 lego jurassic world      3ds         0.62\n",
      "607                                 lego jurassic world       pc         0.04\n",
      "608                                 lego jurassic world      ps3         0.85\n",
      "609                                 lego jurassic world      ps4         0.90\n",
      "610                                 lego jurassic world      psv         0.23\n",
      "611                                 lego jurassic world     wiiu         0.52\n",
      "612                                 lego jurassic world     x360         0.87\n",
      "613                                 lego jurassic world     xone         0.66\n",
      "614              lego legends of chima: laval's journey      3ds         0.31\n",
      "615              lego legends of chima: laval's journey       ds         0.03\n",
      "616              lego legends of chima: laval's journey      psv         0.13\n",
      "617                            lego marvel super heroes      3ds         0.89\n",
      "618                            lego marvel super heroes       ds         0.38\n",
      "619                            lego marvel super heroes       pc         0.17\n",
      "620                            lego marvel super heroes      ps3         1.83\n",
      "621                            lego marvel super heroes      ps4         1.62\n",
      "622                            lego marvel super heroes      psv         0.51\n",
      "623                            lego marvel super heroes     wiiu         0.74\n",
      "624                            lego marvel super heroes     x360         2.22\n",
      "625                            lego marvel super heroes     xone         1.05\n",
      "626                              lego marvel's avengers      3ds         0.18\n",
      "627                              lego marvel's avengers      ps3         0.26\n",
      "628                              lego marvel's avengers      ps4         0.73\n",
      "629                              lego marvel's avengers      psv         0.12\n",
      "630                              lego marvel's avengers     wiiu         0.24\n",
      "631                              lego marvel's avengers     x360         0.32\n",
      "632                              lego marvel's avengers     xone         0.34\n",
      "633                       lego ninjago: shadow of ronin      3ds         0.21\n",
      "634                       lego ninjago: shadow of ronin      psv         0.11\n",
      "635                   lego star wars: the force awakens      3ds         0.13\n",
      "636                   lego star wars: the force awakens      ps3         0.17\n",
      "637                   lego star wars: the force awakens      ps4         0.71\n",
      "638                   lego star wars: the force awakens      psv         0.10\n",
      "639                   lego star wars: the force awakens     wiiu         0.15\n",
      "640                   lego star wars: the force awakens     x360         0.12\n",
      "641                   lego star wars: the force awakens     xone         0.29\n",
      "642                                     lego the hobbit      3ds         0.24\n",
      "643                                     lego the hobbit       pc         0.05\n",
      "644                                     lego the hobbit      ps3         0.46\n",
      "645                                     lego the hobbit      ps4         0.60\n",
      "646                                     lego the hobbit      psv         0.14\n",
      "647                                     lego the hobbit     wiiu         0.22\n",
      "648                                     lego the hobbit     x360         0.45\n",
      "649                                     lego the hobbit     xone         0.27\n",
      "650                                     life is strange       pc         0.05\n",
      "651                                     life is strange      ps4         0.39\n",
      "652                                     life is strange     xone         0.13\n",
      "653               lightning returns: final fantasy xiii      ps3         1.07\n",
      "654               lightning returns: final fantasy xiii     x360         0.26\n",
      "655                                   littlebigplanet 3      ps3         0.64\n",
      "656                                   littlebigplanet 3      ps4         1.91\n",
      "657                                 lords of the fallen       pc         0.03\n",
      "658                                 lords of the fallen      ps4         0.52\n",
      "659                                 lords of the fallen     xone         0.22\n",
      "660                                      lost dimension      ps3         0.07\n",
      "661                                      lost dimension      psv         0.08\n",
      "662                                       lost planet 3       pc         0.04\n",
      "663                                       lost planet 3      ps3         0.20\n",
      "664                                       lost planet 3     x360         0.12\n",
      "665                                      mad max (2015)      ps4         1.17\n",
      "666                                      mad max (2015)     xone         0.48\n",
      "667                                       madden nfl 15      ps3         1.46\n",
      "668                                       madden nfl 15      ps4         2.19\n",
      "669                                       madden nfl 15     x360         2.05\n",
      "670                                       madden nfl 15     xone         1.56\n",
      "671                                       madden nfl 16      ps3         0.77\n",
      "672                                       madden nfl 16      ps4         3.24\n",
      "673                                       madden nfl 16     x360         0.97\n",
      "674                                       madden nfl 16     xone         2.42\n",
      "675                                       madden nfl 17      ps3         0.11\n",
      "676                                       madden nfl 17      ps4         1.74\n",
      "677                                       madden nfl 17     x360         0.18\n",
      "678                                       madden nfl 17     xone         1.23\n",
      "679                                       madden nfl 25      ps3         1.87\n",
      "680                                       madden nfl 25      ps4         0.91\n",
      "681                                       madden nfl 25     x360         2.23\n",
      "682                                       madden nfl 25     xone         0.80\n",
      "683                                           mafia iii       pc         0.20\n",
      "684                                           mafia iii      ps4         1.81\n",
      "685                                           mafia iii     xone         0.62\n",
      "686                          major league baseball 2k13      ps3         0.16\n",
      "687                          major league baseball 2k13     x360         0.48\n",
      "688         mario & sonic at the rio 2016 olympic games      3ds         0.53\n",
      "689         mario & sonic at the rio 2016 olympic games     wiiu         0.34\n",
      "690                mario vs. donkey kong: tipping stars      3ds         0.06\n",
      "691                mario vs. donkey kong: tipping stars     wiiu         0.01\n",
      "692                          mark mcmorris infinite air      ps4         0.01\n",
      "693                          mark mcmorris infinite air     xone         0.01\n",
      "694                          mega man legacy collection      3ds         0.21\n",
      "695                          mega man legacy collection      ps4         0.09\n",
      "696                      metal gear rising: revengeance      ps3         1.42\n",
      "697                      metal gear rising: revengeance     x360         0.48\n",
      "698                   metal gear solid v: ground zeroes       pc         0.01\n",
      "699                   metal gear solid v: ground zeroes      ps3         0.58\n",
      "700                   metal gear solid v: ground zeroes      ps4         1.27\n",
      "701                   metal gear solid v: ground zeroes     x360         0.14\n",
      "702                   metal gear solid v: ground zeroes     xone         0.28\n",
      "703       metal gear solid v: the definitive experience      ps4         0.04\n",
      "704       metal gear solid v: the definitive experience     xone         0.01\n",
      "705                metal gear solid v: the phantom pain       pc         0.07\n",
      "706                metal gear solid v: the phantom pain      ps3         0.64\n",
      "707                metal gear solid v: the phantom pain      ps4         3.42\n",
      "708                metal gear solid v: the phantom pain     x360         0.18\n",
      "709                metal gear solid v: the phantom pain     xone         0.75\n",
      "710                                   metro: last light       pc         0.19\n",
      "711                                   metro: last light      ps3         0.42\n",
      "712                                   metro: last light      ps4         0.66\n",
      "713                                   metro: last light     x360         0.35\n",
      "714                                   metro: last light     xone         0.31\n",
      "715                      middle-earth: shadow of mordor       pc         0.35\n",
      "716                      middle-earth: shadow of mordor      ps3         0.56\n",
      "717                      middle-earth: shadow of mordor      ps4         2.96\n",
      "718                      middle-earth: shadow of mordor     x360         0.48\n",
      "719                      middle-earth: shadow of mordor     xone         1.36\n",
      "720                                        mighty no. 9      ps4         0.05\n",
      "721                                        mighty no. 9     wiiu         0.03\n",
      "722                                        mighty no. 9     xone         0.02\n",
      "723                                           minecraft      ps3         5.27\n",
      "724                                           minecraft      ps4         4.32\n",
      "725                                           minecraft      psv         1.96\n",
      "726                                           minecraft     wiiu         0.67\n",
      "727                                           minecraft     x360         9.18\n",
      "728                                           minecraft     xone         2.76\n",
      "729                               minecraft: story mode       pc         0.09\n",
      "730                               minecraft: story mode      ps3         0.69\n",
      "731                               minecraft: story mode      ps4         0.69\n",
      "732                               minecraft: story mode     x360         0.89\n",
      "733                               minecraft: story mode     xone         0.56\n",
      "734                              mirror's edge catalyst       pc         0.06\n",
      "735                              mirror's edge catalyst      ps4         0.34\n",
      "736                              mirror's edge catalyst     xone         0.16\n",
      "737                                    mlb 13: the show      ps3         0.74\n",
      "738                                    mlb 13: the show      psv         0.12\n",
      "739                                    mlb 14: the show      ps3         0.43\n",
      "740                                    mlb 14: the show      ps4         0.72\n",
      "741                                    mlb 14: the show      psv         0.11\n",
      "742                                    mlb 15: the show      ps3         0.39\n",
      "743                                    mlb 15: the show      ps4         0.93\n",
      "744                                    mlb 15: the show      psv         0.01\n",
      "745                                    mlb 16: the show      ps3         0.20\n",
      "746                                    mlb 16: the show      ps4         0.89\n",
      "747                              monster high 13 wishes      3ds         0.02\n",
      "748                              monster high 13 wishes     wiiu         0.02\n",
      "749                   monster high: new ghoul in school      3ds         0.04\n",
      "750                   monster high: new ghoul in school      ps3         0.04\n",
      "751                   monster high: new ghoul in school      wii         0.01\n",
      "752                   monster high: new ghoul in school     x360         0.02\n",
      "753                                     mortal kombat x       pc         0.05\n",
      "754                                     mortal kombat x      ps4         2.78\n",
      "755                                     mortal kombat x     xone         1.38\n",
      "756                   moshi monsters: katsuma unleashed      3ds         0.07\n",
      "757                   moshi monsters: katsuma unleashed       ds         0.12\n",
      "758                                          motogp 14       ps3         0.12\n",
      "759                                          motogp 14       ps4         0.18\n",
      "760                                          motogp 14       psv         0.01\n",
      "761                                          motogp 14      x360         0.08\n",
      "762                                           motogp 15      ps3         0.05\n",
      "763                                           motogp 15      ps4         0.17\n",
      "764                                           motogp 15     xone         0.03\n",
      "765                              murdered: soul suspect       pc         0.05\n",
      "766                              murdered: soul suspect      ps3         0.14\n",
      "767                              murdered: soul suspect      ps4         0.32\n",
      "768                              murdered: soul suspect     x360         0.10\n",
      "769                              murdered: soul suspect     xone         0.16\n",
      "770                               mx vs. atv supercross      ps3         0.03\n",
      "771                               mx vs. atv supercross     x360         0.06\n",
      "772                        mx vs. atv supercross encore      ps4         0.06\n",
      "773                        mx vs. atv supercross encore     xone         0.02\n",
      "774                                              mxgp 2       pc         0.01\n",
      "775                                              mxgp 2      ps4         0.08\n",
      "776                                              mxgp 2     xone         0.06\n",
      "777            naruto shippuden: ultimate ninja storm 3      ps3         0.94\n",
      "778            naruto shippuden: ultimate ninja storm 3     x360         0.51\n",
      "779            naruto shippuden: ultimate ninja storm 4      ps4         1.14\n",
      "780            naruto shippuden: ultimate ninja storm 4     xone         0.31\n",
      "781   naruto shippuden: ultimate ninja storm revolution      ps3         0.44\n",
      "782   naruto shippuden: ultimate ninja storm revolution     x360         0.22\n",
      "783                                          nascar '14      ps3         0.11\n",
      "784                                          nascar '14     x360         0.17\n",
      "785                               nascar heat evolution      ps4         0.05\n",
      "786                               nascar heat evolution     xone         0.03\n",
      "787               natsuiro high school: seishun hakusho      ps3         0.02\n",
      "788               natsuiro high school: seishun hakusho      ps4         0.02\n",
      "789                                    natural doctrine      ps3         0.06\n",
      "790                                    natural doctrine      ps4         0.10\n",
      "791                                    natural doctrine      psv         0.07\n",
      "792                                            nba 2k14      ps3         2.11\n",
      "793                                            nba 2k14      ps4         1.44\n",
      "794                                            nba 2k14     x360         2.52\n",
      "795                                            nba 2k14     xone         0.90\n",
      "796                                            nba 2k15      ps3         1.34\n",
      "797                                            nba 2k15      ps4         2.45\n",
      "798                                            nba 2k15     x360         1.63\n",
      "799                                            nba 2k15     xone         1.73\n",
      "800                                            nba 2k16       pc         0.10\n",
      "801                                            nba 2k16      ps3         0.73\n",
      "802                                            nba 2k16      ps4         3.87\n",
      "803                                            nba 2k16     x360         0.94\n",
      "804                                            nba 2k16     xone         2.34\n",
      "805                                            nba 2k17       pc         0.01\n",
      "806                                            nba 2k17      ps3         0.12\n",
      "807                                            nba 2k17      ps4         1.88\n",
      "808                                            nba 2k17     x360         0.12\n",
      "809                                            nba 2k17     xone         1.03\n",
      "810                                         nba live 14      ps4         0.24\n",
      "811                                         nba live 14     xone         0.20\n",
      "812                                         nba live 15      ps4         0.24\n",
      "813                                         nba live 15     xone         0.21\n",
      "814                                         nba live 16      ps4         0.17\n",
      "815                                         nba live 16     xone         0.11\n",
      "816                                    ncaa football 14      ps3         0.84\n",
      "817                                    ncaa football 14     x360         1.09\n",
      "818                               need for speed (2015)       pc         0.03\n",
      "819                               need for speed (2015)      ps4         2.42\n",
      "820                               need for speed (2015)     xone         0.69\n",
      "821                               need for speed rivals       pc         0.25\n",
      "822                               need for speed rivals      ps3         1.26\n",
      "823                               need for speed rivals      ps4         1.98\n",
      "824                               need for speed rivals     x360         0.80\n",
      "825                               need for speed rivals     xone         0.70\n",
      "826                                              nhl 14      ps3         0.54\n",
      "827                                              nhl 14     x360         0.54\n",
      "828                                              nhl 15      ps3         0.36\n",
      "829                                              nhl 15      ps4         0.60\n",
      "830                                              nhl 15     x360         0.45\n",
      "831                                              nhl 15     xone         0.41\n",
      "832                                              nhl 16      ps3         0.01\n",
      "833                                              nhl 16      ps4         0.63\n",
      "834                                              nhl 16     xone         0.48\n",
      "835                                              nhl 17      ps4         0.33\n",
      "836                                              nhl 17     xone         0.24\n",
      "837                                          nhl legacy      ps3         0.04\n",
      "838                                          nhl legacy     x360         0.07\n",
      "839          nitroplus blasterz: heroines infinite duel      ps3         0.01\n",
      "840          nitroplus blasterz: heroines infinite duel      ps4         0.03\n",
      "841                           nobunaga no yabou: souzou      ps3         0.19\n",
      "842                           nobunaga no yabou: souzou      ps4         0.06\n",
      "843            nobunaga's ambition: sphere of influence      ps4         0.04\n",
      "844            nobunaga's ambition: sphere of influence      psv         0.05\n",
      "845   nobunaga's ambition: sphere of influence - sen...      ps3         0.04\n",
      "846   nobunaga's ambition: sphere of influence - sen...      ps4         0.06\n",
      "847   nobunaga's ambition: sphere of influence - sen...      psv         0.04\n",
      "848                            odin sphere: leifthrasir      ps3         0.07\n",
      "849                            odin sphere: leifthrasir      ps4         0.20\n",
      "850                            odin sphere: leifthrasir      psv         0.14\n",
      "851                            one piece: burning blood      ps4         0.36\n",
      "852                            one piece: burning blood      psv         0.09\n",
      "853                            one piece: burning blood     xone         0.06\n",
      "854                        one piece: pirate warriors 2      ps3         0.66\n",
      "855                        one piece: pirate warriors 2      psv         0.12\n",
      "856                        one piece: pirate warriors 3      ps3         0.26\n",
      "857                        one piece: pirate warriors 3      ps4         0.47\n",
      "858                        one piece: pirate warriors 3      psv         0.17\n",
      "859                      one piece: unlimited world red      3ds         0.38\n",
      "860                      one piece: unlimited world red      ps3         0.29\n",
      "861                      one piece: unlimited world red      psv         0.13\n",
      "862                      one piece: unlimited world red     wiiu         0.06\n",
      "863                                           overwatch       pc         0.53\n",
      "864                                           overwatch      ps4         2.14\n",
      "865                                           overwatch     xone         1.06\n",
      "866                  pac-man and the ghostly adventures      3ds         0.10\n",
      "867                  pac-man and the ghostly adventures      ps3         0.07\n",
      "868                  pac-man and the ghostly adventures     wiiu         0.04\n",
      "869                  pac-man and the ghostly adventures     x360         0.08\n",
      "870                pac-man and the ghostly adventures 2      3ds         0.08\n",
      "871                pac-man and the ghostly adventures 2      ps3         0.10\n",
      "872                pac-man and the ghostly adventures 2     wiiu         0.07\n",
      "873                pac-man and the ghostly adventures 2     x360         0.10\n",
      "874                        painkiller: hell & damnation      ps3         0.04\n",
      "875                        painkiller: hell & damnation     x360         0.01\n",
      "876                                            payday 2       pc         0.05\n",
      "877                                            payday 2      ps3         0.44\n",
      "878                                            payday 2      ps4         0.29\n",
      "879                                            payday 2     x360         0.57\n",
      "880                                            payday 2     xone         0.18\n",
      "881                              penguins of madagascar      3ds         0.06\n",
      "882                              penguins of madagascar      wii         0.01\n",
      "883                              penguins of madagascar     wiiu         0.03\n",
      "884                            persona 4: arena ultimax      ps3         0.13\n",
      "885                            persona 4: arena ultimax     x360         0.08\n",
      "886                                           persona 5      ps3         0.11\n",
      "887                                           persona 5      ps4         0.37\n",
      "888                  plants vs. zombies: garden warfare       pc         0.02\n",
      "889                  plants vs. zombies: garden warfare      ps3         0.66\n",
      "890                  plants vs. zombies: garden warfare      ps4         0.61\n",
      "891                  plants vs. zombies: garden warfare     x360         1.07\n",
      "892                  plants vs. zombies: garden warfare     xone         0.68\n",
      "893                plants vs. zombies: garden warfare 2       pc         0.04\n",
      "894                plants vs. zombies: garden warfare 2      ps4         0.49\n",
      "895                plants vs. zombies: garden warfare 2     xone         0.48\n",
      "896                                    prison architect      ps4         0.03\n",
      "897                                    prison architect     xone         0.01\n",
      "898                           pro baseball spirits 2015      ps3         0.15\n",
      "899                           pro baseball spirits 2015      psv         0.13\n",
      "900                            pro cycling manager 2016       pc         0.03\n",
      "901                            pro cycling manager 2016      ps4         0.08\n",
      "902                           pro evolution soccer 2014      3ds         0.19\n",
      "903                           pro evolution soccer 2014       pc         0.11\n",
      "904                           pro evolution soccer 2014      ps3         0.95\n",
      "905                           pro evolution soccer 2014      psp         0.16\n",
      "906                           pro evolution soccer 2014     x360         0.24\n",
      "907                           pro evolution soccer 2015       pc         0.06\n",
      "908                           pro evolution soccer 2015      ps3         0.58\n",
      "909                           pro evolution soccer 2015      ps4         0.75\n",
      "910                           pro evolution soccer 2015     x360         0.14\n",
      "911                           pro evolution soccer 2015     xone         0.14\n",
      "912                           pro evolution soccer 2016       pc         0.04\n",
      "913                           pro evolution soccer 2016      ps3         0.40\n",
      "914                           pro evolution soccer 2016      ps4         0.78\n",
      "915                           pro evolution soccer 2016     x360         0.10\n",
      "916                           pro evolution soccer 2016     xone         0.11\n",
      "917                           pro evolution soccer 2017       pc         0.02\n",
      "918                           pro evolution soccer 2017      ps3         0.13\n",
      "919                           pro evolution soccer 2017      ps4         0.45\n",
      "920                           pro evolution soccer 2017     x360         0.03\n",
      "921                           pro evolution soccer 2017     xone         0.04\n",
      "922                              pro yaky? spirits 2013      ps3         0.20\n",
      "923                              pro yaky? spirits 2013      psp         0.20\n",
      "924                              pro yaky? spirits 2013      psv         0.06\n",
      "925                              pro yaky? spirits 2014      ps3         0.14\n",
      "926                              pro yaky? spirits 2014      psp         0.09\n",
      "927                              pro yaky? spirits 2014      psv         0.07\n",
      "928                                        project cars       pc         0.13\n",
      "929                                        project cars      ps4         1.08\n",
      "930                                        project cars     xone         0.26\n",
      "931                                     project setsuna      ps4         0.06\n",
      "932                                     project setsuna      psv         0.05\n",
      "933                         prototype: biohazard bundle      ps4         0.01\n",
      "934                         prototype: biohazard bundle     xone         0.01\n",
      "935                    psycho-pass: mandatory happiness      ps4         0.04\n",
      "936                    psycho-pass: mandatory happiness      psv         0.02\n",
      "937                                         putty squad      ps4         0.16\n",
      "938                                         putty squad      psv         0.03\n",
      "939                                    puyo puyo tetris      3ds         0.11\n",
      "940                                    puyo puyo tetris      ps3         0.04\n",
      "941                                    puyo puyo tetris      psv         0.05\n",
      "942                                    puyo puyo tetris     wiiu         0.02\n",
      "943                                       quantum break       pc         0.01\n",
      "944                                       quantum break     xone         0.56\n",
      "945                                r.b.i. baseball 2016      ps4         0.01\n",
      "946                                r.b.i. baseball 2016     xone         0.06\n",
      "947           rabbids invasion: the interactive tv show      ps4         0.01\n",
      "948           rabbids invasion: the interactive tv show     xone         0.01\n",
      "949                                      rayman legends      ps3         0.58\n",
      "950                                      rayman legends      ps4         1.02\n",
      "951                                      rayman legends      psv         0.14\n",
      "952                                      rayman legends     wiiu         0.66\n",
      "953                                      rayman legends     x360         0.43\n",
      "954                                      rayman legends     xone         0.34\n",
      "955                                         remember me       pc         0.05\n",
      "956                                         remember me      ps3         0.33\n",
      "957                                         remember me     x360         0.18\n",
      "958                                  resident evil 4 hd      ps4         0.05\n",
      "959                                  resident evil 4 hd     xone         0.02\n",
      "960                                  resident evil 5 hd      ps4         0.03\n",
      "961                                  resident evil 5 hd     xone         0.02\n",
      "962                                     resident evil 6      ps4         0.07\n",
      "963                                     resident evil 6     xone         0.04\n",
      "964                                  resident evil zero       pc         0.02\n",
      "965                                  resident evil zero      ps4         0.37\n",
      "966                                  resident evil zero     xone         0.08\n",
      "967                          resident evil: revelations       pc         0.04\n",
      "968                          resident evil: revelations      ps3         0.74\n",
      "969                          resident evil: revelations     wiiu         0.18\n",
      "970                          resident evil: revelations     x360         0.26\n",
      "971                        resident evil: revelations 2      ps3         0.29\n",
      "972                        resident evil: revelations 2      ps4         0.54\n",
      "973                        resident evil: revelations 2      psv         0.11\n",
      "974                        resident evil: revelations 2     x360         0.07\n",
      "975                        resident evil: revelations 2     xone         0.10\n",
      "976                                                ride       pc         0.03\n",
      "977                                                ride      ps3         0.05\n",
      "978                                                ride      ps4         0.23\n",
      "979                                                ride     x360         0.01\n",
      "980                                                ride     xone         0.10\n",
      "981                                              ride 2       pc         0.01\n",
      "982                                              ride 2      ps4         0.05\n",
      "983                                              ride 2     xone         0.01\n",
      "984                                        ride to hell      ps3         0.04\n",
      "985                                        ride to hell     x360         0.06\n",
      "986                             rise of the tomb raider       pc         0.12\n",
      "987                             rise of the tomb raider      ps4         0.94\n",
      "988                             rise of the tomb raider     x360         0.32\n",
      "989                             rise of the tomb raider     xone         1.38\n",
      "990                                risen 3: titan lords       pc         0.08\n",
      "991                                risen 3: titan lords      ps3         0.08\n",
      "992                                risen 3: titan lords      ps4         0.06\n",
      "993                                risen 3: titan lords     x360         0.06\n",
      "994                                         rock band 4      ps4         0.38\n",
      "995                                         rock band 4     xone         0.47\n",
      "996                                       rocket league       pc         0.05\n",
      "997                                       rocket league      ps4         0.36\n",
      "998                                       rocket league     xone         0.24\n",
      "999                                      rocksmith 2014       pc         0.66\n",
      "1000                                     rocksmith 2014      ps3         0.98\n",
      "1001                                     rocksmith 2014      ps4         0.63\n",
      "1002                                     rocksmith 2014     x360         0.94\n",
      "1003                                     rocksmith 2014     xone         0.41\n",
      "1004                  rocksmith 2014 edition remastered      ps4         0.01\n",
      "1005                  rocksmith 2014 edition remastered     xone         0.01\n",
      "1006                              rodea the sky soldier      3ds         0.03\n",
      "1007                              rodea the sky soldier     wiiu         0.12\n",
      "1008                   romance of the three kingdoms 13      ps3         0.04\n",
      "1009                   romance of the three kingdoms 13      ps4         0.08\n",
      "1010                                        root letter      ps4         0.01\n",
      "1011                                        root letter      psv         0.05\n",
      "1012                              rory mcilroy pga tour      ps4         0.51\n",
      "1013                              rory mcilroy pga tour     xone         0.27\n",
      "1014                                           rugby 15      ps3         0.09\n",
      "1015                                           rugby 15      ps4         0.12\n",
      "1016                                           rugby 15      psv         0.04\n",
      "1017                                           rugby 15     x360         0.03\n",
      "1018                                           rugby 15     xone         0.09\n",
      "1019                                  rugby challenge 3      ps3         0.02\n",
      "1020                                  rugby challenge 3      ps4         0.05\n",
      "1021                                  rugby challenge 3     x360         0.02\n",
      "1022                                  rugby challenge 3     xone         0.01\n",
      "1023                                rugby league live 3      ps3         0.01\n",
      "1024                                rugby league live 3      ps4         0.02\n",
      "1025                                rugby league live 3     x360         0.02\n",
      "1026                                rugby league live 3     xone         0.01\n",
      "1027                               rugby world cup 2015       pc         0.01\n",
      "1028                               rugby world cup 2015      ps3         0.06\n",
      "1029                               rugby world cup 2015      ps4         0.06\n",
      "1030                               rugby world cup 2015      psv         0.01\n",
      "1031                               rugby world cup 2015     x360         0.03\n",
      "1032                               rugby world cup 2015     xone         0.02\n",
      "1033                                           sacred 3       pc         0.02\n",
      "1034                                           sacred 3      ps3         0.11\n",
      "1035                                           sacred 3     x360         0.05\n",
      "1036                        saint seiya: soldiers' soul      ps3         0.04\n",
      "1037                        saint seiya: soldiers' soul      ps4         0.18\n",
      "1038                                      saints row iv       pc         0.19\n",
      "1039                                      saints row iv      ps3         1.25\n",
      "1040                                      saints row iv      ps4         0.40\n",
      "1041                                      saints row iv     x360         1.65\n",
      "1042                                      saints row iv     xone         0.21\n",
      "1043                        saints row: gat out of hell      ps4         0.05\n",
      "1044                        saints row: gat out of hell     xone         0.01\n",
      "1045                        sakura-sou no pet na kanojo      psp         0.01\n",
      "1046                        sakura-sou no pet na kanojo      psv         0.01\n",
      "1047                                 samurai warriors 4      ps3         0.26\n",
      "1048                                 samurai warriors 4      ps4         0.24\n",
      "1049                                 samurai warriors 4      psv         0.11\n",
      "1050                              samurai warriors 4-ii      ps3         0.11\n",
      "1051                              samurai warriors 4-ii      ps4         0.12\n",
      "1052                              samurai warriors 4-ii      psv         0.05\n",
      "1053                        samurai warriors 4: empires      ps3         0.06\n",
      "1054                        samurai warriors 4: empires      ps4         0.10\n",
      "1055                        samurai warriors 4: empires      psv         0.06\n",
      "1056                      samurai warriors chronicles 3      3ds         0.08\n",
      "1057                      samurai warriors chronicles 3      psv         0.06\n",
      "1058                      samurai warriors: sanada maru      ps3         0.01\n",
      "1059                      samurai warriors: sanada maru      ps4         0.03\n",
      "1060                      samurai warriors: sanada maru      psv         0.01\n",
      "1061      scribblenauts unmasked: a dc comics adventure      3ds         0.10\n",
      "1062      scribblenauts unmasked: a dc comics adventure     wiiu         0.10\n",
      "1063                     sd gundam g generation genesis      ps4         0.08\n",
      "1064                     sd gundam g generation genesis      psv         0.09\n",
      "1065                         sengoku basara 4: sumeragi      ps3         0.09\n",
      "1066                         sengoku basara 4: sumeragi      ps4         0.05\n",
      "1067                sengoku basara: sanada yukimura-den      ps3         0.03\n",
      "1068                sengoku basara: sanada yukimura-den      ps4         0.03\n",
      "1069                      senran kagura: estival versus      ps4         0.18\n",
      "1070                      senran kagura: estival versus      psv         0.17\n",
      "1071              sherlock holmes: crimes & punishments       pc         0.05\n",
      "1072              sherlock holmes: crimes & punishments      ps3         0.07\n",
      "1073              sherlock holmes: crimes & punishments      ps4         0.27\n",
      "1074              sherlock holmes: crimes & punishments     x360         0.05\n",
      "1075              sherlock holmes: crimes & punishments     xone         0.08\n",
      "1076              sherlock holmes: the devil's daughter       pc         0.01\n",
      "1077              sherlock holmes: the devil's daughter      ps4         0.01\n",
      "1078                                    shin hayarigami      ps3         0.04\n",
      "1079                                    shin hayarigami      psv         0.05\n",
      "1080                                  shin hayarigami 2      ps4         0.01\n",
      "1081                                  shin hayarigami 2      psv         0.02\n",
      "1082                                      shovel knight      3ds         0.15\n",
      "1083                                      shovel knight      ps4         0.07\n",
      "1084                                      shovel knight     wiiu         0.10\n",
      "1085                           singstar: ultimate party      ps3         0.09\n",
      "1086                           singstar: ultimate party      ps4         0.19\n",
      "1087                             skylanders imaginators      ps3         0.11\n",
      "1088                             skylanders imaginators      ps4         0.14\n",
      "1089                             skylanders imaginators     wiiu         0.19\n",
      "1090                             skylanders imaginators     x360         0.10\n",
      "1091                             skylanders imaginators     xone         0.10\n",
      "1092                              skylanders swap force      3ds         0.24\n",
      "1093                              skylanders swap force      ps3         1.02\n",
      "1094                              skylanders swap force      ps4         0.38\n",
      "1095                              skylanders swap force      wii         2.15\n",
      "1096                              skylanders swap force     wiiu         0.58\n",
      "1097                              skylanders swap force     x360         1.32\n",
      "1098                              skylanders swap force     xone         0.31\n",
      "1099                          skylanders: superchargers      3ds         0.12\n",
      "1100                          skylanders: superchargers      ps3         0.37\n",
      "1101                          skylanders: superchargers      ps4         0.30\n",
      "1102                          skylanders: superchargers      wii         0.15\n",
      "1103                          skylanders: superchargers     wiiu         0.48\n",
      "1104                          skylanders: superchargers     x360         0.42\n",
      "1105                          skylanders: superchargers     xone         0.24\n",
      "1106                              skylanders: trap team      3ds         0.28\n",
      "1107                              skylanders: trap team      ps3         0.67\n",
      "1108                              skylanders: trap team      ps4         0.44\n",
      "1109                              skylanders: trap team      wii         0.95\n",
      "1110                              skylanders: trap team     wiiu         0.70\n",
      "1111                              skylanders: trap team     x360         0.89\n",
      "1112                              skylanders: trap team     xone         0.37\n",
      "1113                                      sleeping dogs      ps4         0.43\n",
      "1114                                      sleeping dogs     xone         0.21\n",
      "1115                        sly cooper: thieves in time      ps3         0.55\n",
      "1116                        sly cooper: thieves in time      psv         0.25\n",
      "1117                                     sniper elite 3      ps3         0.28\n",
      "1118                                     sniper elite 3      ps4         0.69\n",
      "1119                                     sniper elite 3     x360         0.31\n",
      "1120                                     sniper elite 3     xone         0.34\n",
      "1121                            sniper: ghost warrior 2       pc         0.08\n",
      "1122                            sniper: ghost warrior 2      ps3         0.33\n",
      "1123                            sniper: ghost warrior 2     x360         0.20\n",
      "1124          soccer tsuku: pro soccer club o tsukurou!      ps3         0.13\n",
      "1125          soccer tsuku: pro soccer club o tsukurou!      psv         0.07\n",
      "1126                                   song of the deep       pc         0.03\n",
      "1127                                   song of the deep      ps4         0.07\n",
      "1128                                   song of the deep     xone         0.06\n",
      "1129                                   sonic lost world      3ds         0.48\n",
      "1130                                   sonic lost world     wiiu         0.39\n",
      "1131                     south park: the stick of truth       pc         0.18\n",
      "1132                     south park: the stick of truth      ps3         0.93\n",
      "1133                     south park: the stick of truth     x360         0.93\n",
      "1134  spongebob squarepants: plankton's robotic revenge      3ds         0.06\n",
      "1135  spongebob squarepants: plankton's robotic revenge     wiiu         0.05\n",
      "1136  spongebob squarepants: plankton's robotic revenge     x360         0.04\n",
      "1137                               spongebob: heropants      3ds         0.03\n",
      "1138                               spongebob: heropants      psv         0.01\n",
      "1139                               spongebob: heropants     x360         0.09\n",
      "1140          star ocean 5: integrity and faithlessness      ps3         0.04\n",
      "1141          star ocean 5: integrity and faithlessness      ps4         0.34\n",
      "1142                                star trek: the game       pc         0.02\n",
      "1143                                star trek: the game      ps3         0.24\n",
      "1144                                star trek: the game     x360         0.22\n",
      "1145                       star wars battlefront (2015)       pc         0.55\n",
      "1146                       star wars battlefront (2015)      ps4         7.98\n",
      "1147                       star wars battlefront (2015)     xone         3.66\n",
      "1148                                      steins;gate 0      ps3         0.03\n",
      "1149                                      steins;gate 0      ps4         0.05\n",
      "1150                                      steins;gate 0      psv         0.09\n",
      "1151           steins;gate: senkei kousoku no phonogram      ps3         0.06\n",
      "1152           steins;gate: senkei kousoku no phonogram     x360         0.02\n",
      "1153                                   street fighter v       pc         0.05\n",
      "1154                                   street fighter v      ps4         0.90\n",
      "1155                       summon night 6: lost borders      ps4         0.03\n",
      "1156                       summon night 6: lost borders      psv         0.06\n",
      "1157                              super hero generation      ps3         0.03\n",
      "1158                              super hero generation      psv         0.04\n",
      "1159                            super heroine chronicle      ps3         0.03\n",
      "1160                            super heroine chronicle      psv         0.05\n",
      "1161  super robot taisen og saga: masou kishin iii -...      ps3         0.07\n",
      "1162  super robot taisen og saga: masou kishin iii -...      psv         0.03\n",
      "1163             super robot wars og: the moon dwellers      ps3         0.06\n",
      "1164             super robot wars og: the moon dwellers      ps4         0.09\n",
      "1165                super smash bros. for wii u and 3ds      3ds         7.55\n",
      "1166                super smash bros. for wii u and 3ds     wiiu         4.87\n",
      "1167                  sword art online: hollow fragment      ps4         0.12\n",
      "1168                  sword art online: hollow fragment      psv         0.30\n",
      "1169               sword art online: hollow realization      ps4         0.20\n",
      "1170               sword art online: hollow realization      psv         0.15\n",
      "1171                        sword art online: lost song      ps3         0.10\n",
      "1172                        sword art online: lost song      ps4         0.25\n",
      "1173                        sword art online: lost song      psv         0.36\n",
      "1174                           sébastien loeb rally evo      ps4         0.05\n",
      "1175                           sébastien loeb rally evo     xone         0.01\n",
      "1176                                  tales of berseria      ps3         0.12\n",
      "1177                                  tales of berseria      ps4         0.23\n",
      "1178                                  tales of zestiria      ps3         0.56\n",
      "1179                                  tales of zestiria      ps4         0.40\n",
      "1180   teenage mutant ninja turtles: danger of the ooze      3ds         0.13\n",
      "1181   teenage mutant ninja turtles: danger of the ooze      ps3         0.24\n",
      "1182   teenage mutant ninja turtles: danger of the ooze     x360         0.20\n",
      "1183  teenage mutant ninja turtles: mutants in manha...      ps3         0.05\n",
      "1184  teenage mutant ninja turtles: mutants in manha...      ps4         0.09\n",
      "1185  teenage mutant ninja turtles: mutants in manha...     x360         0.04\n",
      "1186  teenage mutant ninja turtles: mutants in manha...     xone         0.04\n",
      "1187                                           terraria      3ds         0.09\n",
      "1188                                           terraria      ps3         0.41\n",
      "1189                                           terraria      ps4         0.07\n",
      "1190                                           terraria      psv         0.10\n",
      "1191                                           terraria     wiiu         0.03\n",
      "1192                                           terraria     x360         0.68\n",
      "1193                                           terraria     xone         0.04\n",
      "1194                    the amazing spider-man 2 (2014)      3ds         0.07\n",
      "1195                    the amazing spider-man 2 (2014)       pc         0.01\n",
      "1196                    the amazing spider-man 2 (2014)      ps3         0.26\n",
      "1197                    the amazing spider-man 2 (2014)      ps4         0.56\n",
      "1198                    the amazing spider-man 2 (2014)     wiiu         0.05\n",
      "1199                    the amazing spider-man 2 (2014)     x360         0.23\n",
      "1200                    the amazing spider-man 2 (2014)     xone         0.22\n",
      "1201                      the book of unwritten tales 2      ps4         0.07\n",
      "1202                      the book of unwritten tales 2     wiiu         0.01\n",
      "1203                      the bureau: xcom declassified       pc         0.05\n",
      "1204                      the bureau: xcom declassified      ps3         0.25\n",
      "1205                      the bureau: xcom declassified     x360         0.22\n",
      "1206                                           the crew       pc         0.16\n",
      "1207                                           the crew      ps4         1.72\n",
      "1208                                           the crew     x360         0.22\n",
      "1209                                           the crew     xone         0.64\n",
      "1210                                 the crew: wild run       pc         0.02\n",
      "1211                                 the crew: wild run      ps4         0.09\n",
      "1212                                 the crew: wild run     xone         0.02\n",
      "1213                     the croods: prehistoric party!      3ds         0.03\n",
      "1214                     the croods: prehistoric party!       ds         0.08\n",
      "1215                     the croods: prehistoric party!      wii         0.06\n",
      "1216                     the croods: prehistoric party!     wiiu         0.02\n",
      "1217                           the elder scrolls online       pc         0.90\n",
      "1218                           the elder scrolls online      ps4         1.75\n",
      "1219                           the elder scrolls online     xone         1.28\n",
      "1220                        the elder scrolls v: skyrim      ps4         1.32\n",
      "1221                        the elder scrolls v: skyrim     xone         0.75\n",
      "1222                                    the evil within       pc         0.28\n",
      "1223                                    the evil within      ps3         0.85\n",
      "1224                                    the evil within      ps4         1.79\n",
      "1225                                    the evil within     x360         0.46\n",
      "1226                                    the evil within     xone         0.66\n",
      "1227                                      the golf club      ps4         0.08\n",
      "1228                                      the golf club     xone         0.03\n",
      "1229                                     the last of us      ps3         5.86\n",
      "1230                                     the last of us      ps4         4.72\n",
      "1231  the legend of heroes: trails in the sky third ...      ps3         0.01\n",
      "1232  the legend of heroes: trails in the sky third ...      psv         0.02\n",
      "1233         the legend of heroes: trails of cold steel      ps3         0.20\n",
      "1234         the legend of heroes: trails of cold steel      psv         0.23\n",
      "1235      the legend of heroes: trails of cold steel ii      ps3         0.16\n",
      "1236      the legend of heroes: trails of cold steel ii      psv         0.18\n",
      "1237                           the lego movie videogame      3ds         0.69\n",
      "1238                           the lego movie videogame       pc         0.06\n",
      "1239                           the lego movie videogame      ps3         0.93\n",
      "1240                           the lego movie videogame      ps4         0.67\n",
      "1241                           the lego movie videogame      psv         0.30\n",
      "1242                           the lego movie videogame     wiiu         0.64\n",
      "1243                           the lego movie videogame     x360         1.27\n",
      "1244                           the lego movie videogame     xone         0.53\n",
      "1245        the peanuts movie: snoopy's grand adventure      3ds         0.03\n",
      "1246        the peanuts movie: snoopy's grand adventure      ps4         0.02\n",
      "1247                                       the smurfs 2       ds         0.18\n",
      "1248                                       the smurfs 2      ps3         0.10\n",
      "1249                                       the smurfs 2      wii         0.10\n",
      "1250                                       the smurfs 2     wiiu         0.08\n",
      "1251                                       the smurfs 2     x360         0.12\n",
      "1252                                   the technomancer       pc         0.01\n",
      "1253                                   the technomancer      ps4         0.07\n",
      "1254                                   the technomancer     xone         0.02\n",
      "1255                                          the voice      ps3         0.03\n",
      "1256                                          the voice     wiiu         0.09\n",
      "1257                                          the voice     x360         0.08\n",
      "1258                       the walking dead: season one      ps4         0.46\n",
      "1259                       the walking dead: season one      psv         0.14\n",
      "1260                       the walking dead: season one     xone         0.15\n",
      "1261                       the walking dead: season two      ps3         0.18\n",
      "1262                       the walking dead: season two      ps4         0.24\n",
      "1263                       the walking dead: season two      psv         0.10\n",
      "1264                       the walking dead: season two     x360         0.10\n",
      "1265                       the walking dead: season two     xone         0.14\n",
      "1266                the walking dead: survival instinct      ps3         0.51\n",
      "1267                the walking dead: survival instinct     wiiu         0.12\n",
      "1268                the walking dead: survival instinct     x360         0.62\n",
      "1269                   the witch and the hundred knight      ps3         0.21\n",
      "1270                   the witch and the hundred knight      ps4         0.09\n",
      "1271                           the witcher 3: wild hunt       pc         0.72\n",
      "1272                           the witcher 3: wild hunt      ps4         3.97\n",
      "1273                           the witcher 3: wild hunt     xone         1.30\n",
      "1274                                  the wolf among us      ps3         0.09\n",
      "1275                                  the wolf among us      ps4         0.21\n",
      "1276                                  the wolf among us      psv         0.04\n",
      "1277                                  the wolf among us     xone         0.08\n",
      "1278                                       thief (2014)       pc         0.10\n",
      "1279                                       thief (2014)      ps3         0.34\n",
      "1280                                       thief (2014)      ps4         0.82\n",
      "1281                                       thief (2014)     x360         0.27\n",
      "1282                                       thief (2014)     xone         0.45\n",
      "1283                            tiger woods pga tour 14      ps3         0.37\n",
      "1284                            tiger woods pga tour 14     x360         0.36\n",
      "1285                                          titanfall       pc         0.56\n",
      "1286                                          titanfall     x360         1.36\n",
      "1287                                          titanfall     xone         2.95\n",
      "1288                                        titanfall 2       pc         0.08\n",
      "1289                                        titanfall 2      ps4         0.76\n",
      "1290                                        titanfall 2     xone         0.57\n",
      "1291                       tokyo twilight ghost hunters      ps3         0.06\n",
      "1292                       tokyo twilight ghost hunters      psv         0.07\n",
      "1293                    tom clancy's rainbow six: siege       pc         0.23\n",
      "1294                    tom clancy's rainbow six: siege      ps4         2.21\n",
      "1295                    tom clancy's rainbow six: siege     xone         1.34\n",
      "1296              tom clancy's splinter cell: blacklist       pc         0.18\n",
      "1297              tom clancy's splinter cell: blacklist      ps3         0.94\n",
      "1298              tom clancy's splinter cell: blacklist     wiiu         0.12\n",
      "1299              tom clancy's splinter cell: blacklist     x360         0.98\n",
      "1300                          tom clancy's the division       pc         0.41\n",
      "1301                          tom clancy's the division      ps4         3.80\n",
      "1302                          tom clancy's the division     xone         2.17\n",
      "1303                                 tomb raider (2013)      ps3         2.42\n",
      "1304                                 tomb raider (2013)      ps4         1.40\n",
      "1305                                 tomb raider (2013)     x360         1.88\n",
      "1306                                 tomb raider (2013)     xone         0.61\n",
      "1307                           tony hawk's pro skater 5      ps3         0.06\n",
      "1308                           tony hawk's pro skater 5      ps4         0.20\n",
      "1309                           tony hawk's pro skater 5     x360         0.07\n",
      "1310                           tony hawk's pro skater 5     xone         0.12\n",
      "1311                                         toukiden 2      ps3         0.02\n",
      "1312                                         toukiden 2      ps4         0.08\n",
      "1313                                         toukiden 2      psv         0.11\n",
      "1314                                    toukiden kiwami      ps4         0.16\n",
      "1315                                    toukiden kiwami      psp         0.05\n",
      "1316                                    toukiden kiwami      psv         0.22\n",
      "1317                        toukiden: the age of demons      psp         0.18\n",
      "1318                        toukiden: the age of demons      psv         0.35\n",
      "1319                                tour de france 2014      ps3         0.01\n",
      "1320                                tour de france 2014      ps4         0.03\n",
      "1321                            toy soldiers: war chest      ps4         0.07\n",
      "1322                            toy soldiers: war chest     xone         0.06\n",
      "1323                                   trackmania turbo       pc         0.01\n",
      "1324                                   trackmania turbo      ps4         0.34\n",
      "1325                                   trackmania turbo     xone         0.06\n",
      "1326                transformer: rise of the dark spark      ps3         0.11\n",
      "1327                transformer: rise of the dark spark      ps4         0.21\n",
      "1328                transformer: rise of the dark spark     wiiu         0.06\n",
      "1329                transformer: rise of the dark spark     x360         0.16\n",
      "1330                transformer: rise of the dark spark     xone         0.11\n",
      "1331                          transformers: devastation       pc         0.03\n",
      "1332                          transformers: devastation      ps3         0.08\n",
      "1333                          transformers: devastation      ps4         0.23\n",
      "1334                          transformers: devastation     x360         0.08\n",
      "1335                          transformers: devastation     xone         0.14\n",
      "1336                                      trials fusion       pc         0.03\n",
      "1337                                      trials fusion      ps4         0.43\n",
      "1338                                      trials fusion     xone         0.24\n",
      "1339                                          tropico 5       pc         0.12\n",
      "1340                                          tropico 5      ps4         0.32\n",
      "1341                                          tropico 5     x360         0.05\n",
      "1342                           turbo: super stunt squad      3ds         0.01\n",
      "1343                           turbo: super stunt squad       ds         0.03\n",
      "1344                           turbo: super stunt squad      ps3         0.01\n",
      "1345                           turbo: super stunt squad      wii         0.01\n",
      "1346                           turbo: super stunt squad     wiiu         0.02\n",
      "1347                           turbo: super stunt squad     x360         0.01\n",
      "1348                                     uefa euro 2016      ps3         0.08\n",
      "1349                                     uefa euro 2016      ps4         0.30\n",
      "1350                   utawarerumono: futari no hakuoro      ps3         0.02\n",
      "1351                   utawarerumono: futari no hakuoro      ps4         0.05\n",
      "1352                   utawarerumono: futari no hakuoro      psv         0.06\n",
      "1353                   utawarerumono: itsuwari no kamen      ps3         0.05\n",
      "1354                   utawarerumono: itsuwari no kamen      ps4         0.06\n",
      "1355                   utawarerumono: itsuwari no kamen      psv         0.07\n",
      "1356                          valentino rossi: the game       pc         0.01\n",
      "1357                          valentino rossi: the game      ps4         0.07\n",
      "1358                          valentino rossi: the game     xone         0.03\n",
      "1359                                  warriors orochi 3      ps4         0.15\n",
      "1360                                  warriors orochi 3      psv         0.07\n",
      "1361                                  warriors orochi 3     xone         0.04\n",
      "1362                                        wasteland 2       pc         0.10\n",
      "1363                                        wasteland 2      ps4         0.12\n",
      "1364                                        wasteland 2     xone         0.06\n",
      "1365                                         watch dogs       pc         0.44\n",
      "1366                                         watch dogs      ps3         1.74\n",
      "1367                                         watch dogs      ps4         4.05\n",
      "1368                                         watch dogs     wiiu         0.13\n",
      "1369                                         watch dogs     x360         1.25\n",
      "1370                                         watch dogs     xone         1.57\n",
      "1371                                       watch dogs 2      ps4         1.13\n",
      "1372                                       watch dogs 2     xone         0.36\n",
      "1373                                winning post 7 2013      ps3         0.05\n",
      "1374                                winning post 7 2013      psv         0.02\n",
      "1375                                    winning post 8       ps3         0.05\n",
      "1376                                    winning post 8       psv         0.04\n",
      "1377                                winning post 8 2015      ps3         0.02\n",
      "1378                                winning post 8 2015      psv         0.02\n",
      "1379                                winning post 8 2016      ps4         0.02\n",
      "1380                                winning post 8 2016      psv         0.01\n",
      "1381                         wolfenstein: the new order       pc         0.45\n",
      "1382                         wolfenstein: the new order      ps3         0.44\n",
      "1383                         wolfenstein: the new order      ps4         1.54\n",
      "1384                         wolfenstein: the new order     x360         0.38\n",
      "1385                         wolfenstein: the new order     xone         0.68\n",
      "1386                         wolfenstein: the old blood       pc         0.08\n",
      "1387                         wolfenstein: the old blood      ps4         0.43\n",
      "1388                         wolfenstein: the old blood     xone         0.15\n",
      "1389                             world of final fantasy      ps4         0.34\n",
      "1390                             world of final fantasy      psv         0.21\n",
      "1391                                         worms: wmd      ps4         0.03\n",
      "1392                                         worms: wmd     xone         0.01\n",
      "1393                wrc 5: fia world rally championship      ps3         0.08\n",
      "1394                wrc 5: fia world rally championship      ps4         0.06\n",
      "1395                wrc 5: fia world rally championship      psv         0.03\n",
      "1396                wrc 5: fia world rally championship     xone         0.01\n",
      "1397                                           wwe 2k14      ps3         1.14\n",
      "1398                                           wwe 2k14     x360         1.11\n",
      "1399                                           wwe 2k15      ps3         0.78\n",
      "1400                                           wwe 2k15      ps4         1.15\n",
      "1401                                           wwe 2k15     x360         0.64\n",
      "1402                                           wwe 2k15     xone         0.57\n",
      "1403                                           wwe 2k16      ps3         0.51\n",
      "1404                                           wwe 2k16      ps4         1.21\n",
      "1405                                           wwe 2k16     x360         0.43\n",
      "1406                                           wwe 2k16     xone         0.59\n",
      "1407                                           wwe 2k17      ps3         0.14\n",
      "1408                                           wwe 2k17      ps4         0.60\n",
      "1409                                           wwe 2k17     x360         0.10\n",
      "1410                                           wwe 2k17     xone         0.26\n",
      "1411                                xblaze code: embryo      ps3         0.04\n",
      "1412                                xblaze code: embryo      psv         0.02\n",
      "1413                              xblaze: lost memories      ps3         0.02\n",
      "1414                              xblaze: lost memories      psv         0.01\n",
      "1415                                             xcom 2       pc         0.23\n",
      "1416                                             xcom 2      ps4         0.14\n",
      "1417                                             xcom 2     xone         0.04\n",
      "1418                              yaiba: ninja gaiden z      ps3         0.10\n",
      "1419                              yaiba: ninja gaiden z     x360         0.04\n",
      "1420                                      yakuza kiwami      ps3         0.12\n",
      "1421                                      yakuza kiwami      ps4         0.16\n",
      "1422                     yakuza zero: the place of oath      ps3         0.25\n",
      "1423                     yakuza zero: the place of oath      ps4         0.17\n",
      "1424                                      yakuza: ishin      ps3         0.26\n",
      "1425                                      yakuza: ishin      ps4         0.15\n",
      "1426                                   yoru no nai kuni      ps3         0.05\n",
      "1427                                   yoru no nai kuni      ps4         0.08\n",
      "1428                                   yoru no nai kuni      psv         0.08\n",
      "1429                              young justice: legacy      3ds         0.03\n",
      "1430                              young justice: legacy      ps3         0.09\n",
      "1431                              young justice: legacy      wii         0.03\n",
      "1432                              young justice: legacy     x360         0.01\n",
      "1433                     zero escape: zero time dilemma      3ds         0.08\n",
      "1434                     zero escape: zero time dilemma      psv         0.06\n",
      "1435                                zombie army trilogy      ps4         0.20\n",
      "1436                                zombie army trilogy     xone         0.11\n",
      "1437                                             zombiu      ps4         0.06\n",
      "1438                                             zombiu     xone         0.01\n",
      "1439                                  zoo tycoon (2013)     x360         0.09\n",
      "1440                                  zoo tycoon (2013)     xone         0.36\n",
      "1441                         zumba fitness: world party      wii         0.23\n",
      "1442                         zumba fitness: world party     xone         0.24\n"
     ]
    }
   ],
   "source": [
    "game_counts = filtered_games['name'].value_counts()\n",
    "multi_platform_games = game_counts[game_counts > 1].index  \n",
    "\n",
    "multi_platform_sales = filtered_games[filtered_games['name'].isin(multi_platform_games)]\n",
    "\n",
    "multi_platform_sales = multi_platform_sales.groupby(['name', 'platform'])['total_sales'].sum().reset_index()\n",
    "\n",
    "print(multi_platform_sales)\n"
   ]
  },
  {
   "cell_type": "code",
   "execution_count": null,
   "metadata": {
    "trusted": true
   },
   "outputs": [
    {
     "name": "stdout",
     "output_type": "stream",
     "text": [
      "   platform  total_sales\n",
      "4       ps4       314.14\n",
      "3       ps3       181.43\n",
      "10     xone       159.32\n",
      "0       3ds       143.25\n",
      "9      x360       136.80\n",
      "8      wiiu        64.63\n",
      "2        pc        39.43\n",
      "6       psv        32.99\n",
      "7       wii        13.66\n",
      "5       psp         3.50\n",
      "1        ds         1.54\n"
     ]
    }
   ],
   "source": [
    "platform_sales = filtered_games.groupby('platform')['total_sales'].sum().reset_index()\n",
    "platform_sales_sorted = platform_sales.sort_values(by='total_sales', ascending=False)\n",
    "\n",
    "print(platform_sales_sorted)"
   ]
  },
  {
   "cell_type": "markdown",
   "metadata": {},
   "source": [
    "We can see that while ds is most popular in japan, ps2 is most popular in na and eu. "
   ]
  },
  {
   "cell_type": "code",
   "execution_count": null,
   "metadata": {
    "trusted": true
   },
   "outputs": [
    {
     "name": "stdout",
     "output_type": "stream",
     "text": [
      "top 5 na platforms\n",
      "  platform  na_sales  jp_sales  eu_sales\n",
      "0      ps4    108.74     15.96    141.09\n",
      "1     xone     93.12      0.34     51.59\n",
      "2     x360     81.66      0.51     42.52\n",
      "3      ps3     63.50     23.35     67.81\n",
      "4      3ds     38.20     67.81     30.96\n",
      "\n",
      "\n",
      "top 5 jp plfatforms\n",
      "  platform  na_sales  jp_sales  eu_sales\n",
      "0      3ds     38.20     67.81     30.96\n",
      "1      ps3     63.50     23.35     67.81\n",
      "2      psv      5.04     18.59      6.10\n",
      "3      ps4    108.74     15.96    141.09\n",
      "4     wiiu     29.21     10.88     19.85\n",
      "\n",
      "\n",
      "top 5 eu platforms\n",
      "  platform  na_sales  jp_sales  eu_sales\n",
      "0      ps4    108.74     15.96    141.09\n",
      "1      ps3     63.50     23.35     67.81\n",
      "2     xone     93.12      0.34     51.59\n",
      "3     x360     81.66      0.51     42.52\n",
      "4      3ds     38.20     67.81     30.96\n"
     ]
    }
   ],
   "source": [
    "region_sales_platform = filtered_games.groupby('platform')[['na_sales', 'jp_sales', 'eu_sales']].sum()\n",
    "\n",
    "top_5_na_platforms = region_sales_platform.nlargest(5, 'na_sales').reset_index()\n",
    "top_5_jp_platforms = region_sales_platform.nlargest(5, 'jp_sales').reset_index()\n",
    "top_5_eu_platforms = region_sales_platform.nlargest(5, 'eu_sales').reset_index()\n",
    "\n",
    "print('top 5 na platforms')\n",
    "print(top_5_na_platforms)\n",
    "print('\\n')\n",
    "\n",
    "print('top 5 jp plfatforms')\n",
    "print(top_5_jp_platforms)\n",
    "print('\\n')\n",
    "\n",
    "print('top 5 eu platforms')\n",
    "print(top_5_eu_platforms)\n"
   ]
  },
  {
   "cell_type": "code",
   "execution_count": null,
   "metadata": {
    "trusted": true
   },
   "outputs": [
    {
     "name": "stdout",
     "output_type": "stream",
     "text": [
      "           genre  total_sales  average_sales\n",
      "0         action       321.87       0.420196\n",
      "8        shooter       232.98       1.245882\n",
      "10        sports       150.65       0.703972\n",
      "7   role-playing       145.89       0.499623\n",
      "3           misc        62.82       0.405290\n",
      "4       platform        42.63       0.576081\n",
      "6         racing        39.89       0.469294\n",
      "2       fighting        35.31       0.441375\n",
      "1      adventure        23.64       0.096490\n",
      "9     simulation        21.76       0.350968\n",
      "11      strategy        10.08       0.180000\n",
      "5         puzzle         3.17       0.186471\n"
     ]
    }
   ],
   "source": [
    "genre_sales = filtered_games.groupby('genre')['total_sales'].agg(['sum', 'mean']).reset_index()\n",
    "\n",
    "genre_sales.columns = ['genre', 'total_sales', 'average_sales']\n",
    "\n",
    "genre_sales = genre_sales.sort_values(by='total_sales', ascending=False)\n",
    "\n",
    "print(genre_sales)\n"
   ]
  },
  {
   "cell_type": "markdown",
   "metadata": {},
   "source": [
    "We see that while role playing games are most popular in japan, action games are more popular in na and eu. We can also see that sports games are relatively popular everywhere, but role playing games are mainly only popular in japan, as they are not in the top 5 in na or eu. "
   ]
  },
  {
   "cell_type": "code",
   "execution_count": null,
   "metadata": {
    "trusted": true
   },
   "outputs": [
    {
     "name": "stdout",
     "output_type": "stream",
     "text": [
      "top 5 na genres\n",
      "          genre  na_sales  jp_sales  eu_sales\n",
      "0        action    126.05     40.49    118.13\n",
      "1       shooter    109.74      6.61     87.86\n",
      "2        sports     65.27      5.41     60.52\n",
      "3  role-playing     46.40     51.04     36.97\n",
      "4          misc     27.49      9.20     20.04\n",
      "\n",
      "\n",
      "top 5 jp genres\n",
      "          genre  na_sales  jp_sales  eu_sales\n",
      "0  role-playing     46.40     51.04     36.97\n",
      "1        action    126.05     40.49    118.13\n",
      "2          misc     27.49      9.20     20.04\n",
      "3      fighting     15.55      7.65      8.55\n",
      "4       shooter    109.74      6.61     87.86\n",
      "\n",
      "\n",
      "top 5 eu genres\n",
      "          genre  na_sales  jp_sales  eu_sales\n",
      "0        action    126.05     40.49    118.13\n",
      "1       shooter    109.74      6.61     87.86\n",
      "2        sports     65.27      5.41     60.52\n",
      "3  role-playing     46.40     51.04     36.97\n",
      "4        racing     12.96      2.30     20.19\n"
     ]
    }
   ],
   "source": [
    "region_sales = filtered_games.groupby('genre')[['na_sales', 'jp_sales', 'eu_sales']].sum()\n",
    "\n",
    "top_5_na = region_sales.nlargest(5, 'na_sales').reset_index()\n",
    "top_5_jp = region_sales.nlargest(5, 'jp_sales').reset_index()\n",
    "top_5_eu = region_sales.nlargest(5, 'eu_sales').reset_index()\n",
    "\n",
    "print('top 5 na genres')\n",
    "print(top_5_na)\n",
    "print('\\n')\n",
    "\n",
    "print('top 5 jp genres')\n",
    "print(top_5_jp)\n",
    "print('\\n')\n",
    "\n",
    "print('top 5 eu genres')\n",
    "print(top_5_eu)\n",
    "\n"
   ]
  },
  {
   "cell_type": "code",
   "execution_count": null,
   "metadata": {
    "trusted": true
   },
   "outputs": [
    {
     "data": {
      "image/png": "[encoded data removed]",
      "text/plain": [
       "<Figure size 2000x600 with 3 Axes>"
      ]
     },
     "metadata": {},
     "output_type": "display_data"
    }
   ],
   "source": [
    "fig, axes = plt.subplots(1, 3, figsize=(20, 6))\n",
    "\n",
    "axes[0].bar(top_5_na['genre'], top_5_na['na_sales'], color='blue')\n",
    "axes[0].set_title('Top 5 Genres in NA')\n",
    "axes[0].set_xlabel('Genre')\n",
    "axes[0].set_ylabel('NA Sales (millions)')\n",
    "axes[0].grid(axis='y', linestyle='--', alpha=0.7)\n",
    "\n",
    "axes[1].bar(top_5_jp['genre'], top_5_jp['jp_sales'], color='green')\n",
    "axes[1].set_title('Top 5 Genres in JP')\n",
    "axes[1].set_xlabel('Genre')\n",
    "axes[1].set_ylabel('JP Sales (millions)')\n",
    "axes[1].grid(axis='y', linestyle='--', alpha=0.7)\n",
    "\n",
    "axes[2].bar(top_5_eu['genre'], top_5_eu['eu_sales'], color='orange')\n",
    "axes[2].set_title('Top 5 Genres in EU')\n",
    "axes[2].set_xlabel('Genre')\n",
    "axes[2].set_ylabel('EU Sales (millions)')\n",
    "axes[2].grid(axis='y', linestyle='--', alpha=0.7)\n",
    "\n",
    "plt.tight_layout()\n",
    "plt.show()\n"
   ]
  },
  {
   "cell_type": "markdown",
   "metadata": {},
   "source": [
    "We can see that games rated e are most popular in all regions, likely because they are available to everyone whereas other more restrictive ratings like ao or m are only available to people over the ages of 18 and 17 respectively. Ec is the least popular, likely because games rated ec often only appeal to \"early childhood\" demographic making them very restrictive and less popular among other age groups. While the overall sales differ between regions there is not much difference in which ratings are more or less popular as these statistics are largely the same across all regions. "
   ]
  },
  {
   "cell_type": "code",
   "execution_count": null,
   "metadata": {
    "trusted": true
   },
   "outputs": [
    {
     "name": "stdout",
     "output_type": "stream",
     "text": [
      "  rating  na_sales  jp_sales  eu_sales\n",
      "0      e     79.05     15.14     83.36\n",
      "1   e10+     54.24      5.89     42.69\n",
      "2      m    165.21     14.11    145.32\n",
      "3      t     49.79     20.59     41.95\n",
      "4      u     89.42     85.05     78.91\n",
      "\n",
      "\n",
      "['m' 'u' 'e' 't' 'e10+']\n"
     ]
    },
    {
     "name": "stderr",
     "output_type": "stream",
     "text": [
      "/tmp/ipykernel_50/3224852755.py:1: SettingWithCopyWarning: \n",
      "A value is trying to be set on a copy of a slice from a DataFrame.\n",
      "Try using .loc[row_indexer,col_indexer] = value instead\n",
      "\n",
      "See the caveats in the documentation: https://pandas.pydata.org/pandas-docs/stable/user_guide/indexing.html#returning-a-view-versus-a-copy\n",
      "  filtered_games['rating'] = filtered_games['rating'].fillna('u')\n"
     ]
    }
   ],
   "source": [
    "filtered_games['rating'] = filtered_games['rating'].fillna('u')\n",
    "\n",
    "rating_region_sales = filtered_games.groupby('rating')[['na_sales', 'jp_sales', 'eu_sales']].sum().reset_index()\n",
    "\n",
    "print(rating_region_sales)\n",
    "\n",
    "print('\\n')\n",
    "\n",
    "print(filtered_games['rating'].unique())\n",
    "\n"
   ]
  },
  {
   "cell_type": "code",
   "execution_count": null,
   "metadata": {
    "trusted": true
   },
   "outputs": [
    {
     "data": {
      "image/png": "[encoded data removed]",
      "text/plain": [
       "<Figure size 1200x600 with 1 Axes>"
      ]
     },
     "metadata": {},
     "output_type": "display_data"
    }
   ],
   "source": [
    "x = np.arange(len(rating_region_sales['rating']))\n",
    "width = 0.25\n",
    "\n",
    "plt.figure(figsize=(12, 6))\n",
    "\n",
    "plt.bar(x - width, rating_region_sales['na_sales'], width, label='NA Sales', color='blue')\n",
    "plt.bar(x, rating_region_sales['jp_sales'], width, label='JP Sales', color='green')\n",
    "plt.bar(x + width, rating_region_sales['eu_sales'], width, label='EU Sales', color='orange')\n",
    "\n",
    "plt.xlabel('Rating')\n",
    "plt.ylabel('Sales (in millions)')\n",
    "plt.title('Sales by Rating Across Regions')\n",
    "plt.xticks(x, rating_region_sales['rating'])\n",
    "\n",
    "plt.legend()\n",
    "plt.grid(axis='y', linestyle='--', alpha=0.7)\n",
    "\n",
    "plt.tight_layout()\n",
    "plt.show()"
   ]
  },
  {
   "cell_type": "markdown",
   "metadata": {},
   "source": [
    "H0: The average user ratings are not different between xbox one games and pc games\n",
    "\n",
    "H1: The average user ratings are different between xbox one gaes and pc games "
   ]
  },
  {
   "cell_type": "code",
   "execution_count": null,
   "metadata": {
    "trusted": true
   },
   "outputs": [
    {
     "name": "stdout",
     "output_type": "stream",
     "text": [
      "{'Platform': ['XOne', 'PC'], 'Average User Score': [6.521428571428572, 7.062467532467533], 'T-Statistic': [-4.653422798410771, -4.653422798410771], 'P-Value': [4.935072360183574e-06, 4.935072360183574e-06], 'Null Hypothesis': ['The average user ratings on XOne and PC are the same.'], 'Conclusion': ['Reject Null Hypothesis']}\n"
     ]
    }
   ],
   "source": [
    "games['user_score'] = pd.to_numeric(games['user_score'], errors='coerce')\n",
    "games = games.dropna(subset=['user_score'])\n",
    "\n",
    "xone_scores = games[games['platform'] == 'xone']['user_score']\n",
    "pc_scores = games[games['platform'] == 'pc']['user_score']\n",
    "\n",
    "if xone_scores.empty or pc_scores.empty:\n",
    "    print(\"No valid user scores available for XOne or PC.\")\n",
    "    ttest_results_df = pd.DataFrame({\"Error\": [\"No valid data for t-test.\"]})\n",
    "else:\n",
    "    xone_avg = xone_scores.mean()\n",
    "    pc_avg = pc_scores.mean()\n",
    "\n",
    "    t_stat, p_value = stats.ttest_ind(xone_scores, pc_scores, equal_var=False)  # Welch’s t-test\n",
    "\n",
    "    ttest_results = {\n",
    "        \"Platform\": [\"XOne\", \"PC\"],\n",
    "        \"Average User Score\": [xone_avg, pc_avg],\n",
    "        \"T-Statistic\": [t_stat, t_stat],\n",
    "        \"P-Value\": [p_value, p_value],\n",
    "        \"Null Hypothesis\": [\"The average user ratings on XOne and PC are the same.\"],\n",
    "        \"Conclusion\": [\"Reject Null Hypothesis\" if p_value < 0.05 else \"Fail to Reject Null Hypothesis\"]\n",
    "    }\n",
    "\n",
    "\n",
    "\n",
    "print(ttest_results)"
   ]
  },
  {
   "cell_type": "markdown",
   "metadata": {},
   "source": [
    "H0: Average user scores for action games are not different from sports games \n",
    "\n",
    "H1: Average user score for action games are different from sports games "
   ]
  },
  {
   "cell_type": "code",
   "execution_count": null,
   "metadata": {
    "trusted": true
   },
   "outputs": [
    {
     "name": "stdout",
     "output_type": "stream",
     "text": [
      "{'Genre': ['Action', 'Sports'], 'Average User Score': [7.054043715846995, 6.961196736174069], 'T-Statistic': [1.57746791633354, 1.57746791633354], 'P-Value': [0.11483818791498286, 0.11483818791498286], 'Null Hypothesis': ['The average user scores for Action and Sports genres are the same.'], 'Conclusion': ['Fail to Reject Null Hypothesis']}\n"
     ]
    }
   ],
   "source": [
    "games['user_score'] = pd.to_numeric(games['user_score'], errors='coerce')\n",
    "games = games.dropna(subset=['user_score'])\n",
    "\n",
    "action_scores = games[games['genre'] == 'action']['user_score']\n",
    "sports_scores = games[games['genre'] == 'sports']['user_score']\n",
    "\n",
    "if action_scores.empty or sports_scores.empty:\n",
    "    print(\"No valid user scores available for Action or Sports genres.\")\n",
    "    ttest_results_df = pd.DataFrame({\"Error\": [\"No valid data for t-test.\"]})\n",
    "else:\n",
    "    \n",
    "    action_avg = action_scores.mean()\n",
    "    sports_avg = sports_scores.mean()\n",
    "\n",
    "    t_stat, p_value = stats.ttest_ind(action_scores, sports_scores, equal_var=False) \n",
    "\n",
    "    genre_ttest_results = {\n",
    "        \"Genre\": [\"Action\", \"Sports\"],\n",
    "        \"Average User Score\": [action_avg, sports_avg],\n",
    "        \"T-Statistic\": [t_stat, t_stat],\n",
    "        \"P-Value\": [p_value, p_value],\n",
    "        \"Null Hypothesis\": [\"The average user scores for Action and Sports genres are the same.\"],\n",
    "        \"Conclusion\": [\"Reject Null Hypothesis\" if p_value < 0.01 else \"Fail to Reject Null Hypothesis\"]\n",
    "    }\n",
    "\n",
    "    \n",
    "print(genre_ttest_results)"
   ]
  },
  {
   "cell_type": "markdown",
   "metadata": {},
   "source": [
    "# Conclusions\n",
    "\n",
    "    We uncovered many insights by analyzing the games dataset. We found that the period from 2000 to 2010 was the most lucrative period in gaming. We found that ps2 was the most lucrative platform of all time, with the highest total sales accross all of its gaming titles, with 2004 being its best year. \n",
    "    \n",
    "    We also found that both critic scores and user scores had a positive correlation with sales accross all regions. We found that europe and north america had similar patterns in top genres and platforms, with action and ps2 respectively holding the top spots, while japanese customers had slightly differnt preferences, resulting in ds and role playing games being slightly more popular there. \n",
    "    \n",
    "    We tested the null hypothesis that average user ratings are not different between xbox one games and pc games, and ultimately were able to reject this null hypothesis in favor of an alternative hypothesis that they were in fact different. We also tested the null hypohtesis that user scores of action games and sports games were not different, and we were not able to reject this null hypotehsis. "
   ]
  }
 ],
 "metadata": {
  "ExecuteTimeLog": [
   {
    "duration": 351,
    "start_time": "2025-03-02T18:00:20.519Z"
   },
   {
    "duration": 40,
    "start_time": "2025-03-02T18:00:56.412Z"
   },
   {
    "duration": 5,
    "start_time": "2025-03-02T18:01:11.984Z"
   },
   {
    "duration": 31,
    "start_time": "2025-03-02T18:01:23.684Z"
   },
   {
    "duration": 157,
    "start_time": "2025-03-02T18:38:12.465Z"
   },
   {
    "duration": 13,
    "start_time": "2025-03-02T18:43:33.044Z"
   },
   {
    "duration": 12,
    "start_time": "2025-03-02T18:43:59.214Z"
   },
   {
    "duration": 336,
    "start_time": "2025-03-02T18:44:12.953Z"
   },
   {
    "duration": 39,
    "start_time": "2025-03-02T18:44:13.292Z"
   },
   {
    "duration": 20,
    "start_time": "2025-03-02T18:44:13.333Z"
   },
   {
    "duration": 20,
    "start_time": "2025-03-02T18:49:57.809Z"
   },
   {
    "duration": 36,
    "start_time": "2025-03-02T18:51:09.673Z"
   },
   {
    "duration": 35,
    "start_time": "2025-03-02T18:51:25.012Z"
   },
   {
    "duration": 184,
    "start_time": "2025-03-02T20:31:26.990Z"
   },
   {
    "duration": 213,
    "start_time": "2025-03-02T20:31:40.487Z"
   },
   {
    "duration": 367,
    "start_time": "2025-03-02T20:33:15.135Z"
   },
   {
    "duration": 50,
    "start_time": "2025-03-02T20:33:15.505Z"
   },
   {
    "duration": 21,
    "start_time": "2025-03-02T20:33:15.557Z"
   },
   {
    "duration": 9,
    "start_time": "2025-03-02T20:33:15.580Z"
   },
   {
    "duration": 14,
    "start_time": "2025-03-02T20:34:33.397Z"
   },
   {
    "duration": 339,
    "start_time": "2025-03-02T23:03:59.807Z"
   },
   {
    "duration": 49,
    "start_time": "2025-03-02T23:04:00.148Z"
   },
   {
    "duration": 21,
    "start_time": "2025-03-02T23:04:00.198Z"
   },
   {
    "duration": 190,
    "start_time": "2025-03-02T23:04:00.220Z"
   },
   {
    "duration": 0,
    "start_time": "2025-03-02T23:04:00.412Z"
   },
   {
    "duration": 2,
    "start_time": "2025-03-02T23:04:40.069Z"
   },
   {
    "duration": 34,
    "start_time": "2025-03-02T23:04:40.100Z"
   },
   {
    "duration": 19,
    "start_time": "2025-03-02T23:04:40.137Z"
   },
   {
    "duration": 6,
    "start_time": "2025-03-02T23:04:40.158Z"
   },
   {
    "duration": 11,
    "start_time": "2025-03-02T23:04:40.167Z"
   },
   {
    "duration": 157,
    "start_time": "2025-03-03T01:13:16.834Z"
   },
   {
    "duration": 344,
    "start_time": "2025-03-03T01:13:24.458Z"
   },
   {
    "duration": 48,
    "start_time": "2025-03-03T01:13:24.804Z"
   },
   {
    "duration": 20,
    "start_time": "2025-03-03T01:13:24.854Z"
   },
   {
    "duration": 6,
    "start_time": "2025-03-03T01:13:24.877Z"
   },
   {
    "duration": 12,
    "start_time": "2025-03-03T01:13:24.884Z"
   },
   {
    "duration": 17,
    "start_time": "2025-03-03T01:13:24.897Z"
   },
   {
    "duration": 8,
    "start_time": "2025-03-03T01:27:27.212Z"
   },
   {
    "duration": 7,
    "start_time": "2025-03-03T01:28:40.209Z"
   },
   {
    "duration": 189,
    "start_time": "2025-03-03T01:28:45.879Z"
   },
   {
    "duration": 7,
    "start_time": "2025-03-03T01:29:10.509Z"
   },
   {
    "duration": 15,
    "start_time": "2025-03-03T01:58:34.829Z"
   },
   {
    "duration": 307,
    "start_time": "2025-03-03T01:58:50.498Z"
   },
   {
    "duration": 37,
    "start_time": "2025-03-03T01:58:50.807Z"
   },
   {
    "duration": 20,
    "start_time": "2025-03-03T01:58:50.845Z"
   },
   {
    "duration": 7,
    "start_time": "2025-03-03T01:58:50.867Z"
   },
   {
    "duration": 12,
    "start_time": "2025-03-03T01:58:50.876Z"
   },
   {
    "duration": 7,
    "start_time": "2025-03-03T01:58:50.911Z"
   },
   {
    "duration": 7,
    "start_time": "2025-03-03T01:58:50.919Z"
   },
   {
    "duration": 197,
    "start_time": "2025-03-03T01:58:50.928Z"
   },
   {
    "duration": 1943,
    "start_time": "2025-03-03T01:59:31.727Z"
   },
   {
    "duration": 68,
    "start_time": "2025-03-03T01:59:47.909Z"
   },
   {
    "duration": 138,
    "start_time": "2025-03-03T01:59:55.946Z"
   },
   {
    "duration": 166,
    "start_time": "2025-03-03T02:01:53.028Z"
   },
   {
    "duration": 155,
    "start_time": "2025-03-03T02:09:08.267Z"
   },
   {
    "duration": 206,
    "start_time": "2025-03-03T17:41:56.225Z"
   },
   {
    "duration": 12,
    "start_time": "2025-03-03T17:42:07.424Z"
   },
   {
    "duration": 11,
    "start_time": "2025-03-03T17:42:11.037Z"
   },
   {
    "duration": 14,
    "start_time": "2025-03-03T17:42:14.295Z"
   },
   {
    "duration": 12,
    "start_time": "2025-03-03T17:42:16.614Z"
   },
   {
    "duration": 341,
    "start_time": "2025-03-03T17:42:53.355Z"
   },
   {
    "duration": 47,
    "start_time": "2025-03-03T17:42:53.698Z"
   },
   {
    "duration": 21,
    "start_time": "2025-03-03T17:42:53.746Z"
   },
   {
    "duration": 7,
    "start_time": "2025-03-03T17:42:53.769Z"
   },
   {
    "duration": 11,
    "start_time": "2025-03-03T17:42:53.778Z"
   },
   {
    "duration": 26,
    "start_time": "2025-03-03T17:42:53.791Z"
   },
   {
    "duration": 7,
    "start_time": "2025-03-03T17:42:53.818Z"
   },
   {
    "duration": 2052,
    "start_time": "2025-03-03T17:42:53.827Z"
   },
   {
    "duration": 10,
    "start_time": "2025-03-03T17:42:55.881Z"
   },
   {
    "duration": 7,
    "start_time": "2025-03-03T17:51:29.405Z"
   },
   {
    "duration": 4,
    "start_time": "2025-03-03T17:51:41.489Z"
   },
   {
    "duration": 141,
    "start_time": "2025-03-03T17:51:47.554Z"
   },
   {
    "duration": 137,
    "start_time": "2025-03-03T17:56:05.349Z"
   },
   {
    "duration": 7,
    "start_time": "2025-03-03T17:57:21.429Z"
   },
   {
    "duration": 567,
    "start_time": "2025-03-03T17:57:29.999Z"
   },
   {
    "duration": 260,
    "start_time": "2025-03-03T17:57:38.724Z"
   },
   {
    "duration": 337,
    "start_time": "2025-03-03T17:59:41.338Z"
   },
   {
    "duration": 40,
    "start_time": "2025-03-03T17:59:41.677Z"
   },
   {
    "duration": 20,
    "start_time": "2025-03-03T17:59:41.720Z"
   },
   {
    "duration": 7,
    "start_time": "2025-03-03T17:59:41.742Z"
   },
   {
    "duration": 12,
    "start_time": "2025-03-03T17:59:41.752Z"
   },
   {
    "duration": 6,
    "start_time": "2025-03-03T17:59:41.766Z"
   },
   {
    "duration": 8,
    "start_time": "2025-03-03T17:59:41.773Z"
   },
   {
    "duration": 302,
    "start_time": "2025-03-03T17:59:41.812Z"
   },
   {
    "duration": 10,
    "start_time": "2025-03-03T17:59:42.115Z"
   },
   {
    "duration": 201,
    "start_time": "2025-03-03T17:59:42.126Z"
   },
   {
    "duration": 302,
    "start_time": "2025-03-03T18:00:59.132Z"
   },
   {
    "duration": 157,
    "start_time": "2025-03-03T18:57:34.753Z"
   },
   {
    "duration": 314,
    "start_time": "2025-03-03T18:57:50.003Z"
   },
   {
    "duration": 47,
    "start_time": "2025-03-03T18:57:50.319Z"
   },
   {
    "duration": 22,
    "start_time": "2025-03-03T18:57:50.368Z"
   },
   {
    "duration": 7,
    "start_time": "2025-03-03T18:57:50.393Z"
   },
   {
    "duration": 22,
    "start_time": "2025-03-03T18:57:50.402Z"
   },
   {
    "duration": 7,
    "start_time": "2025-03-03T18:57:50.427Z"
   },
   {
    "duration": 7,
    "start_time": "2025-03-03T18:57:50.436Z"
   },
   {
    "duration": 2110,
    "start_time": "2025-03-03T18:57:50.445Z"
   },
   {
    "duration": 1838,
    "start_time": "2025-03-03T18:57:52.558Z"
   },
   {
    "duration": 374,
    "start_time": "2025-03-03T18:57:54.399Z"
   },
   {
    "duration": 10,
    "start_time": "2025-03-03T19:10:22.372Z"
   },
   {
    "duration": 9,
    "start_time": "2025-03-03T19:11:46.304Z"
   },
   {
    "duration": 35,
    "start_time": "2025-03-03T19:11:50.870Z"
   },
   {
    "duration": 86,
    "start_time": "2025-03-03T19:21:27.123Z"
   },
   {
    "duration": 357,
    "start_time": "2025-03-03T20:54:20.243Z"
   },
   {
    "duration": 44,
    "start_time": "2025-03-03T20:54:20.603Z"
   },
   {
    "duration": 21,
    "start_time": "2025-03-03T20:54:20.649Z"
   },
   {
    "duration": 8,
    "start_time": "2025-03-03T20:54:20.672Z"
   },
   {
    "duration": 11,
    "start_time": "2025-03-03T20:54:20.681Z"
   },
   {
    "duration": 34,
    "start_time": "2025-03-03T20:54:20.694Z"
   },
   {
    "duration": 7,
    "start_time": "2025-03-03T20:54:20.729Z"
   },
   {
    "duration": 308,
    "start_time": "2025-03-03T20:54:20.737Z"
   },
   {
    "duration": 10,
    "start_time": "2025-03-03T20:54:21.047Z"
   },
   {
    "duration": 77,
    "start_time": "2025-03-03T20:54:21.059Z"
   },
   {
    "duration": 342,
    "start_time": "2025-03-03T20:54:21.138Z"
   },
   {
    "duration": 319,
    "start_time": "2025-03-03T20:54:39.081Z"
   },
   {
    "duration": 45,
    "start_time": "2025-03-03T20:54:39.402Z"
   },
   {
    "duration": 22,
    "start_time": "2025-03-03T20:54:39.449Z"
   },
   {
    "duration": 8,
    "start_time": "2025-03-03T20:54:39.473Z"
   },
   {
    "duration": 12,
    "start_time": "2025-03-03T20:54:39.482Z"
   },
   {
    "duration": 7,
    "start_time": "2025-03-03T20:54:39.523Z"
   },
   {
    "duration": 9,
    "start_time": "2025-03-03T20:54:39.532Z"
   },
   {
    "duration": 310,
    "start_time": "2025-03-03T20:54:39.542Z"
   },
   {
    "duration": 11,
    "start_time": "2025-03-03T20:54:39.855Z"
   },
   {
    "duration": 72,
    "start_time": "2025-03-03T20:54:39.868Z"
   },
   {
    "duration": 331,
    "start_time": "2025-03-03T20:54:39.942Z"
   },
   {
    "duration": 307,
    "start_time": "2025-03-03T20:56:06.117Z"
   },
   {
    "duration": 36,
    "start_time": "2025-03-03T20:56:06.426Z"
   },
   {
    "duration": 25,
    "start_time": "2025-03-03T20:56:06.466Z"
   },
   {
    "duration": 37,
    "start_time": "2025-03-03T20:56:06.495Z"
   },
   {
    "duration": 8,
    "start_time": "2025-03-03T20:56:06.533Z"
   },
   {
    "duration": 7,
    "start_time": "2025-03-03T20:56:06.543Z"
   },
   {
    "duration": 11,
    "start_time": "2025-03-03T20:56:06.552Z"
   },
   {
    "duration": 318,
    "start_time": "2025-03-03T20:56:06.565Z"
   },
   {
    "duration": 44,
    "start_time": "2025-03-03T20:56:06.885Z"
   },
   {
    "duration": 59,
    "start_time": "2025-03-03T20:56:06.931Z"
   },
   {
    "duration": 297,
    "start_time": "2025-03-03T20:56:06.992Z"
   },
   {
    "duration": 3,
    "start_time": "2025-03-03T20:56:30.792Z"
   },
   {
    "duration": 35,
    "start_time": "2025-03-03T20:56:30.797Z"
   },
   {
    "duration": 20,
    "start_time": "2025-03-03T20:56:30.835Z"
   },
   {
    "duration": 6,
    "start_time": "2025-03-03T20:56:30.857Z"
   },
   {
    "duration": 11,
    "start_time": "2025-03-03T20:56:30.865Z"
   },
   {
    "duration": 6,
    "start_time": "2025-03-03T20:56:30.878Z"
   },
   {
    "duration": 39,
    "start_time": "2025-03-03T20:56:30.886Z"
   },
   {
    "duration": 177,
    "start_time": "2025-03-03T20:56:30.927Z"
   },
   {
    "duration": 29,
    "start_time": "2025-03-03T20:56:31.106Z"
   },
   {
    "duration": 61,
    "start_time": "2025-03-03T20:56:31.136Z"
   },
   {
    "duration": 354,
    "start_time": "2025-03-03T20:56:31.198Z"
   },
   {
    "duration": 2226,
    "start_time": "2025-03-03T22:03:04.743Z"
   },
   {
    "duration": 344,
    "start_time": "2025-03-03T22:03:14.570Z"
   },
   {
    "duration": 51,
    "start_time": "2025-03-03T22:03:14.917Z"
   },
   {
    "duration": 21,
    "start_time": "2025-03-03T22:03:14.970Z"
   },
   {
    "duration": 6,
    "start_time": "2025-03-03T22:03:14.993Z"
   },
   {
    "duration": 12,
    "start_time": "2025-03-03T22:03:15.002Z"
   },
   {
    "duration": 7,
    "start_time": "2025-03-03T22:03:15.015Z"
   },
   {
    "duration": 7,
    "start_time": "2025-03-03T22:03:15.025Z"
   },
   {
    "duration": 338,
    "start_time": "2025-03-03T22:03:15.034Z"
   },
   {
    "duration": 9,
    "start_time": "2025-03-03T22:03:15.374Z"
   },
   {
    "duration": 53,
    "start_time": "2025-03-03T22:03:15.385Z"
   },
   {
    "duration": 305,
    "start_time": "2025-03-03T22:03:15.440Z"
   },
   {
    "duration": 6,
    "start_time": "2025-03-03T22:03:15.747Z"
   },
   {
    "duration": 186,
    "start_time": "2025-03-03T22:03:49.149Z"
   },
   {
    "duration": 760,
    "start_time": "2025-03-03T22:04:09.842Z"
   },
   {
    "duration": 35,
    "start_time": "2025-03-03T22:04:10.604Z"
   },
   {
    "duration": 29,
    "start_time": "2025-03-03T22:04:10.641Z"
   },
   {
    "duration": 6,
    "start_time": "2025-03-03T22:04:10.673Z"
   },
   {
    "duration": 12,
    "start_time": "2025-03-03T22:04:10.680Z"
   },
   {
    "duration": 7,
    "start_time": "2025-03-03T22:04:10.693Z"
   },
   {
    "duration": 7,
    "start_time": "2025-03-03T22:04:10.702Z"
   },
   {
    "duration": 196,
    "start_time": "2025-03-03T22:04:10.710Z"
   },
   {
    "duration": 9,
    "start_time": "2025-03-03T22:04:10.908Z"
   },
   {
    "duration": 71,
    "start_time": "2025-03-03T22:04:10.919Z"
   },
   {
    "duration": 336,
    "start_time": "2025-03-03T22:04:10.992Z"
   },
   {
    "duration": 534,
    "start_time": "2025-03-03T22:04:11.330Z"
   },
   {
    "duration": 575,
    "start_time": "2025-03-03T22:13:37.584Z"
   },
   {
    "duration": 489,
    "start_time": "2025-03-03T22:14:03.625Z"
   },
   {
    "duration": 213,
    "start_time": "2025-03-03T22:52:57.219Z"
   },
   {
    "duration": 6,
    "start_time": "2025-03-03T22:53:13.518Z"
   },
   {
    "duration": 6,
    "start_time": "2025-03-03T22:58:09.724Z"
   },
   {
    "duration": 554,
    "start_time": "2025-03-03T22:58:50.055Z"
   },
   {
    "duration": 8,
    "start_time": "2025-03-03T22:59:13.184Z"
   },
   {
    "duration": 781,
    "start_time": "2025-03-03T22:59:45.939Z"
   },
   {
    "duration": 40,
    "start_time": "2025-03-03T22:59:46.722Z"
   },
   {
    "duration": 28,
    "start_time": "2025-03-03T22:59:46.764Z"
   },
   {
    "duration": 7,
    "start_time": "2025-03-03T22:59:46.794Z"
   },
   {
    "duration": 12,
    "start_time": "2025-03-03T22:59:46.803Z"
   },
   {
    "duration": 7,
    "start_time": "2025-03-03T22:59:46.816Z"
   },
   {
    "duration": 7,
    "start_time": "2025-03-03T22:59:46.825Z"
   },
   {
    "duration": 201,
    "start_time": "2025-03-03T22:59:46.833Z"
   },
   {
    "duration": 9,
    "start_time": "2025-03-03T22:59:47.036Z"
   },
   {
    "duration": 69,
    "start_time": "2025-03-03T22:59:47.048Z"
   },
   {
    "duration": 371,
    "start_time": "2025-03-03T22:59:47.119Z"
   },
   {
    "duration": 558,
    "start_time": "2025-03-03T22:59:47.492Z"
   },
   {
    "duration": 8,
    "start_time": "2025-03-03T22:59:48.052Z"
   },
   {
    "duration": 157,
    "start_time": "2025-03-04T00:11:24.341Z"
   },
   {
    "duration": 700,
    "start_time": "2025-03-04T00:19:03.099Z"
   },
   {
    "duration": 703,
    "start_time": "2025-03-04T00:20:32.844Z"
   },
   {
    "duration": 145,
    "start_time": "2025-03-04T00:21:51.699Z"
   },
   {
    "duration": 179,
    "start_time": "2025-03-04T01:33:22.611Z"
   },
   {
    "duration": 111,
    "start_time": "2025-03-04T01:35:28.919Z"
   },
   {
    "duration": 175,
    "start_time": "2025-03-04T01:40:07.549Z"
   },
   {
    "duration": 7,
    "start_time": "2025-03-04T01:43:25.237Z"
   },
   {
    "duration": 9,
    "start_time": "2025-03-04T02:48:28.109Z"
   },
   {
    "duration": 10,
    "start_time": "2025-03-04T02:48:35.908Z"
   },
   {
    "duration": 14,
    "start_time": "2025-03-04T02:49:29.889Z"
   },
   {
    "duration": 7,
    "start_time": "2025-03-04T02:52:54.875Z"
   },
   {
    "duration": 7,
    "start_time": "2025-03-04T02:53:27.249Z"
   },
   {
    "duration": 160,
    "start_time": "2025-03-05T17:39:52.931Z"
   },
   {
    "duration": 2547,
    "start_time": "2025-03-05T17:39:59.211Z"
   },
   {
    "duration": 50,
    "start_time": "2025-03-05T17:40:01.761Z"
   },
   {
    "duration": 25,
    "start_time": "2025-03-05T17:40:01.812Z"
   },
   {
    "duration": 7,
    "start_time": "2025-03-05T17:40:01.839Z"
   },
   {
    "duration": 13,
    "start_time": "2025-03-05T17:40:01.848Z"
   },
   {
    "duration": 7,
    "start_time": "2025-03-05T17:40:01.863Z"
   },
   {
    "duration": 7,
    "start_time": "2025-03-05T17:40:01.872Z"
   },
   {
    "duration": 205,
    "start_time": "2025-03-05T17:40:01.881Z"
   },
   {
    "duration": 8,
    "start_time": "2025-03-05T17:40:02.088Z"
   },
   {
    "duration": 71,
    "start_time": "2025-03-05T17:40:02.098Z"
   },
   {
    "duration": 326,
    "start_time": "2025-03-05T17:40:02.171Z"
   },
   {
    "duration": 632,
    "start_time": "2025-03-05T17:40:02.499Z"
   },
   {
    "duration": 8,
    "start_time": "2025-03-05T17:40:03.133Z"
   },
   {
    "duration": 168,
    "start_time": "2025-03-05T17:40:03.144Z"
   },
   {
    "duration": 144,
    "start_time": "2025-03-05T17:40:03.313Z"
   },
   {
    "duration": 113,
    "start_time": "2025-03-05T17:40:03.459Z"
   },
   {
    "duration": 236,
    "start_time": "2025-03-05T17:40:03.574Z"
   },
   {
    "duration": 0,
    "start_time": "2025-03-05T17:40:03.811Z"
   },
   {
    "duration": 0,
    "start_time": "2025-03-05T17:40:03.813Z"
   },
   {
    "duration": 2,
    "start_time": "2025-03-05T17:41:32.790Z"
   },
   {
    "duration": 35,
    "start_time": "2025-03-05T17:41:32.795Z"
   },
   {
    "duration": 24,
    "start_time": "2025-03-05T17:41:32.832Z"
   },
   {
    "duration": 5,
    "start_time": "2025-03-05T17:41:32.858Z"
   },
   {
    "duration": 11,
    "start_time": "2025-03-05T17:41:32.866Z"
   },
   {
    "duration": 7,
    "start_time": "2025-03-05T17:41:32.878Z"
   },
   {
    "duration": 7,
    "start_time": "2025-03-05T17:41:32.886Z"
   },
   {
    "duration": 194,
    "start_time": "2025-03-05T17:41:32.895Z"
   },
   {
    "duration": 16,
    "start_time": "2025-03-05T17:41:33.090Z"
   },
   {
    "duration": 66,
    "start_time": "2025-03-05T17:41:33.108Z"
   },
   {
    "duration": 319,
    "start_time": "2025-03-05T17:41:33.176Z"
   },
   {
    "duration": 620,
    "start_time": "2025-03-05T17:41:33.497Z"
   },
   {
    "duration": 13,
    "start_time": "2025-03-05T17:41:34.120Z"
   },
   {
    "duration": 144,
    "start_time": "2025-03-05T17:41:34.137Z"
   },
   {
    "duration": 152,
    "start_time": "2025-03-05T17:41:34.283Z"
   },
   {
    "duration": 119,
    "start_time": "2025-03-05T17:41:34.437Z"
   },
   {
    "duration": 9,
    "start_time": "2025-03-05T17:41:34.558Z"
   },
   {
    "duration": 15,
    "start_time": "2025-03-05T17:41:34.569Z"
   },
   {
    "duration": 13,
    "start_time": "2025-03-05T17:41:34.586Z"
   },
   {
    "duration": 2,
    "start_time": "2025-03-05T17:45:39.703Z"
   },
   {
    "duration": 35,
    "start_time": "2025-03-05T17:45:39.736Z"
   },
   {
    "duration": 26,
    "start_time": "2025-03-05T17:45:39.773Z"
   },
   {
    "duration": 5,
    "start_time": "2025-03-05T17:45:39.801Z"
   },
   {
    "duration": 24,
    "start_time": "2025-03-05T17:45:39.808Z"
   },
   {
    "duration": 6,
    "start_time": "2025-03-05T17:45:39.835Z"
   },
   {
    "duration": 7,
    "start_time": "2025-03-05T17:45:39.842Z"
   },
   {
    "duration": 178,
    "start_time": "2025-03-05T17:45:39.851Z"
   },
   {
    "duration": 16,
    "start_time": "2025-03-05T17:45:40.031Z"
   },
   {
    "duration": 53,
    "start_time": "2025-03-05T17:45:40.049Z"
   },
   {
    "duration": 313,
    "start_time": "2025-03-05T17:45:40.104Z"
   },
   {
    "duration": 511,
    "start_time": "2025-03-05T17:45:40.419Z"
   },
   {
    "duration": 9,
    "start_time": "2025-03-05T17:45:40.931Z"
   },
   {
    "duration": 149,
    "start_time": "2025-03-05T17:45:40.942Z"
   },
   {
    "duration": 235,
    "start_time": "2025-03-05T17:45:41.094Z"
   },
   {
    "duration": 129,
    "start_time": "2025-03-05T17:45:41.331Z"
   },
   {
    "duration": 9,
    "start_time": "2025-03-05T17:45:41.461Z"
   },
   {
    "duration": 14,
    "start_time": "2025-03-05T17:45:41.472Z"
   },
   {
    "duration": 14,
    "start_time": "2025-03-05T17:45:41.488Z"
   },
   {
    "duration": 21,
    "start_time": "2025-03-05T18:42:55.056Z"
   },
   {
    "duration": 9,
    "start_time": "2025-03-05T18:43:13.049Z"
   },
   {
    "duration": 21,
    "start_time": "2025-03-05T20:19:54.089Z"
   },
   {
    "duration": 26,
    "start_time": "2025-03-05T20:20:33.172Z"
   },
   {
    "duration": 869,
    "start_time": "2025-03-05T20:20:43.745Z"
   },
   {
    "duration": 44,
    "start_time": "2025-03-05T20:20:44.618Z"
   },
   {
    "duration": 25,
    "start_time": "2025-03-05T20:20:44.664Z"
   },
   {
    "duration": 9,
    "start_time": "2025-03-05T20:20:44.692Z"
   },
   {
    "duration": 32,
    "start_time": "2025-03-05T20:20:44.704Z"
   },
   {
    "duration": 8,
    "start_time": "2025-03-05T20:20:44.737Z"
   },
   {
    "duration": 8,
    "start_time": "2025-03-05T20:20:44.747Z"
   },
   {
    "duration": 187,
    "start_time": "2025-03-05T20:20:44.757Z"
   },
   {
    "duration": 9,
    "start_time": "2025-03-05T20:20:44.947Z"
   },
   {
    "duration": 56,
    "start_time": "2025-03-05T20:20:44.958Z"
   },
   {
    "duration": 363,
    "start_time": "2025-03-05T20:20:45.032Z"
   },
   {
    "duration": 569,
    "start_time": "2025-03-05T20:20:45.397Z"
   },
   {
    "duration": 12,
    "start_time": "2025-03-05T20:20:45.968Z"
   },
   {
    "duration": 164,
    "start_time": "2025-03-05T20:20:45.983Z"
   },
   {
    "duration": 178,
    "start_time": "2025-03-05T20:20:46.149Z"
   },
   {
    "duration": 8,
    "start_time": "2025-03-05T20:20:46.331Z"
   },
   {
    "duration": 0,
    "start_time": "2025-03-05T20:20:46.341Z"
   },
   {
    "duration": 1,
    "start_time": "2025-03-05T20:20:46.342Z"
   },
   {
    "duration": 0,
    "start_time": "2025-03-05T20:20:46.345Z"
   },
   {
    "duration": 0,
    "start_time": "2025-03-05T20:20:46.346Z"
   },
   {
    "duration": 0,
    "start_time": "2025-03-05T20:20:46.347Z"
   },
   {
    "duration": 0,
    "start_time": "2025-03-05T20:20:46.348Z"
   },
   {
    "duration": 11,
    "start_time": "2025-03-05T20:21:05.084Z"
   },
   {
    "duration": 12,
    "start_time": "2025-03-05T20:23:18.829Z"
   },
   {
    "duration": 1107,
    "start_time": "2025-03-05T20:24:04.405Z"
   },
   {
    "duration": 19,
    "start_time": "2025-03-05T20:25:38.594Z"
   },
   {
    "duration": 11,
    "start_time": "2025-03-05T20:25:42.521Z"
   },
   {
    "duration": 12,
    "start_time": "2025-03-05T20:27:07.305Z"
   },
   {
    "duration": 15,
    "start_time": "2025-03-05T20:30:19.368Z"
   },
   {
    "duration": 12,
    "start_time": "2025-03-05T20:31:11.575Z"
   },
   {
    "duration": 162,
    "start_time": "2025-03-05T21:09:08.670Z"
   },
   {
    "duration": 2657,
    "start_time": "2025-03-05T21:09:15.520Z"
   },
   {
    "duration": 47,
    "start_time": "2025-03-05T21:09:18.180Z"
   },
   {
    "duration": 25,
    "start_time": "2025-03-05T21:09:18.229Z"
   },
   {
    "duration": 7,
    "start_time": "2025-03-05T21:09:18.256Z"
   },
   {
    "duration": 11,
    "start_time": "2025-03-05T21:09:18.265Z"
   },
   {
    "duration": 6,
    "start_time": "2025-03-05T21:09:18.279Z"
   },
   {
    "duration": 28,
    "start_time": "2025-03-05T21:09:18.287Z"
   },
   {
    "duration": 179,
    "start_time": "2025-03-05T21:09:18.316Z"
   },
   {
    "duration": 13,
    "start_time": "2025-03-05T21:09:18.498Z"
   },
   {
    "duration": 51,
    "start_time": "2025-03-05T21:09:18.513Z"
   },
   {
    "duration": 315,
    "start_time": "2025-03-05T21:09:18.566Z"
   },
   {
    "duration": 612,
    "start_time": "2025-03-05T21:09:18.882Z"
   },
   {
    "duration": 14,
    "start_time": "2025-03-05T21:09:19.496Z"
   },
   {
    "duration": 176,
    "start_time": "2025-03-05T21:09:19.513Z"
   },
   {
    "duration": 151,
    "start_time": "2025-03-05T21:09:19.692Z"
   },
   {
    "duration": 5,
    "start_time": "2025-03-05T21:09:19.846Z"
   },
   {
    "duration": 0,
    "start_time": "2025-03-05T21:09:19.853Z"
   },
   {
    "duration": 0,
    "start_time": "2025-03-05T21:09:19.854Z"
   },
   {
    "duration": 0,
    "start_time": "2025-03-05T21:09:19.854Z"
   },
   {
    "duration": 0,
    "start_time": "2025-03-05T21:09:19.855Z"
   },
   {
    "duration": 0,
    "start_time": "2025-03-05T21:09:19.857Z"
   },
   {
    "duration": 0,
    "start_time": "2025-03-05T21:09:19.858Z"
   },
   {
    "duration": 0,
    "start_time": "2025-03-05T21:09:19.860Z"
   },
   {
    "duration": 830,
    "start_time": "2025-03-05T21:09:39.215Z"
   },
   {
    "duration": 36,
    "start_time": "2025-03-05T21:09:40.047Z"
   },
   {
    "duration": 32,
    "start_time": "2025-03-05T21:09:40.085Z"
   },
   {
    "duration": 8,
    "start_time": "2025-03-05T21:09:40.119Z"
   },
   {
    "duration": 11,
    "start_time": "2025-03-05T21:09:40.130Z"
   },
   {
    "duration": 7,
    "start_time": "2025-03-05T21:09:40.143Z"
   },
   {
    "duration": 7,
    "start_time": "2025-03-05T21:09:40.152Z"
   },
   {
    "duration": 198,
    "start_time": "2025-03-05T21:09:40.161Z"
   },
   {
    "duration": 9,
    "start_time": "2025-03-05T21:09:40.361Z"
   },
   {
    "duration": 65,
    "start_time": "2025-03-05T21:09:40.372Z"
   },
   {
    "duration": 346,
    "start_time": "2025-03-05T21:09:40.438Z"
   },
   {
    "duration": 532,
    "start_time": "2025-03-05T21:09:40.786Z"
   },
   {
    "duration": 9,
    "start_time": "2025-03-05T21:09:41.320Z"
   },
   {
    "duration": 193,
    "start_time": "2025-03-05T21:09:41.332Z"
   },
   {
    "duration": 147,
    "start_time": "2025-03-05T21:09:41.527Z"
   },
   {
    "duration": 119,
    "start_time": "2025-03-05T21:09:41.676Z"
   },
   {
    "duration": 17,
    "start_time": "2025-03-05T21:09:41.798Z"
   },
   {
    "duration": 16,
    "start_time": "2025-03-05T21:09:41.817Z"
   },
   {
    "duration": 15,
    "start_time": "2025-03-05T21:09:41.834Z"
   },
   {
    "duration": 7,
    "start_time": "2025-03-05T21:09:41.851Z"
   },
   {
    "duration": 14,
    "start_time": "2025-03-05T21:09:41.859Z"
   },
   {
    "duration": 36,
    "start_time": "2025-03-05T21:09:41.875Z"
   },
   {
    "duration": 13,
    "start_time": "2025-03-05T21:10:33.309Z"
   },
   {
    "duration": 11,
    "start_time": "2025-03-05T21:10:50.593Z"
   },
   {
    "duration": 2981,
    "start_time": "2025-03-05T22:10:36.512Z"
   },
   {
    "duration": 50,
    "start_time": "2025-03-05T22:10:39.496Z"
   },
   {
    "duration": 28,
    "start_time": "2025-03-05T22:10:39.548Z"
   },
   {
    "duration": 9,
    "start_time": "2025-03-05T22:10:39.578Z"
   },
   {
    "duration": 13,
    "start_time": "2025-03-05T22:10:39.590Z"
   },
   {
    "duration": 28,
    "start_time": "2025-03-05T22:10:39.605Z"
   },
   {
    "duration": 10,
    "start_time": "2025-03-05T22:10:39.635Z"
   },
   {
    "duration": 205,
    "start_time": "2025-03-05T22:10:39.647Z"
   },
   {
    "duration": 11,
    "start_time": "2025-03-05T22:10:39.853Z"
   },
   {
    "duration": 94,
    "start_time": "2025-03-05T22:10:39.866Z"
   },
   {
    "duration": 336,
    "start_time": "2025-03-05T22:10:39.962Z"
   },
   {
    "duration": 662,
    "start_time": "2025-03-05T22:10:40.300Z"
   },
   {
    "duration": 10,
    "start_time": "2025-03-05T22:10:40.964Z"
   },
   {
    "duration": 178,
    "start_time": "2025-03-05T22:10:40.978Z"
   },
   {
    "duration": 170,
    "start_time": "2025-03-05T22:10:41.158Z"
   },
   {
    "duration": 122,
    "start_time": "2025-03-05T22:10:41.332Z"
   },
   {
    "duration": 8,
    "start_time": "2025-03-05T22:10:41.456Z"
   },
   {
    "duration": 17,
    "start_time": "2025-03-05T22:10:41.466Z"
   },
   {
    "duration": 15,
    "start_time": "2025-03-05T22:10:41.485Z"
   },
   {
    "duration": 33,
    "start_time": "2025-03-05T22:10:41.502Z"
   },
   {
    "duration": 16,
    "start_time": "2025-03-05T22:10:41.537Z"
   },
   {
    "duration": 14,
    "start_time": "2025-03-05T22:10:41.554Z"
   },
   {
    "duration": 2475,
    "start_time": "2025-03-06T04:40:16.610Z"
   },
   {
    "duration": 61,
    "start_time": "2025-03-06T04:40:19.087Z"
   },
   {
    "duration": 25,
    "start_time": "2025-03-06T04:40:19.150Z"
   },
   {
    "duration": 8,
    "start_time": "2025-03-06T04:40:19.178Z"
   },
   {
    "duration": 12,
    "start_time": "2025-03-06T04:40:19.188Z"
   },
   {
    "duration": 7,
    "start_time": "2025-03-06T04:40:19.201Z"
   },
   {
    "duration": 40,
    "start_time": "2025-03-06T04:40:19.210Z"
   },
   {
    "duration": 176,
    "start_time": "2025-03-06T04:40:19.253Z"
   },
   {
    "duration": 13,
    "start_time": "2025-03-06T04:40:19.431Z"
   },
   {
    "duration": 56,
    "start_time": "2025-03-06T04:40:19.445Z"
   },
   {
    "duration": 315,
    "start_time": "2025-03-06T04:40:19.502Z"
   },
   {
    "duration": 619,
    "start_time": "2025-03-06T04:40:19.819Z"
   },
   {
    "duration": 8,
    "start_time": "2025-03-06T04:40:20.443Z"
   },
   {
    "duration": 164,
    "start_time": "2025-03-06T04:40:20.455Z"
   },
   {
    "duration": 158,
    "start_time": "2025-03-06T04:40:20.621Z"
   },
   {
    "duration": 127,
    "start_time": "2025-03-06T04:40:20.780Z"
   },
   {
    "duration": 7,
    "start_time": "2025-03-06T04:40:20.909Z"
   },
   {
    "duration": 26,
    "start_time": "2025-03-06T04:40:20.918Z"
   },
   {
    "duration": 16,
    "start_time": "2025-03-06T04:40:20.945Z"
   },
   {
    "duration": 9,
    "start_time": "2025-03-06T04:40:20.962Z"
   },
   {
    "duration": 14,
    "start_time": "2025-03-06T04:40:20.972Z"
   },
   {
    "duration": 9,
    "start_time": "2025-03-06T04:40:20.989Z"
   },
   {
    "duration": 2385,
    "start_time": "2025-03-06T07:23:01.330Z"
   },
   {
    "duration": 49,
    "start_time": "2025-03-06T07:23:03.718Z"
   },
   {
    "duration": 25,
    "start_time": "2025-03-06T07:23:03.769Z"
   },
   {
    "duration": 7,
    "start_time": "2025-03-06T07:23:03.797Z"
   },
   {
    "duration": 27,
    "start_time": "2025-03-06T07:23:03.805Z"
   },
   {
    "duration": 7,
    "start_time": "2025-03-06T07:23:03.834Z"
   },
   {
    "duration": 6,
    "start_time": "2025-03-06T07:23:03.843Z"
   },
   {
    "duration": 187,
    "start_time": "2025-03-06T07:23:03.850Z"
   },
   {
    "duration": 10,
    "start_time": "2025-03-06T07:23:04.039Z"
   },
   {
    "duration": 51,
    "start_time": "2025-03-06T07:23:04.052Z"
   },
   {
    "duration": 367,
    "start_time": "2025-03-06T07:23:04.104Z"
   },
   {
    "duration": 552,
    "start_time": "2025-03-06T07:23:04.473Z"
   },
   {
    "duration": 12,
    "start_time": "2025-03-06T07:23:05.026Z"
   },
   {
    "duration": 216,
    "start_time": "2025-03-06T07:23:05.039Z"
   },
   {
    "duration": 153,
    "start_time": "2025-03-06T07:23:05.257Z"
   },
   {
    "duration": 115,
    "start_time": "2025-03-06T07:23:05.412Z"
   },
   {
    "duration": 9,
    "start_time": "2025-03-06T07:23:05.530Z"
   },
   {
    "duration": 14,
    "start_time": "2025-03-06T07:23:05.540Z"
   },
   {
    "duration": 14,
    "start_time": "2025-03-06T07:23:05.555Z"
   },
   {
    "duration": 9,
    "start_time": "2025-03-06T07:23:05.571Z"
   },
   {
    "duration": 14,
    "start_time": "2025-03-06T07:23:05.581Z"
   },
   {
    "duration": 43,
    "start_time": "2025-03-06T07:23:05.597Z"
   },
   {
    "duration": 2527,
    "start_time": "2025-03-14T02:03:43.550Z"
   },
   {
    "duration": 56,
    "start_time": "2025-03-14T02:03:46.080Z"
   },
   {
    "duration": 26,
    "start_time": "2025-03-14T02:03:46.137Z"
   },
   {
    "duration": 8,
    "start_time": "2025-03-14T02:03:46.166Z"
   },
   {
    "duration": 12,
    "start_time": "2025-03-14T02:03:46.177Z"
   },
   {
    "duration": 7,
    "start_time": "2025-03-14T02:03:46.211Z"
   },
   {
    "duration": 8,
    "start_time": "2025-03-14T02:03:46.220Z"
   },
   {
    "duration": 183,
    "start_time": "2025-03-14T02:03:46.230Z"
   },
   {
    "duration": 9,
    "start_time": "2025-03-14T02:03:46.415Z"
   },
   {
    "duration": 54,
    "start_time": "2025-03-14T02:03:46.426Z"
   },
   {
    "duration": 310,
    "start_time": "2025-03-14T02:03:46.481Z"
   },
   {
    "duration": 614,
    "start_time": "2025-03-14T02:03:46.811Z"
   },
   {
    "duration": 8,
    "start_time": "2025-03-14T02:03:47.426Z"
   },
   {
    "duration": 3,
    "start_time": "2025-03-14T02:23:51.545Z"
   },
   {
    "duration": 46,
    "start_time": "2025-03-14T02:23:51.552Z"
   },
   {
    "duration": 27,
    "start_time": "2025-03-14T02:23:51.600Z"
   },
   {
    "duration": 8,
    "start_time": "2025-03-14T02:23:51.629Z"
   },
   {
    "duration": 19,
    "start_time": "2025-03-14T02:23:51.639Z"
   },
   {
    "duration": 252,
    "start_time": "2025-03-14T02:23:51.659Z"
   },
   {
    "duration": 772,
    "start_time": "2025-03-14T02:24:28.159Z"
   },
   {
    "duration": 36,
    "start_time": "2025-03-14T02:24:28.933Z"
   },
   {
    "duration": 23,
    "start_time": "2025-03-14T02:24:28.971Z"
   },
   {
    "duration": 20,
    "start_time": "2025-03-14T02:24:28.996Z"
   },
   {
    "duration": 11,
    "start_time": "2025-03-14T02:24:29.019Z"
   },
   {
    "duration": 299,
    "start_time": "2025-03-14T02:24:29.031Z"
   },
   {
    "duration": 0,
    "start_time": "2025-03-14T02:24:29.332Z"
   },
   {
    "duration": 0,
    "start_time": "2025-03-14T02:24:29.333Z"
   },
   {
    "duration": 0,
    "start_time": "2025-03-14T02:24:29.334Z"
   },
   {
    "duration": 0,
    "start_time": "2025-03-14T02:24:29.335Z"
   },
   {
    "duration": 0,
    "start_time": "2025-03-14T02:24:29.336Z"
   },
   {
    "duration": 0,
    "start_time": "2025-03-14T02:24:29.338Z"
   },
   {
    "duration": 0,
    "start_time": "2025-03-14T02:24:29.339Z"
   },
   {
    "duration": 0,
    "start_time": "2025-03-14T02:24:29.340Z"
   },
   {
    "duration": 0,
    "start_time": "2025-03-14T02:24:29.342Z"
   },
   {
    "duration": 0,
    "start_time": "2025-03-14T02:24:29.343Z"
   },
   {
    "duration": 0,
    "start_time": "2025-03-14T02:24:29.343Z"
   },
   {
    "duration": 0,
    "start_time": "2025-03-14T02:24:29.344Z"
   },
   {
    "duration": 0,
    "start_time": "2025-03-14T02:24:29.346Z"
   },
   {
    "duration": 1,
    "start_time": "2025-03-14T02:24:29.346Z"
   },
   {
    "duration": 0,
    "start_time": "2025-03-14T02:24:29.348Z"
   },
   {
    "duration": 0,
    "start_time": "2025-03-14T02:24:29.350Z"
   },
   {
    "duration": 6,
    "start_time": "2025-03-14T02:24:58.389Z"
   },
   {
    "duration": 4,
    "start_time": "2025-03-14T02:26:26.688Z"
   },
   {
    "duration": 758,
    "start_time": "2025-03-14T02:26:32.568Z"
   },
   {
    "duration": 37,
    "start_time": "2025-03-14T02:26:33.328Z"
   },
   {
    "duration": 24,
    "start_time": "2025-03-14T02:26:33.366Z"
   },
   {
    "duration": 19,
    "start_time": "2025-03-14T02:26:33.393Z"
   },
   {
    "duration": 12,
    "start_time": "2025-03-14T02:26:33.413Z"
   },
   {
    "duration": 4,
    "start_time": "2025-03-14T02:26:33.426Z"
   },
   {
    "duration": 0,
    "start_time": "2025-03-14T02:26:33.432Z"
   },
   {
    "duration": 0,
    "start_time": "2025-03-14T02:26:33.434Z"
   },
   {
    "duration": 0,
    "start_time": "2025-03-14T02:26:33.435Z"
   },
   {
    "duration": 0,
    "start_time": "2025-03-14T02:26:33.437Z"
   },
   {
    "duration": 0,
    "start_time": "2025-03-14T02:26:33.438Z"
   },
   {
    "duration": 0,
    "start_time": "2025-03-14T02:26:33.440Z"
   },
   {
    "duration": 0,
    "start_time": "2025-03-14T02:26:33.441Z"
   },
   {
    "duration": 0,
    "start_time": "2025-03-14T02:26:33.443Z"
   },
   {
    "duration": 0,
    "start_time": "2025-03-14T02:26:33.444Z"
   },
   {
    "duration": 0,
    "start_time": "2025-03-14T02:26:33.446Z"
   },
   {
    "duration": 0,
    "start_time": "2025-03-14T02:26:33.447Z"
   },
   {
    "duration": 0,
    "start_time": "2025-03-14T02:26:33.449Z"
   },
   {
    "duration": 0,
    "start_time": "2025-03-14T02:26:33.450Z"
   },
   {
    "duration": 0,
    "start_time": "2025-03-14T02:26:33.452Z"
   },
   {
    "duration": 0,
    "start_time": "2025-03-14T02:26:33.453Z"
   },
   {
    "duration": 0,
    "start_time": "2025-03-14T02:26:33.454Z"
   },
   {
    "duration": 5,
    "start_time": "2025-03-14T02:26:49.851Z"
   },
   {
    "duration": 3,
    "start_time": "2025-03-14T02:27:01.188Z"
   },
   {
    "duration": 35,
    "start_time": "2025-03-14T02:27:01.194Z"
   },
   {
    "duration": 22,
    "start_time": "2025-03-14T02:27:01.231Z"
   },
   {
    "duration": 6,
    "start_time": "2025-03-14T02:27:01.254Z"
   },
   {
    "duration": 11,
    "start_time": "2025-03-14T02:27:01.262Z"
   },
   {
    "duration": 5,
    "start_time": "2025-03-14T02:27:01.274Z"
   },
   {
    "duration": 318,
    "start_time": "2025-03-14T02:27:38.404Z"
   },
   {
    "duration": 3,
    "start_time": "2025-03-14T02:29:15.411Z"
   },
   {
    "duration": 36,
    "start_time": "2025-03-14T02:29:15.416Z"
   },
   {
    "duration": 22,
    "start_time": "2025-03-14T02:29:15.454Z"
   },
   {
    "duration": 7,
    "start_time": "2025-03-14T02:29:15.478Z"
   },
   {
    "duration": 11,
    "start_time": "2025-03-14T02:29:15.511Z"
   },
   {
    "duration": 294,
    "start_time": "2025-03-14T02:29:15.524Z"
   },
   {
    "duration": 9,
    "start_time": "2025-03-14T02:29:15.820Z"
   },
   {
    "duration": 223,
    "start_time": "2025-03-14T02:29:15.831Z"
   },
   {
    "duration": 11,
    "start_time": "2025-03-14T02:29:16.056Z"
   },
   {
    "duration": 68,
    "start_time": "2025-03-14T02:29:16.069Z"
   },
   {
    "duration": 318,
    "start_time": "2025-03-14T02:29:16.139Z"
   },
   {
    "duration": 525,
    "start_time": "2025-03-14T02:29:16.459Z"
   },
   {
    "duration": 8,
    "start_time": "2025-03-14T02:29:16.987Z"
   },
   {
    "duration": 165,
    "start_time": "2025-03-14T02:29:17.011Z"
   },
   {
    "duration": 149,
    "start_time": "2025-03-14T02:29:17.178Z"
   },
   {
    "duration": 36,
    "start_time": "2025-03-14T02:29:17.329Z"
   },
   {
    "duration": 7,
    "start_time": "2025-03-14T02:29:17.367Z"
   },
   {
    "duration": 38,
    "start_time": "2025-03-14T02:29:17.376Z"
   },
   {
    "duration": 13,
    "start_time": "2025-03-14T02:29:17.415Z"
   },
   {
    "duration": 8,
    "start_time": "2025-03-14T02:29:17.430Z"
   },
   {
    "duration": 14,
    "start_time": "2025-03-14T02:29:17.439Z"
   },
   {
    "duration": 10,
    "start_time": "2025-03-14T02:29:17.454Z"
   },
   {
    "duration": 2,
    "start_time": "2025-03-14T02:44:42.629Z"
   },
   {
    "duration": 35,
    "start_time": "2025-03-14T02:44:42.633Z"
   },
   {
    "duration": 24,
    "start_time": "2025-03-14T02:44:42.670Z"
   },
   {
    "duration": 7,
    "start_time": "2025-03-14T02:44:42.695Z"
   },
   {
    "duration": 12,
    "start_time": "2025-03-14T02:44:42.712Z"
   },
   {
    "duration": 274,
    "start_time": "2025-03-14T02:44:42.726Z"
   },
   {
    "duration": 16,
    "start_time": "2025-03-14T02:44:43.001Z"
   },
   {
    "duration": 221,
    "start_time": "2025-03-14T02:44:43.019Z"
   },
   {
    "duration": 15,
    "start_time": "2025-03-14T02:44:43.242Z"
   },
   {
    "duration": 68,
    "start_time": "2025-03-14T02:44:43.259Z"
   },
   {
    "duration": 321,
    "start_time": "2025-03-14T02:44:43.329Z"
   },
   {
    "duration": 543,
    "start_time": "2025-03-14T02:44:43.652Z"
   },
   {
    "duration": 15,
    "start_time": "2025-03-14T02:44:44.197Z"
   },
   {
    "duration": 134,
    "start_time": "2025-03-14T02:44:44.215Z"
   },
   {
    "duration": 149,
    "start_time": "2025-03-14T02:44:44.351Z"
   },
   {
    "duration": 46,
    "start_time": "2025-03-14T02:44:44.502Z"
   },
   {
    "duration": 8,
    "start_time": "2025-03-14T02:44:44.550Z"
   },
   {
    "duration": 16,
    "start_time": "2025-03-14T02:44:44.561Z"
   },
   {
    "duration": 32,
    "start_time": "2025-03-14T02:44:44.579Z"
   },
   {
    "duration": 9,
    "start_time": "2025-03-14T02:44:44.613Z"
   },
   {
    "duration": 4,
    "start_time": "2025-03-14T02:46:06.599Z"
   },
   {
    "duration": 37,
    "start_time": "2025-03-14T02:46:06.605Z"
   },
   {
    "duration": 26,
    "start_time": "2025-03-14T02:46:06.644Z"
   },
   {
    "duration": 5,
    "start_time": "2025-03-14T02:46:06.672Z"
   },
   {
    "duration": 35,
    "start_time": "2025-03-14T02:46:06.680Z"
   },
   {
    "duration": 302,
    "start_time": "2025-03-14T02:46:06.716Z"
   },
   {
    "duration": 8,
    "start_time": "2025-03-14T02:46:07.020Z"
   },
   {
    "duration": 163,
    "start_time": "2025-03-14T02:46:07.029Z"
   },
   {
    "duration": 20,
    "start_time": "2025-03-14T02:46:07.193Z"
   },
   {
    "duration": 60,
    "start_time": "2025-03-14T02:46:07.215Z"
   },
   {
    "duration": 395,
    "start_time": "2025-03-14T02:46:07.277Z"
   },
   {
    "duration": 531,
    "start_time": "2025-03-14T02:46:07.675Z"
   },
   {
    "duration": 8,
    "start_time": "2025-03-14T02:46:08.211Z"
   },
   {
    "duration": 144,
    "start_time": "2025-03-14T02:46:08.221Z"
   },
   {
    "duration": 147,
    "start_time": "2025-03-14T02:46:08.366Z"
   },
   {
    "duration": 40,
    "start_time": "2025-03-14T02:46:08.515Z"
   },
   {
    "duration": 7,
    "start_time": "2025-03-14T02:46:08.556Z"
   },
   {
    "duration": 13,
    "start_time": "2025-03-14T02:46:08.565Z"
   },
   {
    "duration": 40,
    "start_time": "2025-03-14T02:46:08.579Z"
   },
   {
    "duration": 10,
    "start_time": "2025-03-14T02:46:08.620Z"
   },
   {
    "duration": 9,
    "start_time": "2025-03-14T02:46:49.519Z"
   },
   {
    "duration": 3,
    "start_time": "2025-03-14T03:01:07.610Z"
   },
   {
    "duration": 35,
    "start_time": "2025-03-14T03:01:07.615Z"
   },
   {
    "duration": 23,
    "start_time": "2025-03-14T03:01:07.652Z"
   },
   {
    "duration": 5,
    "start_time": "2025-03-14T03:01:07.677Z"
   },
   {
    "duration": 35,
    "start_time": "2025-03-14T03:01:07.685Z"
   },
   {
    "duration": 290,
    "start_time": "2025-03-14T03:01:07.721Z"
   },
   {
    "duration": 18,
    "start_time": "2025-03-14T03:01:08.013Z"
   },
   {
    "duration": 160,
    "start_time": "2025-03-14T03:01:08.035Z"
   },
   {
    "duration": 25,
    "start_time": "2025-03-14T03:01:08.197Z"
   },
   {
    "duration": 53,
    "start_time": "2025-03-14T03:01:08.223Z"
   },
   {
    "duration": 299,
    "start_time": "2025-03-14T03:01:08.277Z"
   },
   {
    "duration": 611,
    "start_time": "2025-03-14T03:01:08.577Z"
   },
   {
    "duration": 9,
    "start_time": "2025-03-14T03:01:09.190Z"
   },
   {
    "duration": 139,
    "start_time": "2025-03-14T03:01:09.214Z"
   },
   {
    "duration": 149,
    "start_time": "2025-03-14T03:01:09.355Z"
   },
   {
    "duration": 39,
    "start_time": "2025-03-14T03:01:09.506Z"
   },
   {
    "duration": 6,
    "start_time": "2025-03-14T03:01:09.547Z"
   },
   {
    "duration": 13,
    "start_time": "2025-03-14T03:01:09.555Z"
   },
   {
    "duration": 13,
    "start_time": "2025-03-14T03:01:09.570Z"
   },
   {
    "duration": 32,
    "start_time": "2025-03-14T03:01:09.585Z"
   },
   {
    "duration": 268,
    "start_time": "2025-03-14T03:01:09.619Z"
   },
   {
    "duration": 2,
    "start_time": "2025-03-14T03:02:11.149Z"
   },
   {
    "duration": 33,
    "start_time": "2025-03-14T03:02:11.153Z"
   },
   {
    "duration": 24,
    "start_time": "2025-03-14T03:02:11.188Z"
   },
   {
    "duration": 6,
    "start_time": "2025-03-14T03:02:11.213Z"
   },
   {
    "duration": 11,
    "start_time": "2025-03-14T03:02:11.222Z"
   },
   {
    "duration": 298,
    "start_time": "2025-03-14T03:02:11.234Z"
   },
   {
    "duration": 8,
    "start_time": "2025-03-14T03:02:11.534Z"
   },
   {
    "duration": 163,
    "start_time": "2025-03-14T03:02:11.543Z"
   },
   {
    "duration": 18,
    "start_time": "2025-03-14T03:02:11.707Z"
   },
   {
    "duration": 51,
    "start_time": "2025-03-14T03:02:11.727Z"
   },
   {
    "duration": 334,
    "start_time": "2025-03-14T03:02:11.780Z"
   },
   {
    "duration": 573,
    "start_time": "2025-03-14T03:02:12.116Z"
   },
   {
    "duration": 8,
    "start_time": "2025-03-14T03:02:12.691Z"
   },
   {
    "duration": 133,
    "start_time": "2025-03-14T03:02:12.711Z"
   },
   {
    "duration": 160,
    "start_time": "2025-03-14T03:02:12.846Z"
   },
   {
    "duration": 43,
    "start_time": "2025-03-14T03:02:13.007Z"
   },
   {
    "duration": 8,
    "start_time": "2025-03-14T03:02:13.052Z"
   },
   {
    "duration": 14,
    "start_time": "2025-03-14T03:02:13.061Z"
   },
   {
    "duration": 37,
    "start_time": "2025-03-14T03:02:13.077Z"
   },
   {
    "duration": 9,
    "start_time": "2025-03-14T03:02:13.116Z"
   },
   {
    "duration": 270,
    "start_time": "2025-03-14T03:02:13.127Z"
   },
   {
    "duration": 23,
    "start_time": "2025-03-14T03:02:13.399Z"
   },
   {
    "duration": 9,
    "start_time": "2025-03-14T03:02:13.424Z"
   },
   {
    "duration": 2628,
    "start_time": "2025-03-14T07:45:15.058Z"
   },
   {
    "duration": 52,
    "start_time": "2025-03-14T07:45:17.689Z"
   },
   {
    "duration": 26,
    "start_time": "2025-03-14T07:45:17.744Z"
   },
   {
    "duration": 14,
    "start_time": "2025-03-14T07:45:17.773Z"
   },
   {
    "duration": 14,
    "start_time": "2025-03-14T07:45:17.792Z"
   },
   {
    "duration": 362,
    "start_time": "2025-03-14T07:45:17.809Z"
   },
   {
    "duration": 18,
    "start_time": "2025-03-14T07:45:18.174Z"
   },
   {
    "duration": 180,
    "start_time": "2025-03-14T07:45:18.194Z"
   },
   {
    "duration": 16,
    "start_time": "2025-03-14T07:45:18.376Z"
   },
   {
    "duration": 55,
    "start_time": "2025-03-14T07:45:18.394Z"
   },
   {
    "duration": 380,
    "start_time": "2025-03-14T07:45:18.452Z"
   },
   {
    "duration": 636,
    "start_time": "2025-03-14T07:45:18.834Z"
   },
   {
    "duration": 14,
    "start_time": "2025-03-14T07:45:19.473Z"
   },
   {
    "duration": 150,
    "start_time": "2025-03-14T07:45:19.491Z"
   },
   {
    "duration": 163,
    "start_time": "2025-03-14T07:45:19.643Z"
   },
   {
    "duration": 41,
    "start_time": "2025-03-14T07:45:19.808Z"
   },
   {
    "duration": 9,
    "start_time": "2025-03-14T07:45:19.852Z"
   },
   {
    "duration": 16,
    "start_time": "2025-03-14T07:45:19.886Z"
   },
   {
    "duration": 13,
    "start_time": "2025-03-14T07:45:19.906Z"
   },
   {
    "duration": 8,
    "start_time": "2025-03-14T07:45:19.921Z"
   },
   {
    "duration": 339,
    "start_time": "2025-03-14T07:45:19.931Z"
   },
   {
    "duration": 21,
    "start_time": "2025-03-14T07:45:20.272Z"
   },
   {
    "duration": 11,
    "start_time": "2025-03-14T07:45:20.295Z"
   },
   {
    "duration": 817,
    "start_time": "2025-03-14T07:47:39.223Z"
   },
   {
    "duration": 33,
    "start_time": "2025-03-14T07:51:18.971Z"
   },
   {
    "duration": 2322,
    "start_time": "2025-03-14T07:51:23.248Z"
   },
   {
    "duration": 2531,
    "start_time": "2025-03-14T12:48:01.240Z"
   },
   {
    "duration": 49,
    "start_time": "2025-03-14T12:48:03.773Z"
   },
   {
    "duration": 23,
    "start_time": "2025-03-14T12:48:03.824Z"
   },
   {
    "duration": 6,
    "start_time": "2025-03-14T12:48:03.849Z"
   },
   {
    "duration": 12,
    "start_time": "2025-03-14T12:48:03.858Z"
   },
   {
    "duration": 333,
    "start_time": "2025-03-14T12:48:03.871Z"
   },
   {
    "duration": 8,
    "start_time": "2025-03-14T12:48:04.206Z"
   },
   {
    "duration": 171,
    "start_time": "2025-03-14T12:48:04.216Z"
   },
   {
    "duration": 9,
    "start_time": "2025-03-14T12:48:04.389Z"
   },
   {
    "duration": 70,
    "start_time": "2025-03-14T12:48:04.399Z"
   },
   {
    "duration": 339,
    "start_time": "2025-03-14T12:48:04.470Z"
   },
   {
    "duration": 536,
    "start_time": "2025-03-14T12:48:04.811Z"
   },
   {
    "duration": 7,
    "start_time": "2025-03-14T12:48:05.349Z"
   },
   {
    "duration": 166,
    "start_time": "2025-03-14T12:48:05.361Z"
   },
   {
    "duration": 139,
    "start_time": "2025-03-14T12:48:05.529Z"
   },
   {
    "duration": 36,
    "start_time": "2025-03-14T12:48:05.669Z"
   },
   {
    "duration": 6,
    "start_time": "2025-03-14T12:48:05.707Z"
   },
   {
    "duration": 30,
    "start_time": "2025-03-14T12:48:05.715Z"
   },
   {
    "duration": 14,
    "start_time": "2025-03-14T12:48:05.747Z"
   },
   {
    "duration": 9,
    "start_time": "2025-03-14T12:48:05.762Z"
   },
   {
    "duration": 283,
    "start_time": "2025-03-14T12:48:05.773Z"
   },
   {
    "duration": 14,
    "start_time": "2025-03-14T12:48:06.058Z"
   },
   {
    "duration": 9,
    "start_time": "2025-03-14T12:48:06.074Z"
   },
   {
    "duration": 3,
    "start_time": "2025-03-14T12:52:00.449Z"
   },
   {
    "duration": 36,
    "start_time": "2025-03-14T12:52:00.454Z"
   },
   {
    "duration": 27,
    "start_time": "2025-03-14T12:52:00.492Z"
   },
   {
    "duration": 26,
    "start_time": "2025-03-14T12:52:00.521Z"
   },
   {
    "duration": 12,
    "start_time": "2025-03-14T12:52:00.550Z"
   },
   {
    "duration": 289,
    "start_time": "2025-03-14T12:52:00.564Z"
   },
   {
    "duration": 9,
    "start_time": "2025-03-14T12:52:00.855Z"
   },
   {
    "duration": 168,
    "start_time": "2025-03-14T12:52:00.866Z"
   },
   {
    "duration": 25,
    "start_time": "2025-03-14T12:52:01.036Z"
   },
   {
    "duration": 50,
    "start_time": "2025-03-14T12:52:01.063Z"
   },
   {
    "duration": 391,
    "start_time": "2025-03-14T12:52:01.115Z"
   },
   {
    "duration": 540,
    "start_time": "2025-03-14T12:52:01.508Z"
   },
   {
    "duration": 469,
    "start_time": "2025-03-14T12:52:02.050Z"
   },
   {
    "duration": 9,
    "start_time": "2025-03-14T12:52:02.523Z"
   },
   {
    "duration": 144,
    "start_time": "2025-03-14T12:52:02.542Z"
   },
   {
    "duration": 148,
    "start_time": "2025-03-14T12:52:02.687Z"
   },
   {
    "duration": 41,
    "start_time": "2025-03-14T12:52:02.837Z"
   },
   {
    "duration": 7,
    "start_time": "2025-03-14T12:52:02.880Z"
   },
   {
    "duration": 14,
    "start_time": "2025-03-14T12:52:02.888Z"
   },
   {
    "duration": 40,
    "start_time": "2025-03-14T12:52:02.903Z"
   },
   {
    "duration": 9,
    "start_time": "2025-03-14T12:52:02.945Z"
   },
   {
    "duration": 274,
    "start_time": "2025-03-14T12:52:02.956Z"
   },
   {
    "duration": 23,
    "start_time": "2025-03-14T12:52:03.232Z"
   },
   {
    "duration": 9,
    "start_time": "2025-03-14T12:52:03.256Z"
   },
   {
    "duration": 802,
    "start_time": "2025-03-14T12:53:01.958Z"
   },
   {
    "duration": 36,
    "start_time": "2025-03-14T12:53:02.763Z"
   },
   {
    "duration": 25,
    "start_time": "2025-03-14T12:53:02.800Z"
   },
   {
    "duration": 21,
    "start_time": "2025-03-14T12:53:02.826Z"
   },
   {
    "duration": 11,
    "start_time": "2025-03-14T12:53:02.849Z"
   },
   {
    "duration": 322,
    "start_time": "2025-03-14T12:53:02.862Z"
   },
   {
    "duration": 8,
    "start_time": "2025-03-14T12:53:03.186Z"
   },
   {
    "duration": 175,
    "start_time": "2025-03-14T12:53:03.196Z"
   },
   {
    "duration": 9,
    "start_time": "2025-03-14T12:53:03.373Z"
   },
   {
    "duration": 70,
    "start_time": "2025-03-14T12:53:03.384Z"
   },
   {
    "duration": 350,
    "start_time": "2025-03-14T12:53:03.455Z"
   },
   {
    "duration": 521,
    "start_time": "2025-03-14T12:53:03.807Z"
   },
   {
    "duration": 222,
    "start_time": "2025-03-14T12:53:04.330Z"
   },
   {
    "duration": 0,
    "start_time": "2025-03-14T12:53:04.555Z"
   },
   {
    "duration": 0,
    "start_time": "2025-03-14T12:53:04.556Z"
   },
   {
    "duration": 0,
    "start_time": "2025-03-14T12:53:04.557Z"
   },
   {
    "duration": 0,
    "start_time": "2025-03-14T12:53:04.559Z"
   },
   {
    "duration": 0,
    "start_time": "2025-03-14T12:53:04.560Z"
   },
   {
    "duration": 0,
    "start_time": "2025-03-14T12:53:04.561Z"
   },
   {
    "duration": 0,
    "start_time": "2025-03-14T12:53:04.563Z"
   },
   {
    "duration": 0,
    "start_time": "2025-03-14T12:53:04.565Z"
   },
   {
    "duration": 0,
    "start_time": "2025-03-14T12:53:04.566Z"
   },
   {
    "duration": 0,
    "start_time": "2025-03-14T12:53:04.567Z"
   },
   {
    "duration": 0,
    "start_time": "2025-03-14T12:53:04.568Z"
   },
   {
    "duration": 15,
    "start_time": "2025-03-14T12:53:34.025Z"
   },
   {
    "duration": 0,
    "start_time": "2025-03-14T12:53:34.042Z"
   },
   {
    "duration": 13,
    "start_time": "2025-03-14T12:53:34.058Z"
   },
   {
    "duration": 0,
    "start_time": "2025-03-14T12:53:34.073Z"
   },
   {
    "duration": 0,
    "start_time": "2025-03-14T12:53:34.074Z"
   },
   {
    "duration": 0,
    "start_time": "2025-03-14T12:53:34.076Z"
   },
   {
    "duration": 0,
    "start_time": "2025-03-14T12:53:34.077Z"
   },
   {
    "duration": 0,
    "start_time": "2025-03-14T12:53:34.078Z"
   },
   {
    "duration": 0,
    "start_time": "2025-03-14T12:53:34.079Z"
   },
   {
    "duration": 0,
    "start_time": "2025-03-14T12:53:34.080Z"
   },
   {
    "duration": 765,
    "start_time": "2025-03-14T12:54:41.932Z"
   },
   {
    "duration": 36,
    "start_time": "2025-03-14T12:54:42.700Z"
   },
   {
    "duration": 25,
    "start_time": "2025-03-14T12:54:42.742Z"
   },
   {
    "duration": 7,
    "start_time": "2025-03-14T12:54:42.770Z"
   },
   {
    "duration": 12,
    "start_time": "2025-03-14T12:54:42.778Z"
   },
   {
    "duration": 347,
    "start_time": "2025-03-14T12:54:42.791Z"
   },
   {
    "duration": 9,
    "start_time": "2025-03-14T12:54:43.142Z"
   },
   {
    "duration": 172,
    "start_time": "2025-03-14T12:54:43.153Z"
   },
   {
    "duration": 16,
    "start_time": "2025-03-14T12:54:43.327Z"
   },
   {
    "duration": 107,
    "start_time": "2025-03-14T12:54:43.345Z"
   },
   {
    "duration": 343,
    "start_time": "2025-03-14T12:54:43.454Z"
   },
   {
    "duration": 534,
    "start_time": "2025-03-14T12:54:43.799Z"
   },
   {
    "duration": 12,
    "start_time": "2025-03-14T12:54:44.335Z"
   },
   {
    "duration": 454,
    "start_time": "2025-03-14T12:54:44.349Z"
   },
   {
    "duration": 131,
    "start_time": "2025-03-14T12:54:44.805Z"
   },
   {
    "duration": 147,
    "start_time": "2025-03-14T12:54:44.938Z"
   },
   {
    "duration": 57,
    "start_time": "2025-03-14T12:54:45.087Z"
   },
   {
    "duration": 7,
    "start_time": "2025-03-14T12:54:45.145Z"
   },
   {
    "duration": 13,
    "start_time": "2025-03-14T12:54:45.153Z"
   },
   {
    "duration": 19,
    "start_time": "2025-03-14T12:54:45.168Z"
   },
   {
    "duration": 9,
    "start_time": "2025-03-14T12:54:45.189Z"
   },
   {
    "duration": 319,
    "start_time": "2025-03-14T12:54:45.199Z"
   },
   {
    "duration": 23,
    "start_time": "2025-03-14T12:54:45.520Z"
   },
   {
    "duration": 76,
    "start_time": "2025-03-14T12:54:45.546Z"
   },
   {
    "duration": 15,
    "start_time": "2025-03-14T13:53:44.295Z"
   },
   {
    "duration": 8,
    "start_time": "2025-03-14T13:53:44.313Z"
   },
   {
    "duration": 288,
    "start_time": "2025-03-14T13:53:44.323Z"
   },
   {
    "duration": 10,
    "start_time": "2025-03-14T13:53:44.613Z"
   },
   {
    "duration": 23,
    "start_time": "2025-03-14T13:53:44.625Z"
   },
   {
    "duration": 3,
    "start_time": "2025-03-14T13:53:46.468Z"
   },
   {
    "duration": 34,
    "start_time": "2025-03-14T13:53:46.496Z"
   },
   {
    "duration": 23,
    "start_time": "2025-03-14T13:53:46.532Z"
   },
   {
    "duration": 6,
    "start_time": "2025-03-14T13:53:46.557Z"
   },
   {
    "duration": 12,
    "start_time": "2025-03-14T13:53:46.565Z"
   },
   {
    "duration": 309,
    "start_time": "2025-03-14T13:53:46.580Z"
   },
   {
    "duration": 9,
    "start_time": "2025-03-14T13:53:46.891Z"
   },
   {
    "duration": 170,
    "start_time": "2025-03-14T13:53:46.901Z"
   },
   {
    "duration": 16,
    "start_time": "2025-03-14T13:53:47.073Z"
   },
   {
    "duration": 64,
    "start_time": "2025-03-14T13:53:47.091Z"
   },
   {
    "duration": 314,
    "start_time": "2025-03-14T13:53:47.156Z"
   },
   {
    "duration": 553,
    "start_time": "2025-03-14T13:53:47.472Z"
   },
   {
    "duration": 19,
    "start_time": "2025-03-14T13:53:48.026Z"
   },
   {
    "duration": 439,
    "start_time": "2025-03-14T13:53:48.047Z"
   },
   {
    "duration": 211,
    "start_time": "2025-03-14T13:53:48.490Z"
   },
   {
    "duration": 153,
    "start_time": "2025-03-14T13:53:48.703Z"
   },
   {
    "duration": 41,
    "start_time": "2025-03-14T13:53:48.858Z"
   },
   {
    "duration": 7,
    "start_time": "2025-03-14T13:53:48.901Z"
   },
   {
    "duration": 39,
    "start_time": "2025-03-14T13:53:48.909Z"
   },
   {
    "duration": 9,
    "start_time": "2025-03-14T13:53:48.949Z"
   },
   {
    "duration": 14,
    "start_time": "2025-03-14T13:53:48.959Z"
   },
   {
    "duration": 10,
    "start_time": "2025-03-14T13:53:48.974Z"
   },
   {
    "duration": 312,
    "start_time": "2025-03-14T13:53:48.986Z"
   },
   {
    "duration": 14,
    "start_time": "2025-03-14T13:53:49.300Z"
   },
   {
    "duration": 9,
    "start_time": "2025-03-14T13:53:49.316Z"
   },
   {
    "duration": 807,
    "start_time": "2025-03-14T13:53:51.684Z"
   },
   {
    "duration": 36,
    "start_time": "2025-03-14T13:53:52.494Z"
   },
   {
    "duration": 32,
    "start_time": "2025-03-14T13:53:52.532Z"
   },
   {
    "duration": 7,
    "start_time": "2025-03-14T13:53:52.566Z"
   },
   {
    "duration": 11,
    "start_time": "2025-03-14T13:53:52.576Z"
   },
   {
    "duration": 341,
    "start_time": "2025-03-14T13:53:52.589Z"
   },
   {
    "duration": 15,
    "start_time": "2025-03-14T13:53:52.932Z"
   },
   {
    "duration": 170,
    "start_time": "2025-03-14T13:53:52.949Z"
   },
   {
    "duration": 8,
    "start_time": "2025-03-14T13:53:53.121Z"
   },
   {
    "duration": 61,
    "start_time": "2025-03-14T13:53:53.131Z"
   },
   {
    "duration": 384,
    "start_time": "2025-03-14T13:53:53.194Z"
   },
   {
    "duration": 548,
    "start_time": "2025-03-14T13:53:53.580Z"
   },
   {
    "duration": 16,
    "start_time": "2025-03-14T13:53:54.130Z"
   },
   {
    "duration": 442,
    "start_time": "2025-03-14T13:53:54.149Z"
   },
   {
    "duration": 152,
    "start_time": "2025-03-14T13:53:54.593Z"
   },
   {
    "duration": 154,
    "start_time": "2025-03-14T13:53:54.747Z"
   },
   {
    "duration": 65,
    "start_time": "2025-03-14T13:53:54.902Z"
   },
   {
    "duration": 7,
    "start_time": "2025-03-14T13:53:54.969Z"
   },
   {
    "duration": 14,
    "start_time": "2025-03-14T13:53:54.977Z"
   },
   {
    "duration": 7,
    "start_time": "2025-03-14T13:53:54.993Z"
   },
   {
    "duration": 13,
    "start_time": "2025-03-14T13:53:55.002Z"
   },
   {
    "duration": 27,
    "start_time": "2025-03-14T13:53:55.017Z"
   },
   {
    "duration": 280,
    "start_time": "2025-03-14T13:53:55.046Z"
   },
   {
    "duration": 20,
    "start_time": "2025-03-14T13:53:55.328Z"
   },
   {
    "duration": 93,
    "start_time": "2025-03-14T13:53:55.350Z"
   },
   {
    "duration": 38,
    "start_time": "2025-03-14T14:00:19.308Z"
   },
   {
    "duration": 47,
    "start_time": "2025-03-14T14:01:01.877Z"
   },
   {
    "duration": 773,
    "start_time": "2025-03-14T14:04:59.419Z"
   },
   {
    "duration": 48,
    "start_time": "2025-03-14T14:05:00.194Z"
   },
   {
    "duration": 26,
    "start_time": "2025-03-14T14:05:00.244Z"
   },
   {
    "duration": 5,
    "start_time": "2025-03-14T14:05:00.272Z"
   },
   {
    "duration": 11,
    "start_time": "2025-03-14T14:05:00.280Z"
   },
   {
    "duration": 350,
    "start_time": "2025-03-14T14:05:00.292Z"
   },
   {
    "duration": 10,
    "start_time": "2025-03-14T14:05:00.644Z"
   },
   {
    "duration": 171,
    "start_time": "2025-03-14T14:05:00.656Z"
   },
   {
    "duration": 23,
    "start_time": "2025-03-14T14:05:00.829Z"
   },
   {
    "duration": 54,
    "start_time": "2025-03-14T14:05:00.853Z"
   },
   {
    "duration": 384,
    "start_time": "2025-03-14T14:05:00.909Z"
   },
   {
    "duration": 8,
    "start_time": "2025-03-14T14:05:01.296Z"
   },
   {
    "duration": 429,
    "start_time": "2025-03-14T14:05:01.306Z"
   },
   {
    "duration": 144,
    "start_time": "2025-03-14T14:05:01.742Z"
   },
   {
    "duration": 156,
    "start_time": "2025-03-14T14:05:01.888Z"
   },
   {
    "duration": 65,
    "start_time": "2025-03-14T14:05:02.046Z"
   },
   {
    "duration": 7,
    "start_time": "2025-03-14T14:05:02.113Z"
   },
   {
    "duration": 13,
    "start_time": "2025-03-14T14:05:02.122Z"
   },
   {
    "duration": 11,
    "start_time": "2025-03-14T14:05:02.137Z"
   },
   {
    "duration": 14,
    "start_time": "2025-03-14T14:05:02.149Z"
   },
   {
    "duration": 412,
    "start_time": "2025-03-14T14:05:02.165Z"
   },
   {
    "duration": 11,
    "start_time": "2025-03-14T14:05:02.579Z"
   },
   {
    "duration": 307,
    "start_time": "2025-03-14T14:05:02.591Z"
   },
   {
    "duration": 14,
    "start_time": "2025-03-14T14:05:02.899Z"
   },
   {
    "duration": 9,
    "start_time": "2025-03-14T14:05:02.915Z"
   },
   {
    "duration": 2564,
    "start_time": "2025-03-14T15:47:29.616Z"
   },
   {
    "duration": 61,
    "start_time": "2025-03-14T15:47:32.182Z"
   },
   {
    "duration": 26,
    "start_time": "2025-03-14T15:47:32.244Z"
   },
   {
    "duration": 6,
    "start_time": "2025-03-14T15:47:32.271Z"
   },
   {
    "duration": 11,
    "start_time": "2025-03-14T15:47:32.279Z"
   },
   {
    "duration": 349,
    "start_time": "2025-03-14T15:47:32.292Z"
   },
   {
    "duration": 8,
    "start_time": "2025-03-14T15:47:32.642Z"
   },
   {
    "duration": 172,
    "start_time": "2025-03-14T15:47:32.652Z"
   },
   {
    "duration": 13,
    "start_time": "2025-03-14T15:47:32.825Z"
   },
   {
    "duration": 53,
    "start_time": "2025-03-14T15:47:32.840Z"
   },
   {
    "duration": 312,
    "start_time": "2025-03-14T15:47:32.895Z"
   },
   {
    "duration": 22,
    "start_time": "2025-03-14T15:47:33.209Z"
   },
   {
    "duration": 470,
    "start_time": "2025-03-14T15:47:33.233Z"
   },
   {
    "duration": 149,
    "start_time": "2025-03-14T15:47:33.707Z"
   },
   {
    "duration": 160,
    "start_time": "2025-03-14T15:47:33.858Z"
   },
   {
    "duration": 72,
    "start_time": "2025-03-14T15:47:34.020Z"
   },
   {
    "duration": 7,
    "start_time": "2025-03-14T15:47:34.094Z"
   },
   {
    "duration": 13,
    "start_time": "2025-03-14T15:47:34.102Z"
   },
   {
    "duration": 7,
    "start_time": "2025-03-14T15:47:34.117Z"
   },
   {
    "duration": 19,
    "start_time": "2025-03-14T15:47:34.125Z"
   },
   {
    "duration": 498,
    "start_time": "2025-03-14T15:47:34.146Z"
   },
   {
    "duration": 9,
    "start_time": "2025-03-14T15:47:34.646Z"
   },
   {
    "duration": 276,
    "start_time": "2025-03-14T15:47:34.657Z"
   },
   {
    "duration": 14,
    "start_time": "2025-03-14T15:47:34.935Z"
   },
   {
    "duration": 10,
    "start_time": "2025-03-14T15:47:34.951Z"
   },
   {
    "duration": 628,
    "start_time": "2025-03-14T15:48:48.204Z"
   }
  ],
  "kernelspec": {
   "display_name": "Python 3 (ipykernel)",
   "language": "python",
   "name": "python3"
  },
  "language_info": {
   "codemirror_mode": {
    "name": "ipython",
    "version": 3
   },
   "file_extension": ".py",
   "mimetype": "text/x-python",
   "name": "python",
   "nbconvert_exporter": "python",
   "pygments_lexer": "ipython3",
   "version": "3.9.19"
  },
  "toc": {
   "base_numbering": 1,
   "nav_menu": {},
   "number_sections": true,
   "sideBar": true,
   "skip_h1_title": true,
   "title_cell": "Table of Contents",
   "title_sidebar": "Contents",
   "toc_cell": false,
   "toc_position": {},
   "toc_section_display": true,
   "toc_window_display": false
  }
 },
 "nbformat": 4,
 "nbformat_minor": 2
}
